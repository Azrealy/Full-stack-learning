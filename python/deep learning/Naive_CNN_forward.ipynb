{
 "cells": [
  {
   "cell_type": "code",
   "execution_count": 1,
   "metadata": {},
   "outputs": [],
   "source": [
    "import numpy as np"
   ]
  },
  {
   "cell_type": "code",
   "execution_count": 32,
   "metadata": {},
   "outputs": [],
   "source": [
    "class ConvLayer:\n",
    "    def __init__(self, kernels, num_filters):\n",
    "        self.kernels = kernels\n",
    "        self.num_filters = num_filters\n",
    "        # Our filters will be kernels * kernels * num_filters.\n",
    "        self.filters = np.random.randn(num_filters, kernels, kernels) / 9\n",
    "    \n",
    "    def iterate_regions(self, image):\n",
    "        \"\"\"\n",
    "        Generates all possible K x K image regions using vaild padding.\n",
    "        - image is a 2d numpy array\n",
    "        \"\"\"\n",
    "        height, width = image.shape\n",
    "        for h in range(height-self.kernels+1):\n",
    "            for w in range(width-self.kernels+1):\n",
    "                yield image[h:h+self.kernels, w:w+self.kernels], h, w\n",
    "    \n",
    "    def forward(self, layer_input):\n",
    "        \"\"\"\n",
    "        Performs a forward calculate of the conv layer using the given input.\n",
    "        Returns a 3d numpy array with dimensions\n",
    "        - imput is a 2D numpy array\n",
    "        \"\"\"\n",
    "        # Only fit for the 2D input.\n",
    "        height, width = layer_input.shape\n",
    "        \n",
    "        layer_output = np.zeros((height-self.kernels+1, width-self.kernels+1, self.num_filters))\n",
    "        for image_region, h, w in self.iterate_regions(layer_input):\n",
    "            layer_output[h,w] = np.sum(image_region * self.filters, axis=(1, 2))\n",
    "        return layer_output"
   ]
  },
  {
   "cell_type": "code",
   "execution_count": 3,
   "metadata": {},
   "outputs": [],
   "source": [
    "import mnist\n",
    "import matplotlib.pyplot as plt\n",
    "%matplotlib inline"
   ]
  },
  {
   "cell_type": "code",
   "execution_count": 4,
   "metadata": {},
   "outputs": [
    {
     "name": "stdout",
     "output_type": "stream",
     "text": [
      "ConvLayer input (28, 28)\n",
      "(26, 26, 8)\n"
     ]
    },
    {
     "data": {
      "text/plain": [
       "<matplotlib.image.AxesImage at 0x7f73e964eeb8>"
      ]
     },
     "execution_count": 4,
     "metadata": {},
     "output_type": "execute_result"
    },
    {
     "data": {
      "image/png": "[encoded data removed]",
      "text/plain": [
       "<Figure size 432x288 with 1 Axes>"
      ]
     },
     "metadata": {
      "needs_background": "light"
     },
     "output_type": "display_data"
    }
   ],
   "source": [
    "# The mnist package handles the MNIST dataset for us!\n",
    "# Learn more at https://github.com/datapythonista/mnist\n",
    "train_images = mnist.train_images()\n",
    "train_labels = mnist.train_labels()\n",
    "conv = ConvLayer(3, 8)\n",
    "output = conv.forward(train_images[0])\n",
    "print(output.shape)\n",
    "plt.imshow(output[:,:, 0])"
   ]
  },
  {
   "cell_type": "code",
   "execution_count": 33,
   "metadata": {},
   "outputs": [],
   "source": [
    "class MaxPoolLayer:\n",
    "    def __init__(self, size=2):\n",
    "        \"\"\"\n",
    "        Max pool layer default size is 2.\n",
    "        \"\"\"\n",
    "        self.size = size\n",
    "    \n",
    "    def iterate_regions(self, image):\n",
    "        height, width, _ = image.shape\n",
    "        mid_h = height // self.size\n",
    "        mid_w = width // self.size\n",
    "        for h in range(mid_h):\n",
    "            for w in range(mid_w):\n",
    "                image_region = image[h*self.size : self.size*(h+1),\n",
    "                                     w*self.size : self.size*(w+1)]\n",
    "                yield image_region, h, w\n",
    "    \n",
    "    def forward(self, layer_input):\n",
    "        height, width, filters = layer_input.shape\n",
    "        layer_output = np.zeros((height//self.size, width//self.size, filters))\n",
    "        for image_region, h, w in self.iterate_regions(layer_input):\n",
    "            layer_output[h, w] = np.max(image_region, axis=(0,1))\n",
    "        return layer_output"
   ]
  },
  {
   "cell_type": "code",
   "execution_count": 60,
   "metadata": {},
   "outputs": [
    {
     "data": {
      "text/plain": [
       "<matplotlib.image.AxesImage at 0x7f73baccbcf8>"
      ]
     },
     "execution_count": 60,
     "metadata": {},
     "output_type": "execute_result"
    },
    {
     "data": {
      "image/png": "[encoded data removed]",
      "text/plain": [
       "<Figure size 432x288 with 1 Axes>"
      ]
     },
     "metadata": {
      "needs_background": "light"
     },
     "output_type": "display_data"
    }
   ],
   "source": [
    "conv = ConvLayer(3, 8)\n",
    "conv_output = conv.forward(train_images[0])\n",
    "max_pool = MaxPoolLayer(4)\n",
    "max_pool_output = max_pool.forward(conv_output)\n",
    "max_pool_output.shape\n",
    "plt.imshow(max_pool_output[:,:,1])"
   ]
  },
  {
   "cell_type": "code",
   "execution_count": 128,
   "metadata": {},
   "outputs": [],
   "source": [
    "class Softmax:\n",
    "    \n",
    "    def __new__(self, nodes):\n",
    "        self.biases = np.zeros(nodes)\n",
    "        if not hasattr(self, \"instance\"):\n",
    "            self.instance = super().__new__(self)\n",
    "        return self.instance\n",
    "    \n",
    "    def cache_parameter(self, layer_input):\n",
    "        self.last_input_shape = layer_input.shape\n",
    "        if not hasattr(self, \"weights\"):\n",
    "            w, h, d = layer_input.shape\n",
    "            self.weights = np.random.randn(w * h * d, len(self.biases)) / (w * h * d)\n",
    "        self.last_input = layer_input.flatten()\n",
    "        self.last_totals = np.dot(self.last_input, self.weights) + self.biases\n",
    "        return self.last_totals\n",
    "    \n",
    "    def forward(self, layer_input):\n",
    "        totals = self.cache_parameter(layer_input)\n",
    "        exp = np.exp(totals)\n",
    "        return exp / np.sum(exp, axis=0)\n"
   ]
  },
  {
   "cell_type": "code",
   "execution_count": 121,
   "metadata": {},
   "outputs": [],
   "source": [
    "soft = Softmax(10)"
   ]
  },
  {
   "cell_type": "code",
   "execution_count": 122,
   "metadata": {},
   "outputs": [
    {
     "name": "stdout",
     "output_type": "stream",
     "text": [
      "(288, 10) (288,)\n"
     ]
    }
   ],
   "source": [
    "out = soft.forward(max_pool_output)"
   ]
  },
  {
   "cell_type": "code",
   "execution_count": 123,
   "metadata": {},
   "outputs": [],
   "source": [
    "test_images = mnist.test_images()[:1000]\n",
    "test_labels = mnist.test_labels()[:1000]"
   ]
  },
  {
   "cell_type": "code",
   "execution_count": 124,
   "metadata": {},
   "outputs": [
    {
     "data": {
      "text/plain": [
       "<matplotlib.image.AxesImage at 0x7f73ba87e5c0>"
      ]
     },
     "execution_count": 124,
     "metadata": {},
     "output_type": "execute_result"
    },
    {
     "data": {
      "image/png": "[encoded data removed]",
      "text/plain": [
       "<Figure size 432x288 with 1 Axes>"
      ]
     },
     "metadata": {
      "needs_background": "light"
     },
     "output_type": "display_data"
    }
   ],
   "source": [
    "test_labels[0]\n",
    "plt.imshow(test_images[0])"
   ]
  },
  {
   "cell_type": "code",
   "execution_count": 129,
   "metadata": {},
   "outputs": [],
   "source": [
    "class Mode:\n",
    "    def __init__(self, layer):\n",
    "        self.layer = layer\n",
    "    \n",
    "    def forward(self, image, label):\n",
    "        out = (image / 255) - 0.5\n",
    "        for layer in self.layer:\n",
    "            out = layer.forward(out)\n",
    "        loss = -np.log(out[label]) # Cross-Entropy Loss\n",
    "        acc = 1 if np.argmax(out) == label else 0\n",
    "        \n",
    "        return out, loss, acc"
   ]
  },
  {
   "cell_type": "code",
   "execution_count": 130,
   "metadata": {},
   "outputs": [],
   "source": [
    "m = Mode([\n",
    "    ConvLayer(3, 8),\n",
    "    MaxPoolLayer(),\n",
    "    Softmax(10)\n",
    "])"
   ]
  },
  {
   "cell_type": "code",
   "execution_count": 131,
   "metadata": {},
   "outputs": [
    {
     "name": "stdout",
     "output_type": "stream",
     "text": [
      "[Step 100] Past 100 steps: Average Loss 2.302 | Accuracy: 15%\n",
      "[Step 200] Past 100 steps: Average Loss 2.303 | Accuracy: 7%\n",
      "[Step 300] Past 100 steps: Average Loss 2.302 | Accuracy: 9%\n",
      "[Step 400] Past 100 steps: Average Loss 2.303 | Accuracy: 11%\n",
      "[Step 500] Past 100 steps: Average Loss 2.303 | Accuracy: 7%\n",
      "[Step 600] Past 100 steps: Average Loss 2.302 | Accuracy: 8%\n",
      "[Step 700] Past 100 steps: Average Loss 2.302 | Accuracy: 10%\n",
      "[Step 800] Past 100 steps: Average Loss 2.303 | Accuracy: 8%\n",
      "[Step 900] Past 100 steps: Average Loss 2.302 | Accuracy: 10%\n",
      "[Step 1000] Past 100 steps: Average Loss 2.303 | Accuracy: 5%\n"
     ]
    }
   ],
   "source": [
    "loss = 0\n",
    "num_correct = 0\n",
    "for index, (image, label) in enumerate(zip(test_images, test_labels)):\n",
    "    _, l, acc = m.forward(image, label)\n",
    "    loss += l\n",
    "    num_correct += acc\n",
    "    \n",
    "    if index % 100 == 99:\n",
    "        print(\n",
    "            '[Step %d] Past 100 steps: Average Loss %.3f | Accuracy: %d%%' %\n",
    "            (index + 1, loss / 100, num_correct)\n",
    "        )\n",
    "        loss = 0\n",
    "        num_correct = 0"
   ]
  },
  {
   "cell_type": "markdown",
   "metadata": {},
   "source": [
    "Trainning  a neural network typically consists of two phases:\n",
    "1. A `forward` phase, where the input is passed through the network to the last layer.\n",
    "2. A `backword` phase, where the gradients are backpropagated and weights and biases on each layers upadates."
   ]
  },
  {
   "cell_type": "code",
   "execution_count": 45,
   "metadata": {},
   "outputs": [
    {
     "data": {
      "text/plain": [
       "(2,)"
      ]
     },
     "execution_count": 45,
     "metadata": {},
     "output_type": "execute_result"
    }
   ],
   "source": [
    "b = np.array([2,1])\n",
    "b.shape"
   ]
  },
  {
   "cell_type": "code",
   "execution_count": 48,
   "metadata": {},
   "outputs": [
    {
     "data": {
      "text/plain": [
       "(1, 2)"
      ]
     },
     "execution_count": 48,
     "metadata": {},
     "output_type": "execute_result"
    }
   ],
   "source": [
    "b[np.newaxis].shape"
   ]
  },
  {
   "cell_type": "code",
   "execution_count": null,
   "metadata": {},
   "outputs": [],
   "source": []
  }
 ],
 "metadata": {
  "kernelspec": {
   "display_name": "Python 3",
   "language": "python",
   "name": "python3"
  },
  "language_info": {
   "codemirror_mode": {
    "name": "ipython",
    "version": 3
   },
   "file_extension": ".py",
   "mimetype": "text/x-python",
   "name": "python",
   "nbconvert_exporter": "python",
   "pygments_lexer": "ipython3",
   "version": "3.6.6"
  }
 },
 "nbformat": 4,
 "nbformat_minor": 4
}
