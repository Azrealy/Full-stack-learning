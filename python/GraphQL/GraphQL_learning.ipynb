{
 "cells": [
  {
   "cell_type": "code",
   "execution_count": 30,
   "metadata": {},
   "outputs": [],
   "source": [
    "import graphene\n",
    "\n",
    "# How to use GraphQL save and get data.\n",
    "class Query(graphene.ObjectType):\n",
    "    hello = graphene.String(name=graphene.String(default_value=\"stranger goood\"))\n",
    "    # Create a filed name as hello. save ah default_value \n",
    "    def resolve_hello(self, info, name):\n",
    "        # Get name from graphene.string\n",
    "        print('resovle ' + name)\n",
    "        return 'Hello ' + name\n",
    "\n",
    "schema = graphene.Schema(query=Query)"
   ]
  },
  {
   "cell_type": "code",
   "execution_count": 31,
   "metadata": {},
   "outputs": [
    {
     "name": "stdout",
     "output_type": "stream",
     "text": [
      "resovle stranger goood\n",
      "Hello stranger goood\n"
     ]
    }
   ],
   "source": [
    "result = schema.execute('{ hello }')\n",
    "print(result.data['hello']) # \"Hello stranger\""
   ]
  },
  {
   "cell_type": "code",
   "execution_count": 44,
   "metadata": {},
   "outputs": [],
   "source": [
    "from graphene import Enum \n",
    "class Episode(Enum):\n",
    "    NEWHOPE = 4\n",
    "    EMPIRE = 5\n",
    "    JEDI = 6\n",
    "    \n",
    "    @property\n",
    "    def description(self):\n",
    "        if self == Episode.NEWHOPE:\n",
    "            return 'New Hope Episode'\n",
    "        return 'Other episode'"
   ]
  },
  {
   "cell_type": "code",
   "execution_count": 49,
   "metadata": {},
   "outputs": [],
   "source": [
    "class Character(graphene.ObjectType):\n",
    "    # Define a NonNull string type.\n",
    "    name1 = graphene.NonNull(graphene.String)\n",
    "    # equel to following.\n",
    "    name2 = graphene.String(required=True)\n",
    "    # Define a List of string type.\n",
    "    appears_in = graphene.List(graphene.String)\n",
    "    # Define NonNull Lists\n",
    "    appears_in_notnull = graphene.List(graphene.NonNull(graphene.String))"
   ]
  },
  {
   "cell_type": "markdown",
   "metadata": {},
   "source": [
    "A resolver is a method that resolves certain fields within a `ObjectType`. If not specififed otherwise, the resolver of a field is the `resolve_{field_name}` method on the `ObjectType`. By default resolvers take the arguments `info` and `*args`."
   ]
  },
  {
   "cell_type": "code",
   "execution_count": 78,
   "metadata": {},
   "outputs": [],
   "source": [
    "import graphene\n",
    "class Person(graphene.ObjectType):\n",
    "    first_name = graphene.String()\n",
    "    last_name = graphene.String()\n",
    "    full_name = graphene.String()\n",
    "    def resolve_full_name(self, info):\n",
    "        print(self.first_name)\n",
    "        return '{} {}'.format(self.first_name, self.last_name)"
   ]
  },
  {
   "cell_type": "code",
   "execution_count": 84,
   "metadata": {},
   "outputs": [
    {
     "data": {
      "text/plain": [
       "'Peter'"
      ]
     },
     "execution_count": 84,
     "metadata": {},
     "output_type": "execute_result"
    }
   ],
   "source": [
    "peter = Person(first_name='Peter', last_name='Griffidlon')\n",
    "peter.first_name"
   ]
  },
  {
   "cell_type": "markdown",
   "metadata": {},
   "source": [
    "# Interface\n",
    "An Interface is an abstract type that defines a certain set of fileds that a type must include to implement the interface"
   ]
  },
  {
   "cell_type": "code",
   "execution_count": 94,
   "metadata": {},
   "outputs": [],
   "source": [
    "class Character(graphene.Interface):\n",
    "    id = graphene.ID(required=True)\n",
    "    name = graphene.String(required=True)\n",
    "    friends = graphene.List(lambda: Character)\n",
    "# Any ObjectType that implements `character` will have these exact fields, with these arguments and return types.\n",
    "\n",
    "class Human(graphene.ObjectType):\n",
    "    class Meta:\n",
    "        interfaces = (Character, )\n",
    "    starships = graphene.List(graphene.String)\n",
    "    home_planet = graphene.String()\n",
    "    \n",
    "class Droid(graphene.ObjectType):\n",
    "    class Meta:\n",
    "        interfaces = (Character, )\n",
    "    \n",
    "    primary_function = graphene.String()"
   ]
  },
  {
   "cell_type": "markdown",
   "metadata": {},
   "source": [
    "The full GraphQL schema defition will look like this:\n",
    "```python\n",
    "interface Character {\n",
    "    id: ID!\n",
    "    name: String!\n",
    "    friends: [Character]\n",
    "}\n",
    "\n",
    "type Human implements Character {\n",
    "    id: ID!\n",
    "    name: String!\n",
    "    friends: [Character]\n",
    "    starships: [String]\n",
    "    homePlanet: String\n",
    "}\n",
    "\n",
    "type Droid implements Character {\n",
    "    id: ID!\n",
    "    name: String!\n",
    "    friends: [Character]\n",
    "    primaryFunction: String\n",
    "}\n",
    "```\n"
   ]
  },
  {
   "cell_type": "code",
   "execution_count": null,
   "metadata": {},
   "outputs": [],
   "source": []
  }
 ],
 "metadata": {
  "kernelspec": {
   "display_name": "Python 3",
   "language": "python",
   "name": "python3"
  },
  "language_info": {
   "codemirror_mode": {
    "name": "ipython",
    "version": 3
   },
   "file_extension": ".py",
   "mimetype": "text/x-python",
   "name": "python",
   "nbconvert_exporter": "python",
   "pygments_lexer": "ipython3",
   "version": "3.6.5"
  }
 },
 "nbformat": 4,
 "nbformat_minor": 2
}
