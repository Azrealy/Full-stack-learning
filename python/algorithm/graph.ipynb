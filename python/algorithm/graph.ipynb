{
 "cells": [
  {
   "cell_type": "markdown",
   "metadata": {},
   "source": [
    "## Find the Town Judge\n",
    "\n",
    "In a town, there are N people labelled from 1 to N.  There is a rumor that one of these people is secretly the town judge.\n",
    "\n",
    "If the town judge exists, then:\n",
    "\n",
    "The town judge trusts nobody.\n",
    "Everybody (except for the town judge) trusts the town judge.\n",
    "There is exactly one person that satisfies properties 1 and 2.\n",
    "You are given trust, an array of pairs trust[i] = [a, b] representing that the person labelled a trusts the person labelled b.\n",
    "\n",
    "If the town judge exists and can be identified, return the label of the town judge.  Otherwise, return -1.\n",
    "\n",
    " \n",
    "\n",
    "Example 1:\n",
    "```\n",
    "Input: N = 2, trust = [[1,2]]\n",
    "Output: 2\n",
    "Example 2:\n",
    "\n",
    "Input: N = 3, trust = [[1,3],[2,3]]\n",
    "Output: 3\n",
    "Example 3:\n",
    "\n",
    "Input: N = 3, trust = [[1,3],[2,3],[3,1]]\n",
    "Output: -1\n",
    "Example 4:\n",
    "\n",
    "Input: N = 3, trust = [[1,2],[2,3]]\n",
    "Output: -1\n",
    "Example 5:\n",
    "\n",
    "Input: N = 4, trust = [[1,3],[1,4],[2,3],[2,4],[4,3]]\n",
    "Output: 3\n",
    "```\n",
    "\n",
    "Note:\n",
    "\n",
    "1 <= N <= 1000\n",
    "trust.length <= 10000\n",
    "trust[i] are all different\n",
    "trust[i][0] != trust[i][1]\n",
    "1 <= trust[i][0], trust[i][1] <= N"
   ]
  },
  {
   "cell_type": "code",
   "execution_count": 7,
   "metadata": {},
   "outputs": [],
   "source": [
    "def findJudge(N, trust):\n",
    "    store = {}\n",
    "    for ppl in trust:\n",
    "        if ppl[1] in store:\n",
    "            store[ppl[1]].append(ppl[0])\n",
    "        else:\n",
    "            store[ppl[1]] = [ppl[0]]\n",
    "    return store"
   ]
  },
  {
   "cell_type": "code",
   "execution_count": 8,
   "metadata": {},
   "outputs": [
    {
     "data": {
      "text/plain": [
       "{3: [1, 2, 4], 4: [1, 2]}"
      ]
     },
     "execution_count": 8,
     "metadata": {},
     "output_type": "execute_result"
    }
   ],
   "source": [
    "findJudge(4, [[1,3],[1,4],[2,3],[2,4],[4,3]])"
   ]
  },
  {
   "cell_type": "markdown",
   "metadata": {},
   "source": [
    "## Flower Planting With No Adjacent\n",
    "\n",
    "You have N gardens, labelled 1 to N.  In each garden, you want to plant one of 4 types of flowers.\n",
    "\n",
    "paths[i] = [x, y] describes the existence of a bidirectional path from garden x to garden y.\n",
    "\n",
    "Also, there is no garden that has more than 3 paths coming into or leaving it.\n",
    "\n",
    "Your task is to choose a flower type for each garden such that, for any two gardens connected by a path, they have different types of flowers.\n",
    "\n",
    "Return any such a choice as an array answer, where answer[i] is the type of flower planted in the (i+1)-th garden.  The flower types are denoted 1, 2, 3, or 4.  It is guaranteed an answer exists.\n",
    "\n",
    "\n",
    "Example 1:\n",
    "```\n",
    "Input: N = 3, paths = [[1,2],[2,3],[3,1]]\n",
    "Output: [1,2,3]\n",
    "```\n",
    "Example 2:\n",
    "```\n",
    "Input: N = 4, paths = [[1,2],[3,4]]\n",
    "Output: [1,2,1,2]\n",
    "```\n",
    "Example 3:\n",
    "```\n",
    "Input: N = 4, paths = [[1,2],[2,3],[3,4],[4,1],[1,3],[2,4]]\n",
    "Output: [1,2,3,4]\n",
    "```\n",
    "Note:\n",
    "```\n",
    "1 <= N <= 10000\n",
    "0 <= paths.size <= 20000\n",
    "No garden has 4 or more paths coming into or leaving it.\n",
    "It is guaranteed an answer exists.\n",
    "```"
   ]
  },
  {
   "cell_type": "code",
   "execution_count": 33,
   "metadata": {},
   "outputs": [],
   "source": [
    "import pysnooper\n",
    "@pysnooper.snoop()\n",
    "def gardenNoAdj(N, paths):\n",
    "    res = [0] * N\n",
    "    G = [[] for i in range(N)]\n",
    "    for x, y in paths:\n",
    "        G[x - 1].append(y - 1)\n",
    "        G[y - 1].append(x - 1)\n",
    "    for i in range(N):\n",
    "        m = ({1, 2, 3, 4} - {res[j] for j in G[i]})\n",
    "        n = {res[j] for j in G[i]}\n",
    "        res[i] = ({1, 2, 3, 4} - {res[j] for j in G[i]}).pop()\n",
    "    return res"
   ]
  },
  {
   "cell_type": "code",
   "execution_count": 35,
   "metadata": {},
   "outputs": [
    {
     "name": "stderr",
     "output_type": "stream",
     "text": [
      "Starting var:.. N = 3\n",
      "Starting var:.. paths = [[1, 2], [2, 3], [3, 1]]\n",
      "13:52:36.692221 call         3 def gardenNoAdj(N, paths):\n",
      "13:52:36.692329 line         4     res = [0] * N\n",
      "New var:....... res = [0, 0, 0]\n",
      "13:52:36.692471 line         5     G = [[] for i in range(N)]\n",
      "New var:....... G = [[], [], []]\n",
      "13:52:36.692582 line         6     for x, y in paths:\n",
      "New var:....... x = 1\n",
      "New var:....... y = 2\n",
      "13:52:36.692712 line         7         G[x - 1].append(y - 1)\n",
      "Modified var:.. G = [[1], [], []]\n",
      "13:52:36.692826 line         8         G[y - 1].append(x - 1)\n",
      "Modified var:.. G = [[1], [0], []]\n",
      "13:52:36.692937 line         6     for x, y in paths:\n",
      "Modified var:.. x = 2\n",
      "Modified var:.. y = 3\n",
      "13:52:36.693067 line         7         G[x - 1].append(y - 1)\n",
      "Modified var:.. G = [[1], [0, 2], []]\n",
      "13:52:36.693181 line         8         G[y - 1].append(x - 1)\n",
      "Modified var:.. G = [[1], [0, 2], [1]]\n",
      "13:52:36.693369 line         6     for x, y in paths:\n",
      "Modified var:.. x = 3\n",
      "Modified var:.. y = 1\n",
      "13:52:36.693506 line         7         G[x - 1].append(y - 1)\n",
      "Modified var:.. G = [[1], [0, 2], [1, 0]]\n",
      "13:52:36.693652 line         8         G[y - 1].append(x - 1)\n",
      "Modified var:.. G = [[1, 2], [0, 2], [1, 0]]\n",
      "13:52:36.693765 line         6     for x, y in paths:\n",
      "13:52:36.693855 line         9     for i in range(N):\n",
      "New var:....... i = 0\n",
      "13:52:36.693979 line        10         m = ({1, 2, 3, 4} - {res[j] for j in G[i]})\n",
      "New var:....... m = {1, 2, 3, 4}\n",
      "13:52:36.694115 line        11         n = {res[j] for j in G[i]}\n",
      "New var:....... n = {0}\n",
      "13:52:36.694296 line        12         res[i] = ({1, 2, 3, 4} - {res[j] for j in G[i]}).pop()\n",
      "Modified var:.. res = [1, 0, 0]\n",
      "13:52:36.694434 line         9     for i in range(N):\n",
      "Modified var:.. i = 1\n",
      "13:52:36.694564 line        10         m = ({1, 2, 3, 4} - {res[j] for j in G[i]})\n",
      "Modified var:.. m = {2, 3, 4}\n",
      "13:52:36.694716 line        11         n = {res[j] for j in G[i]}\n",
      "Modified var:.. n = {0, 1}\n",
      "13:52:36.694861 line        12         res[i] = ({1, 2, 3, 4} - {res[j] for j in G[i]}).pop()\n",
      "Modified var:.. res = [1, 2, 0]\n",
      "13:52:36.694996 line         9     for i in range(N):\n",
      "Modified var:.. i = 2\n",
      "13:52:36.695137 line        10         m = ({1, 2, 3, 4} - {res[j] for j in G[i]})\n",
      "Modified var:.. m = {3, 4}\n",
      "13:52:36.695351 line        11         n = {res[j] for j in G[i]}\n",
      "Modified var:.. n = {1, 2}\n",
      "13:52:36.695484 line        12         res[i] = ({1, 2, 3, 4} - {res[j] for j in G[i]}).pop()\n",
      "Modified var:.. res = [1, 2, 3]\n",
      "13:52:36.695617 line         9     for i in range(N):\n",
      "13:52:36.695722 line        13     return res\n",
      "13:52:36.695825 return      13     return res\n",
      "Return value:.. [1, 2, 3]\n"
     ]
    },
    {
     "data": {
      "text/plain": [
       "[1, 2, 3]"
      ]
     },
     "execution_count": 35,
     "metadata": {},
     "output_type": "execute_result"
    }
   ],
   "source": [
    "gardenNoAdj(3, [[1,2],[2,3],[3,1]])"
   ]
  },
  {
   "cell_type": "code",
   "execution_count": 24,
   "metadata": {},
   "outputs": [
    {
     "data": {
      "text/plain": [
       "{1, 2}"
      ]
     },
     "execution_count": 24,
     "metadata": {},
     "output_type": "execute_result"
    }
   ],
   "source": [
    "{1, 2} - {}"
   ]
  },
  {
   "cell_type": "markdown",
   "metadata": {},
   "source": [
    "743. Network Delay Time\n",
    "Medium\n",
    "\n",
    "686\n",
    "\n",
    "177\n",
    "\n",
    "Favorite\n",
    "\n",
    "Share\n",
    "There are N network nodes, labelled 1 to N.\n",
    "\n",
    "Given times, a list of travel times as directed edges times[i] = (u, v, w), where u is the source node, v is the target node, and w is the time it takes for a signal to travel from source to target.\n",
    "\n",
    "Now, we send a signal from a certain node K. How long will it take for all nodes to receive the signal? If it is impossible, return -1.\n",
    "\n",
    " \n",
    "\n",
    "Example 1:\n",
    "\n",
    "\n",
    "\n",
    "Input: times = [[2,1,1],[2,3,1],[3,4,1]], N = 4, K = 2\n",
    "Output: 2\n",
    " \n",
    "\n",
    "Note:\n",
    "\n",
    "N will be in the range [1, 100].\n",
    "K will be in the range [1, N].\n",
    "The length of times will be in the range [1, 6000].\n",
    "All edges times[i] = (u, v, w) will have 1 <= u, v <= N and 0 <= w <= 100."
   ]
  },
  {
   "cell_type": "code",
   "execution_count": 105,
   "metadata": {},
   "outputs": [],
   "source": [
    "import pysnooper\n",
    "@pysnooper.snoop()\n",
    "def networkDelayTime(times, N, K):\n",
    "    nodes = [[] for _ in range(N)]\n",
    "    for u, v, t in times:\n",
    "        nodes[u-1].append((v, t))\n",
    "    start = nodes[K-1]\n",
    "    if not start:\n",
    "        return -1\n",
    "    total = 0\n",
    "    max_time = 0\n",
    "    visited = {K,}\n",
    "    while start:\n",
    "        distance, time = start.pop()\n",
    "        total += time\n",
    "        if distance in visited:\n",
    "            max_time = min(total, max_time)\n",
    "        elif not nodes[distance-1]:\n",
    "            max_time = max(total, max_time)\n",
    "            total = 0\n",
    "        else:\n",
    "            max_time = max(total, max_time)\n",
    "            start += nodes[distance-1]\n",
    "        visited.add(distance)\n",
    "    return max_time if len(visited) == N else -1"
   ]
  },
  {
   "cell_type": "code",
   "execution_count": 107,
   "metadata": {},
   "outputs": [
    {
     "name": "stderr",
     "output_type": "stream",
     "text": [
      "Starting var:.. times = [[1, 2, 1], [2, 1, 3]]\n",
      "Starting var:.. N = 2\n",
      "Starting var:.. K = 2\n",
      "17:52:50.122783 call         3 def networkDelayTime(times, N, K):\n",
      "17:52:50.122994 line         4     nodes = [[] for _ in range(N)]\n",
      "New var:....... nodes = [[], []]\n",
      "17:52:50.123134 line         5     for u, v, t in times:\n",
      "New var:....... u = 1\n",
      "New var:....... v = 2\n",
      "New var:....... t = 1\n",
      "17:52:50.124265 line         6         nodes[u-1].append((v, t))\n",
      "Modified var:.. nodes = [[(2, 1)], []]\n",
      "17:52:50.124436 line         5     for u, v, t in times:\n",
      "Modified var:.. u = 2\n",
      "Modified var:.. v = 1\n",
      "Modified var:.. t = 3\n",
      "17:52:50.124602 line         6         nodes[u-1].append((v, t))\n",
      "Modified var:.. nodes = [[(2, 1)], [(1, 3)]]\n",
      "17:52:50.124723 line         5     for u, v, t in times:\n",
      "17:52:50.124888 line         7     start = nodes[K-1]\n",
      "New var:....... start = [(1, 3)]\n",
      "17:52:50.125024 line         8     if not start:\n",
      "17:52:50.125127 line        10     total = 0\n",
      "New var:....... total = 0\n",
      "17:52:50.125259 line        11     max_time = 0\n",
      "New var:....... max_time = 0\n",
      "17:52:50.125428 line        12     visited = {K,}\n",
      "New var:....... visited = {2}\n",
      "17:52:50.125570 line        13     while start:\n",
      "17:52:50.125708 line        14         distance, time = start.pop()\n",
      "Modified var:.. nodes = [[(2, 1)], []]\n",
      "Modified var:.. start = []\n",
      "New var:....... distance = 1\n",
      "New var:....... time = 3\n",
      "17:52:50.125958 line        15         total += time\n",
      "Modified var:.. total = 3\n",
      "17:52:50.126109 line        16         if distance in visited:\n",
      "17:52:50.126233 line        18         elif not nodes[distance-1]:\n",
      "17:52:50.126385 line        22             max_time = max(total, max_time)\n",
      "Modified var:.. max_time = 3\n",
      "17:52:50.126532 line        23             start += nodes[distance-1]\n",
      "Modified var:.. nodes = [[(2, 1)], [(2, 1)]]\n",
      "Modified var:.. start = [(2, 1)]\n",
      "17:52:50.126700 line        24         visited.add(distance)\n",
      "Modified var:.. visited = {1, 2}\n",
      "17:52:50.126895 line        13     while start:\n",
      "17:52:50.127022 line        14         distance, time = start.pop()\n",
      "Modified var:.. nodes = [[(2, 1)], []]\n",
      "Modified var:.. start = []\n",
      "Modified var:.. distance = 2\n",
      "Modified var:.. time = 1\n",
      "17:52:50.127266 line        15         total += time\n",
      "Modified var:.. total = 4\n",
      "17:52:50.127417 line        16         if distance in visited:\n",
      "17:52:50.127548 line        17             max_time = min(total, max_time)\n",
      "17:52:50.127734 line        24         visited.add(distance)\n",
      "17:52:50.127885 line        13     while start:\n",
      "17:52:50.128014 line        25     return max_time if len(visited) == N else -1\n",
      "17:52:50.128153 return      25     return max_time if len(visited) == N else -1\n",
      "Return value:.. 3\n"
     ]
    },
    {
     "data": {
      "text/plain": [
       "3"
      ]
     },
     "execution_count": 107,
     "metadata": {},
     "output_type": "execute_result"
    }
   ],
   "source": [
    "times = [[1,2,1],[2,1,3]]\n",
    "N = 2\n",
    "K = 2\n",
    "networkDelayTime(times, N, K)"
   ]
  },
  {
   "cell_type": "code",
   "execution_count": null,
   "metadata": {},
   "outputs": [],
   "source": []
  },
  {
   "cell_type": "code",
   "execution_count": null,
   "metadata": {},
   "outputs": [],
   "source": []
  }
 ],
 "metadata": {
  "kernelspec": {
   "display_name": "Python 3",
   "language": "python",
   "name": "python3"
  },
  "language_info": {
   "codemirror_mode": {
    "name": "ipython",
    "version": 3
   },
   "file_extension": ".py",
   "mimetype": "text/x-python",
   "name": "python",
   "nbconvert_exporter": "python",
   "pygments_lexer": "ipython3",
   "version": "3.6.6"
  }
 },
 "nbformat": 4,
 "nbformat_minor": 4
}
