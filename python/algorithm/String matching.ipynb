{
 "cells": [
  {
   "cell_type": "markdown",
   "metadata": {},
   "source": [
    "# String matching.\n",
    "\n",
    "The problem of matching string A with B, confirm that whether the string A is the substring of B. The brute force approach is O(N*M). N and M represents the length of string A and string B."
   ]
  },
  {
   "cell_type": "code",
   "execution_count": 1,
   "metadata": {},
   "outputs": [],
   "source": [
    "def stringMatchingBF(A, B):\n",
    "    for i in range(len(B)):\n",
    "        if A == B[i: i + len(A)]:\n",
    "            return True\n",
    "    return False"
   ]
  },
  {
   "cell_type": "code",
   "execution_count": 91,
   "metadata": {},
   "outputs": [
    {
     "name": "stdout",
     "output_type": "stream",
     "text": [
      "171 µs ± 2.15 µs per loop (mean ± std. dev. of 7 runs, 10000 loops each)\n"
     ]
    }
   ],
   "source": [
    "%timeit for x in range(10): stringMatchingBF('saveearth','thehelloworldchapterofsaveearth')"
   ]
  },
  {
   "cell_type": "code",
   "execution_count": 9,
   "metadata": {},
   "outputs": [
    {
     "data": {
      "text/plain": [
       "True"
      ]
     },
     "execution_count": 9,
     "metadata": {},
     "output_type": "execute_result"
    }
   ],
   "source": [
    "stringMatchingBF(\"hell\", \"thehelloworld\" )"
   ]
  },
  {
   "cell_type": "markdown",
   "metadata": {},
   "source": [
    "## Rolling Hash\n",
    "\n",
    "The core concept of rolling hash is to defined the function. Which will help us to check the sting A and B. `hash(A) == hash(B) and A == B`. Also this function will calculate base on O(1) time. Which can help us reduce the time complexity to O(m). m is the length of B.\n",
    "\n",
    "#### Algorithm\n",
    "\n",
    "For a string A, say `hash(S) = (S[0] * P**0 + S[1] * P**1 + S[2] * P**2 + ...) % MOD`, where `X**Y` represents exponentiation, and `S[i]` is the ASCII character code of the string at that index.\n",
    "\n",
    "The idea is that `hash(S)` has output that is approximately uniformly distributed between `[0, 1, 2, ..., MOD-1]`, and so if `hash(S) == hash(T`) it is very likely that S == T.\n",
    "\n",
    "Now say we have a hash `hash(A)`, and we want the hash of `A[1], A[2], ..., A[N-1], A[0]`. We can subtract `A[0]` from the hash, divide by P, and add `A[0] * P**(N-1)`. (Our division is under the finite field $\\mathbb{F}_\\text{MOD}$ done by multiplying by the modular inverse `Pinv = pow(P, MOD-2, MOD).)`."
   ]
  },
  {
   "cell_type": "code",
   "execution_count": 2,
   "metadata": {},
   "outputs": [],
   "source": [
    "def matchingStringRH(A, B):\n",
    "    target = 0\n",
    "    for i, a in enumerate(A):\n",
    "        target += (ord(a) - ord('a')) * 26 ** i\n",
    "    ans = 0\n",
    "    for j, b in enumerate(B):\n",
    "        if j >= len(A):\n",
    "            k = ord(B[j - len(A)]) - ord('a')\n",
    "            ans -= k * 26 ** 0\n",
    "            ans //= 26 \n",
    "            ans += (ord(b) - ord('a')) * 26 ** (len(A)-1)\n",
    "        else:\n",
    "            ans += (ord(b) - ord('a')) * 26 ** j\n",
    "        if ans == target:\n",
    "            return True\n",
    "    if ans == target:\n",
    "        return True\n",
    "    return False"
   ]
  },
  {
   "cell_type": "code",
   "execution_count": 3,
   "metadata": {},
   "outputs": [
    {
     "name": "stdout",
     "output_type": "stream",
     "text": [
      "952 µs ± 26.8 µs per loop (mean ± std. dev. of 7 runs, 1000 loops each)\n"
     ]
    }
   ],
   "source": [
    "%timeit for x in range(10): matchingStringRH('saveearth','thehelloworldchapterofsaveearth')"
   ]
  },
  {
   "cell_type": "markdown",
   "metadata": {},
   "source": [
    "## KMP (Kunth Morris Pratt) Pattern Searching\n",
    "\n",
    "#### Preprocessing Overview:\n",
    "\n",
    "  * KMP algorithm preprocesses pattern A[] and construct an auxiliary array aux[] of size m (size of pattern A) which is used to skip charaters while matching.\n",
    "  * Name aux indicates longest proper prefix which is also suffix. A proper prefix is prefix with whole string not allowed. For example, prefixes of \"ABC\" are \"\", \"A\", \"AB\", \"ABC\". Proper prefixes are \"\", \"A\", and \"AB\". Suffixes of the string are \"\", \"C\", \"BC\", and \"ABC\".\n",
    "  * We search for aux[] is sub-patterns. More clearly we focus on sub-stings of patterns that are either prefix and suffix.\n",
    "  * For each sub-pattern A[0..i] where i = o to m - 1, aux[i] stores length of the max matching proper prefix which is also a suffix of the sub-pattern A[0..i].\n",
    "  \n",
    "```py\n",
    "aux[i] = ther longest proper prefix of A[0..i] which is also a suffix of A[0..i].\n",
    "\n",
    "Examples of lps[] construction:\n",
    "For the pattern “AAAA”, \n",
    "aux[] is [0, 1, 2, 3]\n",
    "\n",
    "For the pattern “ABCDE”, \n",
    "aux[] is [0, 0, 0, 0, 0]\n",
    "\n",
    "For the pattern “AABAACAABAA”, \n",
    "aux[] is [0, 1, 0, 1, 2, 0, 1, 2, 3, 4, 5]\n",
    "\n",
    "For the pattern “AAACAAAAAC”, \n",
    "aux[] is [0, 1, 2, 0, 1, 2, 3, 3, 3, 4] \n",
    "\n",
    "For the pattern “AAABAAA”, \n",
    "aux[] is [0, 1, 2, 0, 1, 2, 3]\n",
    "```\n",
    "\n",
    "#### Searching Algorithm\n",
    "\n",
    "Unlike Naive algorithm, where we slide the pattern by one and compare all characters at each shift, we use a value from aux[] to decide the next charaters to be matched, the idea is to not match a charater that we know will anyway match.\n",
    "\n",
    "How to use aux[] to decide next positions (or to know a number of charaters to be skipped) ?\n",
    "  * We start comparsion of A[j] with j = 0 with charaters of current window of text.\n",
    "  * We keep matching charaters string B[i] and pattern A[j] and keep incrementing i and j while pattern A[j] and string B[i] keep matching.\n",
    "  * When we see a mismatch\n",
    "    * We know that characters pattern A[0..j-1] match with string B[i-j..i-1].\n",
    "    * We also know (from above definition) that aux[j-1] is count of charaters of pattern A[0..j-1] that are both proper prefix and suffix.\n",
    "    * From above two points, we can conclude that we do not need to match these aux[j-i] characters with string B[i-j..j-1] because we know that these characters will anyway match.\n",
    "    \n",
    "```\n",
    "txt[] = \"AAAAABAAABA\" \n",
    "pat[] = \"AAAA\"\n",
    "aux[] = {0, 1, 2, 3} \n",
    "```\n",
    "\n",
    "```\n",
    "i = 0, j = 0\n",
    "txt[] = \"AAAAABAAABA\" \n",
    "pat[] = \"AAAA\"\n",
    "txt[i] and pat[j] match, do i++, j++\n",
    "```\n",
    "\n",
    "```\n",
    "i = 1, j = 1\n",
    "txt[] = \"AAAAABAAABA\" \n",
    "pat[] = \"AAAA\"\n",
    "txt[i] and pat[j] match, do i++, j++\n",
    "```\n",
    "\n",
    "```\n",
    "i = 2, j = 2\n",
    "txt[] = \"AAAAABAAABA\" \n",
    "pat[] = \"AAAA\"\n",
    "pat[i] and pat[j] match, do i++, j++\n",
    "```\n",
    "\n",
    "```\n",
    "i = 3, j = 3\n",
    "txt[] = \"AAAAABAAABA\" \n",
    "pat[] = \"AAAA\"\n",
    "txt[i] and pat[j] match, do i++, j++\n",
    "```\n",
    "\n",
    "```\n",
    "i = 4, j = 4\n",
    "Since j == M, print pattern found and reset j,\n",
    "j = aux[j-1] = aux[3] = 3\n",
    "```\n",
    "\n",
    "```\n",
    "Here unlike Naive algorithm, we do not match first three \n",
    "characters of this window. Value of aux[j-1] (in above \n",
    "step) gave us index of next character to match.\n",
    "```\n",
    "\n",
    "```\n",
    "i = 4, j = 3\n",
    "txt[] = \"AAAAABAAABA\" \n",
    "pat[] =  \"AAAA\"\n",
    "txt[i] and pat[j] match, do i++, j++\n",
    "```\n",
    "\n",
    "```\n",
    "i = 5, j = 4\n",
    "Since j == M, print pattern found and reset j,\n",
    "j = aux[j-1] = aux[3] = 3\n",
    "```\n",
    "\n",
    "```\n",
    "Again unlike Naive algorithm, we do not match first three \n",
    "characters of this window. Value of aux[j-1] (in above \n",
    "step) gave us index of next character to match.\n",
    "```\n",
    "\n",
    "```\n",
    "i = 5, j = 3\n",
    "txt[] = \"AAAAABAAABA\" \n",
    "pat[] =   \"AAAA\"\n",
    "txt[i] and pat[j] do NOT match and j > 0, change only j\n",
    "j = aux[j-1] = aux[2] = 2\n",
    "```\n",
    "\n",
    "```\n",
    "i = 5, j = 2\n",
    "txt[] = \"AAAAABAAABA\" \n",
    "pat[] =    \"AAAA\"\n",
    "txt[i] and pat[j] do NOT match and j > 0, change only j\n",
    "j = aux[j-1] = aux[1] = 1 \n",
    "```\n",
    "\n",
    "```\n",
    "i = 5, j = 1\n",
    "txt[] = \"AAAAABAAABA\" \n",
    "pat[] =     \"AAAA\"\n",
    "txt[i] and pat[j] do NOT match and j > 0, change only j\n",
    "j = aux[j-1] = aux[0] = 0\n",
    "```\n",
    "\n",
    "```\n",
    "i = 5, j = 0\n",
    "txt[] = \"AAAAABAAABA\" \n",
    "pat[] =      \"AAAA\"\n",
    "txt[i] and pat[j] do NOT match and j is 0, we do i++.\n",
    "```\n",
    "\n",
    "```\n",
    "i = 6, j = 0\n",
    "txt[] = \"AAAAABAAABA\" \n",
    "pat[] =       \"AAAA\"\n",
    "txt[i] and pat[j] match, do i++ and j++\n",
    "```\n",
    "\n",
    "```\n",
    "i = 7, j = 1\n",
    "txt[] = \"AAAAABAAABA\" \n",
    "pat[] =       \"AAAA\"\n",
    "txt[i] and pat[j] match, do i++ and j++\n",
    "```\n",
    "\n",
    "```\n",
    "We continue this way...\n",
    "```"
   ]
  },
  {
   "cell_type": "code",
   "execution_count": 43,
   "metadata": {},
   "outputs": [],
   "source": [
    "def kmpPrepare(pattern):\n",
    "    aux = [0] * len(pattern)\n",
    "    for i, p in enumerate(pattern):\n",
    "        if i:\n",
    "            for j in range(i+1):\n",
    "                prefix = pattern[:j]\n",
    "                suffix = pattern[i-j+1:i+1]\n",
    "                if prefix == suffix:\n",
    "                    aux[i] = max(len(prefix), aux[i])\n",
    "    return aux"
   ]
  },
  {
   "cell_type": "code",
   "execution_count": 90,
   "metadata": {},
   "outputs": [
    {
     "name": "stdout",
     "output_type": "stream",
     "text": [
      "44.5 µs ± 1.46 µs per loop (mean ± std. dev. of 7 runs, 10000 loops each)\n"
     ]
    }
   ],
   "source": [
    "%timeit kmpPrepare(\"AAABAAA\")"
   ]
  },
  {
   "cell_type": "code",
   "execution_count": 87,
   "metadata": {},
   "outputs": [],
   "source": [
    "def kmpPrepareIm(pattern):\n",
    "    pre = 0 # length of the previous longest prefix suffix \n",
    "    aux = [0] * len(pattern)\n",
    "    i = 1\n",
    "    while i < len(pattern):\n",
    "        if pattern[i] == pattern[pre]:\n",
    "            pre += 1\n",
    "            aux[i] = pre\n",
    "            i += 1\n",
    "        else:\n",
    "            # This is tricky. Consider the example. \n",
    "            # AAACAAAA and i = 7. The idea is similar  \n",
    "            # to search step. \n",
    "            if pre != 0:\n",
    "                pre = aux[pre - 1]\n",
    "            else:\n",
    "                aux[i] = 0\n",
    "                i += 1\n",
    "    return aux"
   ]
  },
  {
   "cell_type": "code",
   "execution_count": 89,
   "metadata": {},
   "outputs": [
    {
     "name": "stdout",
     "output_type": "stream",
     "text": [
      "6.94 µs ± 147 ns per loop (mean ± std. dev. of 7 runs, 100000 loops each)\n"
     ]
    }
   ],
   "source": [
    "%timeit kmpPrepareIm(\"AAABAAA\")"
   ]
  },
  {
   "cell_type": "code",
   "execution_count": 94,
   "metadata": {},
   "outputs": [],
   "source": [
    "import pysnooper\n",
    "#@pysnooper.snoop()\n",
    "def KMPSearch(A, B):\n",
    "    M = len(A)\n",
    "    N = len(B)\n",
    "    \n",
    "    aux = kmpPrepareIm(A)\n",
    "    i, j = 0, 0\n",
    "    while i < N:\n",
    "        if A[j] == B[i]:\n",
    "            i += 1\n",
    "            j += 1\n",
    "        if j == M:\n",
    "            return True\n",
    "        elif i < N  and A[j] != B[i]:\n",
    "            if j != 0:\n",
    "                j = aux[j-1]\n",
    "            else:\n",
    "                i += 1\n",
    "    return False"
   ]
  },
  {
   "cell_type": "code",
   "execution_count": 96,
   "metadata": {},
   "outputs": [
    {
     "data": {
      "text/plain": [
       "True"
      ]
     },
     "execution_count": 96,
     "metadata": {},
     "output_type": "execute_result"
    }
   ],
   "source": [
    "KMPSearch('saveearth','thehelloworldchapterofsaveearth')"
   ]
  },
  {
   "cell_type": "code",
   "execution_count": 97,
   "metadata": {},
   "outputs": [
    {
     "name": "stdout",
     "output_type": "stream",
     "text": [
      "338 µs ± 3.02 µs per loop (mean ± std. dev. of 7 runs, 1000 loops each)\n"
     ]
    }
   ],
   "source": [
    "%timeit for x in range(10): KMPSearch('saveearth','thehelloworldchapterofsaveearth')"
   ]
  },
  {
   "cell_type": "code",
   "execution_count": null,
   "metadata": {},
   "outputs": [],
   "source": []
  }
 ],
 "metadata": {
  "kernelspec": {
   "display_name": "Python 3",
   "language": "python",
   "name": "python3"
  },
  "language_info": {
   "codemirror_mode": {
    "name": "ipython",
    "version": 3
   },
   "file_extension": ".py",
   "mimetype": "text/x-python",
   "name": "python",
   "nbconvert_exporter": "python",
   "pygments_lexer": "ipython3",
   "version": "3.6.6"
  }
 },
 "nbformat": 4,
 "nbformat_minor": 4
}
