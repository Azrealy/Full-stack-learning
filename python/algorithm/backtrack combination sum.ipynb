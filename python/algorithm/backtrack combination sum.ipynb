{
 "cells": [
  {
   "cell_type": "code",
   "execution_count": 8,
   "metadata": {},
   "outputs": [],
   "source": [
    "def findUnsortedSubarray(nums):\n",
    "    sort = sorted(nums)\n",
    "    start = float('inf')\n",
    "    end = float('-inf')\n",
    "    for idx, m in enumerate(list(zip(sort, nums))):\n",
    "        if m[0] != m[1]:\n",
    "            start = min(start, idx)\n",
    "            end = max(end, idx)\n",
    "    if start == float('inf'):\n",
    "        return 0\n",
    "    return end - start + 1"
   ]
  },
  {
   "cell_type": "code",
   "execution_count": 9,
   "metadata": {},
   "outputs": [
    {
     "data": {
      "text/plain": [
       "6"
      ]
     },
     "execution_count": 9,
     "metadata": {},
     "output_type": "execute_result"
    }
   ],
   "source": [
    "findUnsortedSubarray([2, 6, 4, 8, 3, 10, 9, 15])"
   ]
  },
  {
   "cell_type": "code",
   "execution_count": 96,
   "metadata": {},
   "outputs": [],
   "source": [
    "import pysnooper\n",
    "def subset(nums):\n",
    "    powerset = []\n",
    "    def backtrack(nums, start=0, subset=[]):\n",
    "        # Copy the subset into our powerset\n",
    "        # Otherwise, our subset append into our powerset\n",
    "        # will reference the same memory address.\n",
    "        tmp = subset.copy()\n",
    "        powerset.append(tmp)\n",
    "        for i in range(start, len(nums)):\n",
    "            subset.append(nums[i])\n",
    "            backtrack(nums, i+1, subset)\n",
    "            subset.pop()\n",
    "    backtrack(nums)\n",
    "    return powerset"
   ]
  },
  {
   "cell_type": "code",
   "execution_count": 97,
   "metadata": {},
   "outputs": [
    {
     "data": {
      "text/plain": [
       "[[], [1], [1, 2], [1, 2, 3], [1, 3], [2], [2, 3], [3]]"
      ]
     },
     "execution_count": 97,
     "metadata": {},
     "output_type": "execute_result"
    }
   ],
   "source": [
    "subset([1, 2, 3])"
   ]
  },
  {
   "cell_type": "code",
   "execution_count": 114,
   "metadata": {},
   "outputs": [],
   "source": [
    "@pysnooper.snoop()\n",
    "def subset_iter(nums):\n",
    "    powerset = [[]]\n",
    "    # after each iteration of this loop we are left with the powerset of the subset nums[0..i]\n",
    "    for i in range(len(nums)):\n",
    "        # append nums[i] to already recorded subsets to form new ones.\n",
    "        for j in range(pow(2, i)):\n",
    "            subset = powerset[j].copy()\n",
    "            subset.append(nums[i])\n",
    "            powerset.append(subset)\n",
    "    return powerset"
   ]
  },
  {
   "cell_type": "code",
   "execution_count": 115,
   "metadata": {},
   "outputs": [
    {
     "name": "stderr",
     "output_type": "stream",
     "text": [
      "Starting var:.. nums = [1, 2, 3]\n",
      "10:39:41.426944 call         2 def subset_iter(nums):\n",
      "10:39:41.427072 line         3     powerset = [[]]\n",
      "New var:....... powerset = [[]]\n",
      "10:39:41.427233 line         5     for i in range(len(nums)):\n",
      "New var:....... i = 0\n",
      "10:39:41.427330 line         6         for j in range(pow(2, i)):\n",
      "New var:....... j = 0\n",
      "10:39:41.427427 line         7             subset = powerset[j].copy()\n",
      "New var:....... subset = []\n",
      "10:39:41.427557 line         8             subset.append(nums[i])\n",
      "Modified var:.. subset = [1]\n",
      "10:39:41.427658 line         9             powerset.append(subset)\n",
      "Modified var:.. powerset = [[], [1]]\n",
      "10:39:41.427756 line         6         for j in range(pow(2, i)):\n",
      "10:39:41.427832 line         5     for i in range(len(nums)):\n",
      "Modified var:.. i = 1\n",
      "10:39:41.427930 line         6         for j in range(pow(2, i)):\n",
      "10:39:41.428008 line         7             subset = powerset[j].copy()\n",
      "Modified var:.. subset = []\n",
      "10:39:41.428106 line         8             subset.append(nums[i])\n",
      "Modified var:.. subset = [2]\n",
      "10:39:41.428234 line         9             powerset.append(subset)\n",
      "Modified var:.. powerset = [[], [1], [2]]\n",
      "10:39:41.428335 line         6         for j in range(pow(2, i)):\n",
      "Modified var:.. j = 1\n",
      "10:39:41.428433 line         7             subset = powerset[j].copy()\n",
      "Modified var:.. subset = [1]\n",
      "10:39:41.428560 line         8             subset.append(nums[i])\n",
      "Modified var:.. subset = [1, 2]\n",
      "10:39:41.428667 line         9             powerset.append(subset)\n",
      "Modified var:.. powerset = [[], [1], [2], [1, 2]]\n",
      "10:39:41.428785 line         6         for j in range(pow(2, i)):\n",
      "10:39:41.428875 line         5     for i in range(len(nums)):\n",
      "Modified var:.. i = 2\n",
      "10:39:41.429001 line         6         for j in range(pow(2, i)):\n",
      "Modified var:.. j = 0\n",
      "10:39:41.429152 line         7             subset = powerset[j].copy()\n",
      "Modified var:.. subset = []\n",
      "10:39:41.429281 line         8             subset.append(nums[i])\n",
      "Modified var:.. subset = [3]\n",
      "10:39:41.429383 line         9             powerset.append(subset)\n",
      "Modified var:.. powerset = [[], [1], [2], [1, 2], [3]]\n",
      "10:39:41.429520 line         6         for j in range(pow(2, i)):\n",
      "Modified var:.. j = 1\n",
      "10:39:41.429668 line         7             subset = powerset[j].copy()\n",
      "Modified var:.. subset = [1]\n",
      "10:39:41.429803 line         8             subset.append(nums[i])\n",
      "Modified var:.. subset = [1, 3]\n",
      "10:39:41.429906 line         9             powerset.append(subset)\n",
      "Modified var:.. powerset = [[], [1], [2], [1, 2], [3], [1, 3]]\n",
      "10:39:41.430010 line         6         for j in range(pow(2, i)):\n",
      "Modified var:.. j = 2\n",
      "10:39:41.430110 line         7             subset = powerset[j].copy()\n",
      "Modified var:.. subset = [2]\n",
      "10:39:41.430245 line         8             subset.append(nums[i])\n",
      "Modified var:.. subset = [2, 3]\n",
      "10:39:41.430353 line         9             powerset.append(subset)\n",
      "Modified var:.. powerset = [[], [1], [2], [1, 2], [3], [1, 3], [2, 3]]\n",
      "10:39:41.430492 line         6         for j in range(pow(2, i)):\n",
      "Modified var:.. j = 3\n",
      "10:39:41.430596 line         7             subset = powerset[j].copy()\n",
      "Modified var:.. subset = [1, 2]\n",
      "10:39:41.430698 line         8             subset.append(nums[i])\n",
      "Modified var:.. subset = [1, 2, 3]\n",
      "10:39:41.430800 line         9             powerset.append(subset)\n",
      "Modified var:.. powerset = [[], [1], [2], [1, 2], [3], [1, 3], [2, 3], [1, 2, 3]]\n",
      "10:39:41.430903 line         6         for j in range(pow(2, i)):\n",
      "10:39:41.430985 line         5     for i in range(len(nums)):\n",
      "10:39:41.431066 line        10     return powerset\n",
      "10:39:41.431144 return      10     return powerset\n",
      "Return value:.. [[], [1], [2], [1, 2], [3], [1, 3], [2, 3], [1, 2, 3]]\n"
     ]
    },
    {
     "data": {
      "text/plain": [
       "[[], [1], [2], [1, 2], [3], [1, 3], [2, 3], [1, 2, 3]]"
      ]
     },
     "execution_count": 115,
     "metadata": {},
     "output_type": "execute_result"
    }
   ],
   "source": [
    "subset_iter([1, 2, 3])"
   ]
  },
  {
   "cell_type": "code",
   "execution_count": 150,
   "metadata": {},
   "outputs": [],
   "source": [
    "def letterCasePermutation(S):\n",
    "    ans = []\n",
    "    def backtrack(S, start=0):\n",
    "        ans.append(S)\n",
    "        for i in range(start, len(S)):\n",
    "            if S[i].isdigit():\n",
    "                continue\n",
    "            if S[i].islower():\n",
    "                letter = list(S)\n",
    "                letter[i] = S[i].upper()\n",
    "                backtrack(\"\".join(letter), i+1)\n",
    "            if S[i].isupper():\n",
    "                letter = list(S)\n",
    "                letter[i] = S[i].lower()\n",
    "                backtrack(\"\".join(letter), i+1)\n",
    "    backtrack(S)\n",
    "    return ans"
   ]
  },
  {
   "cell_type": "code",
   "execution_count": 151,
   "metadata": {},
   "outputs": [
    {
     "data": {
      "text/plain": [
       "['a1b2c', 'A1b2c', 'A1B2c', 'A1B2C', 'A1b2C', 'a1B2c', 'a1B2C', 'a1b2C']"
      ]
     },
     "execution_count": 151,
     "metadata": {},
     "output_type": "execute_result"
    }
   ],
   "source": [
    "letterCasePermutation(\"a1b2c\")"
   ]
  },
  {
   "cell_type": "code",
   "execution_count": 189,
   "metadata": {},
   "outputs": [],
   "source": [
    "def subsetsWithDup(nums):\n",
    "    powerset = []\n",
    "    def backtrack(nums, start=0, subset=[]):\n",
    "        powerset.append(subset.copy())\n",
    "        for i in range(start, len(nums)):\n",
    "            if i > start and nums[i] == nums[i-1]:\n",
    "                continue\n",
    "            subset.append(nums[i])\n",
    "            backtrack(nums, i + 1, subset)\n",
    "            subset.pop()\n",
    "    backtrack(sorted(nums))\n",
    "    return powerset"
   ]
  },
  {
   "cell_type": "code",
   "execution_count": 190,
   "metadata": {},
   "outputs": [
    {
     "data": {
      "text/plain": [
       "[[],\n",
       " [1],\n",
       " [1, 4],\n",
       " [1, 4, 4],\n",
       " [1, 4, 4, 4],\n",
       " [1, 4, 4, 4, 4],\n",
       " [4],\n",
       " [4, 4],\n",
       " [4, 4, 4],\n",
       " [4, 4, 4, 4]]"
      ]
     },
     "execution_count": 190,
     "metadata": {},
     "output_type": "execute_result"
    }
   ],
   "source": [
    "subsetsWithDup([4, 4, 4, 1, 4])"
   ]
  },
  {
   "cell_type": "code",
   "execution_count": 265,
   "metadata": {},
   "outputs": [],
   "source": [
    "def combinationSum(nums, target):\n",
    "    comb = []\n",
    "    def dp(nums, start, target, subset=[]):\n",
    "        if target <= 0:\n",
    "            if target == 0:\n",
    "                comb.append(subset.copy())\n",
    "            return \n",
    "        for i in range(start, len(nums)):\n",
    "            subset.append(nums[i])\n",
    "            dp(nums, start, target-nums[i])\n",
    "            subset.pop()\n",
    "    dp(nums, 0, target)\n",
    "    return len(comb)"
   ]
  },
  {
   "cell_type": "code",
   "execution_count": 266,
   "metadata": {},
   "outputs": [
    {
     "data": {
      "text/plain": [
       "[[1, 1, 1, 1], [1, 1, 2], [1, 2, 1], [1, 3], [2, 1, 1], [2, 2], [3, 1]]"
      ]
     },
     "execution_count": 266,
     "metadata": {},
     "output_type": "execute_result"
    }
   ],
   "source": [
    "combinationSum([1, 2, 3], 4)"
   ]
  },
  {
   "cell_type": "code",
   "execution_count": 263,
   "metadata": {},
   "outputs": [],
   "source": [
    "def combinationSum2(nums, target):\n",
    "    comb = []\n",
    "    def backtrack(nums, start, target, subset=[]):\n",
    "        if target == 0:\n",
    "            comb.append(subset.copy())\n",
    "        if target < 0:\n",
    "            return\n",
    "        for i in range(start, len(nums)):\n",
    "            if start < i and nums[i] == nums[i-1]:\n",
    "                continue\n",
    "            subset.append(nums[i])\n",
    "            backtrack(nums, i+1, target-nums[i], subset)\n",
    "            subset.pop()\n",
    "    backtrack(sorted(nums), 0, target)\n",
    "    return comb"
   ]
  },
  {
   "cell_type": "code",
   "execution_count": 264,
   "metadata": {},
   "outputs": [
    {
     "data": {
      "text/plain": [
       "[[1, 2, 2], [5]]"
      ]
     },
     "execution_count": 264,
     "metadata": {},
     "output_type": "execute_result"
    }
   ],
   "source": [
    "combinationSum2([1, 2, 2, 2, 5], 5)"
   ]
  },
  {
   "cell_type": "code",
   "execution_count": 259,
   "metadata": {},
   "outputs": [],
   "source": [
    "def combinationSum3(k, n):\n",
    "    comb = []\n",
    "    def backtrack(k, n, start=1, subset=[]):\n",
    "        if len(subset) > k or sum(subset) > n:\n",
    "            return\n",
    "        if sum(subset) == n and len(subset) == k:\n",
    "            comb.append(subset.copy())\n",
    "            return\n",
    "        for i in range(start, 10):\n",
    "            subset.append(i)\n",
    "            backtrack(k, n, i+1, subset)\n",
    "            subset.pop()\n",
    "    backtrack(k, n)\n",
    "    return comb"
   ]
  },
  {
   "cell_type": "code",
   "execution_count": 260,
   "metadata": {},
   "outputs": [
    {
     "data": {
      "text/plain": [
       "[[1, 5, 9],\n",
       " [1, 6, 8],\n",
       " [2, 4, 9],\n",
       " [2, 5, 8],\n",
       " [2, 6, 7],\n",
       " [3, 4, 8],\n",
       " [3, 5, 7],\n",
       " [4, 5, 6]]"
      ]
     },
     "execution_count": 260,
     "metadata": {},
     "output_type": "execute_result"
    }
   ],
   "source": [
    "combinationSum3(3, 15)"
   ]
  },
  {
   "cell_type": "code",
   "execution_count": 269,
   "metadata": {},
   "outputs": [],
   "source": [
    "def combinationSum4(nums, target):\n",
    "    comb = []\n",
    "    def dp(nums, start, target, subset=[]):\n",
    "        if target <= 0:\n",
    "            if target == 0:\n",
    "                comb.append(subset.copy())\n",
    "            return \n",
    "        for i in range(start, len(nums)):\n",
    "            subset.append(nums[i])\n",
    "            dp(nums, start, target-nums[i])\n",
    "            subset.pop()\n",
    "    dp(nums, 0, target)\n",
    "    return len(comb)"
   ]
  },
  {
   "cell_type": "code",
   "execution_count": 270,
   "metadata": {},
   "outputs": [
    {
     "data": {
      "text/plain": [
       "7"
      ]
     },
     "execution_count": 270,
     "metadata": {},
     "output_type": "execute_result"
    }
   ],
   "source": [
    "combinationSum4([1, 2, 3], 4)"
   ]
  },
  {
   "cell_type": "code",
   "execution_count": 281,
   "metadata": {},
   "outputs": [],
   "source": [
    "def combinationSum4_dp(nums, target):\n",
    "    dp = [1 if i == 0 else 0 for i in range(target+1)]\n",
    "    for i in range(1, target+1):\n",
    "        dp[i] = sum([dp[i-n] for n in nums if i >= n])\n",
    "    return dp[-1]"
   ]
  },
  {
   "cell_type": "code",
   "execution_count": 282,
   "metadata": {},
   "outputs": [
    {
     "data": {
      "text/plain": [
       "7"
      ]
     },
     "execution_count": 282,
     "metadata": {},
     "output_type": "execute_result"
    }
   ],
   "source": [
    "combinationSum4_dp([1, 2, 3], 4)"
   ]
  },
  {
   "cell_type": "code",
   "execution_count": null,
   "metadata": {},
   "outputs": [],
   "source": []
  }
 ],
 "metadata": {
  "kernelspec": {
   "display_name": "Python 3",
   "language": "python",
   "name": "python3"
  },
  "language_info": {
   "codemirror_mode": {
    "name": "ipython",
    "version": 3
   },
   "file_extension": ".py",
   "mimetype": "text/x-python",
   "name": "python",
   "nbconvert_exporter": "python",
   "pygments_lexer": "ipython3",
   "version": "3.6.6"
  }
 },
 "nbformat": 4,
 "nbformat_minor": 2
}
