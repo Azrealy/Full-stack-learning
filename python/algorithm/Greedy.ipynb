{
 "cells": [
  {
   "cell_type": "markdown",
   "metadata": {},
   "source": [
    "## Two City Scheduling\n",
    "\n",
    "There are 2N people a company is planning to interview. The cost of flying the i-th person to city A is costs[i][0], and the cost of flying the i-th person to city B is costs[i][1].\n",
    "\n",
    "Return the minimum cost to fly every person to a city such that exactly N people arrive in each city.\n",
    "\n",
    "* Example 1:\n",
    "\n",
    "```\n",
    "Input: [[10,20],[30,200],[400,50],[30,20]]\n",
    "Output: 110\n",
    "```\n",
    "\n",
    "Explanation: \n",
    "```\n",
    "The first person goes to city A for a cost of 10.\n",
    "The second person goes to city A for a cost of 30.\n",
    "The third person goes to city B for a cost of 50.\n",
    "The fourth person goes to city B for a cost of 20.\n",
    "```\n",
    "The total minimum cost is 10 + 30 + 50 + 20 = 110 to have half the people interviewing in each city.\n",
    " \n",
    "\n",
    "* Note:\n",
    "\n",
    "1 <= costs.length <= 100\n",
    "\n",
    "It is guaranteed that costs.length is even.\n",
    "\n",
    "1 <= costs[i][0], costs[i][1] <= 1000"
   ]
  },
  {
   "cell_type": "markdown",
   "metadata": {},
   "source": [
    "### Greedy algorithms\n",
    "\n",
    "Greedy problems usually look like \"Find minimum number of somthing to do something\" or \"Find maximun number if something to fit in some conditions\", and typically propose an unsorted inoput.\n",
    "\n",
    "> The idea of greedy algorithm is to pick the locally optimal move at each step, that will lead to the globally optimal solution.\n",
    "\n",
    "Intuition\n",
    "\n",
    "Let's figure out how to sort the input here. The input should be sorted by a parameter which indicates a money lost for the company.\n",
    "\n",
    "The company would pay anyway : `price_A` to send a person to the city A, or `price_B` to send a person to the city B. By sending the person to the city A, the company would lose `price_A - price_B`, which could negative or positive."
   ]
  },
  {
   "cell_type": "code",
   "execution_count": 2,
   "metadata": {},
   "outputs": [],
   "source": [
    "def twoCitySchedCost(costs):\n",
    "    ans = sorted(costs, key=lambda i: i[0]-i[1])\n",
    "    return sum([ans[i][0] if i < len(ans) // 2 else ans[i][1] for i in range(len(costs))])"
   ]
  },
  {
   "cell_type": "code",
   "execution_count": 3,
   "metadata": {},
   "outputs": [
    {
     "data": {
      "text/plain": [
       "1859"
      ]
     },
     "execution_count": 3,
     "metadata": {},
     "output_type": "execute_result"
    }
   ],
   "source": [
    "twoCitySchedCost([[259,770],[448,54],[926,667],[184,139],[840,118],[577,469]])"
   ]
  },
  {
   "cell_type": "markdown",
   "metadata": {},
   "source": [
    "## Partition Labels\n",
    "\n",
    "A string S of lowercase letters is given. We want to partition this string into as many parts as possible so that each letter appears in at most one part, and return a list of integers representing the size of these parts.\n",
    "\n",
    "Example 1:\n",
    "```\n",
    "Input: S = \"ababcbacadefegdehijhklij\"\n",
    "Output: [9,7,8]\n",
    "```\n",
    "* Explanation:\n",
    "\n",
    "The partition is \"ababcbaca\", \"defegde\", \"hijhklij\".\n",
    "This is a partition so that each letter appears in at most one part.\n",
    "A partition like \"ababcbacadefegde\", \"hijhklij\" is incorrect, because it splits S into less parts.\n",
    "Note:\n",
    "\n",
    "S will have length in range [1, 500].\n",
    "\n",
    "S will consist of lowercase letters ('a' to 'z') only."
   ]
  },
  {
   "cell_type": "code",
   "execution_count": 6,
   "metadata": {},
   "outputs": [
    {
     "data": {
      "text/plain": [
       "'aaaabbbccddeeefghhiijjkl'"
      ]
     },
     "execution_count": 6,
     "metadata": {},
     "output_type": "execute_result"
    }
   ],
   "source": [
    "\"ababcbacadefegdehijhklij\""
   ]
  },
  {
   "cell_type": "code",
   "execution_count": 32,
   "metadata": {},
   "outputs": [],
   "source": [
    "import pysnooper\n",
    "@pysnooper.snoop()\n",
    "def partitionLabels(S):\n",
    "    last = {c: i for i, c in enumerate(S)}\n",
    "    j = anchor = 0\n",
    "    ans = []\n",
    "    for i in range(len(S)):\n",
    "        j = max(j, last[S[i]])\n",
    "        if i == j:\n",
    "            ans.append(j - anchor + 1)\n",
    "            anchor = j-1\n",
    "    return ans"
   ]
  },
  {
   "cell_type": "code",
   "execution_count": 33,
   "metadata": {},
   "outputs": [
    {
     "name": "stderr",
     "output_type": "stream",
     "text": [
      "Starting var:.. S = 'caedbdedda'\n",
      "13:23:45.826353 call         3 def partitionLabels(S):\n",
      "13:23:45.826485 line         4     last = {c: i for i, c in enumerate(S)}\n",
      "New var:....... last = {'c': 0, 'a': 9, 'e': 6, 'd': 8, 'b': 4}\n",
      "13:23:45.826583 line         5     j = anchor = 0\n",
      "New var:....... j = 0\n",
      "New var:....... anchor = 0\n",
      "13:23:45.826692 line         6     ans = []\n",
      "New var:....... ans = []\n",
      "13:23:45.826782 line         7     for i in range(len(S)):\n",
      "New var:....... i = 0\n",
      "13:23:45.826962 line         8         j = max(j, last[S[i]])\n",
      "13:23:45.827041 line         9         if i == j:\n",
      "13:23:45.827122 line        10             ans.append(j - anchor + 1)\n",
      "Modified var:.. ans = [1]\n",
      "13:23:45.827251 line        11             anchor = j\n",
      "13:23:45.827358 line         7     for i in range(len(S)):\n",
      "Modified var:.. i = 1\n",
      "13:23:45.827470 line         8         j = max(j, last[S[i]])\n",
      "Modified var:.. j = 9\n",
      "13:23:45.827605 line         9         if i == j:\n",
      "13:23:45.827687 line         7     for i in range(len(S)):\n",
      "Modified var:.. i = 2\n",
      "13:23:45.827835 line         8         j = max(j, last[S[i]])\n",
      "13:23:45.828103 line         9         if i == j:\n",
      "13:23:45.828192 line         7     for i in range(len(S)):\n",
      "Modified var:.. i = 3\n",
      "13:23:45.828292 line         8         j = max(j, last[S[i]])\n",
      "13:23:45.828366 line         9         if i == j:\n",
      "13:23:45.828438 line         7     for i in range(len(S)):\n",
      "Modified var:.. i = 4\n",
      "13:23:45.828530 line         8         j = max(j, last[S[i]])\n",
      "13:23:45.828644 line         9         if i == j:\n",
      "13:23:45.828718 line         7     for i in range(len(S)):\n",
      "Modified var:.. i = 5\n",
      "13:23:45.829006 line         8         j = max(j, last[S[i]])\n",
      "13:23:45.829083 line         9         if i == j:\n",
      "13:23:45.829156 line         7     for i in range(len(S)):\n",
      "Modified var:.. i = 6\n",
      "13:23:45.829248 line         8         j = max(j, last[S[i]])\n",
      "13:23:45.829322 line         9         if i == j:\n",
      "13:23:45.829445 line         7     for i in range(len(S)):\n",
      "Modified var:.. i = 7\n",
      "13:23:45.829546 line         8         j = max(j, last[S[i]])\n",
      "13:23:45.829620 line         9         if i == j:\n",
      "13:23:45.829693 line         7     for i in range(len(S)):\n",
      "Modified var:.. i = 8\n",
      "13:23:45.829905 line         8         j = max(j, last[S[i]])\n",
      "13:23:45.830017 line         9         if i == j:\n",
      "13:23:45.830091 line         7     for i in range(len(S)):\n",
      "Modified var:.. i = 9\n",
      "13:23:45.830256 line         8         j = max(j, last[S[i]])\n",
      "13:23:45.830338 line         9         if i == j:\n",
      "13:23:45.830465 line        10             ans.append(j - anchor + 1)\n",
      "Modified var:.. ans = [1, 10]\n",
      "13:23:45.830665 line        11             anchor = j\n",
      "Modified var:.. anchor = 9\n",
      "13:23:45.830875 line         7     for i in range(len(S)):\n",
      "13:23:45.831015 line        12     return ans\n",
      "13:23:45.831139 return      12     return ans\n",
      "Return value:.. [1, 10]\n"
     ]
    },
    {
     "data": {
      "text/plain": [
       "[1, 10]"
      ]
     },
     "execution_count": 33,
     "metadata": {},
     "output_type": "execute_result"
    }
   ],
   "source": [
    "partitionLabels(\"caedbdedda\")"
   ]
  },
  {
   "cell_type": "markdown",
   "metadata": {},
   "source": [
    "## Queue Reconstruction by Height\n",
    "\n",
    "Suppose you have a random list of people standing in a queue. Each person is described by a pair of integers (h, k), where h is the height of the person and k is the number of people in front of this person who have a height greater than or equal to h. Write an algorithm to reconstruct the queue.\n",
    "\n",
    "Note:\n",
    "The number of people is less than 1,100.\n",
    "\n",
    "Example\n",
    "```\n",
    "Input:\n",
    "[[7,0], [4,4], [7,1], [5,0], [6,1], [5,2]]\n",
    "```\n",
    "```\n",
    "Output:\n",
    "[[5,0], [7,0], [5,2], [6,1], [4,4], [7,1]]\n",
    "```"
   ]
  },
  {
   "cell_type": "code",
   "execution_count": 54,
   "metadata": {},
   "outputs": [],
   "source": [
    "def reconstructQueue(people):\n",
    "    soted = sorted(people, key=lambda i: (-i[0], i[1]))\n",
    "    ans = []\n",
    "    for s in soted:\n",
    "        ans.insert(s[1], s)\n",
    "    return ans"
   ]
  },
  {
   "cell_type": "code",
   "execution_count": 55,
   "metadata": {},
   "outputs": [
    {
     "data": {
      "text/plain": [
       "[[5, 0], [7, 0], [5, 2], [6, 1], [4, 4], [7, 1]]"
      ]
     },
     "execution_count": 55,
     "metadata": {},
     "output_type": "execute_result"
    }
   ],
   "source": [
    "reconstructQueue([[7,0], [4,4], [7,1], [5,0], [6,1], [5,2]])"
   ]
  },
  {
   "cell_type": "markdown",
   "metadata": {},
   "source": [
    "## Jump Game\n",
    "\n",
    "Given an array of non-negative integers, you are initially positioned at the first index of the array.\n",
    "\n",
    "Each element in the array represents your maximum jump length at that position.\n",
    "\n",
    "Determine if you are able to reach the last index.\n",
    "\n",
    "Example 1:\n",
    "```\n",
    "Input: [2,3,1,1,4]\n",
    "Output: true\n",
    "```\n",
    "Explanation: Jump 1 step from index 0 to 1, then 3 steps to the last index.\n",
    "Example 2:\n",
    "```\n",
    "Input: [3,2,1,0,4]\n",
    "Output: false\n",
    "```\n",
    "Explanation: You will always arrive at index 3 no matter what. Its maximum\n",
    "             jump length is 0, which makes it impossible to reach the last index."
   ]
  },
  {
   "cell_type": "code",
   "execution_count": 66,
   "metadata": {},
   "outputs": [],
   "source": [
    "def canJump(nums):\n",
    "    i = 0\n",
    "    far = nums[0]\n",
    "    while i <= far:\n",
    "        far = max(far, i + nums[i])\n",
    "        if far >= len(nums)-1:\n",
    "            return True\n",
    "        i += 1\n",
    "    return False"
   ]
  },
  {
   "cell_type": "code",
   "execution_count": 71,
   "metadata": {},
   "outputs": [
    {
     "data": {
      "text/plain": [
       "False"
      ]
     },
     "execution_count": 71,
     "metadata": {},
     "output_type": "execute_result"
    }
   ],
   "source": [
    "canJump([3, 2, 1, 0, 0])"
   ]
  }
 ],
 "metadata": {
  "kernelspec": {
   "display_name": "Python 3",
   "language": "python",
   "name": "python3"
  },
  "language_info": {
   "codemirror_mode": {
    "name": "ipython",
    "version": 3
   },
   "file_extension": ".py",
   "mimetype": "text/x-python",
   "name": "python",
   "nbconvert_exporter": "python",
   "pygments_lexer": "ipython3",
   "version": "3.6.6"
  }
 },
 "nbformat": 4,
 "nbformat_minor": 4
}
