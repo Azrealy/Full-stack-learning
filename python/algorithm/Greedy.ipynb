{
 "cells": [
  {
   "cell_type": "markdown",
   "metadata": {},
   "source": [
    "## Two City Scheduling\n",
    "\n",
    "There are 2N people a company is planning to interview. The cost of flying the i-th person to city A is costs[i][0], and the cost of flying the i-th person to city B is costs[i][1].\n",
    "\n",
    "Return the minimum cost to fly every person to a city such that exactly N people arrive in each city.\n",
    "\n",
    "* Example 1:\n",
    "\n",
    "```\n",
    "Input: [[10,20],[30,200],[400,50],[30,20]]\n",
    "Output: 110\n",
    "```\n",
    "\n",
    "Explanation: \n",
    "```\n",
    "The first person goes to city A for a cost of 10.\n",
    "The second person goes to city A for a cost of 30.\n",
    "The third person goes to city B for a cost of 50.\n",
    "The fourth person goes to city B for a cost of 20.\n",
    "```\n",
    "The total minimum cost is 10 + 30 + 50 + 20 = 110 to have half the people interviewing in each city.\n",
    " \n",
    "\n",
    "* Note:\n",
    "\n",
    "1 <= costs.length <= 100\n",
    "\n",
    "It is guaranteed that costs.length is even.\n",
    "\n",
    "1 <= costs[i][0], costs[i][1] <= 1000"
   ]
  },
  {
   "cell_type": "markdown",
   "metadata": {},
   "source": [
    "### Greedy algorithms\n",
    "\n",
    "Greedy problems usually look like \"Find minimum number of somthing to do something\" or \"Find maximun number if something to fit in some conditions\", and typically propose an unsorted inoput.\n",
    "\n",
    "> The idea of greedy algorithm is to pick the locally optimal move at each step, that will lead to the globally optimal solution.\n",
    "\n",
    "Intuition\n",
    "\n",
    "Let's figure out how to sort the input here. The input should be sorted by a parameter which indicates a money lost for the company.\n",
    "\n",
    "The company would pay anyway : `price_A` to send a person to the city A, or `price_B` to send a person to the city B. By sending the person to the city A, the company would lose `price_A - price_B`, which could negative or positive."
   ]
  },
  {
   "cell_type": "code",
   "execution_count": 2,
   "metadata": {},
   "outputs": [],
   "source": [
    "def twoCitySchedCost(costs):\n",
    "    ans = sorted(costs, key=lambda i: i[0]-i[1])\n",
    "    return sum([ans[i][0] if i < len(ans) // 2 else ans[i][1] for i in range(len(costs))])"
   ]
  },
  {
   "cell_type": "code",
   "execution_count": 3,
   "metadata": {},
   "outputs": [
    {
     "data": {
      "text/plain": [
       "1859"
      ]
     },
     "execution_count": 3,
     "metadata": {},
     "output_type": "execute_result"
    }
   ],
   "source": [
    "twoCitySchedCost([[259,770],[448,54],[926,667],[184,139],[840,118],[577,469]])"
   ]
  },
  {
   "cell_type": "markdown",
   "metadata": {},
   "source": [
    "## Partition Labels\n",
    "\n",
    "A string S of lowercase letters is given. We want to partition this string into as many parts as possible so that each letter appears in at most one part, and return a list of integers representing the size of these parts.\n",
    "\n",
    "Example 1:\n",
    "```\n",
    "Input: S = \"ababcbacadefegdehijhklij\"\n",
    "Output: [9,7,8]\n",
    "```\n",
    "* Explanation:\n",
    "\n",
    "The partition is \"ababcbaca\", \"defegde\", \"hijhklij\".\n",
    "This is a partition so that each letter appears in at most one part.\n",
    "A partition like \"ababcbacadefegde\", \"hijhklij\" is incorrect, because it splits S into less parts.\n",
    "Note:\n",
    "\n",
    "S will have length in range [1, 500].\n",
    "\n",
    "S will consist of lowercase letters ('a' to 'z') only."
   ]
  },
  {
   "cell_type": "code",
   "execution_count": 6,
   "metadata": {},
   "outputs": [
    {
     "data": {
      "text/plain": [
       "'aaaabbbccddeeefghhiijjkl'"
      ]
     },
     "execution_count": 6,
     "metadata": {},
     "output_type": "execute_result"
    }
   ],
   "source": [
    "\"ababcbacadefegdehijhklij\""
   ]
  },
  {
   "cell_type": "code",
   "execution_count": 32,
   "metadata": {},
   "outputs": [],
   "source": [
    "import pysnooper\n",
    "@pysnooper.snoop()\n",
    "def partitionLabels(S):\n",
    "    last = {c: i for i, c in enumerate(S)}\n",
    "    j = anchor = 0\n",
    "    ans = []\n",
    "    for i in range(len(S)):\n",
    "        j = max(j, last[S[i]])\n",
    "        if i == j:\n",
    "            ans.append(j - anchor + 1)\n",
    "            anchor = j-1\n",
    "    return ans"
   ]
  },
  {
   "cell_type": "code",
   "execution_count": 33,
   "metadata": {},
   "outputs": [
    {
     "name": "stderr",
     "output_type": "stream",
     "text": [
      "Starting var:.. S = 'caedbdedda'\n",
      "13:23:45.826353 call         3 def partitionLabels(S):\n",
      "13:23:45.826485 line         4     last = {c: i for i, c in enumerate(S)}\n",
      "New var:....... last = {'c': 0, 'a': 9, 'e': 6, 'd': 8, 'b': 4}\n",
      "13:23:45.826583 line         5     j = anchor = 0\n",
      "New var:....... j = 0\n",
      "New var:....... anchor = 0\n",
      "13:23:45.826692 line         6     ans = []\n",
      "New var:....... ans = []\n",
      "13:23:45.826782 line         7     for i in range(len(S)):\n",
      "New var:....... i = 0\n",
      "13:23:45.826962 line         8         j = max(j, last[S[i]])\n",
      "13:23:45.827041 line         9         if i == j:\n",
      "13:23:45.827122 line        10             ans.append(j - anchor + 1)\n",
      "Modified var:.. ans = [1]\n",
      "13:23:45.827251 line        11             anchor = j\n",
      "13:23:45.827358 line         7     for i in range(len(S)):\n",
      "Modified var:.. i = 1\n",
      "13:23:45.827470 line         8         j = max(j, last[S[i]])\n",
      "Modified var:.. j = 9\n",
      "13:23:45.827605 line         9         if i == j:\n",
      "13:23:45.827687 line         7     for i in range(len(S)):\n",
      "Modified var:.. i = 2\n",
      "13:23:45.827835 line         8         j = max(j, last[S[i]])\n",
      "13:23:45.828103 line         9         if i == j:\n",
      "13:23:45.828192 line         7     for i in range(len(S)):\n",
      "Modified var:.. i = 3\n",
      "13:23:45.828292 line         8         j = max(j, last[S[i]])\n",
      "13:23:45.828366 line         9         if i == j:\n",
      "13:23:45.828438 line         7     for i in range(len(S)):\n",
      "Modified var:.. i = 4\n",
      "13:23:45.828530 line         8         j = max(j, last[S[i]])\n",
      "13:23:45.828644 line         9         if i == j:\n",
      "13:23:45.828718 line         7     for i in range(len(S)):\n",
      "Modified var:.. i = 5\n",
      "13:23:45.829006 line         8         j = max(j, last[S[i]])\n",
      "13:23:45.829083 line         9         if i == j:\n",
      "13:23:45.829156 line         7     for i in range(len(S)):\n",
      "Modified var:.. i = 6\n",
      "13:23:45.829248 line         8         j = max(j, last[S[i]])\n",
      "13:23:45.829322 line         9         if i == j:\n",
      "13:23:45.829445 line         7     for i in range(len(S)):\n",
      "Modified var:.. i = 7\n",
      "13:23:45.829546 line         8         j = max(j, last[S[i]])\n",
      "13:23:45.829620 line         9         if i == j:\n",
      "13:23:45.829693 line         7     for i in range(len(S)):\n",
      "Modified var:.. i = 8\n",
      "13:23:45.829905 line         8         j = max(j, last[S[i]])\n",
      "13:23:45.830017 line         9         if i == j:\n",
      "13:23:45.830091 line         7     for i in range(len(S)):\n",
      "Modified var:.. i = 9\n",
      "13:23:45.830256 line         8         j = max(j, last[S[i]])\n",
      "13:23:45.830338 line         9         if i == j:\n",
      "13:23:45.830465 line        10             ans.append(j - anchor + 1)\n",
      "Modified var:.. ans = [1, 10]\n",
      "13:23:45.830665 line        11             anchor = j\n",
      "Modified var:.. anchor = 9\n",
      "13:23:45.830875 line         7     for i in range(len(S)):\n",
      "13:23:45.831015 line        12     return ans\n",
      "13:23:45.831139 return      12     return ans\n",
      "Return value:.. [1, 10]\n"
     ]
    },
    {
     "data": {
      "text/plain": [
       "[1, 10]"
      ]
     },
     "execution_count": 33,
     "metadata": {},
     "output_type": "execute_result"
    }
   ],
   "source": [
    "partitionLabels(\"caedbdedda\")"
   ]
  },
  {
   "cell_type": "markdown",
   "metadata": {},
   "source": [
    "## Queue Reconstruction by Height\n",
    "\n",
    "Suppose you have a random list of people standing in a queue. Each person is described by a pair of integers (h, k), where h is the height of the person and k is the number of people in front of this person who have a height greater than or equal to h. Write an algorithm to reconstruct the queue.\n",
    "\n",
    "Note:\n",
    "The number of people is less than 1,100.\n",
    "\n",
    "Example\n",
    "```\n",
    "Input:\n",
    "[[7,0], [4,4], [7,1], [5,0], [6,1], [5,2]]\n",
    "```\n",
    "```\n",
    "Output:\n",
    "[[5,0], [7,0], [5,2], [6,1], [4,4], [7,1]]\n",
    "```"
   ]
  },
  {
   "cell_type": "code",
   "execution_count": 54,
   "metadata": {},
   "outputs": [],
   "source": [
    "def reconstructQueue(people):\n",
    "    soted = sorted(people, key=lambda i: (-i[0], i[1]))\n",
    "    ans = []\n",
    "    for s in soted:\n",
    "        ans.insert(s[1], s)\n",
    "    return ans"
   ]
  },
  {
   "cell_type": "code",
   "execution_count": 55,
   "metadata": {},
   "outputs": [
    {
     "data": {
      "text/plain": [
       "[[5, 0], [7, 0], [5, 2], [6, 1], [4, 4], [7, 1]]"
      ]
     },
     "execution_count": 55,
     "metadata": {},
     "output_type": "execute_result"
    }
   ],
   "source": [
    "reconstructQueue([[7,0], [4,4], [7,1], [5,0], [6,1], [5,2]])"
   ]
  },
  {
   "cell_type": "markdown",
   "metadata": {},
   "source": [
    "## Jump Game\n",
    "\n",
    "Given an array of non-negative integers, you are initially positioned at the first index of the array.\n",
    "\n",
    "Each element in the array represents your maximum jump length at that position.\n",
    "\n",
    "Determine if you are able to reach the last index.\n",
    "\n",
    "Example 1:\n",
    "```\n",
    "Input: [2,3,1,1,4]\n",
    "Output: true\n",
    "```\n",
    "Explanation: Jump 1 step from index 0 to 1, then 3 steps to the last index.\n",
    "Example 2:\n",
    "```\n",
    "Input: [3,2,1,0,4]\n",
    "Output: false\n",
    "```\n",
    "Explanation: You will always arrive at index 3 no matter what. Its maximum\n",
    "             jump length is 0, which makes it impossible to reach the last index."
   ]
  },
  {
   "cell_type": "code",
   "execution_count": 1,
   "metadata": {},
   "outputs": [],
   "source": [
    "def canJump(nums):\n",
    "    i = 0\n",
    "    far = nums[0]\n",
    "    while i <= far:\n",
    "        far = max(far, i + nums[i])\n",
    "        if far >= len(nums)-1:\n",
    "            return True\n",
    "        i += 1\n",
    "    return False"
   ]
  },
  {
   "cell_type": "code",
   "execution_count": 2,
   "metadata": {},
   "outputs": [
    {
     "data": {
      "text/plain": [
       "False"
      ]
     },
     "execution_count": 2,
     "metadata": {},
     "output_type": "execute_result"
    }
   ],
   "source": [
    "canJump([3, 2, 1, 0, 0])"
   ]
  },
  {
   "cell_type": "markdown",
   "metadata": {},
   "source": [
    "## Score After Flipping Matrix\n",
    "\n",
    "We have a two dimensional matrix A where each value is 0 or 1.\n",
    "\n",
    "A move consists of choosing any row or column, and toggling each value in that row or column: changing all 0s to 1s, and all 1s to 0s.\n",
    "\n",
    "After making any number of moves, every row of this matrix is interpreted as a binary number, and the score of the matrix is the sum of these numbers.\n",
    "\n",
    "Return the highest possible score.\n",
    "\n",
    "\n",
    "Example 1:\n",
    "```\n",
    "Input: [[0,0,1,1],[1,0,1,0],[1,1,0,0]]\n",
    "Output: 39\n",
    "```\n",
    "Explanation:\n",
    "\n",
    "Toggled to [[1,1,1,1],[1,0,0,1],[1,1,1,1]].\n",
    "\n",
    "0b1111 + 0b1001 + 0b1111 = 15 + 9 + 15 = 39\n",
    " \n",
    "\n",
    "Note:\n",
    "\n",
    "1 <= A.length <= 20\n",
    "\n",
    "1 <= A[0].length <= 20\n",
    "\n",
    "A[i][j] is 0 or 1."
   ]
  },
  {
   "cell_type": "code",
   "execution_count": 238,
   "metadata": {},
   "outputs": [],
   "source": [
    "def matrixScore(A):\n",
    "    import numpy as np\n",
    "    a = np.array(A)\n",
    "    # toggle each rows where first col is not zero.\n",
    "    for i in range(len(A)):\n",
    "        if not A[i][0]:\n",
    "            a[i] = 1 ^ a[i]\n",
    "    ans = 0\n",
    "    # toggle each cols where the 0 is greater than 1.\n",
    "    for j in range(1, len(A[0])):\n",
    "        total = 0\n",
    "        for m in range(len(A)):\n",
    "            if a[m][j] == 0:\n",
    "                total += 1\n",
    "            else:\n",
    "                total -= 1\n",
    "        if total > 0:\n",
    "            a[:, j] = 1 ^ a[:, j]\n",
    "    a = a.astype(str)\n",
    "    return sum([int(''.join(i), 2) for i in a])"
   ]
  },
  {
   "cell_type": "code",
   "execution_count": 239,
   "metadata": {},
   "outputs": [
    {
     "data": {
      "text/plain": [
       "39"
      ]
     },
     "execution_count": 239,
     "metadata": {},
     "output_type": "execute_result"
    }
   ],
   "source": [
    "matrixScore([[0,0,1,1],[1,0,1,0],[1,1,0,0]])"
   ]
  },
  {
   "cell_type": "code",
   "execution_count": 243,
   "metadata": {},
   "outputs": [],
   "source": [
    "import pysnooper\n",
    "@pysnooper.snoop()\n",
    "def matrixScore_ad(A):\n",
    "    R, C = len(A), len(A[0])\n",
    "    ans = 0\n",
    "    for c in range(C):\n",
    "        col = 0\n",
    "        for r in range(R):\n",
    "            col += A[r][c] ^ A[r][0]\n",
    "        ans += max(col, R - col) * 2 ** (C - 1 - c)\n",
    "    return ans"
   ]
  },
  {
   "cell_type": "code",
   "execution_count": 244,
   "metadata": {},
   "outputs": [
    {
     "name": "stderr",
     "output_type": "stream",
     "text": [
      "Starting var:.. A = [[0, 0, 1, 1], [1, 0, 1, 0], [1, 1, 0, 0]]\n",
      "11:30:41.192353 call         3 def matrixScore_ad(A):\n",
      "11:30:41.192540 line         4     R, C = len(A), len(A[0])\n",
      "New var:....... R = 3\n",
      "New var:....... C = 4\n",
      "11:30:41.192699 line         5     ans = 0\n",
      "New var:....... ans = 0\n",
      "11:30:41.192798 line         6     for c in range(C):\n",
      "New var:....... c = 0\n",
      "11:30:41.192901 line         7         col = 0\n",
      "New var:....... col = 0\n",
      "11:30:41.193007 line         8         for r in range(R):\n",
      "New var:....... r = 0\n",
      "11:30:41.193120 line         9             col += A[r][c] ^ A[r][0]\n",
      "11:30:41.193204 line         8         for r in range(R):\n",
      "Modified var:.. r = 1\n",
      "11:30:41.193315 line         9             col += A[r][c] ^ A[r][0]\n",
      "11:30:41.193436 line         8         for r in range(R):\n",
      "Modified var:.. r = 2\n",
      "11:30:41.193583 line         9             col += A[r][c] ^ A[r][0]\n",
      "11:30:41.193667 line         8         for r in range(R):\n",
      "11:30:41.193751 line        10         ans += max(col, R - col) * 2 ** (C - 1 - c)\n",
      "Modified var:.. ans = 24\n",
      "11:30:41.193862 line         6     for c in range(C):\n",
      "Modified var:.. c = 1\n",
      "11:30:41.193964 line         7         col = 0\n",
      "11:30:41.194046 line         8         for r in range(R):\n",
      "Modified var:.. r = 0\n",
      "11:30:41.194158 line         9             col += A[r][c] ^ A[r][0]\n",
      "11:30:41.194243 line         8         for r in range(R):\n",
      "Modified var:.. r = 1\n",
      "11:30:41.194378 line         9             col += A[r][c] ^ A[r][0]\n",
      "Modified var:.. col = 1\n",
      "11:30:41.194556 line         8         for r in range(R):\n",
      "Modified var:.. r = 2\n",
      "11:30:41.194698 line         9             col += A[r][c] ^ A[r][0]\n",
      "11:30:41.194784 line         8         for r in range(R):\n",
      "11:30:41.194869 line        10         ans += max(col, R - col) * 2 ** (C - 1 - c)\n",
      "Modified var:.. ans = 32\n",
      "11:30:41.194982 line         6     for c in range(C):\n",
      "Modified var:.. c = 2\n",
      "11:30:41.195092 line         7         col = 0\n",
      "Modified var:.. col = 0\n",
      "11:30:41.195201 line         8         for r in range(R):\n",
      "Modified var:.. r = 0\n",
      "11:30:41.195332 line         9             col += A[r][c] ^ A[r][0]\n",
      "Modified var:.. col = 1\n",
      "11:30:41.195469 line         8         for r in range(R):\n",
      "Modified var:.. r = 1\n",
      "11:30:41.195610 line         9             col += A[r][c] ^ A[r][0]\n",
      "11:30:41.195705 line         8         for r in range(R):\n",
      "Modified var:.. r = 2\n",
      "11:30:41.195854 line         9             col += A[r][c] ^ A[r][0]\n",
      "Modified var:.. col = 2\n",
      "11:30:41.196014 line         8         for r in range(R):\n",
      "11:30:41.196142 line        10         ans += max(col, R - col) * 2 ** (C - 1 - c)\n",
      "Modified var:.. ans = 36\n",
      "11:30:41.196328 line         6     for c in range(C):\n",
      "Modified var:.. c = 3\n",
      "11:30:41.196493 line         7         col = 0\n",
      "Modified var:.. col = 0\n",
      "11:30:41.196699 line         8         for r in range(R):\n",
      "Modified var:.. r = 0\n",
      "11:30:41.196864 line         9             col += A[r][c] ^ A[r][0]\n",
      "Modified var:.. col = 1\n",
      "11:30:41.197049 line         8         for r in range(R):\n",
      "Modified var:.. r = 1\n",
      "11:30:41.197241 line         9             col += A[r][c] ^ A[r][0]\n",
      "Modified var:.. col = 2\n",
      "11:30:41.197443 line         8         for r in range(R):\n",
      "Modified var:.. r = 2\n",
      "11:30:41.197594 line         9             col += A[r][c] ^ A[r][0]\n",
      "Modified var:.. col = 3\n",
      "11:30:41.197709 line         8         for r in range(R):\n",
      "11:30:41.197810 line        10         ans += max(col, R - col) * 2 ** (C - 1 - c)\n",
      "Modified var:.. ans = 39\n",
      "11:30:41.197928 line         6     for c in range(C):\n",
      "11:30:41.198013 line        11     return ans\n",
      "11:30:41.198101 return      11     return ans\n",
      "Return value:.. 39\n"
     ]
    },
    {
     "data": {
      "text/plain": [
       "39"
      ]
     },
     "execution_count": 244,
     "metadata": {},
     "output_type": "execute_result"
    }
   ],
   "source": [
    "matrixScore_ad([[0,0,1,1],[1,0,1,0],[1,1,0,0]])"
   ]
  },
  {
   "cell_type": "markdown",
   "metadata": {},
   "source": [
    "## Campus Bikes\n",
    "\n",
    "On a campus represented as a 2D grid, there are N workers and M bikes, with N <= M. Each worker and bike is a 2D coordinate on this grid.\n",
    "\n",
    "Our goal is to assign a bike to each worker. Among the available bikes and workers, we choose the (worker, bike) pair with the shortest Manhattan distance between each other, and assign the bike to that worker. (If there are multiple (worker, bike) pairs with the same shortest Manhattan distance, we choose the pair with the smallest worker index; if there are multiple ways to do that, we choose the pair with the smallest bike index). We repeat this process until there are no available workers.\n",
    "\n",
    "The Manhattan distance between two points p1 and p2 is Manhattan(p1, p2) = |p1.x - p2.x| + |p1.y - p2.y|.\n",
    "\n",
    "Return a vector ans of length N, where ans[i] is the index (0-indexed) of the bike that the i-th worker is assigned to.\n",
    "```\n",
    "Input: workers = [[0,0],[2,1]], bikes = [[1,2],[3,3]]\n",
    "Output: [1,0]\n",
    "```\n",
    "Explanation: \n",
    "Worker 1 grabs Bike 0 as they are closest (without ties), and Worker 0 is assigned Bike 1. So the output is [1, 0].\n",
    "\n",
    "```\n",
    "Input: workers = [[0,0],[1,1],[2,0]], bikes = [[1,0],[2,2],[2,1]]\n",
    "Output: [0,2,1]\n",
    "```\n",
    "Explanation: \n",
    "Worker 0 grabs Bike 0 at first. Worker 1 and Worker 2 share the same distance to Bike 2, thus Worker 1 is assigned to Bike 2, and Worker 2 will take Bike 1. So the output is [0,2,1].\n",
    "\n",
    "Note:\n",
    "```\n",
    "0 <= workers[i][j], bikes[i][j] < 1000\n",
    "All worker and bike locations are distinct.\n",
    "1 <= workers.length <= bikes.length <= 1000\n",
    "```"
   ]
  },
  {
   "cell_type": "code",
   "execution_count": 262,
   "metadata": {},
   "outputs": [],
   "source": [
    "def assignBikes(workers, bikes):\n",
    "    distances = []\n",
    "    for i, w in enumerate(workers):\n",
    "        distances.append([])\n",
    "        for j, b in enumerate(bikes):\n",
    "            distances[-1].append((abs(w[0]-b[0])+abs(w[1]-b[1]), i, j))\n",
    "        distances[-1].sort(reverse=True)\n",
    "    # The above time complixty is W * (B log B), where W is the length of workers\n",
    "    # and B is the length of bike.\n",
    "    ans = [None] * len(workers)\n",
    "    used_bikes = set()\n",
    "    queue = [distances[i].pop() for i in range(len(workers))]\n",
    "    import heapq\n",
    "    heapq.heapify(queue)\n",
    "    while len(used_bikes) < len(workers):\n",
    "        # the worst cases for this while loop may run W * B\n",
    "        _, worker, bike = heapq.heappop(queue)\n",
    "        # this tc will be log W\n",
    "        if bike not in used_bikes:\n",
    "            ans[worker] = bike\n",
    "            used_bikes.add(bike)\n",
    "        else:\n",
    "        # this tc will also be log W\n",
    "            heapq.heappush(queue, distances[worker].pop())\n",
    "    return ans\n",
    "    # the total will be W * B (log B + log W)"
   ]
  },
  {
   "cell_type": "code",
   "execution_count": 263,
   "metadata": {},
   "outputs": [
    {
     "data": {
      "text/plain": [
       "[0, 2, 1]"
      ]
     },
     "execution_count": 263,
     "metadata": {},
     "output_type": "execute_result"
    }
   ],
   "source": [
    "assignBikes([[0,0],[1,1],[2,0]],[[1,0],[2,2],[2,1]])"
   ]
  },
  {
   "cell_type": "markdown",
   "metadata": {},
   "source": [
    "## Best Time to Buy and Sell Stock with Transaction Fee\n",
    "\n",
    "Your are given an array of integers prices, for which the i-th element is the price of a given stock on day i; and a non-negative integer fee representing a transaction fee.\n",
    "\n",
    "You may complete as many transactions as you like, but you need to pay the transaction fee for each transaction. You may not buy more than 1 share of a stock at a time (ie. you must sell the stock share before you buy again.)\n",
    "\n",
    "Return the maximum profit you can make.\n",
    "\n",
    "Example 1:\n",
    "```\n",
    "Input: prices = [1, 3, 2, 8, 4, 9], fee = 2\n",
    "Output: 8\n",
    "```\n",
    "Explanation: The maximum profit can be achieved by:\n",
    "```\n",
    "Buying at prices[0] = 1\n",
    "Selling at prices[3] = 8\n",
    "Buying at prices[4] = 4\n",
    "Selling at prices[5] = 9\n",
    "```\n",
    "The total profit is ((8 - 1) - 2) + ((9 - 4) - 2) = 8.\n",
    "Note:\n",
    "\n",
    "0 < prices.length <= 50000.\n",
    "0 < prices[i] < 50000.\n",
    "0 <= fee < 50000."
   ]
  },
  {
   "cell_type": "markdown",
   "metadata": {},
   "source": [
    "* The following concepts may help:\n",
    "* cash = profit, should always be positive\n",
    "* hold = balance, can be negative or positive.\n",
    "\n",
    "1. on i-th day,\n",
    "\n",
    "   * If you do not have a share, your profit is the same as previous day's profit.\n",
    "   * If you hold a share already, you can always get more money when you sell (the prices[i]). But can you earn profit? it depends the balance, so profit = balance + prices[i] - fee when you sell a share on i-th day.\n",
    "   * So on i-th day, max profit = max (profit, balance + prices[i] - fee) (not sell or sell)\n",
    "   * now, we need to know how to calculate balance.\n",
    "\n",
    "2. on i-th day\n",
    "\n",
    "   * If you already have a share, you cannot buy another share, the balance is the same as previous day's balance.\n",
    "   * If you have no share, so you must have profit (may be 0) and we can use profit to buy a share at cost of prices[i]. After buying a share, balance = profit - prices[i]\n",
    "   * So on i-th day, max balance = max(balance, profit - prices[i]. We need maximize balance since we can get more profit when we sell a share.\n",
    "  \n",
    "3. Note:\n",
    "\n",
    "* On a specific day, you either hold a share or not. When you hold a share, we talk about balance. Since you haven't sell you share, we cannot talk about profit.\n",
    "* When you have no share, you must have profit (cash) since you have sold your share.\n",
    "* Why we need calculate profit and balance both each day? Because we don't know the status of each day. To get max profit, we need take account of both situation for each day.\n",
    "* On day one, profit=0 since we have no share to sell. balance = -prices[0] since we need buy a share and we only talk about balance when we have a share.\n",
    "* In the loop, since we calculate profit based on previous balance, so we need calculate today's profit first, then update the balance of today."
   ]
  },
  {
   "cell_type": "code",
   "execution_count": 30,
   "metadata": {},
   "outputs": [],
   "source": [
    "import pysnooper\n",
    "def maxProfit(prices, fee):\n",
    "    profit, balance = 0, -prices[0]\n",
    "    for i in range(1, len(prices)):\n",
    "        profit = max(profit, balance + prices[i] - fee)\n",
    "        balance = max(balance, profit - prices[i])\n",
    "    return profit"
   ]
  },
  {
   "cell_type": "code",
   "execution_count": 32,
   "metadata": {},
   "outputs": [
    {
     "data": {
      "text/plain": [
       "8"
      ]
     },
     "execution_count": 32,
     "metadata": {},
     "output_type": "execute_result"
    }
   ],
   "source": [
    "maxProfit([1, 3, 2, 8, 4, 9], 2)"
   ]
  },
  {
   "cell_type": "markdown",
   "metadata": {},
   "source": [
    "## Find Permutation\n",
    "\n",
    "By now, you are given a secret signature consisting of character 'D' and 'I'. 'D' represents a decreasing relationship between two numbers, 'I' represents an increasing relationship between two numbers. And our secret signature was constructed by a special integer array, which contains uniquely all the different number from 1 to n (n is the length of the secret signature plus 1). For example, the secret signature \"DI\" can be constructed by array [2,1,3] or [3,1,2], but won't be constructed by array [3,2,4] or [2,1,3,4], which are both illegal constructing special string that can't represent the \"DI\" secret signature.\n",
    "\n",
    "On the other hand, now your job is to find the lexicographically smallest permutation of [1, 2, ... n] could refer to the given secret signature in the input.\n",
    "\n",
    "Example 1:\n",
    "```\n",
    "Input: \"I\"\n",
    "Output: [1,2]\n",
    "```\n",
    "Explanation: [1,2] is the only legal initial spectial string can construct secret signature \"I\", where the number 1 and 2 construct an increasing relationship.\n",
    "\n",
    "Example 2:\n",
    "```\n",
    "Input: \"DI\"\n",
    "Output: [2,1,3]\n",
    "```\n",
    "Explanation: Both [2,1,3] and [3,1,2] can construct the secret signature \"DI\", \n",
    "but since we want to find the one with the smallest lexicographical permutation, you need to output [2,1,3]\n",
    "* Note:\n",
    "\n",
    "* The input string will only contain the character 'D' and 'I'.\n",
    "* The length of input string is a positive integer and will not exceed 10,000"
   ]
  },
  {
   "cell_type": "code",
   "execution_count": 53,
   "metadata": {},
   "outputs": [],
   "source": [
    "@pysnooper.snoop()\n",
    "def findPermutation(s):\n",
    "    stack = []\n",
    "    ans = []\n",
    "    for i in range(1, len(s)+1):\n",
    "        stack.append(i)\n",
    "        if s[i-1] == \"I\":\n",
    "            while stack:\n",
    "                tmp = stack.pop()\n",
    "                ans.append(tmp)\n",
    "    stack.append(len(s)+1)\n",
    "    while stack:\n",
    "        tmp = stack.pop()\n",
    "        ans.append(tmp)\n",
    "    return stack, ans"
   ]
  },
  {
   "cell_type": "code",
   "execution_count": 55,
   "metadata": {},
   "outputs": [
    {
     "name": "stderr",
     "output_type": "stream",
     "text": [
      "    Starting var:.. s = 'IIDI'\n",
      "    11:52:54.335170 call         2 def findPermutation(s):\n",
      "    11:52:54.335282 line         3     stack = []\n",
      "    New var:....... stack = []\n",
      "    11:52:54.335400 line         4     ans = []\n",
      "    New var:....... ans = []\n",
      "    11:52:54.335529 line         5     for i in range(1, len(s)+1):\n",
      "    New var:....... i = 1\n",
      "    11:52:54.335697 line         6         stack.append(i)\n",
      "    Modified var:.. stack = [1]\n",
      "    11:52:54.335830 line         7         if s[i-1] == \"I\":\n",
      "    11:52:54.335929 line         8             while stack:\n",
      "    11:52:54.336032 line         9                 tmp = stack.pop()\n",
      "    Modified var:.. stack = []\n",
      "    New var:....... tmp = 1\n",
      "    11:52:54.336201 line        10                 ans.append(tmp)\n",
      "    Modified var:.. ans = [1]\n",
      "    11:52:54.336356 line         8             while stack:\n",
      "    11:52:54.336458 line         5     for i in range(1, len(s)+1):\n",
      "    Modified var:.. i = 2\n",
      "    11:52:54.336611 line         6         stack.append(i)\n",
      "    Modified var:.. stack = [2]\n",
      "    11:52:54.336772 line         7         if s[i-1] == \"I\":\n",
      "    11:52:54.336862 line         8             while stack:\n",
      "    11:52:54.336936 line         9                 tmp = stack.pop()\n",
      "    Modified var:.. stack = []\n",
      "    Modified var:.. tmp = 2\n",
      "    11:52:54.337079 line        10                 ans.append(tmp)\n",
      "    Modified var:.. ans = [1, 2]\n",
      "    11:52:54.337258 line         8             while stack:\n",
      "    11:52:54.337379 line         5     for i in range(1, len(s)+1):\n",
      "    Modified var:.. i = 3\n",
      "    11:52:54.337595 line         6         stack.append(i)\n",
      "    Modified var:.. stack = [3]\n",
      "    11:52:54.337684 line         7         if s[i-1] == \"I\":\n",
      "    11:52:54.337750 line         5     for i in range(1, len(s)+1):\n",
      "    Modified var:.. i = 4\n",
      "    11:52:54.337837 line         6         stack.append(i)\n",
      "    Modified var:.. stack = [3, 4]\n",
      "    11:52:54.337923 line         7         if s[i-1] == \"I\":\n",
      "    11:52:54.338008 line         8             while stack:\n",
      "    11:52:54.338081 line         9                 tmp = stack.pop()\n",
      "    Modified var:.. stack = [3]\n",
      "    Modified var:.. tmp = 4\n",
      "    11:52:54.338185 line        10                 ans.append(tmp)\n",
      "    Modified var:.. ans = [1, 2, 4]\n",
      "    11:52:54.338270 line         8             while stack:\n",
      "    11:52:54.338335 line         9                 tmp = stack.pop()\n",
      "    Modified var:.. stack = []\n",
      "    Modified var:.. tmp = 3\n",
      "    11:52:54.338438 line        10                 ans.append(tmp)\n",
      "    Modified var:.. ans = [1, 2, 4, 3]\n",
      "    11:52:54.338554 line         8             while stack:\n",
      "    11:52:54.338622 line         5     for i in range(1, len(s)+1):\n",
      "    11:52:54.338687 line        11     stack.append(len(s)+1)\n",
      "    Modified var:.. stack = [5]\n",
      "    11:52:54.338775 line        12     while stack:\n",
      "    11:52:54.338842 line        13         tmp = stack.pop()\n",
      "    Modified var:.. stack = []\n",
      "    Modified var:.. tmp = 5\n",
      "    11:52:54.338967 line        14         ans.append(tmp)\n",
      "    Modified var:.. ans = [1, 2, 4, 3, 5]\n",
      "    11:52:54.339148 line        12     while stack:\n",
      "    11:52:54.339252 line        15     return stack, ans\n",
      "    11:52:54.339346 return      15     return stack, ans\n",
      "    Return value:.. ([], [1, 2, 4, 3, 5])\n"
     ]
    },
    {
     "data": {
      "text/plain": [
       "([], [1, 2, 4, 3, 5])"
      ]
     },
     "execution_count": 55,
     "metadata": {},
     "output_type": "execute_result"
    }
   ],
   "source": [
    "findPermutation(\"IIDI\")"
   ]
  },
  {
   "cell_type": "code",
   "execution_count": null,
   "metadata": {},
   "outputs": [],
   "source": []
  },
  {
   "cell_type": "code",
   "execution_count": null,
   "metadata": {},
   "outputs": [],
   "source": []
  }
 ],
 "metadata": {
  "kernelspec": {
   "display_name": "Python 3",
   "language": "python",
   "name": "python3"
  },
  "language_info": {
   "codemirror_mode": {
    "name": "ipython",
    "version": 3
   },
   "file_extension": ".py",
   "mimetype": "text/x-python",
   "name": "python",
   "nbconvert_exporter": "python",
   "pygments_lexer": "ipython3",
   "version": "3.6.6"
  }
 },
 "nbformat": 4,
 "nbformat_minor": 4
}
