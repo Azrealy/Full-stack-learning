{
 "cells": [
  {
   "cell_type": "markdown",
   "metadata": {},
   "source": [
    "# Redundant Connection\n",
    "\n",
    "In this problem, a tree is an undirected graph that is connected and has no cycles.\n",
    "\n",
    "The given input is a graph that started as a tree with N nodes (with distinct values 1, 2, ..., N), with one additional edge added. The added edge has two different vertices chosen from 1 to N, and was not an edge that already existed.\n",
    "\n",
    "The resulting graph is given as a 2D-array of edges. Each element of edges is a pair [u, v] with u < v, that represents an undirected edge connecting nodes u and v.\n",
    "\n",
    "Return an edge that can be removed so that the resulting graph is a tree of N nodes. If there are multiple answers, return the answer that occurs last in the given 2D-array. The answer edge [u, v] should be in the same format, with u < v.\n",
    "\n",
    "Example 1:\n",
    "```bash\n",
    "Input: [[1,2], [1,3], [2,3]]\n",
    "Output: [2,3]\n",
    "Explanation: The given undirected graph will be like this:\n",
    "  1\n",
    " / \\\n",
    "2 - 3\n",
    "```\n",
    "Example 2:\n",
    "```bash\n",
    "Input: [[1,2], [2,3], [3,4], [1,4], [1,5]]\n",
    "Output: [1,4]\n",
    "Explanation: The given undirected graph will be like this:\n",
    "5 - 1 - 2\n",
    "    |   |\n",
    "    4 - 3\n",
    "```\n",
    "Note:\n",
    "* The size of the input 2D-array will be between 3 and 1000.\n",
    "* Every integer represented in the 2D-array will be between 1 and N, where N is the size of the input array."
   ]
  },
  {
   "cell_type": "code",
   "execution_count": 44,
   "metadata": {},
   "outputs": [],
   "source": [
    "import collections\n",
    "class Solution(object):\n",
    "    def findRedundantConnection(self, edges):\n",
    "        \"\"\"\n",
    "        :type edges: List[List[int]]\n",
    "        :rtype: List[int]\n",
    "        \"\"\"\n",
    "        graph = collections.defaultdict(set)\n",
    "\n",
    "        def dfs(source, target):\n",
    "            print(seen)\n",
    "            if source not in seen:\n",
    "                seen.add(source)\n",
    "                if source == target: return True\n",
    "                return any(dfs(nei, target) for nei in graph[source])\n",
    "\n",
    "        for u, v in edges:\n",
    "            seen = set()\n",
    "            if u in graph and v in graph and dfs(u, v):\n",
    "                return u, v\n",
    "            graph[u].add(v)\n",
    "            graph[v].add(u)\n",
    "            print(graph)"
   ]
  },
  {
   "cell_type": "markdown",
   "metadata": {},
   "source": [
    "A **disjoint-set data** structure is a data structure that keeps track of a set of elements partitioned into a number of **disjoint (non-overlapping) subsets**. A **union-find** algorithm is an algorithm that performs two useful operations on such a data structure:\n",
    "\n",
    "* Find: Determine which subset a particular element is in. This can be used for determining if two elements are in the same subset.\n",
    "\n",
    "* Union: Join two subsets into a single subset.\n",
    "\n",
    "Use Union-Find Algorithm can be used to check whether an undirected graph contains cycle or not."
   ]
  },
  {
   "cell_type": "code",
   "execution_count": 219,
   "metadata": {},
   "outputs": [],
   "source": [
    "from collections import defaultdict\n",
    "\n",
    "class Graph:\n",
    "    def __init__(self, vertice_list):\n",
    "        self.vertice_list = vertice_list\n",
    "        self.parent = [-1] * len(vertice_list)\n",
    "        self.graph = defaultdict(list)\n",
    "        \n",
    "    def addEdge(self, vertice_a, vertice_b):\n",
    "        # make vertice a as the parent node.\n",
    "        # graph: {\"vertice_a\": [\"other vertices\"..]}\n",
    "        if vertice_a in self.vertice_list and vertice_b in self.vertice_list:\n",
    "            self.graph[vertice_a].append(vertice_b)\n",
    "            self.union(vertice_a, vertice_b)\n",
    "        else:\n",
    "            print(\"Input vertice number is not include in the list.\")\n",
    "\n",
    "    def find_parent(self, subset):\n",
    "        # i present the index of array\n",
    "        if self.parent[self.vertice_list.index(subset)] == -1:\n",
    "            # parent have not edges\n",
    "            return subset\n",
    "        else:\n",
    "            return self.find_parent(self.parent[self.vertice_list.index(subset)])\n",
    "        \n",
    "    def union(self, subset_x, subset_y):\n",
    "        parent_x = self.find_parent(subset_x)\n",
    "        parent_y = self.find_parent(subset_y)\n",
    "        self.parent[self.vertice_list.index(parent_x)] = parent_y\n",
    "    \n",
    "    def is_cyclic(self):\n",
    "        for index, node in enumerate(self.vertice_list):\n",
    "            parent_node = self.parent[index]\n",
    "            if node == parent_node:\n",
    "                return True\n",
    "        return False\n",
    "            "
   ]
  },
  {
   "cell_type": "code",
   "execution_count": 220,
   "metadata": {},
   "outputs": [
    {
     "data": {
      "text/plain": [
       "[-1, -1, -1]"
      ]
     },
     "execution_count": 220,
     "metadata": {},
     "output_type": "execute_result"
    }
   ],
   "source": [
    "g = Graph([0, 1, 2])\n",
    "g.parent"
   ]
  },
  {
   "cell_type": "markdown",
   "metadata": {},
   "source": [
    "Initially, all slots of parent array are initialized to -1 (means there is only one item in every subset).\n",
    "```\n",
    " 0  1  2 \n",
    "-1 -1 -1 \n",
    "```\n",
    "Now process all edges one by one."
   ]
  },
  {
   "cell_type": "code",
   "execution_count": 221,
   "metadata": {},
   "outputs": [
    {
     "data": {
      "text/plain": [
       "[1, -1, -1]"
      ]
     },
     "execution_count": 221,
     "metadata": {},
     "output_type": "execute_result"
    }
   ],
   "source": [
    "g.addEdge(0, 1)\n",
    "g.parent"
   ]
  },
  {
   "cell_type": "markdown",
   "metadata": {},
   "source": [
    "Edge 0-1: Find the subsets in which vertices 0 and 1 are. Since they are in different subsets, we take the union of them. For taking the union, either make node 0 as parent of node 1 or vice-versa.\n",
    "```\n",
    " 0  1  2  <-- 1 is made parent of 0 (1 is now representative of subset {0, 1})\n",
    " 1 -1 -1 \n",
    "```"
   ]
  },
  {
   "cell_type": "code",
   "execution_count": 222,
   "metadata": {},
   "outputs": [
    {
     "data": {
      "text/plain": [
       "[1, 2, -1]"
      ]
     },
     "execution_count": 222,
     "metadata": {},
     "output_type": "execute_result"
    }
   ],
   "source": [
    "g.addEdge(1, 2)\n",
    "g.parent"
   ]
  },
  {
   "cell_type": "markdown",
   "metadata": {},
   "source": [
    "Edge 1-2: 1 is in subset {1, 0} and 2 is in subset 2. So, take union.\n",
    "```\n",
    "0   1   2    <----- 2 is made parent of 1 (2 is now representative of subset {0, 1, 2})\n",
    "1   2  -1\n",
    "```"
   ]
  },
  {
   "cell_type": "markdown",
   "metadata": {},
   "source": [
    "Edge 0-2: 0 is in subset 2 and 2 is also in subset 2. Hence, including this edge forms a cycle."
   ]
  },
  {
   "cell_type": "code",
   "execution_count": 213,
   "metadata": {},
   "outputs": [
    {
     "data": {
      "text/plain": [
       "[1, 2, 2]"
      ]
     },
     "execution_count": 213,
     "metadata": {},
     "output_type": "execute_result"
    }
   ],
   "source": [
    "g.addEdge(0, 2)\n",
    "g.parent"
   ]
  },
  {
   "cell_type": "markdown",
   "metadata": {},
   "source": [
    "0->1->2 // 1 is parent of 0 and 2 is parent of 1"
   ]
  },
  {
   "cell_type": "code",
   "execution_count": null,
   "metadata": {},
   "outputs": [],
   "source": []
  }
 ],
 "metadata": {
  "kernelspec": {
   "display_name": "Python 3",
   "language": "python",
   "name": "python3"
  },
  "language_info": {
   "codemirror_mode": {
    "name": "ipython",
    "version": 3
   },
   "file_extension": ".py",
   "mimetype": "text/x-python",
   "name": "python",
   "nbconvert_exporter": "python",
   "pygments_lexer": "ipython3",
   "version": "3.6.5"
  }
 },
 "nbformat": 4,
 "nbformat_minor": 2
}
