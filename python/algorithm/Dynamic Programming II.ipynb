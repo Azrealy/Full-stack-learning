{
 "cells": [
  {
   "cell_type": "markdown",
   "metadata": {},
   "source": [
    "# Dynamic Programming\n",
    "\n",
    "This notebook assembles the advanced dynamic programing problem to helpe summerize the pattern of solution same familiar problem.\n",
    "\n",
    "# Coin Change II\n",
    "\n",
    "You are given coins of different denominations and a total amount of money. Write a function to compute the number of combinations that make up that amount. You may assume that you have infinite number of each kind of coin.\n",
    "\n",
    "**Example 1:**\n",
    "```py\n",
    "Input: amount = 5, coins = [1, 2, 5]\n",
    "Output: 4\n",
    "Explanation: there are four ways to make up the amount:\n",
    "5=5\n",
    "5=2+2+1\n",
    "5=2+1+1+1\n",
    "5=1+1+1+1+1\n",
    "```\n",
    "**Example 2:**\n",
    "```py\n",
    "Input: amount = 3, coins = [2]\n",
    "Output: 0\n",
    "Explanation: the amount of 3 cannot be made up just with coins of 2.\n",
    "```\n",
    "**Example 3:**\n",
    "```py\n",
    "Input: amount = 10, coins = [10] \n",
    "Output: 1\n",
    "```\n",
    "\n",
    "Here, I would like to follow the steps be introduced on Dynamic programming I. When we think the problem can be solved the use the dynamic programming approach, the first thing we need to come up in mind is to determine the recursion relation of the subproblems. Sometimes, think the subproblem through the arguments can be a good start.\n",
    "\n",
    "Compare this problem to the coin change I, the different is about our output, here we need to output the number of combinations that make up that amount. But our subproblem will have the same situation:\n",
    "\n",
    "1. Use the first denomination of the coin, to decrease our amount and recursion our function with a new amount and same coin set.\n",
    "2. Not use the first coin on the coins set, recursion our function with the new coins set and the same amount.\n",
    "\n",
    "Our relation can be write as `F(coins, amount) = F(coins[1:], amount) + F(coins, amount-coins[0])`. Which `F(coins, amount)` means the number of combinations with the `coins` that can make up the `amount`."
   ]
  },
  {
   "cell_type": "code",
   "execution_count": 1,
   "metadata": {},
   "outputs": [],
   "source": [
    "def naive_make_change(amount, coins):\n",
    "    # base case is the amount == 0 and coins set is empty\n",
    "    if amount == 0:\n",
    "        return 1\n",
    "    if not coins:\n",
    "        return 0\n",
    "    \n",
    "    if amount < coins[0]:\n",
    "        # if amount is bigger than our the first denomination on our coins set,\n",
    "        # we need to skip it as it can not help us to change our amount.\n",
    "        return naive_make_change(amount, coins[1:])\n",
    "    \n",
    "    # when the first coin on our coins set can be use to change,\n",
    "    # we have two choice to do:\n",
    "    # 1. not use the first coin, skip it use the remain coins set to change our amount\n",
    "    # 2. use the first coin, the amount decrease by its denomination. and for us can\n",
    "    # use the first coin again, not change our coin sets.\n",
    "    return naive_make_change(amount, coins[1:]) + naive_make_change(amount-coins[0], coins)"
   ]
  },
  {
   "cell_type": "code",
   "execution_count": 2,
   "metadata": {},
   "outputs": [
    {
     "data": {
      "text/plain": [
       "4"
      ]
     },
     "execution_count": 2,
     "metadata": {},
     "output_type": "execute_result"
    }
   ],
   "source": [
    "naive_make_change(5, [1, 2, 5])"
   ]
  },
  {
   "cell_type": "code",
   "execution_count": 3,
   "metadata": {},
   "outputs": [
    {
     "data": {
      "text/plain": [
       "0.025828660996921826"
      ]
     },
     "execution_count": 3,
     "metadata": {},
     "output_type": "execute_result"
    }
   ],
   "source": [
    "import timeit\n",
    "timeit.timeit('naive_make_change(5, [1, 2, 5])', number=1000, globals=globals())"
   ]
  },
  {
   "cell_type": "markdown",
   "metadata": {},
   "source": [
    "The sultion above is our recursion one, which will accumulate the call stack. Our time complexity : `O(2 ^ S+n)`. where S is the amount, n is denomination count. We can use cache to improve our time complexity. Our space complexity is `O(S+n)`."
   ]
  },
  {
   "cell_type": "code",
   "execution_count": 4,
   "metadata": {},
   "outputs": [],
   "source": [
    "def memo_make_change(amount, coins, memo={}):\n",
    "    if amount == 0:\n",
    "        return 1\n",
    "    if not coins:\n",
    "        return 0\n",
    "    \n",
    "    if amount < coins[0]:\n",
    "        return memo_make_change(amount, coins[1:], memo)\n",
    "    \n",
    "    if (amount, coins[0]) in memo:\n",
    "        return memo[(amount, coins[0])]\n",
    "    ans = memo_make_change(amount, coins[1:], memo) + memo_make_change(amount-coins[0], coins, memo)\n",
    "    memo[(amount, coins[0])] = ans\n",
    "    return ans"
   ]
  },
  {
   "cell_type": "code",
   "execution_count": 5,
   "metadata": {},
   "outputs": [
    {
     "data": {
      "text/plain": [
       "4"
      ]
     },
     "execution_count": 5,
     "metadata": {},
     "output_type": "execute_result"
    }
   ],
   "source": [
    "memo_make_change(5, [1, 2, 5])"
   ]
  },
  {
   "cell_type": "code",
   "execution_count": 6,
   "metadata": {},
   "outputs": [
    {
     "data": {
      "text/plain": [
       "0.0016042499992181547"
      ]
     },
     "execution_count": 6,
     "metadata": {},
     "output_type": "execute_result"
    }
   ],
   "source": [
    "timeit.timeit('memo_make_change(5, [1, 2, 5])', number=1000, globals=globals())"
   ]
  },
  {
   "cell_type": "markdown",
   "metadata": {},
   "source": [
    "So we can easy think of our subproblem from the arguments. Create a table for our subproblems, the row use the `coins set` argument, and the columns use our `ammount` argument. (I use the example 1 as our specifial condition for find the subproblem realtionship.\n",
    "\n",
    "coins/amount | 0 | 1 | 2 | 3 | 4 | 5 \n",
    "--|--|--|--|--|--|--\n",
    "[]|1|0|0|0|0|0\n",
    "[1]|1|1|1|1|1|1\n",
    "[1,2]|1|1|2|2|3|3\n",
    "[1,2,5]|1|1|2|2|3|4\n",
    "\n",
    "We can notice that, our subproblem on the table can be difined as `table[coins_row][amount] = table[coins_row-1][amount] + table[coins_row][amount-c_i]`, where `c_i` means to the current coins_row's new added denomination. And if new added denomination is bigger thange the amount our `table[coins_row][amount] = table[coins_row-1][amount]`."
   ]
  },
  {
   "cell_type": "code",
   "execution_count": 23,
   "metadata": {},
   "outputs": [],
   "source": [
    "def bottom_up_make_change(amount, coins):\n",
    "    # Creat the table, row is sub coins set. col is our amount.\n",
    "    # Our row length will go to amount + 1, as we will conside the situration\n",
    "    # that amount is 0, when no matter what our coins set going to be.\n",
    "    # the our result will always be 1. Means change amount 0, there at least have 1\n",
    "    # possible to get change.\n",
    "    dp = [[1 if i == 0 else 0 for i in range(amount+1)] for _ in range(len(coins))]\n",
    "    for a in range(1, amount+1):\n",
    "        if coins[0] <= a:\n",
    "            dp[0][a] = dp[0][a-coins[0]]\n",
    "    \n",
    "    for coin_row in range(1, len(coins)):\n",
    "        for a in range(1, amount+1):\n",
    "            if coins[coin_row] <= a:\n",
    "                # Our coin can be use to change our amount `a`.\n",
    "                dp[coin_row][a] = dp[coin_row-1][a] + dp[coin_row][a - coins[coin_row]]\n",
    "            else:\n",
    "                # Our current coin can not use to change our amount `a`.\n",
    "                dp[coin_row][a] = dp[coin_row-1][a]\n",
    "    return dp[-1][-1]"
   ]
  },
  {
   "cell_type": "code",
   "execution_count": 24,
   "metadata": {},
   "outputs": [
    {
     "data": {
      "text/plain": [
       "4"
      ]
     },
     "execution_count": 24,
     "metadata": {},
     "output_type": "execute_result"
    }
   ],
   "source": [
    "bottom_up_make_change(5, [1, 2, 5])"
   ]
  },
  {
   "cell_type": "code",
   "execution_count": 25,
   "metadata": {},
   "outputs": [
    {
     "data": {
      "text/plain": [
       "0.027406285000324715"
      ]
     },
     "execution_count": 25,
     "metadata": {},
     "output_type": "execute_result"
    }
   ],
   "source": [
    "timeit.timeit('bottom_up_make_change(5, [1, 2, 5])', number=1000, globals=globals())"
   ]
  },
  {
   "cell_type": "markdown",
   "metadata": {},
   "source": [
    "Our time complexity is `O(n*s)` n is the number of denomination, s is amount. And the space complexity is `O(n*s)`. We can improve our space complexity. Thougth our subproblem table, is show us that the current rows is cacluted from the previous row of result. Which means we can improve it with a only row which can be `O(n)` space complexity."
   ]
  },
  {
   "cell_type": "code",
   "execution_count": 34,
   "metadata": {},
   "outputs": [],
   "source": [
    "def bottom_up_make_change_one_row(amount, coins):\n",
    "    if amount == 0:\n",
    "        return 1\n",
    "    if not coins:\n",
    "        return 0\n",
    "    dp = [1 if i == 0 else 0 for i in range(amount+1)]\n",
    "    for coin_id in range(len(coins)):\n",
    "        for a in range(coins[coin_id], amount+1):\n",
    "            dp[a] += dp[a - coins[coin_id]]\n",
    "    return dp[-1]"
   ]
  },
  {
   "cell_type": "code",
   "execution_count": 35,
   "metadata": {},
   "outputs": [
    {
     "data": {
      "text/plain": [
       "4"
      ]
     },
     "execution_count": 35,
     "metadata": {},
     "output_type": "execute_result"
    }
   ],
   "source": [
    "bottom_up_make_change_one_row(5, [1, 2, 5])"
   ]
  },
  {
   "cell_type": "code",
   "execution_count": 36,
   "metadata": {},
   "outputs": [
    {
     "data": {
      "text/plain": [
       "0.013098011004331056"
      ]
     },
     "execution_count": 36,
     "metadata": {},
     "output_type": "execute_result"
    }
   ],
   "source": [
    "timeit.timeit('bottom_up_make_change_one_row(5, [1, 2, 5])', number=1000, globals=globals())"
   ]
  },
  {
   "cell_type": "markdown",
   "metadata": {},
   "source": [
    "# Decode Way\n",
    "A message containing letters from A-Z is being encoded to numbers using the following mapping:\n",
    "```\n",
    "'A' -> 1\n",
    "'B' -> 2\n",
    "...\n",
    "'Z' -> 26\n",
    "```\n",
    "Given a non-empty string containing only digits, determine the total number of ways to decode it.\n",
    "\n",
    "**Example 1:**\n",
    "```py\n",
    "Input: \"12\"\n",
    "Output: 2\n",
    "Explanation: It could be decoded as \"AB\" (1 2) or \"L\" (12).\n",
    "```\n",
    "**Example 2:**\n",
    "```py\n",
    "Input: \"226\"\n",
    "Output: 3\n",
    "Explanation: It could be decoded as \"BZ\" (2 26), \"VF\" (22 6), or \"BBF\" (2 2 6).\n",
    "```\n",
    "Our recursion conditions can be write as following.\n",
    "1. Choice a single character to decode, and if it's zero we will return 0, as we can not decode string like `120`.\n",
    "2. Choice two characters to decode, this time two characters need smaller than 26. As we can not decode string `36` to a single character."
   ]
  },
  {
   "cell_type": "code",
   "execution_count": 41,
   "metadata": {},
   "outputs": [],
   "source": [
    "def numDecodings(s):\n",
    "    if not s:\n",
    "        return 1\n",
    "    if int(s[0]) == 0:\n",
    "        return 0\n",
    "    if len(s) > 1 and int(s[0:2]) <= 26:\n",
    "        return numDecodings(s[1:]) + numDecodings(s[2:])\n",
    "    \n",
    "    else:\n",
    "        return numDecodings(s[1:])"
   ]
  },
  {
   "cell_type": "code",
   "execution_count": 43,
   "metadata": {},
   "outputs": [
    {
     "data": {
      "text/plain": [
       "3"
      ]
     },
     "execution_count": 43,
     "metadata": {},
     "output_type": "execute_result"
    }
   ],
   "source": [
    "numDecodings(\"121\")"
   ]
  },
  {
   "cell_type": "markdown",
   "metadata": {},
   "source": [
    "Time complexity will be `O(2^n)` and space is `O(n)`.\n",
    "\n",
    "Using memorization to decrease the time complexity to `O(n)`."
   ]
  },
  {
   "cell_type": "code",
   "execution_count": 44,
   "metadata": {},
   "outputs": [],
   "source": [
    "def memo_numDecodings(s, memo={}):\n",
    "    if not s:\n",
    "        return 1\n",
    "    if int(s[0]) == 0:\n",
    "        return 0\n",
    "    if s in memo:\n",
    "        return memo[s]\n",
    "    if len(s) > 1 and int(s[0:2]) <= 26:\n",
    "        ans = numDecodings(s[1:]) + numDecodings(s[2:])\n",
    "        memo[s] = ans\n",
    "        return ans\n",
    "    else:\n",
    "        ans = numDecodings(s[1:])\n",
    "        memo[s] = ans\n",
    "        return ans"
   ]
  },
  {
   "cell_type": "code",
   "execution_count": 45,
   "metadata": {},
   "outputs": [
    {
     "data": {
      "text/plain": [
       "3"
      ]
     },
     "execution_count": 45,
     "metadata": {},
     "output_type": "execute_result"
    }
   ],
   "source": [
    "memo_numDecodings(\"1201020112\")"
   ]
  },
  {
   "cell_type": "code",
   "execution_count": 46,
   "metadata": {},
   "outputs": [
    {
     "data": {
      "text/plain": [
       "0.001405659000738524"
      ]
     },
     "execution_count": 46,
     "metadata": {},
     "output_type": "execute_result"
    }
   ],
   "source": [
    "timeit.timeit('memo_numDecodings(\"1123123123\")', number=1000, globals=globals())"
   ]
  },
  {
   "cell_type": "markdown",
   "metadata": {},
   "source": [
    "Our bottom up approach will be like, if we consider our sub-string is accumulate for the \"\" to `string` we will have the following table.\n",
    "example `123`\n",
    "\n",
    "sub-string|count\n",
    "--|--|\n",
    "\"\"|1\n",
    "\"3\"|1\n",
    "\"23\"|1+1 = 2\n",
    "\"123\"|2+1 = 3\n",
    "\n",
    "We can define our recursion relation use `F(n)` which means the ways of decode the string from `n to len(string)-1`. `F(n) = F(n-1) + F(n-2)` when the two string can be smaller than `26`. Otherwise, `F(n) = F(n-1)`."
   ]
  },
  {
   "cell_type": "code",
   "execution_count": 47,
   "metadata": {},
   "outputs": [],
   "source": [
    "def bottom_up_numDecodings(s):\n",
    "    if not s:\n",
    "        return 1\n",
    "    s = s[::-1]\n",
    "    dp = [0 for _ in range(len(s)+1)]\n",
    "    dp[0] = 1\n",
    "    for i in range(1, len(s) + 1):\n",
    "        if i == 1:\n",
    "            dp[i] = 1 if s[i-1] != \"0\" else 0\n",
    "        elif s[i-1] == \"0\":\n",
    "            dp[i] = 0\n",
    "        elif int(s[i-1] + s[i-2]) <= 26:\n",
    "            dp[i] = dp[i-1] + dp[i-2]\n",
    "        else:\n",
    "            dp[i] = dp[i-1]\n",
    "    return dp[-1]"
   ]
  },
  {
   "cell_type": "code",
   "execution_count": 48,
   "metadata": {},
   "outputs": [
    {
     "data": {
      "text/plain": [
       "3"
      ]
     },
     "execution_count": 48,
     "metadata": {},
     "output_type": "execute_result"
    }
   ],
   "source": [
    "bottom_up_numDecodings(\"1201020112\")"
   ]
  },
  {
   "cell_type": "code",
   "execution_count": 49,
   "metadata": {},
   "outputs": [
    {
     "data": {
      "text/plain": [
       "0.023771116000716574"
      ]
     },
     "execution_count": 49,
     "metadata": {},
     "output_type": "execute_result"
    }
   ],
   "source": [
    "timeit.timeit('bottom_up_numDecodings(\"1123123123\")', number=1000, globals=globals())"
   ]
  },
  {
   "cell_type": "markdown",
   "metadata": {},
   "source": [
    "Our function `F(n)` only consider about the two previous value `F(n-1)` and `F(n-2)`, our function can use time complexity is `O(1)`."
   ]
  },
  {
   "cell_type": "code",
   "execution_count": 50,
   "metadata": {},
   "outputs": [],
   "source": [
    "def bottom_up_numDecodings_one_row(s):\n",
    "    if not s:\n",
    "        return 1\n",
    "    # Initial the varible, is mean when the str(s)\n",
    "    pre = 1\n",
    "    cur = 0\n",
    "    for i in range(len(s)-1, -1, -1):\n",
    "        if i == len(s)-1:\n",
    "            cur = 1 if s[i] != \"0\" else 0\n",
    "        elif s[i] == \"0\":\n",
    "            pre = cur\n",
    "            cur = 0\n",
    "        elif int(s[i] + s[i+1]) <= 26:\n",
    "            pre, cur = cur, cur + pre\n",
    "        else:\n",
    "            pre = cur\n",
    "    return cur"
   ]
  },
  {
   "cell_type": "code",
   "execution_count": 51,
   "metadata": {},
   "outputs": [
    {
     "data": {
      "text/plain": [
       "0.01660409799660556"
      ]
     },
     "execution_count": 51,
     "metadata": {},
     "output_type": "execute_result"
    }
   ],
   "source": [
    "timeit.timeit('bottom_up_numDecodings_one_row(\"1123123123\")', number=1000, globals=globals())"
   ]
  }
 ],
 "metadata": {
  "kernelspec": {
   "display_name": "Python 3",
   "language": "python",
   "name": "python3"
  },
  "language_info": {
   "codemirror_mode": {
    "name": "ipython",
    "version": 3
   },
   "file_extension": ".py",
   "mimetype": "text/x-python",
   "name": "python",
   "nbconvert_exporter": "python",
   "pygments_lexer": "ipython3",
   "version": "3.6.6"
  }
 },
 "nbformat": 4,
 "nbformat_minor": 2
}
