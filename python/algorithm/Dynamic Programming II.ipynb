{
 "cells": [
  {
   "cell_type": "markdown",
   "metadata": {},
   "source": [
    "# Dynamic Programming\n",
    "\n",
    "This notebook assembles the advanced dynamic programing problem to helpe summerize the pattern of solution same familiar problem.\n",
    "\n",
    "# Coin Change II\n",
    "\n",
    "You are given coins of different denominations and a total amount of money. Write a function to compute the number of combinations that make up that amount. You may assume that you have infinite number of each kind of coin.\n",
    "\n",
    "**Example 1:**\n",
    "```py\n",
    "Input: amount = 5, coins = [1, 2, 5]\n",
    "Output: 4\n",
    "Explanation: there are four ways to make up the amount:\n",
    "5=5\n",
    "5=2+2+1\n",
    "5=2+1+1+1\n",
    "5=1+1+1+1+1\n",
    "```\n",
    "**Example 2:**\n",
    "```py\n",
    "Input: amount = 3, coins = [2]\n",
    "Output: 0\n",
    "Explanation: the amount of 3 cannot be made up just with coins of 2.\n",
    "```\n",
    "**Example 3:**\n",
    "```py\n",
    "Input: amount = 10, coins = [10] \n",
    "Output: 1\n",
    "```\n",
    "\n",
    "As the steps using in the Dynamic programming I, when we encounter those dynamic programming, the first step is to determine the recursion relation of the the subproblems. The entrtpiont for us to come up with our subproblem is the arguments on the example. In common, the arguments determine the memorize cahe dimension we need.\n",
    "\n",
    "The coin change II has two arguments that used to describe the problem. So we can easy think of our subproblem from the arguments. Create a table for our subproblems, the row use the `coins set` argument, and the columns use our `ammount` argument. (I use the example 1 as our specifial condition for find the subproblem realtionship.\n",
    "\n",
    "coins/amount | 0 | 1 | 2 | 3 | 4 | 5 \n",
    "--|--|--|--|--|--|--\n",
    "[]|1|0|0|0|0|0\n",
    "[1]|1|1|1|1|1|1\n",
    "[1,2]|1|1|2"
   ]
  },
  {
   "cell_type": "code",
   "execution_count": 69,
   "metadata": {},
   "outputs": [],
   "source": [
    "def naive_make_change(amount, coins):\n",
    "    # base case is the amount == 0 and coins set is empty\n",
    "    if amount == 0:\n",
    "        return 1\n",
    "    if not coins:\n",
    "        return 0\n",
    "    \n",
    "    if amount < coins[0]:\n",
    "        # if amount is bigger than our the first denomination on our coins set,\n",
    "        # we need to skip it as it can not help us to change our amount.\n",
    "        return naive_make_change(amount, coins[1:])\n",
    "    \n",
    "    # when the first coin on our coins set can be use to change,\n",
    "    # we have two choice to do:\n",
    "    # 1. not use the first coin, skip it use the remain coins set to change our amount\n",
    "    # 2. use the first coin, the amount decrease by its denomination. and for us can\n",
    "    # use the first coin again, not change our coin sets.\n",
    "    return naive_make_change(amount, coins[1:]) + naive_make_change(amount-coins[0], coins)"
   ]
  },
  {
   "cell_type": "code",
   "execution_count": 70,
   "metadata": {},
   "outputs": [
    {
     "data": {
      "text/plain": [
       "4"
      ]
     },
     "execution_count": 70,
     "metadata": {},
     "output_type": "execute_result"
    }
   ],
   "source": [
    "naive_make_change(5, [1, 2, 5])"
   ]
  },
  {
   "cell_type": "code",
   "execution_count": 71,
   "metadata": {},
   "outputs": [
    {
     "data": {
      "text/plain": [
       "0.007942766998894513"
      ]
     },
     "execution_count": 71,
     "metadata": {},
     "output_type": "execute_result"
    }
   ],
   "source": [
    "import timeit\n",
    "timeit.timeit('naive_make_change(5, [1, 2, 5])', number=1000, globals=globals())"
   ]
  },
  {
   "cell_type": "code",
   "execution_count": 72,
   "metadata": {},
   "outputs": [],
   "source": [
    "def memo_make_change(amount, coins, memo={}):\n",
    "    if amount == 0:\n",
    "        return 1\n",
    "    if not coins:\n",
    "        return 0\n",
    "    \n",
    "    if amount < coins[0]:\n",
    "        return memo_make_change(amount, coins[1:], memo)\n",
    "    \n",
    "    if (amount, coins[0]) in memo:\n",
    "        return memo[(amount, coins[0])]\n",
    "    ans = memo_make_change(amount, coins[1:], memo) + memo_make_change(amount-coins[0], coins, memo)\n",
    "    memo[(amount, coins[0])] = ans\n",
    "    return ans"
   ]
  },
  {
   "cell_type": "code",
   "execution_count": 73,
   "metadata": {},
   "outputs": [
    {
     "data": {
      "text/plain": [
       "4"
      ]
     },
     "execution_count": 73,
     "metadata": {},
     "output_type": "execute_result"
    }
   ],
   "source": [
    "memo_make_change(5, [1, 2, 5])"
   ]
  },
  {
   "cell_type": "code",
   "execution_count": 74,
   "metadata": {},
   "outputs": [
    {
     "data": {
      "text/plain": [
       "0.0004568040603771806"
      ]
     },
     "execution_count": 74,
     "metadata": {},
     "output_type": "execute_result"
    }
   ],
   "source": [
    "timeit.timeit('memo_make_change(5, [1, 2, 5])', number=1000, globals=globals())"
   ]
  },
  {
   "cell_type": "code",
   "execution_count": 47,
   "metadata": {},
   "outputs": [],
   "source": [
    "def bottom_up_make_change(amount, coins):\n",
    "    # Creat the table, row is sub coins set. col is our amount.\n",
    "    # Our row length will go to amount + 1, as we will conside the situration\n",
    "    # that amount is 0, when no matter what our coins set going to be.\n",
    "    # the our result will always be 1. Means change amount 0, there at least have 1\n",
    "    # possible to get change.\n",
    "    dp = [[1 if i == 0 else 0 for i in range(amount+1)] for _ in range(len(coins))]\n",
    "    for a in range(1, amount+1):\n",
    "        if coins[0] <= a:\n",
    "            dp[0][a] = dp[0][a-coins[0]]\n",
    "    \n",
    "    for coin_row in range(1, len(coins)):\n",
    "        for a in range(1, amount+1):\n",
    "            if coins[coin_row] <= a:\n",
    "                # Our coin can be use to change our amount `a`.\n",
    "                dp[coin_row][a] = dp[coin_row-1][a] + dp[coin_row][a - coins[coin_row]]\n",
    "            else:\n",
    "                # Our current coin can not use to change our amount `a`.\n",
    "                dp[coin_row][a] = dp[coin_row-1][a]\n",
    "    return dp[-1][-1]"
   ]
  },
  {
   "cell_type": "code",
   "execution_count": 48,
   "metadata": {},
   "outputs": [
    {
     "data": {
      "text/plain": [
       "4"
      ]
     },
     "execution_count": 48,
     "metadata": {},
     "output_type": "execute_result"
    }
   ],
   "source": [
    "bottom_up_make_change(5, [1, 2, 5])"
   ]
  },
  {
   "cell_type": "code",
   "execution_count": 49,
   "metadata": {},
   "outputs": [
    {
     "data": {
      "text/plain": [
       "0.00885312701575458"
      ]
     },
     "execution_count": 49,
     "metadata": {},
     "output_type": "execute_result"
    }
   ],
   "source": [
    "timeit.timeit('bottom_up_make_change(5, [1, 2, 5])', number=1000, globals=globals())"
   ]
  },
  {
   "cell_type": "code",
   "execution_count": 81,
   "metadata": {},
   "outputs": [],
   "source": [
    "def bottom_up_make_change_two_row(amount, coins):\n",
    "    if amount == 0:\n",
    "        return 1\n",
    "    if not coins:\n",
    "        return 0\n",
    "    pre_row = [1 if i == 0 else 0 for i in range(amount+1)]\n",
    "    for a in range(1, amount+1):\n",
    "        if coins[0] <= a:\n",
    "            pre_row[a] = pre_row[a-coins[0]]\n",
    "\n",
    "    if len(coins) == 1:\n",
    "        return pre_row[-1]\n",
    "    for coin_id in range(1, len(coins)):\n",
    "        cur = [1]\n",
    "        for a in range(1, amount+1):\n",
    "            if coins[coin_id] <= a:\n",
    "                cur.append(pre_row[a] + cur[a-coins[coin_id]])\n",
    "            else:\n",
    "                cur.append(pre_row[a])\n",
    "        pre_row = cur\n",
    "    return cur[-1]"
   ]
  },
  {
   "cell_type": "code",
   "execution_count": 82,
   "metadata": {},
   "outputs": [
    {
     "data": {
      "text/plain": [
       "4"
      ]
     },
     "execution_count": 82,
     "metadata": {},
     "output_type": "execute_result"
    }
   ],
   "source": [
    "bottom_up_make_change_one_row(5, [1, 2, 5])"
   ]
  },
  {
   "cell_type": "code",
   "execution_count": 83,
   "metadata": {},
   "outputs": [
    {
     "data": {
      "text/plain": [
       "0.006271212012507021"
      ]
     },
     "execution_count": 83,
     "metadata": {},
     "output_type": "execute_result"
    }
   ],
   "source": [
    "timeit.timeit('bottom_up_make_change_one_row(5, [1, 2, 5])', number=1000, globals=globals())"
   ]
  },
  {
   "cell_type": "code",
   "execution_count": 88,
   "metadata": {},
   "outputs": [],
   "source": [
    "def bottom_up_make_change_one_row(amount, coins):\n",
    "    if amount == 0:\n",
    "        return 1\n",
    "    if not coins:\n",
    "        return 0\n",
    "    dp = [1 if i == 0 else 0 for i in range(amount+1)]\n",
    "    for coin_id in range(len(coins)):\n",
    "        for a in range(coins[coin_id], amount+1):\n",
    "            dp[a] += dp[a - coins[coin_id]]\n",
    "        print(dp)\n",
    "    return dp[-1]"
   ]
  },
  {
   "cell_type": "code",
   "execution_count": 89,
   "metadata": {},
   "outputs": [
    {
     "name": "stdout",
     "output_type": "stream",
     "text": [
      "[1, 1, 1, 1, 1, 1]\n",
      "[1, 1, 2, 2, 3, 3]\n",
      "[1, 1, 2, 2, 3, 4]\n"
     ]
    },
    {
     "data": {
      "text/plain": [
       "4"
      ]
     },
     "execution_count": 89,
     "metadata": {},
     "output_type": "execute_result"
    }
   ],
   "source": [
    "bottom_up_make_change_one_row(5, [1, 2, 5])"
   ]
  },
  {
   "cell_type": "code",
   "execution_count": 140,
   "metadata": {},
   "outputs": [],
   "source": [
    "def numDecodings(s):\n",
    "    if not s:\n",
    "        return 1\n",
    "    if int(s[0]) == 0:\n",
    "        return 0\n",
    "    if len(s) > 1 and int(s[0:2]) <= 26:\n",
    "        return numDecodings(s[1:]) + numDecodings(s[2:])\n",
    "    \n",
    "    else:\n",
    "        return numDecodings(s[1:])"
   ]
  },
  {
   "cell_type": "code",
   "execution_count": 173,
   "metadata": {},
   "outputs": [
    {
     "data": {
      "text/plain": [
       "1"
      ]
     },
     "execution_count": 173,
     "metadata": {},
     "output_type": "execute_result"
    }
   ],
   "source": [
    "numDecodings(\"101\")"
   ]
  },
  {
   "cell_type": "code",
   "execution_count": 169,
   "metadata": {},
   "outputs": [],
   "source": [
    "def memo_numDecodings(s, memo={}):\n",
    "    if not s:\n",
    "        return 1\n",
    "    if int(s[0]) == 0:\n",
    "        return 0\n",
    "    if s in memo:\n",
    "        return memo[s]\n",
    "    if len(s) > 1 and int(s[0:2]) <= 26:\n",
    "        ans = numDecodings(s[1:]) + numDecodings(s[2:])\n",
    "        memo[s] = ans\n",
    "        return ans\n",
    "    else:\n",
    "        ans = numDecodings(s[1:])\n",
    "        memo[s] = ans\n",
    "        return ans"
   ]
  },
  {
   "cell_type": "code",
   "execution_count": 170,
   "metadata": {},
   "outputs": [
    {
     "data": {
      "text/plain": [
       "3"
      ]
     },
     "execution_count": 170,
     "metadata": {},
     "output_type": "execute_result"
    }
   ],
   "source": [
    "memo_numDecodings(\"1201020112\")"
   ]
  },
  {
   "cell_type": "code",
   "execution_count": 171,
   "metadata": {},
   "outputs": [
    {
     "data": {
      "text/plain": [
       "0.0005149770295247436"
      ]
     },
     "execution_count": 171,
     "metadata": {},
     "output_type": "execute_result"
    }
   ],
   "source": [
    "timeit.timeit('memo_numDecodings(\"1123123123\")', number=1000, globals=globals())"
   ]
  },
  {
   "cell_type": "code",
   "execution_count": 190,
   "metadata": {},
   "outputs": [],
   "source": [
    "def bottom_up_numDecodings(s):\n",
    "    if not s:\n",
    "        return 1\n",
    "    s = s[::-1]\n",
    "    dp = [0 for _ in range(len(s)+1)]\n",
    "    dp[0] = 1\n",
    "    for i in range(1, len(s) + 1):\n",
    "        if i == 1:\n",
    "            dp[i] = 1 if s[i-1] != \"0\" else 0\n",
    "        elif s[i-1] == \"0\":\n",
    "            dp[i] = 0\n",
    "        elif int(s[i-1] + s[i-2]) <= 26:\n",
    "            dp[i] = dp[i-1] + dp[i-2]\n",
    "        else:\n",
    "            dp[i] = dp[i-1]\n",
    "    return dp[-1]"
   ]
  },
  {
   "cell_type": "code",
   "execution_count": 191,
   "metadata": {},
   "outputs": [
    {
     "data": {
      "text/plain": [
       "1"
      ]
     },
     "execution_count": 191,
     "metadata": {},
     "output_type": "execute_result"
    }
   ],
   "source": [
    "bottom_up_numDecodings(\"120\")"
   ]
  },
  {
   "cell_type": "code",
   "execution_count": 192,
   "metadata": {},
   "outputs": [
    {
     "data": {
      "text/plain": [
       "0.007856849930249155"
      ]
     },
     "execution_count": 192,
     "metadata": {},
     "output_type": "execute_result"
    }
   ],
   "source": [
    "timeit.timeit('bottom_up_numDecodings(\"1123123123\")', number=1000, globals=globals())"
   ]
  },
  {
   "cell_type": "code",
   "execution_count": 193,
   "metadata": {},
   "outputs": [],
   "source": [
    "def bottom_up_numDecodings_one_row(s):\n",
    "    if not s:\n",
    "        return 1\n",
    "    # Initial the varible, is mean when the str(s)\n",
    "    pre = 1\n",
    "    cur = 0\n",
    "    for i in range(len(s)-1, -1, -1):\n",
    "        if i == len(s)-1:\n",
    "            cur = 1 if s[i] != \"0\" else 0\n",
    "        elif s[i] == \"0\":\n",
    "            pre = cur\n",
    "            cur = 0\n",
    "        elif int(s[i] + s[i+1]) <= 26:\n",
    "            pre, cur = cur, cur + pre\n",
    "        else:\n",
    "            pre = cur\n",
    "    return cur"
   ]
  },
  {
   "cell_type": "code",
   "execution_count": 194,
   "metadata": {},
   "outputs": [
    {
     "data": {
      "text/plain": [
       "0.004777148016728461"
      ]
     },
     "execution_count": 194,
     "metadata": {},
     "output_type": "execute_result"
    }
   ],
   "source": [
    "timeit.timeit('bottom_up_numDecodings_one_row(\"1123123123\")', number=1000, globals=globals())"
   ]
  },
  {
   "cell_type": "code",
   "execution_count": 263,
   "metadata": {},
   "outputs": [],
   "source": [
    "def countNumberBits(num):\n",
    "    dp = [0 for _ in range(num+1)]\n",
    "    dp[1] = 1\n",
    "    for i in range(1, num + 1):\n",
    "        dp[i] = i % 2 + dp[i // 2]\n",
    "    return dp"
   ]
  }
 ],
 "metadata": {
  "kernelspec": {
   "display_name": "Python 3",
   "language": "python",
   "name": "python3"
  },
  "language_info": {
   "codemirror_mode": {
    "name": "ipython",
    "version": 3
   },
   "file_extension": ".py",
   "mimetype": "text/x-python",
   "name": "python",
   "nbconvert_exporter": "python",
   "pygments_lexer": "ipython3",
   "version": "3.6.3"
  }
 },
 "nbformat": 4,
 "nbformat_minor": 2
}
