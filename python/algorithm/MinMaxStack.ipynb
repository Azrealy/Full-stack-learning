{
 "cells": [
  {
   "cell_type": "code",
   "execution_count": 1,
   "metadata": {},
   "outputs": [],
   "source": [
    "class Node:\n",
    "    def __init__(self, val, nxt=None):\n",
    "        self.val = val\n",
    "        self.pre = None\n",
    "        self.next = nxt"
   ]
  },
  {
   "cell_type": "code",
   "execution_count": 2,
   "metadata": {},
   "outputs": [],
   "source": [
    "class Stack:\n",
    "    def __init__(self):\n",
    "        self.first = None\n",
    "        self.min = None\n",
    "        self.max = None\n",
    "    def push(self, value):\n",
    "        self.first = Node(value, nxt=self.first)\n",
    "        if not self.min:\n",
    "            self.min = self.first\n",
    "        if not self.max:\n",
    "            self.max = self.first\n",
    "        \n",
    "        if value < self.min.val:\n",
    "            self.min = Node(value, nxt=self.min)\n",
    "        if value > self.max.val:\n",
    "            self.max = Node(value, nxt=self.max)\n",
    "\n",
    "    def min_value(self):\n",
    "        if self.min:\n",
    "            return self.min.val\n",
    "        \n",
    "    def max_value(self):\n",
    "        if self.max:\n",
    "            return self.max.val\n",
    "    \n",
    "    def pop(self):\n",
    "        if self.first.val == self.min.val:\n",
    "            self.min = self.min.next\n",
    "        if self.first.val == self.max.val:\n",
    "            self.max = self.max.next\n",
    "        \n",
    "        ans = self.first.val\n",
    "        self.first = self.first.next\n",
    "        return ans"
   ]
  },
  {
   "cell_type": "code",
   "execution_count": null,
   "metadata": {},
   "outputs": [],
   "source": []
  }
 ],
 "metadata": {
  "kernelspec": {
   "display_name": "Python 3",
   "language": "python",
   "name": "python3"
  },
  "language_info": {
   "codemirror_mode": {
    "name": "ipython",
    "version": 3
   },
   "file_extension": ".py",
   "mimetype": "text/x-python",
   "name": "python",
   "nbconvert_exporter": "python",
   "pygments_lexer": "ipython3",
   "version": "3.6.6"
  }
 },
 "nbformat": 4,
 "nbformat_minor": 4
}
