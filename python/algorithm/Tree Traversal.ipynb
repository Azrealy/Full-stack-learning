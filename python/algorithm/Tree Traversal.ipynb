{
 "cells": [
  {
   "cell_type": "code",
   "execution_count": 1,
   "metadata": {},
   "outputs": [],
   "source": [
    "class Node(object):\n",
    "    def __init__(self, val):\n",
    "        self.val = val\n",
    "        self.left = None\n",
    "        self.right = None\n",
    "    def __repr__(self):\n",
    "        return repr(\"<Node val:%s left:%s right:%s>\" % (self.val, self.left, self.right))"
   ]
  },
  {
   "cell_type": "code",
   "execution_count": 2,
   "metadata": {},
   "outputs": [
    {
     "data": {
      "text/plain": [
       "'<Node val:20 left:None right:None>'"
      ]
     },
     "execution_count": 2,
     "metadata": {},
     "output_type": "execute_result"
    }
   ],
   "source": [
    "Node(20)"
   ]
  },
  {
   "cell_type": "code",
   "execution_count": 3,
   "metadata": {},
   "outputs": [],
   "source": [
    "def arrayToTree(array):\n",
    "    store = {}\n",
    "    for i, val in enumerate(array):\n",
    "        root = Node(val)\n",
    "        store[i+1] = root\n",
    "    for i in store:\n",
    "        root = store[i]\n",
    "        left = i * 2        \n",
    "        right = i * 2 + 1\n",
    "        root.left = store.get(left, None)\n",
    "        root.right = store.get(right, None)\n",
    "    return store[1]"
   ]
  },
  {
   "cell_type": "markdown",
   "metadata": {},
   "source": [
    "## Convert Binary Search Tree to Sorted Doubly Linked List\n",
    "\n",
    "Specifically, we want to do the transformation in place. After the transformation, the left pointer of the tree node should point to its predecessor, and the right pointer should point to its successor. We should return the pointer to the first element of the linked list.\n",
    "\n",
    "The figure below shows the transformed BST. The solid line indicates the successor relationship, while the dashed line means the predecessor relationship."
   ]
  },
  {
   "cell_type": "code",
   "execution_count": 18,
   "metadata": {},
   "outputs": [],
   "source": [
    "head = arrayToTree([2, 1, 3])\n",
    "def convertBST(root):\n",
    "    def helper(node):\n",
    "        nonlocal last\n",
    "        nonlocal head\n",
    "        if node:\n",
    "            \n",
    "            # reach to the left leaf.\n",
    "            helper(node.left)\n",
    "            if last:\n",
    "                last.right = node\n",
    "                node.left = last\n",
    "            if not head:\n",
    "                # store the most left leaf\n",
    "                # as its head of the convert\n",
    "                # double links\n",
    "                head = node\n",
    "            last = node\n",
    "            helper(node.right)\n",
    "    last, head = None, None\n",
    "    helper(root)\n",
    "    # Connect the head and the tail node\n",
    "    head.left = last\n",
    "    last.right = head\n",
    "    return head"
   ]
  },
  {
   "cell_type": "code",
   "execution_count": 19,
   "metadata": {},
   "outputs": [
    {
     "data": {
      "text/plain": [
       "1"
      ]
     },
     "execution_count": 19,
     "metadata": {},
     "output_type": "execute_result"
    }
   ],
   "source": [
    "doublinked = convertBST(head)"
   ]
  },
  {
   "cell_type": "code",
   "execution_count": 9,
   "metadata": {},
   "outputs": [],
   "source": [
    "root = arrayToTree([1, 2, 3, 4, 5, 6, 7])"
   ]
  },
  {
   "cell_type": "code",
   "execution_count": 10,
   "metadata": {},
   "outputs": [],
   "source": [
    "def dfs_preorder(root, preorder=[]):\n",
    "    if not root:\n",
    "        return None\n",
    "    preorder.append(root.val)\n",
    "    dfs_preorder(root.left, preorder)\n",
    "    dfs_preorder(root.right, preorder)\n",
    "    return preorder"
   ]
  },
  {
   "cell_type": "code",
   "execution_count": 11,
   "metadata": {},
   "outputs": [
    {
     "data": {
      "text/plain": [
       "[1, 2, 4, 5, 3, 6, 7]"
      ]
     },
     "execution_count": 11,
     "metadata": {},
     "output_type": "execute_result"
    }
   ],
   "source": [
    "dfs_preorder(root)"
   ]
  },
  {
   "cell_type": "code",
   "execution_count": 12,
   "metadata": {},
   "outputs": [],
   "source": [
    "def dfs_inorder(root, inorder=[]):\n",
    "    if not root:\n",
    "        return None\n",
    "    dfs_inorder(root.left, inorder)\n",
    "    inorder.append(root.val)\n",
    "    dfs_inorder(root.right, inorder)\n",
    "    return inorder"
   ]
  },
  {
   "cell_type": "code",
   "execution_count": 13,
   "metadata": {},
   "outputs": [
    {
     "data": {
      "text/plain": [
       "[4, 2, 5, 1, 6, 3, 7]"
      ]
     },
     "execution_count": 13,
     "metadata": {},
     "output_type": "execute_result"
    }
   ],
   "source": [
    "dfs_inorder(root)"
   ]
  },
  {
   "cell_type": "code",
   "execution_count": 14,
   "metadata": {},
   "outputs": [],
   "source": [
    "def dfs_postorder(root, postorder=[]):\n",
    "    if not root:\n",
    "        return None\n",
    "    dfs_postorder(root.left, postorder)\n",
    "    dfs_postorder(root.right, postorder)\n",
    "    postorder.append(root.val)\n",
    "    return postorder"
   ]
  },
  {
   "cell_type": "code",
   "execution_count": 15,
   "metadata": {},
   "outputs": [
    {
     "data": {
      "text/plain": [
       "[4, 5, 2, 6, 7, 3, 1]"
      ]
     },
     "execution_count": 15,
     "metadata": {},
     "output_type": "execute_result"
    }
   ],
   "source": [
    "dfs_postorder(root)"
   ]
  },
  {
   "cell_type": "code",
   "execution_count": 19,
   "metadata": {},
   "outputs": [],
   "source": [
    "from collections import deque\n",
    "def bfs(root):\n",
    "    if not root:\n",
    "        return None\n",
    "    queue = deque([root])\n",
    "    dfs = []\n",
    "    while queue:\n",
    "        node = queue.popleft()\n",
    "        dfs.append(node.val)\n",
    "        if node.left:\n",
    "            queue.append(node.left)\n",
    "        if node.right:\n",
    "            queue.append(node.right)\n",
    "    return dfs"
   ]
  },
  {
   "cell_type": "code",
   "execution_count": 20,
   "metadata": {},
   "outputs": [
    {
     "data": {
      "text/plain": [
       "[1, 2, 3, 4, 5, 6, 7]"
      ]
     },
     "execution_count": 20,
     "metadata": {},
     "output_type": "execute_result"
    }
   ],
   "source": [
    "bfs(root)"
   ]
  },
  {
   "cell_type": "code",
   "execution_count": 82,
   "metadata": {},
   "outputs": [],
   "source": [
    "def levelOrder_interator(root):\n",
    "    \"\"\"\n",
    "    Return a list[list[int]] type, \n",
    "    include the each level of \n",
    "    the value of tree's node.\n",
    "    Output:\n",
    "    [[1],\n",
    "     [1, 2],\n",
    "     [3, 4, 5, 6]]\n",
    "    \"\"\"\n",
    "    if not root:\n",
    "        return []\n",
    "    queue = [root]\n",
    "    level_order = []\n",
    "    while queue:\n",
    "        tmp = []\n",
    "        level = []\n",
    "        for i in queue:\n",
    "            if i:\n",
    "                level.append(i.val)\n",
    "                tmp.append(i.left)\n",
    "                tmp.append(i.right)\n",
    "        if not level:\n",
    "            break\n",
    "        level_order.append(level)\n",
    "        queue = tmp\n",
    "    return level_order"
   ]
  },
  {
   "cell_type": "code",
   "execution_count": 83,
   "metadata": {},
   "outputs": [
    {
     "data": {
      "text/plain": [
       "[[1], [2, 3], [4, 5, 6, 7]]"
      ]
     },
     "execution_count": 83,
     "metadata": {},
     "output_type": "execute_result"
    }
   ],
   "source": [
    "levelOrder_interator(root)"
   ]
  },
  {
   "cell_type": "code",
   "execution_count": 84,
   "metadata": {},
   "outputs": [],
   "source": [
    "def levelOrder_recursion(root):\n",
    "    \"\"\"\n",
    "    Return a list[list[int]] type, \n",
    "    include the each level of \n",
    "    the value of tree's node.\n",
    "    Output:\n",
    "    [[1],\n",
    "     [1, 2],\n",
    "     [3, 4, 5, 6]]\n",
    "    \"\"\"\n",
    "    if not root:\n",
    "        return []\n",
    "    level_order = []\n",
    "    def bfs(root, level=0):\n",
    "        if not root:\n",
    "            return\n",
    "        if len(level_order) == level:\n",
    "            # Make sure the level_order length equal to level.\n",
    "            # As bfs go to left and right, the cursion function\n",
    "            # will be called n times. but the heigh of the binary tree\n",
    "            # should be log(n)\n",
    "            level_order.append([])\n",
    "        bfs(root.left, level+1)\n",
    "        level_order[level].append(root.val)\n",
    "        bfs(root.right, level+1)\n",
    "    bfs(root)\n",
    "    return level_order"
   ]
  },
  {
   "cell_type": "code",
   "execution_count": 85,
   "metadata": {},
   "outputs": [
    {
     "data": {
      "text/plain": [
       "[[1], [2, 3], [4, 5, 6, 7]]"
      ]
     },
     "execution_count": 85,
     "metadata": {},
     "output_type": "execute_result"
    }
   ],
   "source": [
    "levelOrder_recursion(root)"
   ]
  },
  {
   "cell_type": "markdown",
   "metadata": {},
   "source": [
    "# Inorder Tree Traversal withou recursion and without stack\n",
    "Using Morris Traversal, we can tarversal the tree without using stack and recursion. The idea of Morris Traversal is based on `Threaded Binary Tree`. In this traversal, we first create links to Inorder successor and print the data using these links, and finally revert the changes to restore original tree.\n",
    "```python\n",
    "1. Initialize currrent as root\n",
    "2. While current is not NULL\n",
    "  If the current does not have left child\n",
    "    a) Print current's data\n",
    "    b) Got to the right, i.e, current = current -> right\n",
    "  Else\n",
    "    a) Make current as the right child of the rightmost\n",
    "      node in current's left subtree\n",
    "    b) Go to this left child, i.e., current = current -> left\n",
    "```"
   ]
  },
  {
   "cell_type": "code",
   "execution_count": 49,
   "metadata": {},
   "outputs": [],
   "source": [
    "def morrisTraversal(root):\n",
    "    # Initialize current as root.\n",
    "    current = root\n",
    "    morris_traversal = []\n",
    "    while current:\n",
    "        # If the current does not have left child\n",
    "        if not current.left:\n",
    "            morris_traversal.append(current.val)\n",
    "            current = current.right\n",
    "        else:\n",
    "            # Find the inorder predecessor of current\n",
    "            pre = current.left\n",
    "            while pre.right and pre.right != current:\n",
    "                pre = pre.right\n",
    "            \n",
    "            # Make current as right child of its inorder predecessor\n",
    "            if not pre.right:\n",
    "                pre.right = current\n",
    "                current = current.left\n",
    "            # Revert the changes made in if part to restore the \n",
    "            # original tree i.e., fix the right child of predecessor\n",
    "            else:\n",
    "                pre.right = None\n",
    "                morris_traversal.append(current.val)\n",
    "                current = current.right\n",
    "    return morris_traversal"
   ]
  },
  {
   "cell_type": "code",
   "execution_count": 50,
   "metadata": {},
   "outputs": [
    {
     "data": {
      "text/plain": [
       "[4, 2, 5, 1, 6, 3, 7]"
      ]
     },
     "execution_count": 50,
     "metadata": {},
     "output_type": "execute_result"
    }
   ],
   "source": [
    "morrisTraversal(root)"
   ]
  },
  {
   "cell_type": "markdown",
   "metadata": {},
   "source": [
    "# Subtree of Another Tree\n",
    "Given two non-empty binary trees s and t, check whether tree t has exactly the same structure and node values with a subtree of s. A subtree of s is a tree consists of a node in s and all of this node's descendants. The tree s could also be considered as a subtree of itself.\n",
    "**Example 1:**\n",
    "```\n",
    "Given tree s:\n",
    "\n",
    "     3\n",
    "    / \\\n",
    "   4   5\n",
    "  / \\\n",
    " 1   2\n",
    "Given tree t:\n",
    "   4 \n",
    "  / \\\n",
    " 1   2\n",
    "Return true, because t has the same structure and node values with a subtree of s.\n",
    "```\n",
    "**Example 2:**\n",
    "```\n",
    "Given tree s:\n",
    "\n",
    "     3\n",
    "    / \\\n",
    "   4   5\n",
    "  / \\\n",
    " 1   2\n",
    "    /\n",
    "   0\n",
    "Given tree t:\n",
    "   4\n",
    "  / \\\n",
    " 1   2\n",
    "Return false.\n",
    "```\n",
    "Though the preorder traversal the tree of `s`, when the tree's value has the same value of tree `t`, call the function `checkTwoTree()` to comfirm whether the their children also the same. The time complexity will be `O(n * m)`. The space complexity will be `O(log(n))`. n is the length of tree `s`, m is the length of tree `t`."
   ]
  },
  {
   "cell_type": "code",
   "execution_count": 23,
   "metadata": {},
   "outputs": [],
   "source": [
    "class Solution:\n",
    "    def isSubtree(self, s, t):\n",
    "        if not s and not t:\n",
    "            return True\n",
    "        if not s or not t:\n",
    "            return False\n",
    "        if s.val == t.val:\n",
    "            if self.checkTwoTree(s, t):\n",
    "                return True\n",
    "        return self.isSubtree(s.left, t) or self.isSubtree(s.right, t)\n",
    "    \n",
    "    \n",
    "    def checkTwoTree(self, left, right):\n",
    "        if not left and not right:\n",
    "            return True\n",
    "        if not left or not right:\n",
    "            return False\n",
    "        if left.val != right.val:\n",
    "            return False\n",
    "        return self.checkTwoTree(left.left, right.left) and self.checkTwoTree(left.right, right.right)"
   ]
  },
  {
   "cell_type": "code",
   "execution_count": 24,
   "metadata": {},
   "outputs": [
    {
     "data": {
      "text/plain": [
       "False"
      ]
     },
     "execution_count": 24,
     "metadata": {},
     "output_type": "execute_result"
    }
   ],
   "source": [
    "treeA = arrayToTree([3, 4, 5, 1, 2])\n",
    "treeB = arrayToTree([4, 1, 3])\n",
    "Solution().isSubtree(treeA, treeB)"
   ]
  },
  {
   "cell_type": "code",
   "execution_count": 92,
   "metadata": {},
   "outputs": [],
   "source": [
    "import pysnooper\n",
    "@pysnooper.snoop()\n",
    "def depthMax(node):\n",
    "    if not node:\n",
    "        # Define the leaf as 0\n",
    "        return 0\n",
    "    # Return the max depth + 1 to its predeccsor \n",
    "    return max(depthMax(node.left), depthMax(node.right)) + 1"
   ]
  },
  {
   "cell_type": "code",
   "execution_count": 95,
   "metadata": {},
   "outputs": [],
   "source": [
    "node = arrayToTree([3, 4, 5, 1, 2, None, None, 3, 6])"
   ]
  },
  {
   "cell_type": "code",
   "execution_count": 96,
   "metadata": {},
   "outputs": [
    {
     "name": "stderr",
     "output_type": "stream",
     "text": [
      "Starting var:.. node = '<Node val:3 left:\\'<Node val:4 left:\"<Node val:...ight:\\'<Node val:None left:None right:None>\\'>\">'\n",
      "09:21:01.844573 call         3 def depthMax(node):\n",
      "09:21:01.844679 line         4     if not node:\n",
      "09:21:01.844783 line         8     return max(depthMax(node.left), depthMax(node.right)) + 1\n",
      "    Starting var:.. node = '<Node val:4 left:\"<Node val:1 left:\\'<Node val:...'>\" right:\\'<Node val:2 left:None right:None>\\'>'\n",
      "    09:21:01.844900 call         3 def depthMax(node):\n",
      "    09:21:01.844970 line         4     if not node:\n",
      "    09:21:01.845038 line         8     return max(depthMax(node.left), depthMax(node.right)) + 1\n",
      "        Starting var:.. node = \"<Node val:1 left:'<Node val:3 left:None right:None>' right:'<Node val:6 left:None right:None>'>\"\n",
      "        09:21:01.845140 call         3 def depthMax(node):\n",
      "        09:21:01.845252 line         4     if not node:\n",
      "        09:21:01.845332 line         8     return max(depthMax(node.left), depthMax(node.right)) + 1\n",
      "            Starting var:.. node = '<Node val:3 left:None right:None>'\n",
      "            09:21:01.845460 call         3 def depthMax(node):\n",
      "            09:21:01.845550 line         4     if not node:\n",
      "            09:21:01.845625 line         8     return max(depthMax(node.left), depthMax(node.right)) + 1\n",
      "                Starting var:.. node = None\n",
      "                09:21:01.845772 call         3 def depthMax(node):\n",
      "                09:21:01.845863 line         4     if not node:\n",
      "                09:21:01.845934 line         6         return 0\n",
      "                09:21:01.846002 return       6         return 0\n",
      "                Return value:.. 0\n",
      "                Starting var:.. node = None\n",
      "                09:21:01.846174 call         3 def depthMax(node):\n",
      "                09:21:01.846299 line         4     if not node:\n",
      "                09:21:01.846375 line         6         return 0\n",
      "                09:21:01.846449 return       6         return 0\n",
      "                Return value:.. 0\n",
      "            09:21:01.846576 return       8     return max(depthMax(node.left), depthMax(node.right)) + 1\n",
      "            Return value:.. 1\n",
      "            Starting var:.. node = '<Node val:6 left:None right:None>'\n",
      "            09:21:01.846742 call         3 def depthMax(node):\n",
      "            09:21:01.846832 line         4     if not node:\n",
      "            09:21:01.846906 line         8     return max(depthMax(node.left), depthMax(node.right)) + 1\n",
      "                Starting var:.. node = None\n",
      "                09:21:01.847028 call         3 def depthMax(node):\n",
      "                09:21:01.847112 line         4     if not node:\n",
      "                09:21:01.847217 line         6         return 0\n",
      "                09:21:01.847299 return       6         return 0\n",
      "                Return value:.. 0\n",
      "                Starting var:.. node = None\n",
      "                09:21:01.847460 call         3 def depthMax(node):\n",
      "                09:21:01.847545 line         4     if not node:\n",
      "                09:21:01.847614 line         6         return 0\n",
      "                09:21:01.847706 return       6         return 0\n",
      "                Return value:.. 0\n",
      "            09:21:01.847833 return       8     return max(depthMax(node.left), depthMax(node.right)) + 1\n",
      "            Return value:.. 1\n",
      "        09:21:01.847962 return       8     return max(depthMax(node.left), depthMax(node.right)) + 1\n",
      "        Return value:.. 2\n",
      "        Starting var:.. node = '<Node val:2 left:None right:None>'\n",
      "        09:21:01.848470 call         3 def depthMax(node):\n",
      "        09:21:01.848561 line         4     if not node:\n",
      "        09:21:01.848652 line         8     return max(depthMax(node.left), depthMax(node.right)) + 1\n",
      "            Starting var:.. node = None\n",
      "            09:21:01.848764 call         3 def depthMax(node):\n",
      "            09:21:01.848835 line         4     if not node:\n",
      "            09:21:01.848910 line         6         return 0\n",
      "            09:21:01.848980 return       6         return 0\n",
      "            Return value:.. 0\n",
      "            Starting var:.. node = None\n",
      "            09:21:01.849139 call         3 def depthMax(node):\n",
      "            09:21:01.849224 line         4     if not node:\n",
      "            09:21:01.849299 line         6         return 0\n",
      "            09:21:01.849372 return       6         return 0\n",
      "            Return value:.. 0\n",
      "        09:21:01.849530 return       8     return max(depthMax(node.left), depthMax(node.right)) + 1\n",
      "        Return value:.. 1\n",
      "    09:21:01.849695 return       8     return max(depthMax(node.left), depthMax(node.right)) + 1\n",
      "    Return value:.. 3\n",
      "    Starting var:.. node = \"<Node val:5 left:'<Node val:None left:None righ...>' right:'<Node val:None left:None right:None>'>\"\n",
      "    09:21:01.849874 call         3 def depthMax(node):\n",
      "    09:21:01.849972 line         4     if not node:\n",
      "    09:21:01.850053 line         8     return max(depthMax(node.left), depthMax(node.right)) + 1\n",
      "        Starting var:.. node = '<Node val:None left:None right:None>'\n",
      "        09:21:01.850175 call         3 def depthMax(node):\n",
      "        09:21:01.850298 line         4     if not node:\n",
      "        09:21:01.850369 line         8     return max(depthMax(node.left), depthMax(node.right)) + 1\n",
      "            Starting var:.. node = None\n",
      "            09:21:01.850497 call         3 def depthMax(node):\n",
      "            09:21:01.850598 line         4     if not node:\n",
      "            09:21:01.850670 line         6         return 0\n",
      "            09:21:01.850742 return       6         return 0\n",
      "            Return value:.. 0\n",
      "            Starting var:.. node = None\n",
      "            09:21:01.850910 call         3 def depthMax(node):\n",
      "            09:21:01.850996 line         4     if not node:\n",
      "            09:21:01.851066 line         6         return 0\n",
      "            09:21:01.851141 return       6         return 0\n",
      "            Return value:.. 0\n",
      "        09:21:01.851298 return       8     return max(depthMax(node.left), depthMax(node.right)) + 1\n",
      "        Return value:.. 1\n",
      "        Starting var:.. node = '<Node val:None left:None right:None>'\n",
      "        09:21:01.851468 call         3 def depthMax(node):\n",
      "        09:21:01.851769 line         4     if not node:\n",
      "        09:21:01.851845 line         8     return max(depthMax(node.left), depthMax(node.right)) + 1\n",
      "            Starting var:.. node = None\n",
      "            09:21:01.851970 call         3 def depthMax(node):\n",
      "            09:21:01.852059 line         4     if not node:\n",
      "            09:21:01.852129 line         6         return 0\n",
      "            09:21:01.852233 return       6         return 0\n",
      "            Return value:.. 0\n",
      "            Starting var:.. node = None\n",
      "            09:21:01.852391 call         3 def depthMax(node):\n",
      "            09:21:01.852476 line         4     if not node:\n",
      "            09:21:01.852573 line         6         return 0\n",
      "            09:21:01.852644 return       6         return 0\n",
      "            Return value:.. 0\n",
      "        09:21:01.852770 return       8     return max(depthMax(node.left), depthMax(node.right)) + 1\n",
      "        Return value:.. 1\n",
      "    09:21:01.852905 return       8     return max(depthMax(node.left), depthMax(node.right)) + 1\n",
      "    Return value:.. 2\n",
      "09:21:01.853087 return       8     return max(depthMax(node.left), depthMax(node.right)) + 1\n",
      "Return value:.. 4\n"
     ]
    },
    {
     "data": {
      "text/plain": [
       "4"
      ]
     },
     "execution_count": 96,
     "metadata": {},
     "output_type": "execute_result"
    }
   ],
   "source": [
    "depthMax(node)"
   ]
  },
  {
   "cell_type": "code",
   "execution_count": 26,
   "metadata": {},
   "outputs": [],
   "source": [
    "root = arrayToTree([3,5,1,6,2,0,8,None,None,7,4])\n",
    "target = root.left"
   ]
  },
  {
   "cell_type": "code",
   "execution_count": 29,
   "metadata": {},
   "outputs": [],
   "source": [
    "def distanceK(root, target, K):\n",
    "    # Connect the every node with its parents\n",
    "    def inorder(node, par=None):\n",
    "        if node:\n",
    "            node.par = par\n",
    "            inorder(node.left, par=node)\n",
    "            inorder(node.right, par=node)\n",
    "    inorder(root)\n",
    "    from queue import deque\n",
    "    queue = deque([(target, 0)])\n",
    "    seen = {target}\n",
    "    while queue:\n",
    "        if queue[0][1] == K:\n",
    "            return [node.val for node, d in queue]\n",
    "        node, d = queue.popleft()\n",
    "        for nei in (node.left, node.right, node.par):\n",
    "            if nei and nei not in seen:\n",
    "                seen.add(nei)\n",
    "                queue.append((nei, d+1))\n",
    "\n",
    "    return []"
   ]
  },
  {
   "cell_type": "code",
   "execution_count": 30,
   "metadata": {},
   "outputs": [
    {
     "data": {
      "text/plain": [
       "[None, None, 7, 4, 1]"
      ]
     },
     "execution_count": 30,
     "metadata": {},
     "output_type": "execute_result"
    }
   ],
   "source": [
    "distanceK(root, target, 2)"
   ]
  }
 ],
 "metadata": {
  "kernelspec": {
   "display_name": "Python 3",
   "language": "python",
   "name": "python3"
  },
  "language_info": {
   "codemirror_mode": {
    "name": "ipython",
    "version": 3
   },
   "file_extension": ".py",
   "mimetype": "text/x-python",
   "name": "python",
   "nbconvert_exporter": "python",
   "pygments_lexer": "ipython3",
   "version": "3.6.6"
  }
 },
 "nbformat": 4,
 "nbformat_minor": 2
}
