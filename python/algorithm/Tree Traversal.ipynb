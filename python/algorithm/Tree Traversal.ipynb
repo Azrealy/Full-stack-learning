{
 "cells": [
  {
   "cell_type": "code",
   "execution_count": 1,
   "metadata": {},
   "outputs": [],
   "source": [
    "class Node(object):\n",
    "    def __init__(self, val):\n",
    "        self.val = val\n",
    "        self.left = None\n",
    "        self.right = None"
   ]
  },
  {
   "cell_type": "code",
   "execution_count": 2,
   "metadata": {},
   "outputs": [],
   "source": [
    "def arrayToTree(array):\n",
    "    store = {}\n",
    "    for i, val in enumerate(array):\n",
    "        root = Node(val)\n",
    "        store[i+1] = root\n",
    "    for i in store:\n",
    "        root = store[i]\n",
    "        left = i * 2        \n",
    "        right = i * 2 + 1\n",
    "        root.left = store.get(left, None)\n",
    "        root.right = store.get(right, None)\n",
    "    return store[1]"
   ]
  },
  {
   "cell_type": "code",
   "execution_count": 69,
   "metadata": {},
   "outputs": [],
   "source": [
    "root = arrayToTree([1, 2, 3, 4, 5, 6, 7])"
   ]
  },
  {
   "cell_type": "code",
   "execution_count": 10,
   "metadata": {},
   "outputs": [],
   "source": [
    "def dfs_preorder(root, preorder=[]):\n",
    "    if not root:\n",
    "        return None\n",
    "    preorder.append(root.val)\n",
    "    dfs_preorder(root.left, preorder)\n",
    "    dfs_preorder(root.right, preorder)\n",
    "    return preorder"
   ]
  },
  {
   "cell_type": "code",
   "execution_count": 11,
   "metadata": {},
   "outputs": [
    {
     "data": {
      "text/plain": [
       "[1, 2, 4, 5, 3, 6, 7]"
      ]
     },
     "execution_count": 11,
     "metadata": {},
     "output_type": "execute_result"
    }
   ],
   "source": [
    "dfs_preorder(root)"
   ]
  },
  {
   "cell_type": "code",
   "execution_count": 12,
   "metadata": {},
   "outputs": [],
   "source": [
    "def dfs_inorder(root, inorder=[]):\n",
    "    if not root:\n",
    "        return None\n",
    "    dfs_inorder(root.left, inorder)\n",
    "    inorder.append(root.val)\n",
    "    dfs_inorder(root.right, inorder)\n",
    "    return inorder"
   ]
  },
  {
   "cell_type": "code",
   "execution_count": 13,
   "metadata": {},
   "outputs": [
    {
     "data": {
      "text/plain": [
       "[4, 2, 5, 1, 6, 3, 7]"
      ]
     },
     "execution_count": 13,
     "metadata": {},
     "output_type": "execute_result"
    }
   ],
   "source": [
    "dfs_inorder(root)"
   ]
  },
  {
   "cell_type": "code",
   "execution_count": 14,
   "metadata": {},
   "outputs": [],
   "source": [
    "def dfs_postorder(root, postorder=[]):\n",
    "    if not root:\n",
    "        return None\n",
    "    dfs_postorder(root.left, postorder)\n",
    "    dfs_postorder(root.right, postorder)\n",
    "    postorder.append(root.val)\n",
    "    return postorder"
   ]
  },
  {
   "cell_type": "code",
   "execution_count": 15,
   "metadata": {},
   "outputs": [
    {
     "data": {
      "text/plain": [
       "[4, 5, 2, 6, 7, 3, 1]"
      ]
     },
     "execution_count": 15,
     "metadata": {},
     "output_type": "execute_result"
    }
   ],
   "source": [
    "dfs_postorder(root)"
   ]
  },
  {
   "cell_type": "code",
   "execution_count": 19,
   "metadata": {},
   "outputs": [],
   "source": [
    "from collections import deque\n",
    "def bfs(root):\n",
    "    if not root:\n",
    "        return None\n",
    "    queue = deque([root])\n",
    "    dfs = []\n",
    "    while queue:\n",
    "        node = queue.popleft()\n",
    "        dfs.append(node.val)\n",
    "        if node.left:\n",
    "            queue.append(node.left)\n",
    "        if node.right:\n",
    "            queue.append(node.right)\n",
    "    return dfs"
   ]
  },
  {
   "cell_type": "code",
   "execution_count": 20,
   "metadata": {},
   "outputs": [
    {
     "data": {
      "text/plain": [
       "[1, 2, 3, 4, 5, 6, 7]"
      ]
     },
     "execution_count": 20,
     "metadata": {},
     "output_type": "execute_result"
    }
   ],
   "source": [
    "bfs(root)"
   ]
  },
  {
   "cell_type": "code",
   "execution_count": 82,
   "metadata": {},
   "outputs": [],
   "source": [
    "def levelOrder_interator(root):\n",
    "    \"\"\"\n",
    "    Return a list[list[int]] type, \n",
    "    include the each level of \n",
    "    the value of tree's node.\n",
    "    Output:\n",
    "    [[1],\n",
    "     [1, 2],\n",
    "     [3, 4, 5, 6]]\n",
    "    \"\"\"\n",
    "    if not root:\n",
    "        return []\n",
    "    queue = [root]\n",
    "    level_order = []\n",
    "    while queue:\n",
    "        tmp = []\n",
    "        level = []\n",
    "        for i in queue:\n",
    "            if i:\n",
    "                level.append(i.val)\n",
    "                tmp.append(i.left)\n",
    "                tmp.append(i.right)\n",
    "        if not level:\n",
    "            break\n",
    "        level_order.append(level)\n",
    "        queue = tmp\n",
    "    return level_order"
   ]
  },
  {
   "cell_type": "code",
   "execution_count": 83,
   "metadata": {},
   "outputs": [
    {
     "data": {
      "text/plain": [
       "[[1], [2, 3], [4, 5, 6, 7]]"
      ]
     },
     "execution_count": 83,
     "metadata": {},
     "output_type": "execute_result"
    }
   ],
   "source": [
    "levelOrder_interator(root)"
   ]
  },
  {
   "cell_type": "code",
   "execution_count": 84,
   "metadata": {},
   "outputs": [],
   "source": [
    "def levelOrder_recursion(root):\n",
    "    \"\"\"\n",
    "    Return a list[list[int]] type, \n",
    "    include the each level of \n",
    "    the value of tree's node.\n",
    "    Output:\n",
    "    [[1],\n",
    "     [1, 2],\n",
    "     [3, 4, 5, 6]]\n",
    "    \"\"\"\n",
    "    if not root:\n",
    "        return []\n",
    "    level_order = []\n",
    "    def bfs(root, level=0):\n",
    "        if not root:\n",
    "            return\n",
    "        if len(level_order) == level:\n",
    "            # Make sure the level_order length equal to level.\n",
    "            # As bfs go to left and right, the cursion function\n",
    "            # will be called n times. but the heigh of the binary tree\n",
    "            # should be log(n)\n",
    "            level_order.append([])\n",
    "        bfs(root.left, level+1)\n",
    "        level_order[level].append(root.val)\n",
    "        bfs(root.right, level+1)\n",
    "    bfs(root)\n",
    "    return level_order"
   ]
  },
  {
   "cell_type": "code",
   "execution_count": 85,
   "metadata": {},
   "outputs": [
    {
     "data": {
      "text/plain": [
       "[[1], [2, 3], [4, 5, 6, 7]]"
      ]
     },
     "execution_count": 85,
     "metadata": {},
     "output_type": "execute_result"
    }
   ],
   "source": [
    "levelOrder_recursion(root)"
   ]
  },
  {
   "cell_type": "markdown",
   "metadata": {},
   "source": [
    "# Inorder Tree Traversal withou recursion and without stack\n",
    "Using Morris Traversal, we can tarversal the tree without using stack and recursion. The idea of Morris Traversal is based on `Threaded Binary Tree`. In this traversal, we first create links to Inorder successor and print the data using these links, and finally revert the changes to restore original tree.\n",
    "```python\n",
    "1. Initialize currrent as root\n",
    "2. While current is not NULL\n",
    "  If the current does not have left child\n",
    "    a) Print current's data\n",
    "    b) Got to the right, i.e, current = current -> right\n",
    "  Else\n",
    "    a) Make current as the right child of the rightmost\n",
    "      node in current's left subtree\n",
    "    b) Go to this left child, i.e., current = current -> left\n",
    "```"
   ]
  },
  {
   "cell_type": "code",
   "execution_count": 49,
   "metadata": {},
   "outputs": [],
   "source": [
    "def morrisTraversal(root):\n",
    "    # Initialize current as root.\n",
    "    current = root\n",
    "    morris_traversal = []\n",
    "    while current:\n",
    "        # If the current does not have left child\n",
    "        if not current.left:\n",
    "            morris_traversal.append(current.val)\n",
    "            current = current.right\n",
    "        else:\n",
    "            # Find the inorder predecessor of current\n",
    "            pre = current.left\n",
    "            while pre.right and pre.right != current:\n",
    "                pre = pre.right\n",
    "            \n",
    "            # Make current as right child of its inorder predecessor\n",
    "            if not pre.right:\n",
    "                pre.right = current\n",
    "                current = current.left\n",
    "            # Revert the changes made in if part to restore the \n",
    "            # original tree i.e., fix the right child of predecessor\n",
    "            else:\n",
    "                pre.right = None\n",
    "                morris_traversal.append(current.val)\n",
    "                current = current.right\n",
    "    return morris_traversal"
   ]
  },
  {
   "cell_type": "code",
   "execution_count": 50,
   "metadata": {},
   "outputs": [
    {
     "data": {
      "text/plain": [
       "[4, 2, 5, 1, 6, 3, 7]"
      ]
     },
     "execution_count": 50,
     "metadata": {},
     "output_type": "execute_result"
    }
   ],
   "source": [
    "morrisTraversal(root)"
   ]
  },
  {
   "cell_type": "code",
   "execution_count": null,
   "metadata": {},
   "outputs": [],
   "source": []
  }
 ],
 "metadata": {
  "kernelspec": {
   "display_name": "Python 3",
   "language": "python",
   "name": "python3"
  },
  "language_info": {
   "codemirror_mode": {
    "name": "ipython",
    "version": 3
   },
   "file_extension": ".py",
   "mimetype": "text/x-python",
   "name": "python",
   "nbconvert_exporter": "python",
   "pygments_lexer": "ipython3",
   "version": "3.6.6"
  }
 },
 "nbformat": 4,
 "nbformat_minor": 2
}
