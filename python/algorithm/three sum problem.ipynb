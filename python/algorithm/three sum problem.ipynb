{
 "cells": [
  {
   "cell_type": "code",
   "execution_count": 17,
   "metadata": {},
   "outputs": [],
   "source": [
    "def sum3(nums):\n",
    "    # [-1, 0, 1, 2, -1, -4]\n",
    "    nums.sort()\n",
    "    comb = []\n",
    "    print(nums)\n",
    "    def backtrack(nums, start=0, subset=[]):\n",
    "        if len(subset) > 3:\n",
    "            return\n",
    "        if sum(subset) == 0 and len(subset) == 3:\n",
    "            comb.append(subset.copy())\n",
    "        if sum(subset) > 0 and len(subset) == 3:\n",
    "            return\n",
    "        for i in range(start, len(nums)):\n",
    "            if i > start and nums[i] == nums[i-1]:\n",
    "                continue\n",
    "            subset.append(nums[i])\n",
    "            backtrack(nums, i+1)\n",
    "            subset.pop()\n",
    "    backtrack(nums)\n",
    "    return comb"
   ]
  },
  {
   "cell_type": "code",
   "execution_count": 18,
   "metadata": {},
   "outputs": [
    {
     "name": "stdout",
     "output_type": "stream",
     "text": [
      "[-4, -1, -1, 0, 1, 2]\n"
     ]
    },
    {
     "data": {
      "text/plain": [
       "[[-1, -1, 2], [-1, 0, 1]]"
      ]
     },
     "execution_count": 18,
     "metadata": {},
     "output_type": "execute_result"
    }
   ],
   "source": [
    "sum3([-1, 0, 1, 2, -1, -4])"
   ]
  },
  {
   "cell_type": "code",
   "execution_count": 22,
   "metadata": {},
   "outputs": [],
   "source": [
    "def sumThree(nums):\n",
    "    nums.sort()\n",
    "    ans = []\n",
    "    for i in range(len(nums)-2):\n",
    "        if (i == 0 or nums[i] != nums[i-1]):\n",
    "            lo, hi, target = i+1, len(nums)-1, 0 - nums[i]\n",
    "            while lo < hi:\n",
    "                if nums[lo] + nums[hi] == target:\n",
    "                    ans.append([nums[i], nums[lo], nums[hi]])\n",
    "                    while lo < hi and nums[lo] == nums[lo+1]:\n",
    "                        lo += 1\n",
    "                    while lo < hi and nums[hi] == nums[hi-1]:\n",
    "                        hi -=1\n",
    "                    lo += 1\n",
    "                    hi -= 1\n",
    "                elif nums[lo] + nums[hi] > target:\n",
    "                    lo += 1\n",
    "                else:\n",
    "                    hi -= 1\n",
    "    return ans"
   ]
  },
  {
   "cell_type": "code",
   "execution_count": 23,
   "metadata": {},
   "outputs": [
    {
     "data": {
      "text/plain": [
       "[[-1, -1, 2], [-1, 0, 1]]"
      ]
     },
     "execution_count": 23,
     "metadata": {},
     "output_type": "execute_result"
    }
   ],
   "source": [
    "sumThree([-1, 0, 1, 2, -1, -4])"
   ]
  },
  {
   "cell_type": "code",
   "execution_count": null,
   "metadata": {},
   "outputs": [],
   "source": []
  }
 ],
 "metadata": {
  "kernelspec": {
   "display_name": "Python 3",
   "language": "python",
   "name": "python3"
  },
  "language_info": {
   "codemirror_mode": {
    "name": "ipython",
    "version": 3
   },
   "file_extension": ".py",
   "mimetype": "text/x-python",
   "name": "python",
   "nbconvert_exporter": "python",
   "pygments_lexer": "ipython3",
   "version": "3.6.6"
  }
 },
 "nbformat": 4,
 "nbformat_minor": 2
}
