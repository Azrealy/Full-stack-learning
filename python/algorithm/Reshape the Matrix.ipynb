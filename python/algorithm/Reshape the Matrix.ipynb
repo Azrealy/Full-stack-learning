{
 "cells": [
  {
   "cell_type": "markdown",
   "metadata": {},
   "source": [
    "# Reshape the Matrix\n",
    "In MATLAB, there is a very useful function called 'reshape', which can reshape a matrix into a new one with different size but keep its original data.\n",
    "\n",
    "You're given a matrix represented by a two-dimensional array, and two positive integers r and c representing the row number and column number of the wanted reshaped matrix, respectively.\n",
    "\n",
    "The reshaped matrix need to be filled with all the elements of the original matrix in the same row-traversing order as they were.\n",
    "\n",
    "If the 'reshape' operation with given parameters is possible and legal, output the new reshaped matrix; Otherwise, output the original matrix.\n",
    "\n",
    "**Example 1:**\n",
    "```\n",
    "Input: \n",
    "nums = \n",
    "[[1,2],\n",
    " [3,4]]\n",
    "r = 1, c = 4\n",
    "Output: \n",
    "[[1,2,3,4]]\n",
    "Explanation:\n",
    "The row-traversing of nums is [1,2,3,4]. The new reshaped matrix is a 1 * 4 matrix, fill it row by row by using the previous list.\n",
    "```\n",
    "**Example 2:**\n",
    "```\n",
    "Input: \n",
    "nums = \n",
    "[[1,2],\n",
    " [3,4]]\n",
    "r = 2, c = 4\n",
    "Output: \n",
    "[[1,2],\n",
    " [3,4]]\n",
    "Explanation:\n",
    "There is no way to reshape a 2 * 2 matrix to a 2 * 4 matrix. So output the original matrix.\n",
    "Note:\n",
    "The height and width of the given matrix is in range [1, 100].\n",
    "The given r and c are all positive.\n",
    "```\n",
    "Note:\n",
    "\n",
    "The height and width of the given matrix is in range [1, 100].\n",
    "\n",
    "The given r and c are all positive.\n",
    "\n",
    "First of all, what is the legal input `r` and `c` of the list nums. That will be with times length of nums equal to r * c."
   ]
  },
  {
   "cell_type": "markdown",
   "metadata": {},
   "source": [
    "## Approach 1 Using queue\n",
    "The simplest method is to extract all the elements of the given matrix by reading the elements in a row-wise fashion. In this implementation, we use a queue to put the extracted elements. Then, we can take out the elements of the queue formed in a serial order and arrange the elements in the resultant required matrix in a row-by-row order again.\n",
    "\n",
    "Complexity Analysis\n",
    "\n",
    "Time complexity : O(m*n). We traverse over m*nm∗n elements twice. Here, mm and nn refer to the number of rows and columns of the given matrix respectively.\n",
    "\n",
    "Space complexity : O(m*n). The queue formed will be of size m∗n."
   ]
  },
  {
   "cell_type": "code",
   "execution_count": 6,
   "metadata": {},
   "outputs": [],
   "source": [
    "def matrixReshape(nums, r, c):\n",
    "    width = len(nums[0])\n",
    "    length = len(nums)\n",
    "    if r * c != width * length:\n",
    "        return nums\n",
    "    \n",
    "    restr = []\n",
    "    for i in nums:\n",
    "        restr += i\n",
    "    res = [[] for _ in range(r)]\n",
    "    idx = 0\n",
    "    for num in res:\n",
    "        col = 0\n",
    "        while col < c:\n",
    "            num.append(restr[idx])\n",
    "            idx += 1\n",
    "            col += 1\n",
    "    return res"
   ]
  },
  {
   "cell_type": "code",
   "execution_count": 11,
   "metadata": {},
   "outputs": [
    {
     "data": {
      "text/plain": [
       "[[1, 2], [3, 3], [4, 6]]"
      ]
     },
     "execution_count": 11,
     "metadata": {},
     "output_type": "execute_result"
    }
   ],
   "source": [
    "matrixReshape([[1,2, 3],[3,4, 6]], 3, 2)"
   ]
  },
  {
   "cell_type": "markdown",
   "metadata": {},
   "source": [
    "## Approach 3 Using division and modulus\n",
    "In the last approach, we needed to keep a track of when we reached the end of columns for the resultant matrix and needed to update the current row and column number for putting the extracted elements by checking the current indices every time. Instead of doing these limit checks at every step, we can make use of maths to help ease the situation.\n",
    "\n",
    "The idea behind this approach is as follows. Do you know how a 2-D array is stored in the main memory(which is 1-D in nature)? It is internally represented as a 1-D array only. The element nums[i][j]nums[i][j] of numsnums array is represented in the form of a one dimensional array by using the index in the form: nums[n*i + j]nums[n∗i+j], where mm is the number of columns in the given matrix. Looking at the same in the reverse order, while putting the elements in the elements in the resultant matrix, we can make use of a countcount variable which gets incremented for every element traversed as if we are putting the elements in a 1-D resultant array. But, to convert the countcount back into 2-D matrix indices with a column count of cc, we can obtain the indices as res[count/c][count\\%c]res[count/c][count%c] where count/ccount/c is the row number and count\\%ccount%c is the coloumn number. Thus, we can save the extra checking required at each step.\n",
    "\n",
    "**Complexity Analysis**\n",
    "\n",
    "Time complexity : O(m∗n). We traverse the entire matrix of size m∗n once only. Here, mm and nn refers to the number of rows and columns in the given matrix.\n",
    "\n",
    "Space complexity : O(m*n). The resultant matrix of size m∗n is used."
   ]
  },
  {
   "cell_type": "code",
   "execution_count": 13,
   "metadata": {},
   "outputs": [],
   "source": [
    "def matrixReshape_inplace(nums, r, c):\n",
    "    width = len(nums[0])\n",
    "    length = len(nums)\n",
    "    if r * c != width * length:\n",
    "        return nums\n",
    "    res = [[0 for _ in range(c)] for _ in range(r)]\n",
    "    count = 0\n",
    "    for num in nums:\n",
    "        for i in num:\n",
    "            res[count // c][count % c] = i\n",
    "            count += 1\n",
    "    return res"
   ]
  },
  {
   "cell_type": "code",
   "execution_count": 14,
   "metadata": {},
   "outputs": [
    {
     "data": {
      "text/plain": [
       "[[1, 2], [3, 3], [4, 6]]"
      ]
     },
     "execution_count": 14,
     "metadata": {},
     "output_type": "execute_result"
    }
   ],
   "source": [
    "matrixReshape_inplace([[1,2, 3],[3,4, 6]], 3, 2)"
   ]
  },
  {
   "cell_type": "code",
   "execution_count": null,
   "metadata": {},
   "outputs": [],
   "source": []
  }
 ],
 "metadata": {
  "kernelspec": {
   "display_name": "Python 3",
   "language": "python",
   "name": "python3"
  },
  "language_info": {
   "codemirror_mode": {
    "name": "ipython",
    "version": 3
   },
   "file_extension": ".py",
   "mimetype": "text/x-python",
   "name": "python",
   "nbconvert_exporter": "python",
   "pygments_lexer": "ipython3",
   "version": "3.6.6"
  }
 },
 "nbformat": 4,
 "nbformat_minor": 2
}
