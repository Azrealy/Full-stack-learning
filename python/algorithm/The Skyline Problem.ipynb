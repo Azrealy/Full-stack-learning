{
 "cells": [
  {
   "cell_type": "markdown",
   "metadata": {},
   "source": [
    "# The Skyline Problem\n",
    "A city's skyline is the outer contour of the silhouette formed by all the buildings in that city when viewed from a distance. Now suppose you are given the locations and height of all the buildings as shown on a cityscape photo (Figure A), write a program to output the skyline formed by these buildings collectively (Figure B).\n",
    "\n",
    "![alt text](./skyline1.png \"Logo Title Text 1\") ![alt text](./skyline2.png \"Logo Title Text 1\")\n",
    "\n",
    "The geometric information of each building is represented by a triplet of integers `[Li, Ri, Hi]`, where Li and Ri are the x coordinates of the left and right edge of the ith building, respectively, and Hi is its height. It is guaranteed that `0 ≤ Li, Ri ≤ INT_MAX, 0 < Hi ≤ INT_MAX`, and `Ri - Li > 0`. You may assume all buildings are perfect rectangles grounded on an absolutely flat surface at height 0.\n",
    "\n",
    "For instance, the dimensions of all buildings in Figure A are recorded as: `[ [2 9 10], [3 7 15], [5 12 12], [15 20 10], [19 24 8] ]` .\n",
    "\n",
    "The output is a list of \"key points\" (red dots in Figure B) in the format of `[ [x1,y1], [x2, y2], [x3, y3], ... ]` that uniquely defines a skyline. A key point is the left endpoint of a horizontal line segment. Note that the last key point, where the rightmost building ends, is merely used to mark the termination of the skyline, and always has zero height. Also, the ground in between any two adjacent buildings should be considered part of the skyline contour.\n",
    "\n",
    "For instance, the skyline in Figure B should be represented as:`[ [2 10], [3 15], [7 12], [12 0], [15 10], [20 8], [24, 0] ]`.\n",
    "\n",
    "**Notes:**\n",
    "```\n",
    "The number of buildings in any input list is guaranteed to be in the range [0, 10000].\n",
    "The input list is already sorted in ascending order by the left x position Li.\n",
    "The output list must be sorted by the x position.\n",
    "There must be no consecutive horizontal lines of equal height in the output skyline. For instance, [...[2 3], [4 5], [7 5], [11 5], [12 7]...] is not acceptable; the three lines of height 5 should be merged into one in the final output as such: [...[2 3], [4 5], [12 7], ...]\n",
    "```"
   ]
  },
  {
   "cell_type": "markdown",
   "metadata": {},
   "source": [
    "# The heap approach"
   ]
  },
  {
   "cell_type": "code",
   "execution_count": 45,
   "metadata": {},
   "outputs": [],
   "source": [
    "from heapq import heappop, heappush\n",
    "def getSkyline(buildings):\n",
    "    scan = []\n",
    "    for b in buildings:\n",
    "        scan.append([b[0], -b[2]])\n",
    "        scan.append([b[1], b[2]])\n",
    "    # sort the building base on x corrdination.\n",
    "    # start is -height, end is height\n",
    "    scan = sorted(scan, key = lambda i: (i[0], i[1]))\n",
    "    \n",
    "    pq = [0]\n",
    "    current_h = 0\n",
    "    ignored_h = {}\n",
    "    ans = []\n",
    "    for build in scan:\n",
    "        if build[1] < 0:\n",
    "            # if its a start height, we will store it into our heap.\n",
    "            # store the -height into min heap\n",
    "            heappush(pq, build[1])\n",
    "        else:\n",
    "            # store need remove height into ignored. (height, 1) \n",
    "            ignored_h[build[1]] = ignored_h.get(build[1], 0) + 1\n",
    "\n",
    "        while -pq[0] in ignored_h and ignored_h[-pq[0]] >= 1:\n",
    "            ignored_h[-pq[0]] -= 1\n",
    "            heappop(pq)\n",
    "        \n",
    "        if current_h != -pq[0]:\n",
    "            ans.append([build[0], -pq[0]])\n",
    "            current_h = -pq[0]\n",
    "    return ans"
   ]
  },
  {
   "cell_type": "code",
   "execution_count": 50,
   "metadata": {},
   "outputs": [
    {
     "data": {
      "text/plain": [
       "[[2, 10], [3, 15], [7, 12], [12, 0], [15, 10], [20, 8], [24, 0]]"
      ]
     },
     "execution_count": 50,
     "metadata": {},
     "output_type": "execute_result"
    }
   ],
   "source": [
    "getSkyline([[2,9,10],[3,7,15],[5,12,12],[15,20,10],[19,24,8]])"
   ]
  },
  {
   "cell_type": "code",
   "execution_count": 51,
   "metadata": {},
   "outputs": [
    {
     "data": {
      "text/plain": [
       "0.004396854899823666"
      ]
     },
     "execution_count": 51,
     "metadata": {},
     "output_type": "execute_result"
    }
   ],
   "source": [
    "import timeit\n",
    "timeit.timeit(\"getSkyline([[2,9,10],[3,7,15],[5,12,12],[15,20,10],[19,24,8]])\", number=100, globals=globals())"
   ]
  },
  {
   "cell_type": "markdown",
   "metadata": {},
   "source": [
    "Our sorted will cost `O(nlogn)` and `heappop()` and `heappush()` will both cost `O(logn)` time complexity. So our total time complexity will be `O(nlogn)`. As we use the extra space to store the end of each building, they will be `O(n)` space complexity."
   ]
  },
  {
   "cell_type": "markdown",
   "metadata": {},
   "source": [
    "# Divide and Conquer approach"
   ]
  },
  {
   "cell_type": "code",
   "execution_count": 87,
   "metadata": {},
   "outputs": [],
   "source": [
    "def getSkyline_divde(buildings):\n",
    "    def divide(buildings):\n",
    "        if not buildings:\n",
    "            return []\n",
    "        if len(buildings) == 1:\n",
    "            return [[buildings[0][0], buildings[0][2]], [buildings[0][1], 0]]\n",
    "        \n",
    "        mid = len(buildings) // 2\n",
    "        left = divide(buildings[:mid])\n",
    "        right = divide(buildings[mid:])\n",
    "        return merge(left, right)\n",
    "    \n",
    "    def update_output(output, x, max_h):\n",
    "        if not output or output[-1][0] != x:\n",
    "            output.append([x, max_h])\n",
    "        else:\n",
    "            output[-1][1] = max_h\n",
    "    \n",
    "    def append_left_skyline(output, arr, idx, length):\n",
    "        while idx < length:\n",
    "            x, h = arr[idx]\n",
    "            update_output(output, x, h)\n",
    "            idx += 1\n",
    "    \n",
    "    def merge(left, right):\n",
    "        l_idx, r_idx = 0, 0\n",
    "        len_l, len_r = len(left), len(right)\n",
    "        current = 0\n",
    "        left_h, right_h = 0, 0\n",
    "        output = []\n",
    "        while l_idx < len_l and r_idx < len_r:\n",
    "            if left[l_idx][0] < right[r_idx][0]:\n",
    "                x, left_h = left[l_idx]\n",
    "                l_idx += 1\n",
    "            else:\n",
    "                x, right_h = right[r_idx]\n",
    "                r_idx += 1\n",
    "            max_h = max(left_h, right_h)\n",
    "            if current != max_h:\n",
    "                update_output(output, x, max_h)\n",
    "                current = max_h\n",
    "        append_left_skyline(output, left, l_idx, len_l)\n",
    "        append_left_skyline(output, right, r_idx, len_r)\n",
    "        return output\n",
    "    return divide(buildings)"
   ]
  },
  {
   "cell_type": "code",
   "execution_count": 88,
   "metadata": {},
   "outputs": [
    {
     "data": {
      "text/plain": [
       "[[1, 3], [2, 0]]"
      ]
     },
     "execution_count": 88,
     "metadata": {},
     "output_type": "execute_result"
    }
   ],
   "source": [
    "getSkyline_divde([[1,2,1],[1,2,2],[1,2,3]])"
   ]
  },
  {
   "cell_type": "code",
   "execution_count": 80,
   "metadata": {},
   "outputs": [
    {
     "data": {
      "text/plain": [
       "0.006973804091103375"
      ]
     },
     "execution_count": 80,
     "metadata": {},
     "output_type": "execute_result"
    }
   ],
   "source": [
    "timeit.timeit(\"getSkyline_divde([[2,9,10],[3,7,15],[5,12,12],[15,20,10],[19,24,8]])\", number=100, globals=globals())"
   ]
  }
 ],
 "metadata": {
  "kernelspec": {
   "display_name": "Python 3",
   "language": "python",
   "name": "python3"
  },
  "language_info": {
   "codemirror_mode": {
    "name": "ipython",
    "version": 3
   },
   "file_extension": ".py",
   "mimetype": "text/x-python",
   "name": "python",
   "nbconvert_exporter": "python",
   "pygments_lexer": "ipython3",
   "version": "3.6.6"
  }
 },
 "nbformat": 4,
 "nbformat_minor": 2
}
