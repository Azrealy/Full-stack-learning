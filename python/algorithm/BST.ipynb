{
 "cells": [
  {
   "cell_type": "markdown",
   "metadata": {},
   "source": [
    "# A defination of Binary Search Tree\n",
    "\n",
    "A `binary search tree`, a specifial form of the binary tree, satisfies the binary search property:\n",
    "1. The value in each node must be `greater than` any values stored in its left subtree.\n",
    "2. The value in each node must be `smaller than` any values stored in its right subtree.\n",
    "\n",
    "## Validate Binary Search Tree\n",
    "\n",
    "Given a binary tree, determine if it is a valid binary search tree (BST).\n",
    "\n",
    "Assume a BST is defined as follows:\n",
    "\n",
    "The left subtree of a node contains only nodes with keys less than the node's key.\n",
    "The right subtree of a node contains only nodes with keys greater than the node's key.\n",
    "Both the left and right subtrees must also be binary search trees.\n",
    " \n",
    "\n",
    "Example 1:\n",
    "```\n",
    "    2\n",
    "   / \\\n",
    "  1   3\n",
    "\n",
    "Input: [2,1,3]\n",
    "Output: true\n",
    "```\n",
    "Example 2:\n",
    "```\n",
    "    5\n",
    "   / \\\n",
    "  1   4\n",
    "     / \\\n",
    "    3   6\n",
    "\n",
    "Input: [5,1,4,null,null,3,6]\n",
    "Output: false\n",
    "```\n",
    "Explanation: The root node's value is 5 but its right child's value is 4."
   ]
  },
  {
   "cell_type": "code",
   "execution_count": 8,
   "metadata": {},
   "outputs": [],
   "source": [
    "class TreeNode:\n",
    "    def __init__(self, val):\n",
    "        self.val = val\n",
    "        self.right = None\n",
    "        self.left = None\n",
    "    def __repr__(self):\n",
    "        return repr(f'<Value: {self.val}, left:{self.left}, right:{self.right}>')"
   ]
  },
  {
   "cell_type": "code",
   "execution_count": 9,
   "metadata": {},
   "outputs": [],
   "source": [
    "head = TreeNode(10)\n",
    "head.right = TreeNode(12)\n",
    "head.left = TreeNode(5)"
   ]
  },
  {
   "cell_type": "code",
   "execution_count": 10,
   "metadata": {},
   "outputs": [],
   "source": [
    "def verifyBST(head):\n",
    "    def inorder(root, minVal=float('-inf'), maxVal=float('inf')):\n",
    "        if root:\n",
    "            if root.val < minVal or root.val > maxVal:\n",
    "                return False\n",
    "            return inorder(root.right, root.val, maxVal) and inorder(root.left, minVal, root.val)\n",
    "\n",
    "        return True\n",
    "    return inorder(head)"
   ]
  },
  {
   "cell_type": "code",
   "execution_count": 11,
   "metadata": {},
   "outputs": [
    {
     "data": {
      "text/plain": [
       "True"
      ]
     },
     "execution_count": 11,
     "metadata": {},
     "output_type": "execute_result"
    }
   ],
   "source": [
    "verifyBST(head)"
   ]
  },
  {
   "cell_type": "code",
   "execution_count": 12,
   "metadata": {},
   "outputs": [],
   "source": [
    "import pysnooper\n",
    "def inorderSuccessor(root, p):\n",
    "    ans = None\n",
    "    flag = False\n",
    "    def inorder(root):\n",
    "        nonlocal ans\n",
    "        nonlocal flag\n",
    "        if not root:\n",
    "            return None\n",
    "        inorder(root.left)\n",
    "        if flag:\n",
    "            flag = False\n",
    "            ans = root\n",
    "        if p == root:\n",
    "            flag = True\n",
    "        inorder(root.right)\n",
    "    inorder(root)\n",
    "    return ans"
   ]
  },
  {
   "cell_type": "code",
   "execution_count": 13,
   "metadata": {},
   "outputs": [
    {
     "data": {
      "text/plain": [
       "\"<Value: 10, left:'<Value: 5, left:None, right:None>', right:'<Value: 12, left:None, right:None>'>\""
      ]
     },
     "execution_count": 13,
     "metadata": {},
     "output_type": "execute_result"
    }
   ],
   "source": [
    "inorderSuccessor(head, head.left)"
   ]
  },
  {
   "cell_type": "markdown",
   "metadata": {},
   "source": [
    "## Binary Search Tree Iterator\n",
    "\n",
    "Implement an iterator over a binary search tree (BST). Your iterator will be initialized with the root node of a BST.\n",
    "\n",
    "Calling next() will return the next smallest number in the BST.\n",
    "\n",
    "Example:\n",
    "[7,3,15,None,None,9,20]\n",
    "```python\n",
    "BSTIterator iterator = new BSTIterator(root);\n",
    "iterator.next();    // return 3\n",
    "iterator.next();    // return 7\n",
    "iterator.hasNext(); // return true\n",
    "iterator.next();    // return 9\n",
    "iterator.hasNext(); // return true\n",
    "iterator.next();    // return 15\n",
    "iterator.hasNext(); // return true\n",
    "iterator.next();    // return 20\n",
    "iterator.hasNext(); // return false\n",
    "```\n",
    "\n",
    "Note:\n",
    "\n",
    "next() and hasNext() should run in average O(1) time and uses O(h) memory, where h is the height of the tree.\n",
    "You may assume that next() call will always be valid, that is, there will be at least a next smallest number in the BST when next() is called."
   ]
  },
  {
   "cell_type": "code",
   "execution_count": 101,
   "metadata": {},
   "outputs": [],
   "source": [
    "# Definition for a binary tree node.\n",
    "# class TreeNode:\n",
    "#     def __init__(self, x):\n",
    "#         self.val = x\n",
    "#         self.left = None\n",
    "#         self.right = None\n",
    "\n",
    "class BSTIterator:\n",
    "\n",
    "    def __init__(self, root):\n",
    "        self.queue = []\n",
    "        while root:\n",
    "            self.queue.append(root)\n",
    "            root = root.left\n",
    "        self.g = self.iterator()\n",
    "        \n",
    "    def iterator(self):\n",
    "        while self.queue:\n",
    "            node = self.queue.pop()\n",
    "            val = node.val\n",
    "            if not node.right:\n",
    "                yield val\n",
    "            else:\n",
    "                tmp = node.right\n",
    "                while tmp:\n",
    "                    self.queue.append(tmp)\n",
    "                    tmp = tmp.left\n",
    "                yield val\n",
    "            \n",
    "    def genext(self):\n",
    "        return next(self.g)\n",
    "    \n",
    "    def next(self):\n",
    "        \"\"\"\n",
    "        @return the next smallest number\n",
    "        \"\"\"\n",
    "        node = self.queue.pop()\n",
    "        val = node.val\n",
    "        if not node.right:\n",
    "            return val\n",
    "        else:\n",
    "            tmp = node.right\n",
    "            while tmp:\n",
    "                self.queue.append(tmp)\n",
    "                tmp = tmp.left\n",
    "            return val\n",
    "        \n",
    "    def hasNext(self):\n",
    "        \"\"\"\n",
    "        @return whether we have a next smallest number\n",
    "        \"\"\"\n",
    "        return len(self.queue)\n",
    "        "
   ]
  },
  {
   "cell_type": "code",
   "execution_count": 108,
   "metadata": {},
   "outputs": [],
   "source": [
    "head = TreeNode(10)\n",
    "head.right = TreeNode(12)\n",
    "head.left = TreeNode(5)"
   ]
  },
  {
   "cell_type": "code",
   "execution_count": 109,
   "metadata": {},
   "outputs": [],
   "source": [
    "b = BSTIterator(head)"
   ]
  },
  {
   "cell_type": "code",
   "execution_count": 110,
   "metadata": {},
   "outputs": [
    {
     "data": {
      "text/plain": [
       "5"
      ]
     },
     "execution_count": 110,
     "metadata": {},
     "output_type": "execute_result"
    }
   ],
   "source": [
    "b.genext()"
   ]
  },
  {
   "cell_type": "markdown",
   "metadata": {},
   "source": [
    "## Search in a Binary Search Tree\n",
    "\n",
    "Given the root node of a binary search tree (BST) and a value. You need to find the node in the BST that the node's value equals the given value. Return the subtree rooted with that node. If such node doesn't exist, you should return NULL.\n",
    "\n",
    "For example, \n",
    "```\n",
    "Given the tree:\n",
    "        4\n",
    "       / \\\n",
    "      2   7\n",
    "     / \\\n",
    "    1   3\n",
    "```\n",
    "And the value to search: 2\n",
    "```\n",
    "You should return this subtree:\n",
    "\n",
    "      2     \n",
    "     / \\   \n",
    "    1   3\n",
    "```\n",
    "In the example above, if we want to search the value 5, since there is no node with value 5, we should return NULL.\n",
    "\n",
    "Note that an empty tree is represented by NULL, therefore you would see the expected output (serialized tree format) as [], not null."
   ]
  },
  {
   "cell_type": "code",
   "execution_count": 111,
   "metadata": {},
   "outputs": [],
   "source": [
    "def searchBST(root, val):\n",
    "    if not root:\n",
    "        return None\n",
    "    if root.val < val:\n",
    "        return searchBST(root.right, val)\n",
    "    elif root.val > val:\n",
    "        return searchBST(root.left, val)\n",
    "    else:\n",
    "        return root"
   ]
  },
  {
   "cell_type": "code",
   "execution_count": 112,
   "metadata": {},
   "outputs": [],
   "source": [
    "head = TreeNode(10)\n",
    "head.right = TreeNode(12)\n",
    "head.left = TreeNode(5)"
   ]
  },
  {
   "cell_type": "code",
   "execution_count": 117,
   "metadata": {},
   "outputs": [
    {
     "data": {
      "text/plain": [
       "'<Value: 5, left:None, right:None>'"
      ]
     },
     "execution_count": 117,
     "metadata": {},
     "output_type": "execute_result"
    }
   ],
   "source": [
    "searchBST(head, 5)"
   ]
  },
  {
   "cell_type": "markdown",
   "metadata": {},
   "source": [
    "## Insert into a Binary Search Tree\n",
    "\n",
    "Given the root node of a binary search tree (BST) and a value to be inserted into the tree, insert the value into the BST. Return the root node of the BST after the insertion. It is guaranteed that the new value does not exist in the original BST.\n",
    "\n",
    "Note that there may exist multiple valid ways for the insertion, as long as the tree remains a BST after insertion. You can return any of them.\n",
    "\n",
    "For example, \n",
    "Given the tree:\n",
    "```\n",
    "        4\n",
    "       / \\\n",
    "      2   7\n",
    "     / \\\n",
    "    1   3\n",
    "```\n",
    "And the value to insert: 5\n",
    "You can return this binary search tree:\n",
    "```\n",
    "         4\n",
    "       /   \\\n",
    "      2     7\n",
    "     / \\   /\n",
    "    1   3 5\n",
    "```\n",
    "This tree is also valid:\n",
    "```\n",
    "         5\n",
    "       /   \\\n",
    "      2     7\n",
    "     / \\   \n",
    "    1   3\n",
    "         \\\n",
    "          4\n",
    "```"
   ]
  },
  {
   "cell_type": "code",
   "execution_count": 125,
   "metadata": {},
   "outputs": [],
   "source": [
    "def insertBST(root, val):\n",
    "    if not root:\n",
    "        return TreeNode(val)\n",
    "    elif root.val < val:\n",
    "        root.right = insertBST(root.right, val)\n",
    "    elif root.val > val:\n",
    "        root.left = insertBST(root.left, val)\n",
    "    return root"
   ]
  },
  {
   "cell_type": "code",
   "execution_count": 126,
   "metadata": {},
   "outputs": [],
   "source": [
    "head = TreeNode(10)\n",
    "head.right = TreeNode(12)\n",
    "head.left = TreeNode(5)"
   ]
  },
  {
   "cell_type": "code",
   "execution_count": 129,
   "metadata": {},
   "outputs": [],
   "source": [
    "m = insertBST(head, 100)"
   ]
  },
  {
   "cell_type": "code",
   "execution_count": 130,
   "metadata": {},
   "outputs": [
    {
     "data": {
      "text/plain": [
       "'<Value: 10, left:\\'<Value: 5, left:None, right:None>\\', right:\"<Value: 12, left:\\'<Value: 11, left:None, right:None>\\', right:\\'<Value: 100, left:None, right:None>\\'>\">'"
      ]
     },
     "execution_count": 130,
     "metadata": {},
     "output_type": "execute_result"
    }
   ],
   "source": [
    "insertBST(m, 11)"
   ]
  },
  {
   "cell_type": "markdown",
   "metadata": {},
   "source": [
    "## Delete Node in a BST\n",
    "\n",
    "Given a root node reference of a BST and a key, delete the node with the given key in the BST. Return the root node reference (possibly updated) of the BST.\n",
    "\n",
    "Basically, the deletion can be divided into two stages:\n",
    "\n",
    "Search for a node to remove.\n",
    "If the node is found, delete the node.\n",
    "Note: Time complexity should be O(height of tree).\n",
    "\n",
    "Example:\n",
    "\n",
    "root = [5,3,6,2,4,null,7]\n",
    "key = 3\n",
    "```\n",
    "    5\n",
    "   / \\\n",
    "  3   6\n",
    " / \\   \\\n",
    "2   4   7\n",
    "```\n",
    "Given key to delete is 3. So we find the node with value 3 and delete it.\n",
    "\n",
    "One valid answer is [5,4,6,2,null,null,7], shown in the following BST.\n",
    "```\n",
    "    5\n",
    "   / \\\n",
    "  4   6\n",
    " /     \\\n",
    "2       7\n",
    "```\n",
    "Another valid answer is [5,2,6,null,4,null,7].\n",
    "```\n",
    "    5\n",
    "   / \\\n",
    "  2   6\n",
    "   \\   \\\n",
    "    4   7\n",
    "```"
   ]
  },
  {
   "cell_type": "code",
   "execution_count": 161,
   "metadata": {},
   "outputs": [],
   "source": [
    "def deleteBST(root, val):\n",
    "    if not root:\n",
    "        return TreeNode(val)\n",
    "    \n",
    "    def succsor(node):\n",
    "        node = node.right\n",
    "        succsor = None\n",
    "        while node:\n",
    "            succsor = node\n",
    "            node = node.left\n",
    "        return succsor\n",
    "    def predecessor(node):\n",
    "        node = node.left\n",
    "        pred = None\n",
    "        while node:\n",
    "            pred = node\n",
    "            node = node.right\n",
    "        return pred\n",
    "    \n",
    "    if val < root.val:\n",
    "        root.left = deleteBST(root.left, val)\n",
    "    if val > root.val:\n",
    "        root.right = deleteBST(root.right, val)\n",
    "        \n",
    "    if val == root.val:\n",
    "        if not root.left and not root.right:\n",
    "            root = None\n",
    "        elif root.left:\n",
    "            root.val = predecessor(root).val\n",
    "            root.left = deleteBST(root.left, root.val)\n",
    "        elif root.right:\n",
    "            root.val = succsor(root).val\n",
    "            root.right = deleteBST(root.right, root.val)\n",
    "    \n",
    "    return root"
   ]
  },
  {
   "cell_type": "code",
   "execution_count": 167,
   "metadata": {},
   "outputs": [],
   "source": [
    "head1 = TreeNode(10)\n",
    "head1.right = TreeNode(12)\n",
    "head1.left = TreeNode(5)"
   ]
  },
  {
   "cell_type": "code",
   "execution_count": 168,
   "metadata": {},
   "outputs": [
    {
     "data": {
      "text/plain": [
       "\"<Value: 5, left:None, right:'<Value: 12, left:None, right:None>'>\""
      ]
     },
     "execution_count": 168,
     "metadata": {},
     "output_type": "execute_result"
    }
   ],
   "source": [
    "deleteBST(head1, 10)"
   ]
  },
  {
   "cell_type": "markdown",
   "metadata": {},
   "source": [
    "## Kth Largest Element in a Stream\n",
    "\n",
    "Design a class to find the kth largest element in a stream. Note that it is the kth largest element in the sorted order, not the kth distinct element.\n",
    "\n",
    "Your KthLargest class will have a constructor which accepts an integer k and an integer array nums, which contains initial elements from the stream. For each call to the method KthLargest.add, return the element representing the kth largest element in the stream.\n",
    "\n",
    "Example:\n",
    "```\n",
    "int k = 3;\n",
    "int[] arr = [4,5,8,2];\n",
    "KthLargest kthLargest = new KthLargest(3, arr);\n",
    "[2,4,5,8]\n",
    "kthLargest.add(3);   // returns 4 [2,3,4,5,8]\n",
    "kthLargest.add(5);   // returns 5 [2,3,4,5,5,8]\n",
    "kthLargest.add(10);  // returns 5 [2,3,4,5,5,8,10]\n",
    "kthLargest.add(9);   // returns 8 [2,3,4,5,5,8,9,10]\n",
    "kthLargest.add(4);   // returns 8 [2,3,4,4,5,5,8,9,10]\n",
    "```\n",
    "Note: \n",
    "You may assume that nums' length ≥ k-1 and k ≥ 1."
   ]
  },
  {
   "cell_type": "code",
   "execution_count": 203,
   "metadata": {},
   "outputs": [],
   "source": [
    "class KthLargest:\n",
    "\n",
    "    def __init__(self, k, nums):\n",
    "        self.heap = [float(\"-inf\")]\n",
    "        for i in nums:\n",
    "            if len(self.heap) == k:\n",
    "                if self.heap[0] < i:\n",
    "                    heapq.heappop(self.heap)\n",
    "                    heapq.heappush(self.heap, i)\n",
    "                else:\n",
    "                    continue\n",
    "            else:\n",
    "                heapq.heappush(self.heap, i)\n",
    "\n",
    "    def add(self, val):\n",
    "        if self.heap[0] < val:\n",
    "            heapq.heappop(self.heap)\n",
    "            heapq.heappush(self.heap, val)\n",
    "            return self.heap[0]\n",
    "        else:\n",
    "            return self.heap[0]\n",
    "            \n",
    "\n",
    "\n",
    "# Your KthLargest object will be instantiated and called as such:\n",
    "# obj = KthLargest(k, nums)\n",
    "# param_1 = obj.add(val)"
   ]
  },
  {
   "cell_type": "code",
   "execution_count": 205,
   "metadata": {},
   "outputs": [],
   "source": [
    "kth = KthLargest(3, [4,2,6,7,8])"
   ]
  },
  {
   "cell_type": "code",
   "execution_count": 207,
   "metadata": {},
   "outputs": [
    {
     "data": {
      "text/plain": [
       "10"
      ]
     },
     "execution_count": 207,
     "metadata": {},
     "output_type": "execute_result"
    }
   ],
   "source": [
    "kth.add(10)\n",
    "kth.add(21)"
   ]
  },
  {
   "cell_type": "markdown",
   "metadata": {},
   "source": [
    "## Lowest Common Ancestor of a Binary Search Tree\n",
    "\n",
    "Given a binary search tree (BST), find the lowest common ancestor (LCA) of two given nodes in the BST.\n",
    "\n",
    "According to the definition of LCA on Wikipedia: “The lowest common ancestor is defined between two nodes p and q as the lowest node in T that has both p and q as descendants (where we allow a node to be a descendant of itself).”\n",
    "\n",
    "Given binary search tree:  root = [6,2,8,0,4,7,9,null,null,3,5]\n",
    " \n",
    "\n",
    "Example 1:\n",
    "```\n",
    "Input: root = [6,2,8,0,4,7,9,null,null,3,5], p = 2, q = 8\n",
    "Output: 6\n",
    "```\n",
    "Explanation: The LCA of nodes 2 and 8 is 6.\n",
    "Example 2:\n",
    "```\n",
    "Input: root = [6,2,8,0,4,7,9,null,null,3,5], p = 2, q = 4\n",
    "Output: 2\n",
    "```\n",
    "Explanation: The LCA of nodes 2 and 4 is 2, since a node can be a descendant of itself according to the LCA definition.\n",
    " \n",
    "Note:\n",
    "\n",
    "All of the nodes' values will be unique.\n",
    "p and q are different and both values will exist in the BST.\n",
    "```\n",
    "   root\n",
    "  /   \\\n",
    "left  right\n",
    "```\n",
    "There should be have three conditions:\n",
    "1. Find (p,q) on the left subtree and right subtree. this time root will be the common ancestor.\n",
    "2. Root is the one our target, and also find the other target on our left subtree or right subtree.\n",
    "3. From this root, can not find any target."
   ]
  },
  {
   "cell_type": "code",
   "execution_count": 217,
   "metadata": {},
   "outputs": [],
   "source": [
    "def lowestCommonAncestor(root, p, q):\n",
    "    ans = None\n",
    "    def postorder(root):\n",
    "        nonlocal ans\n",
    "        if not root:\n",
    "            return False\n",
    "        left = postorder(root.left)\n",
    "        right = postorder(root.right)\n",
    "        if root == p or root == q:\n",
    "            if left or right:\n",
    "                ans = root\n",
    "                return False\n",
    "            else:\n",
    "                return True\n",
    "        elif left and right:\n",
    "            ans = root\n",
    "            return False\n",
    "        elif left or right:\n",
    "            return True\n",
    "        else:\n",
    "            return False\n",
    "\n",
    "    postorder(root)\n",
    "    return ans"
   ]
  },
  {
   "cell_type": "code",
   "execution_count": 218,
   "metadata": {},
   "outputs": [],
   "source": [
    "head1 = TreeNode(10)\n",
    "head1.right = TreeNode(12)\n",
    "head1.left = TreeNode(5)"
   ]
  },
  {
   "cell_type": "code",
   "execution_count": 222,
   "metadata": {},
   "outputs": [
    {
     "data": {
      "text/plain": [
       "\"<Value: 10, left:'<Value: 5, left:None, right:None>', right:'<Value: 12, left:None, right:None>'>\""
      ]
     },
     "execution_count": 222,
     "metadata": {},
     "output_type": "execute_result"
    }
   ],
   "source": [
    "lowestCommonAncestor(head1, head1.right, head1.left)"
   ]
  },
  {
   "cell_type": "markdown",
   "metadata": {},
   "source": [
    "## Contains Duplicate III\n",
    "\n",
    "Given an array of integers, find out whether there are two distinct indices i and j in the array such that the absolute difference between nums[i] and nums[j] is at most t and the absolute difference between i and j is at most k.\n",
    "\n",
    "Example 1:\n",
    "```\n",
    "Input: nums = [1,2,3,1], k = 3, t = 0\n",
    "Output: true\n",
    "```\n",
    "Example 2:\n",
    "```\n",
    "Input: nums = [1,0,1,1], k = 1, t = 2\n",
    "Output: true\n",
    "```\n",
    "Example 3:\n",
    "```\n",
    "Input: nums = [1,5,9,1,5,9], k = 2, t = 3\n",
    "Output: false\n",
    "```"
   ]
  },
  {
   "cell_type": "code",
   "execution_count": null,
   "metadata": {},
   "outputs": [],
   "source": []
  }
 ],
 "metadata": {
  "kernelspec": {
   "display_name": "Python 3",
   "language": "python",
   "name": "python3"
  },
  "language_info": {
   "codemirror_mode": {
    "name": "ipython",
    "version": 3
   },
   "file_extension": ".py",
   "mimetype": "text/x-python",
   "name": "python",
   "nbconvert_exporter": "python",
   "pygments_lexer": "ipython3",
   "version": "3.6.6"
  }
 },
 "nbformat": 4,
 "nbformat_minor": 4
}
