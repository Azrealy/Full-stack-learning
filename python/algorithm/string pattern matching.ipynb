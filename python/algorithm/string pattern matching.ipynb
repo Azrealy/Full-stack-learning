{
 "cells": [
  {
   "cell_type": "code",
   "execution_count": 9,
   "metadata": {},
   "outputs": [],
   "source": [
    "import pysnooper\n",
    "@pysnooper.snoop()\n",
    "def prefix(p):\n",
    "    m =  len(p)\n",
    "    pi = [0] * m\n",
    "    j = 0\n",
    "    for i in range(1, m):\n",
    "        while j >= 0 and p[j] != p[i]:\n",
    "            if j -1 >=0:\n",
    "                j = pi[j-1]\n",
    "            else:\n",
    "                j -= 1\n",
    "        j += 1\n",
    "        pi[i] = j\n",
    "    return pi"
   ]
  },
  {
   "cell_type": "code",
   "execution_count": 10,
   "metadata": {},
   "outputs": [
    {
     "name": "stderr",
     "output_type": "stream",
     "text": [
      "Starting var:.. p = 'ababaca'\n",
      "18:12:08.276574 call         3 def prefix(p):\n",
      "18:12:08.276766 line         4     m =  len(p)\n",
      "New var:....... m = 7\n",
      "18:12:08.276869 line         5     pi = [0] * m\n",
      "New var:....... pi = [0, 0, 0, 0, 0, 0, 0]\n",
      "18:12:08.276973 line         6     j = 0\n",
      "New var:....... j = 0\n",
      "18:12:08.277128 line         7     for i in range(1, m):\n",
      "New var:....... i = 1\n",
      "18:12:08.277242 line         8         while j >= 0 and p[j] != p[i]:\n",
      "18:12:08.277324 line         9             if j -1 >=0:\n",
      "18:12:08.277406 line        12                 j -= 1\n",
      "Modified var:.. j = -1\n",
      "18:12:08.277517 line         8         while j >= 0 and p[j] != p[i]:\n",
      "18:12:08.277610 line        13         j += 1\n",
      "Modified var:.. j = 0\n",
      "18:12:08.277726 line        14         pi[i] = j\n",
      "18:12:08.277829 line         7     for i in range(1, m):\n",
      "Modified var:.. i = 2\n",
      "18:12:08.277944 line         8         while j >= 0 and p[j] != p[i]:\n",
      "18:12:08.278075 line        13         j += 1\n",
      "Modified var:.. j = 1\n",
      "18:12:08.278219 line        14         pi[i] = j\n",
      "Modified var:.. pi = [0, 0, 1, 0, 0, 0, 0]\n",
      "18:12:08.278411 line         7     for i in range(1, m):\n",
      "Modified var:.. i = 3\n",
      "18:12:08.278518 line         8         while j >= 0 and p[j] != p[i]:\n",
      "18:12:08.278633 line        13         j += 1\n",
      "Modified var:.. j = 2\n",
      "18:12:08.278747 line        14         pi[i] = j\n",
      "Modified var:.. pi = [0, 0, 1, 2, 0, 0, 0]\n",
      "18:12:08.278849 line         7     for i in range(1, m):\n",
      "Modified var:.. i = 4\n",
      "18:12:08.279024 line         8         while j >= 0 and p[j] != p[i]:\n",
      "18:12:08.279199 line        13         j += 1\n",
      "Modified var:.. j = 3\n",
      "18:12:08.279312 line        14         pi[i] = j\n",
      "Modified var:.. pi = [0, 0, 1, 2, 3, 0, 0]\n",
      "18:12:08.279433 line         7     for i in range(1, m):\n",
      "Modified var:.. i = 5\n",
      "18:12:08.279584 line         8         while j >= 0 and p[j] != p[i]:\n",
      "18:12:08.279671 line         9             if j -1 >=0:\n",
      "18:12:08.279783 line        10                 j = pi[j-1]\n",
      "Modified var:.. j = 1\n",
      "18:12:08.279919 line         8         while j >= 0 and p[j] != p[i]:\n",
      "18:12:08.280090 line         9             if j -1 >=0:\n",
      "18:12:08.280182 line        10                 j = pi[j-1]\n",
      "Modified var:.. j = 0\n",
      "18:12:08.280289 line         8         while j >= 0 and p[j] != p[i]:\n",
      "18:12:08.280366 line         9             if j -1 >=0:\n",
      "18:12:08.280445 line        12                 j -= 1\n",
      "Modified var:.. j = -1\n",
      "18:12:08.280603 line         8         while j >= 0 and p[j] != p[i]:\n",
      "18:12:08.280726 line        13         j += 1\n",
      "Modified var:.. j = 0\n",
      "18:12:08.280842 line        14         pi[i] = j\n",
      "18:12:08.280951 line         7     for i in range(1, m):\n",
      "Modified var:.. i = 6\n",
      "18:12:08.281154 line         8         while j >= 0 and p[j] != p[i]:\n",
      "18:12:08.281238 line        13         j += 1\n",
      "Modified var:.. j = 1\n",
      "18:12:08.281349 line        14         pi[i] = j\n",
      "Modified var:.. pi = [0, 0, 1, 2, 3, 0, 1]\n",
      "18:12:08.281455 line         7     for i in range(1, m):\n",
      "18:12:08.281553 line        15     return pi\n",
      "18:12:08.281667 return      15     return pi\n",
      "Return value:.. [0, 0, 1, 2, 3, 0, 1]\n"
     ]
    },
    {
     "data": {
      "text/plain": [
       "[0, 0, 1, 2, 3, 0, 1]"
      ]
     },
     "execution_count": 10,
     "metadata": {},
     "output_type": "execute_result"
    }
   ],
   "source": [
    "prefix('ababaca')"
   ]
  },
  {
   "cell_type": "code",
   "execution_count": null,
   "metadata": {},
   "outputs": [],
   "source": []
  }
 ],
 "metadata": {
  "kernelspec": {
   "display_name": "Python 3",
   "language": "python",
   "name": "python3"
  },
  "language_info": {
   "codemirror_mode": {
    "name": "ipython",
    "version": 3
   },
   "file_extension": ".py",
   "mimetype": "text/x-python",
   "name": "python",
   "nbconvert_exporter": "python",
   "pygments_lexer": "ipython3",
   "version": "3.6.6"
  }
 },
 "nbformat": 4,
 "nbformat_minor": 4
}
