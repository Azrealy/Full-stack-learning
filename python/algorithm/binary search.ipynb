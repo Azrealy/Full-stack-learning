{
 "cells": [
  {
   "cell_type": "code",
   "execution_count": 4,
   "metadata": {},
   "outputs": [],
   "source": [
    "m = '{\"event\": \"start\", \"timestamp\": 1562645335.824494, \"progress\": \"1/1\", \"cell\": {\"cell_type\": \"code\", \"execution_count\": null, \"metadata\": {\"nbexec\": {\"start_time\": \"2019-07-09T13:08:55.824494+09:00\"}}, \"outputs\": [], \"source\": \"import subprocess\\nproc = subprocess.Popen([\\'date\\'])\\nproc.communicate()\\nproc.wait()\"}}'"
   ]
  },
  {
   "cell_type": "code",
   "execution_count": 5,
   "metadata": {},
   "outputs": [],
   "source": [
    "n = \"{name: alice}\""
   ]
  },
  {
   "cell_type": "code",
   "execution_count": 17,
   "metadata": {},
   "outputs": [],
   "source": [
    "from tornado.escape import json_decode, to_unicode\n",
    "line = to_unicode('dwdw')"
   ]
  },
  {
   "cell_type": "code",
   "execution_count": 26,
   "metadata": {},
   "outputs": [],
   "source": [
    "import pysnooper\n",
    "@pysnooper.snoop()\n",
    "def search(nums, target):\n",
    "    left, right = 0, len(nums)-1\n",
    "    while left <= right:\n",
    "        mid = (right + left) // 2\n",
    "        if nums[mid] < target:\n",
    "            left = mid + 1\n",
    "            continue\n",
    "        elif nums[mid] > target:\n",
    "            right = mid - 1\n",
    "            continue\n",
    "        else:\n",
    "            return mid\n",
    "    return -1"
   ]
  },
  {
   "cell_type": "code",
   "execution_count": 28,
   "metadata": {},
   "outputs": [
    {
     "name": "stderr",
     "output_type": "stream",
     "text": [
      "    Starting var:.. nums = [-1, 0, 3, 5, 9, 12]\n",
      "    Starting var:.. target = 2\n",
      "    15:35:02.347468 call         3 def search(nums, target):\n",
      "    15:35:02.347563 line         4     left, right = 0, len(nums)-1\n",
      "    New var:....... left = 0\n",
      "    New var:....... right = 5\n",
      "    15:35:02.347690 line         5     while left <= right:\n",
      "    15:35:02.347781 line         6         mid = (right + left) // 2\n",
      "    New var:....... mid = 2\n",
      "    15:35:02.347893 line         7         if nums[mid] < target:\n",
      "    15:35:02.347969 line        10         elif nums[mid] > target:\n",
      "    15:35:02.348082 line        11             right = mid - 1\n",
      "    Modified var:.. right = 1\n",
      "    15:35:02.348241 line        12             continue\n",
      "    15:35:02.348320 line         5     while left <= right:\n",
      "    15:35:02.348408 line         6         mid = (right + left) // 2\n",
      "    Modified var:.. mid = 0\n",
      "    15:35:02.348506 line         7         if nums[mid] < target:\n",
      "    15:35:02.348578 line         8             left = mid + 1\n",
      "    Modified var:.. left = 1\n",
      "    15:35:02.348675 line         9             continue\n",
      "    15:35:02.348799 line         5     while left <= right:\n",
      "    15:35:02.348909 line         6         mid = (right + left) // 2\n",
      "    Modified var:.. mid = 1\n",
      "    15:35:02.349026 line         7         if nums[mid] < target:\n",
      "    15:35:02.349234 line         8             left = mid + 1\n",
      "    Modified var:.. left = 2\n",
      "    15:35:02.349353 line         9             continue\n",
      "    15:35:02.349423 line         5     while left <= right:\n",
      "    15:35:02.349496 line        15     return -1\n",
      "    15:35:02.349568 return      15     return -1\n",
      "    Return value:.. -1\n"
     ]
    },
    {
     "data": {
      "text/plain": [
       "-1"
      ]
     },
     "execution_count": 28,
     "metadata": {},
     "output_type": "execute_result"
    }
   ],
   "source": [
    "search([-1,0,3,5,9,12], 2)"
   ]
  },
  {
   "cell_type": "code",
   "execution_count": 64,
   "metadata": {},
   "outputs": [],
   "source": [
    "def mySqrt(x):\n",
    "    if x == 0:\n",
    "        return 0\n",
    "    left, right = 1, x\n",
    "    mv = x * x\n",
    "    result = 1\n",
    "    while left <= right:\n",
    "        mid = (left + right ) // 2\n",
    "        if mid * mid < x and abs(mid * mid - x) < mv:\n",
    "            result = mid\n",
    "            mv = abs(mid * mid - x)\n",
    "        if mid * mid == x:\n",
    "            return mid\n",
    "        elif mid * mid > x:\n",
    "            right = mid - 1\n",
    "        else:\n",
    "            left = mid + 1\n",
    "    return result"
   ]
  },
  {
   "cell_type": "code",
   "execution_count": 80,
   "metadata": {},
   "outputs": [
    {
     "data": {
      "text/plain": [
       "4"
      ]
     },
     "execution_count": 80,
     "metadata": {},
     "output_type": "execute_result"
    }
   ],
   "source": [
    "mySqrt(16)"
   ]
  },
  {
   "cell_type": "code",
   "execution_count": 82,
   "metadata": {},
   "outputs": [],
   "source": [
    "def mySqrt_newton(x):\n",
    "    xn = x\n",
    "    while xn * xn > x:\n",
    "        xn = int(xn/2 + x/(2 * xn))\n",
    "    return xn"
   ]
  },
  {
   "cell_type": "code",
   "execution_count": 85,
   "metadata": {},
   "outputs": [
    {
     "data": {
      "text/plain": [
       "3"
      ]
     },
     "execution_count": 85,
     "metadata": {},
     "output_type": "execute_result"
    }
   ],
   "source": [
    "mySqrt_newton(9)"
   ]
  },
  {
   "cell_type": "code",
   "execution_count": 101,
   "metadata": {},
   "outputs": [],
   "source": [
    "def findPeakElement(nums):\n",
    "    left, right = 0, len(nums)-1\n",
    "    while left < right:\n",
    "        mid = (left + right) // 2\n",
    "        if nums[mid] > nums[mid+1]:\n",
    "            return mid\n",
    "        else:\n",
    "            right = mid + 1\n",
    "    return left"
   ]
  },
  {
   "cell_type": "code",
   "execution_count": 102,
   "metadata": {},
   "outputs": [
    {
     "data": {
      "text/plain": [
       "0"
      ]
     },
     "execution_count": 102,
     "metadata": {},
     "output_type": "execute_result"
    }
   ],
   "source": [
    "findPeakElement([1])"
   ]
  },
  {
   "cell_type": "code",
   "execution_count": 112,
   "metadata": {},
   "outputs": [],
   "source": [
    "@pysnooper.snoop()\n",
    "def binaryS(nums, target):\n",
    "    # search the left as the target index\n",
    "    left, right = 0, len(nums)-1\n",
    "    while left < right:\n",
    "        mid = (left + right) // 2\n",
    "        if nums[mid] < target:\n",
    "            left = mid + 1\n",
    "        else:\n",
    "            right = mid\n",
    "    return left if nums[left] == target else -1"
   ]
  },
  {
   "cell_type": "code",
   "execution_count": 117,
   "metadata": {},
   "outputs": [
    {
     "name": "stderr",
     "output_type": "stream",
     "text": [
      "        Starting var:.. nums = [1, 1, 6, 6, 6, 7, 8]\n",
      "        Starting var:.. target = 6\n",
      "        16:11:26.930187 call         2 def binaryS(nums, target):\n",
      "        16:11:26.930306 line         3     left, right = 0, len(nums)-1\n",
      "        New var:....... left = 0\n",
      "        New var:....... right = 6\n",
      "        16:11:26.930442 line         4     while left < right:\n",
      "        16:11:26.930547 line         5         mid = (left + right) // 2\n",
      "        New var:....... mid = 3\n",
      "        16:11:26.930661 line         6         if nums[mid] < target:\n",
      "        16:11:26.930743 line         9             right = mid\n",
      "        Modified var:.. right = 3\n",
      "        16:11:26.930878 line         4     while left < right:\n",
      "        16:11:26.930960 line         5         mid = (left + right) // 2\n",
      "        Modified var:.. mid = 1\n",
      "        16:11:26.931095 line         6         if nums[mid] < target:\n",
      "        16:11:26.931232 line         7             left = mid + 1\n",
      "        Modified var:.. left = 2\n",
      "        16:11:26.931354 line         4     while left < right:\n",
      "        16:11:26.931452 line         5         mid = (left + right) // 2\n",
      "        Modified var:.. mid = 2\n",
      "        16:11:26.931623 line         6         if nums[mid] < target:\n",
      "        16:11:26.931710 line         9             right = mid\n",
      "        Modified var:.. right = 2\n",
      "        16:11:26.931818 line         4     while left < right:\n",
      "        16:11:26.931930 line        10     return left if nums[left] == target else -1\n",
      "        16:11:26.932034 return      10     return left if nums[left] == target else -1\n",
      "        Return value:.. 2\n"
     ]
    },
    {
     "data": {
      "text/plain": [
       "2"
      ]
     },
     "execution_count": 117,
     "metadata": {},
     "output_type": "execute_result"
    }
   ],
   "source": [
    "binaryS([1, 1, 6, 6, 6, 7, 8], 6)"
   ]
  },
  {
   "cell_type": "code",
   "execution_count": 155,
   "metadata": {},
   "outputs": [],
   "source": [
    "@pysnooper.snoop()\n",
    "def binaryS_right(nums, target):\n",
    "    # search the right as the target index\n",
    "    left, right = 0, len(nums)-1\n",
    "    while left < right:\n",
    "        mid = (left + right) // 2 + 1\n",
    "        if nums[mid] > target:\n",
    "            right = mid - 1\n",
    "        else:\n",
    "            left = mid\n",
    "    return right if nums[right] == target else -1"
   ]
  },
  {
   "cell_type": "code",
   "execution_count": 159,
   "metadata": {},
   "outputs": [
    {
     "name": "stderr",
     "output_type": "stream",
     "text": [
      "                                Starting var:.. nums = [1, 2, 2, 3, 4, 6, 6, 7, 8]\n",
      "                                Starting var:.. target = 6\n",
      "                                16:35:35.986963 call         2 def binaryS_right(nums, target):\n",
      "                                16:35:35.987090 line         4     left, right = 0, len(nums)-1\n",
      "                                New var:....... left = 0\n",
      "                                New var:....... right = 8\n",
      "                                16:35:35.987272 line         5     while left < right:\n",
      "                                16:35:35.987368 line         6         mid = (left + right) // 2 + 1\n",
      "                                New var:....... mid = 5\n",
      "                                16:35:35.987475 line         7         if nums[mid] > target:\n",
      "                                16:35:35.987552 line        10             left = mid\n",
      "                                Modified var:.. left = 5\n",
      "                                16:35:35.987702 line         5     while left < right:\n",
      "                                16:35:35.987779 line         6         mid = (left + right) // 2 + 1\n",
      "                                Modified var:.. mid = 7\n",
      "                                16:35:35.987908 line         7         if nums[mid] > target:\n",
      "                                16:35:35.987996 line         8             right = mid - 1\n",
      "                                Modified var:.. right = 6\n",
      "                                16:35:35.988140 line         5     while left < right:\n",
      "                                16:35:35.988247 line         6         mid = (left + right) // 2 + 1\n",
      "                                Modified var:.. mid = 6\n",
      "                                16:35:35.988351 line         7         if nums[mid] > target:\n",
      "                                16:35:35.988452 line        10             left = mid\n",
      "                                Modified var:.. left = 6\n",
      "                                16:35:35.988580 line         5     while left < right:\n",
      "                                16:35:35.988700 line        11     return right if nums[right] == target else -1\n",
      "                                16:35:35.988787 return      11     return right if nums[right] == target else -1\n",
      "                                Return value:.. 6\n"
     ]
    },
    {
     "data": {
      "text/plain": [
       "6"
      ]
     },
     "execution_count": 159,
     "metadata": {},
     "output_type": "execute_result"
    }
   ],
   "source": [
    "binaryS_right([1, 2, 2, 3, 4, 6, 6, 7, 8], 6)"
   ]
  },
  {
   "cell_type": "code",
   "execution_count": 162,
   "metadata": {},
   "outputs": [],
   "source": [
    "def searchRange(nums, target):\n",
    "    if not nums:\n",
    "        return [-1, -1]\n",
    "    def binaryS_left(nums, target):\n",
    "        # search the left as the target index\n",
    "        left, right = 0, len(nums)-1\n",
    "        while left < right:\n",
    "            mid = (left + right) // 2\n",
    "            if nums[mid] < target:\n",
    "                left = mid + 1\n",
    "            else:\n",
    "                right = mid\n",
    "        return left if nums[left] == target else -1\n",
    "    \n",
    "    def binaryS_right(nums, target):\n",
    "        # search the right as the target index\n",
    "        left, right = 0, len(nums)-1\n",
    "        while left < right:\n",
    "            mid = (left + right) // 2 + 1\n",
    "            if nums[mid] > target:\n",
    "                right = mid - 1\n",
    "            else:\n",
    "                left = mid\n",
    "        return right if nums[right] == target else -1\n",
    "    return [binaryS_left(nums, target), binaryS_right(nums, target)]"
   ]
  },
  {
   "cell_type": "code",
   "execution_count": 168,
   "metadata": {},
   "outputs": [
    {
     "data": {
      "text/plain": [
       "[1, 1]"
      ]
     },
     "execution_count": 168,
     "metadata": {},
     "output_type": "execute_result"
    }
   ],
   "source": [
    "searchRange([1,2], 2)"
   ]
  },
  {
   "cell_type": "code",
   "execution_count": 181,
   "metadata": {},
   "outputs": [],
   "source": [
    "def findClosestElements(arr, k, x):\n",
    "    left, right = 0, len(arr) - k\n",
    "    while left < right:\n",
    "        mid = (left + right) // 2\n",
    "        # when arr[mid+k] is close to x, search for the right side\n",
    "        if x - arr[mid] > arr[mid+k] - x:\n",
    "            left = mid + 1\n",
    "        # arr[mid] is close to x, search from the left side.\n",
    "        else:\n",
    "            right = mid\n",
    "    return arr[left: left+k]"
   ]
  },
  {
   "cell_type": "code",
   "execution_count": 182,
   "metadata": {},
   "outputs": [
    {
     "data": {
      "text/plain": [
       "[1, 2, 3]"
      ]
     },
     "execution_count": 182,
     "metadata": {},
     "output_type": "execute_result"
    }
   ],
   "source": [
    "findClosestElements([1, 2, 3, 4, 5], 3, -1)"
   ]
  },
  {
   "cell_type": "code",
   "execution_count": 194,
   "metadata": {},
   "outputs": [],
   "source": [
    "def findClosestElements_delsides(arr, k, x):\n",
    "    while len(arr) > k:\n",
    "        # the end element of list is close to the x,\n",
    "        # discard the front element\n",
    "        if abs(arr[0] - x) > abs(arr[-1] -x):\n",
    "            arr.pop(0)\n",
    "        else:\n",
    "            arr.pop()\n",
    "    return arr"
   ]
  },
  {
   "cell_type": "code",
   "execution_count": 195,
   "metadata": {},
   "outputs": [
    {
     "data": {
      "text/plain": [
       "[3, 4, 5]"
      ]
     },
     "execution_count": 195,
     "metadata": {},
     "output_type": "execute_result"
    }
   ],
   "source": [
    "findClosestElements_delsides([1, 2, 3, 4, 5], 3, 5)"
   ]
  },
  {
   "cell_type": "code",
   "execution_count": 196,
   "metadata": {},
   "outputs": [],
   "source": [
    "def findDuplicateLeft(nums, target):\n",
    "    left, right = 0, len(nums)\n",
    "    while left < right:\n",
    "        mid = (left + right) // 2\n",
    "        if nums[mid] < target:\n",
    "            left = mid + 1\n",
    "        else:\n",
    "            right = mid\n",
    "    return left"
   ]
  },
  {
   "cell_type": "code",
   "execution_count": 199,
   "metadata": {},
   "outputs": [
    {
     "data": {
      "text/plain": [
       "3"
      ]
     },
     "execution_count": 199,
     "metadata": {},
     "output_type": "execute_result"
    }
   ],
   "source": [
    "findDuplicateLeft([3, 3, 3, 5, 5, 8], 5)"
   ]
  },
  {
   "cell_type": "code",
   "execution_count": 202,
   "metadata": {},
   "outputs": [],
   "source": [
    "def findDuplicateRight(nums, target):\n",
    "    left, right = 0, len(nums)\n",
    "    while left < right:\n",
    "        mid = (left + right) // 2\n",
    "        if nums[mid] > target:\n",
    "            right = mid\n",
    "        else:\n",
    "            left = mid + 1\n",
    "    return left-1"
   ]
  },
  {
   "cell_type": "code",
   "execution_count": 209,
   "metadata": {},
   "outputs": [
    {
     "data": {
      "text/plain": [
       "2"
      ]
     },
     "execution_count": 209,
     "metadata": {},
     "output_type": "execute_result"
    }
   ],
   "source": [
    "findDuplicateRight([3, 3, 3, 5, 5, 8], 4)"
   ]
  },
  {
   "cell_type": "code",
   "execution_count": 214,
   "metadata": {},
   "outputs": [],
   "source": [
    "def peakIndexInMountainArray(A):\n",
    "    left, right = 0, len(A) - 1\n",
    "    while left < right:\n",
    "        mid = (left + right) // 2\n",
    "        if A[mid] < A[mid+1]:\n",
    "            left = mid + 1\n",
    "        else:\n",
    "            right = mid\n",
    "    return left"
   ]
  },
  {
   "cell_type": "code",
   "execution_count": 217,
   "metadata": {},
   "outputs": [
    {
     "data": {
      "text/plain": [
       "3"
      ]
     },
     "execution_count": 217,
     "metadata": {},
     "output_type": "execute_result"
    }
   ],
   "source": [
    "peakIndexInMountainArray([1, 2, 3, 4])"
   ]
  },
  {
   "cell_type": "code",
   "execution_count": 266,
   "metadata": {},
   "outputs": [],
   "source": [
    "def findDuplicateRight(nums, target):\n",
    "    left, right = 0, len(nums)\n",
    "    while left < right:\n",
    "        mid = (left + right) //2\n",
    "        if nums[mid] > target:\n",
    "            right = mid\n",
    "        else:\n",
    "            left = mid + 1\n",
    "    return right"
   ]
  },
  {
   "cell_type": "code",
   "execution_count": 267,
   "metadata": {},
   "outputs": [
    {
     "data": {
      "text/plain": [
       "[3, 21, 2, 3, 1]"
      ]
     },
     "execution_count": 267,
     "metadata": {},
     "output_type": "execute_result"
    }
   ],
   "source": [
    "nums = [3,21, 2, 3]\n",
    "nums.insert(4, 1)\n",
    "nums"
   ]
  },
  {
   "cell_type": "code",
   "execution_count": 268,
   "metadata": {},
   "outputs": [
    {
     "data": {
      "text/plain": [
       "0"
      ]
     },
     "execution_count": 268,
     "metadata": {},
     "output_type": "execute_result"
    }
   ],
   "source": [
    "findDuplicateRight([], 10)"
   ]
  },
  {
   "cell_type": "code",
   "execution_count": 288,
   "metadata": {},
   "outputs": [],
   "source": [
    "def findMedianSortedArrays(nums1, nums2):\n",
    "    # this time complexity will be O(nlog(m))\n",
    "    def findDuplicateRight(nums, target):\n",
    "        left, right = 0, len(nums)\n",
    "        while left < right:\n",
    "            mid = (left + right) //2\n",
    "            if nums[mid] > target:\n",
    "                right = mid\n",
    "            else:\n",
    "                left = mid + 1\n",
    "        return left\n",
    "    insert_nums = nums1 if len(nums1) >= len(nums2) else nums2\n",
    "    combine_nums = nums2 if len(nums1) >= len(nums2) else nums1\n",
    "    for i in insert_nums:\n",
    "        index = findDuplicateRight(combine_nums, i)\n",
    "        combine_nums.insert(index, i)\n",
    "    if len(combine_nums) % 2 == 1:\n",
    "        return combine_nums[len(combine_nums)//2] / 1.0\n",
    "    else:\n",
    "        mid = (len(combine_nums) - 1) // 2\n",
    "        return (combine_nums[mid] + combine_nums[mid+1]) / 2.0"
   ]
  },
  {
   "cell_type": "code",
   "execution_count": 290,
   "metadata": {},
   "outputs": [
    {
     "name": "stdout",
     "output_type": "stream",
     "text": [
      "[1, 2, 3, 4]\n"
     ]
    },
    {
     "data": {
      "text/plain": [
       "2.5"
      ]
     },
     "execution_count": 290,
     "metadata": {},
     "output_type": "execute_result"
    }
   ],
   "source": [
    "findMedianSortedArrays([], [1, 2, 3, 4])"
   ]
  },
  {
   "cell_type": "code",
   "execution_count": 312,
   "metadata": {},
   "outputs": [],
   "source": [
    "def pow(x, n):\n",
    "    # pow(2, 3) = 8\n",
    "    i = 1\n",
    "    el = 1/x if n < 0 else x\n",
    "    res = 1/x if n < 0 else x\n",
    "    n = -n if n < 0 else n\n",
    "    while i < n:\n",
    "        res = res * res\n",
    "        i = i * 2\n",
    "    while i > n:\n",
    "        res = res / el\n",
    "        i -= 1\n",
    "    while i < n:\n",
    "        res = res * el\n",
    "        i += 1\n",
    "    return res"
   ]
  },
  {
   "cell_type": "code",
   "execution_count": 323,
   "metadata": {},
   "outputs": [
    {
     "data": {
      "text/plain": [
       "-1.0"
      ]
     },
     "execution_count": 323,
     "metadata": {},
     "output_type": "execute_result"
    }
   ],
   "source": [
    "pow(-1.00000, 3)"
   ]
  },
  {
   "cell_type": "code",
   "execution_count": 369,
   "metadata": {},
   "outputs": [],
   "source": [
    "import pysnooper\n",
    "@pysnooper.snoop()\n",
    "def isPerfectSquare(num):\n",
    "    if num == 1:\n",
    "        return True\n",
    "    # Given a positive integer num, write a function which returns True if num is a perfect square else False.\n",
    "    left, right = 1, num\n",
    "    while left < right:\n",
    "        mid = (left + right) // 2\n",
    "        if mid * mid == num:\n",
    "            return True\n",
    "        elif mid * mid < num:\n",
    "            left = mid + 1\n",
    "        else:\n",
    "            right = mid\n",
    "    return False"
   ]
  },
  {
   "cell_type": "code",
   "execution_count": 370,
   "metadata": {},
   "outputs": [
    {
     "name": "stderr",
     "output_type": "stream",
     "text": [
      "                                Starting var:.. num = 1\n",
      "                                13:45:22.104416 call         3 def isPerfectSquare(num):\n",
      "                                13:45:22.104580 line         4     if num == 1:\n",
      "                                13:45:22.104660 line         5         return True\n",
      "                                13:45:22.104722 return       5         return True\n",
      "                                Return value:.. True\n"
     ]
    },
    {
     "data": {
      "text/plain": [
       "True"
      ]
     },
     "execution_count": 370,
     "metadata": {},
     "output_type": "execute_result"
    }
   ],
   "source": [
    "isPerfectSquare(1)"
   ]
  },
  {
   "cell_type": "code",
   "execution_count": null,
   "metadata": {},
   "outputs": [],
   "source": [
    "Input:\n",
    "letters = [\"c\", \"f\", \"j\"]\n",
    "target = \"a\"\n",
    "Output: \"c\"\n",
    "\n",
    "Input:\n",
    "letters = [\"c\", \"f\", \"j\"]\n",
    "target = \"c\"\n",
    "Output: \"f\"\n",
    "\n",
    "Input:\n",
    "letters = [\"c\", \"f\", \"j\"]\n",
    "target = \"d\"\n",
    "Output: \"f\"\n",
    "\n",
    "Input:\n",
    "letters = [\"c\", \"f\", \"j\"]\n",
    "target = \"g\"\n",
    "Output: \"j\"\n",
    "\n",
    "Input:\n",
    "letters = [\"c\", \"f\", \"j\"]\n",
    "target = \"j\"\n",
    "Output: \"c\"\n",
    "\n",
    "Input:\n",
    "letters = [\"c\", \"f\", \"j\"]\n",
    "target = \"k\"\n",
    "Output: \"c\""
   ]
  },
  {
   "cell_type": "code",
   "execution_count": 405,
   "metadata": {},
   "outputs": [],
   "source": [
    "import pysnooper\n",
    "@pysnooper.snoop()\n",
    "def nextGreatestLetter(letters, target):\n",
    "    left, right = 0, len(letters)\n",
    "    while left < right:\n",
    "        mid = (left + right) // 2\n",
    "        if ord(letters[mid]) > ord(target):\n",
    "            right = mid\n",
    "        else:\n",
    "            left = mid + 1\n",
    "    return letters[0] if left == len(letters) else letters[left]"
   ]
  },
  {
   "cell_type": "code",
   "execution_count": 407,
   "metadata": {},
   "outputs": [
    {
     "name": "stdout",
     "output_type": "stream",
     "text": [
      "3\n"
     ]
    },
    {
     "name": "stderr",
     "output_type": "stream",
     "text": [
      "                                    Starting var:.. letters = ['c', 'f', 'j']\n",
      "                                    Starting var:.. target = 'k'\n",
      "                                    14:14:45.867941 call         3 def nextGreatestLetter(letters, target):\n",
      "                                    14:14:45.868099 line         4     left, right = 0, len(letters)\n",
      "                                    New var:....... left = 0\n",
      "                                    New var:....... right = 3\n",
      "                                    14:14:45.868272 line         5     while left < right:\n",
      "                                    14:14:45.868371 line         6         mid = (left + right) // 2\n",
      "                                    New var:....... mid = 1\n",
      "                                    14:14:45.868500 line         7         if ord(letters[mid]) > ord(target):\n",
      "                                    14:14:45.868595 line        10             left = mid + 1\n",
      "                                    Modified var:.. left = 2\n",
      "                                    14:14:45.868741 line         5     while left < right:\n",
      "                                    14:14:45.868835 line         6         mid = (left + right) // 2\n",
      "                                    Modified var:.. mid = 2\n",
      "                                    14:14:45.869005 line         7         if ord(letters[mid]) > ord(target):\n",
      "                                    14:14:45.869105 line        10             left = mid + 1\n",
      "                                    Modified var:.. left = 3\n",
      "                                    14:14:45.869228 line         5     while left < right:\n",
      "                                    14:14:45.869318 line        11     print(left)\n",
      "                                    14:14:45.869560 line        12     return letters[0] if left == len(letters) else letters[left]\n",
      "                                    14:14:45.869683 return      12     return letters[0] if left == len(letters) else letters[left]\n",
      "                                    Return value:.. 'c'\n"
     ]
    },
    {
     "data": {
      "text/plain": [
       "'c'"
      ]
     },
     "execution_count": 407,
     "metadata": {},
     "output_type": "execute_result"
    }
   ],
   "source": [
    "nextGreatestLetter([\"c\", \"f\", \"j\"], \"k\")"
   ]
  },
  {
   "cell_type": "code",
   "execution_count": 483,
   "metadata": {},
   "outputs": [],
   "source": [
    "import pysnooper\n",
    "@pysnooper.snoop()\n",
    "def dubplicateLeft(nums, target):\n",
    "    left, right = 0, len(nums)\n",
    "    while left < right:\n",
    "        mid = (left + right) // 2\n",
    "        if nums[mid] > target:\n",
    "            right = mid \n",
    "        else:\n",
    "            left = mid + 1\n",
    "    return right"
   ]
  },
  {
   "cell_type": "code",
   "execution_count": 489,
   "metadata": {},
   "outputs": [
    {
     "name": "stderr",
     "output_type": "stream",
     "text": [
      "                                            Starting var:.. nums = [1, 2, 2, 3, 3, 4]\n",
      "                                            Starting var:.. target = 20\n",
      "                                            09:25:57.002943 call         3 def dubplicateLeft(nums, target):\n",
      "                                            09:25:57.003053 line         4     left, right = 0, len(nums)\n",
      "                                            New var:....... left = 0\n",
      "                                            New var:....... right = 6\n",
      "                                            09:25:57.003701 line         5     while left < right:\n",
      "                                            09:25:57.004018 line         6         mid = (left + right) // 2\n",
      "                                            New var:....... mid = 3\n",
      "                                            09:25:57.004501 line         7         if nums[mid] > target:\n",
      "                                            09:25:57.004594 line        10             left = mid + 1\n",
      "                                            Modified var:.. left = 4\n",
      "                                            09:25:57.004729 line         5     while left < right:\n",
      "                                            09:25:57.004812 line         6         mid = (left + right) // 2\n",
      "                                            Modified var:.. mid = 5\n",
      "                                            09:25:57.004946 line         7         if nums[mid] > target:\n",
      "                                            09:25:57.005020 line        10             left = mid + 1\n",
      "                                            Modified var:.. left = 6\n",
      "                                            09:25:57.005139 line         5     while left < right:\n",
      "                                            09:25:57.005256 line        11     return right\n",
      "                                            09:25:57.005353 return      11     return right\n",
      "                                            Return value:.. 6\n"
     ]
    },
    {
     "data": {
      "text/plain": [
       "6"
      ]
     },
     "execution_count": 489,
     "metadata": {},
     "output_type": "execute_result"
    }
   ],
   "source": [
    "dubplicateLeft([1, 2, 2, 3, 3, 4], 20)"
   ]
  },
  {
   "cell_type": "code",
   "execution_count": 519,
   "metadata": {},
   "outputs": [],
   "source": [
    "import pysnooper\n",
    "@pysnooper.snoop()\n",
    "def findMin(nums):\n",
    "    left, right = 0, len(nums) -1\n",
    "    while left < right:\n",
    "        mid = (left + right) // 2\n",
    "        if nums[right] < nums[mid]:\n",
    "            left = mid + 1\n",
    "        elif nums[right] > nums[mid]:\n",
    "            right = mid \n",
    "        else:\n",
    "            # nums[left] == nums[mid]\n",
    "            right -= 1\n",
    "    return nums[left]"
   ]
  },
  {
   "cell_type": "code",
   "execution_count": 520,
   "metadata": {},
   "outputs": [
    {
     "name": "stderr",
     "output_type": "stream",
     "text": [
      "                                            Starting var:.. nums = [3, 3]\n",
      "                                            11:21:37.224730 call         3 def findMin(nums):\n",
      "                                            11:21:37.224944 line         4     left, right = 0, len(nums) -1\n",
      "                                            New var:....... left = 0\n",
      "                                            New var:....... right = 1\n",
      "                                            11:21:37.225126 line         5     while left < right:\n",
      "                                            11:21:37.225274 line         6         mid = (left + right) // 2\n",
      "                                            New var:....... mid = 0\n",
      "                                            11:21:37.225404 line         7         if nums[right] < nums[mid]:\n",
      "                                            11:21:37.225560 line         9         elif nums[right] > nums[mid]:\n",
      "                                            11:21:37.225647 line        13             right -= 1\n",
      "                                            Modified var:.. right = 0\n",
      "                                            11:21:37.225788 line         5     while left < right:\n",
      "                                            11:21:37.225905 line        14     return nums[left]\n",
      "                                            11:21:37.225993 return      14     return nums[left]\n",
      "                                            Return value:.. 3\n"
     ]
    },
    {
     "data": {
      "text/plain": [
       "3"
      ]
     },
     "execution_count": 520,
     "metadata": {},
     "output_type": "execute_result"
    }
   ],
   "source": [
    "findMin([3, 3])"
   ]
  },
  {
   "cell_type": "code",
   "execution_count": 530,
   "metadata": {},
   "outputs": [],
   "source": [
    "def intersection(nums1, nums2):\n",
    "    return list(set(nums1) & set(nums2))"
   ]
  },
  {
   "cell_type": "code",
   "execution_count": 531,
   "metadata": {},
   "outputs": [
    {
     "data": {
      "text/plain": [
       "[9, 4]"
      ]
     },
     "execution_count": 531,
     "metadata": {},
     "output_type": "execute_result"
    }
   ],
   "source": [
    "intersection([4,9,5], [9,4,9,8,4])"
   ]
  },
  {
   "cell_type": "code",
   "execution_count": 536,
   "metadata": {},
   "outputs": [],
   "source": [
    "def intersection(nums1, nums2):\n",
    "    store = {}\n",
    "    for v in nums1:\n",
    "        store[v] = store.get(v, 0) + 1\n",
    "    ans = []\n",
    "    for m in nums2:\n",
    "        if m in store and store[m] != 0:\n",
    "            ans.append(m)\n",
    "            store[m] -= 1\n",
    "    return ans"
   ]
  },
  {
   "cell_type": "code",
   "execution_count": 537,
   "metadata": {},
   "outputs": [
    {
     "data": {
      "text/plain": [
       "[4, 9]"
      ]
     },
     "execution_count": 537,
     "metadata": {},
     "output_type": "execute_result"
    }
   ],
   "source": [
    "intersection([4, 9], [1, 2, 4, 9, 4, 9])"
   ]
  },
  {
   "cell_type": "code",
   "execution_count": 554,
   "metadata": {},
   "outputs": [],
   "source": [
    "import pysnooper\n",
    "@pysnooper.snoop()\n",
    "def findDuplicate(nums):\n",
    "    # [3,1,3,4,2]\n",
    "    slow = 0\n",
    "    fast = 1\n",
    "    while True:\n",
    "        if fast >= len(nums):\n",
    "            fast = fast - len(nums)\n",
    "        if slow == len(nums):\n",
    "            slow = 0\n",
    "        if nums[slow] == nums[fast]:\n",
    "            return nums[slow]\n",
    "        slow += 1\n",
    "        fast += 2"
   ]
  },
  {
   "cell_type": "code",
   "execution_count": 555,
   "metadata": {},
   "outputs": [
    {
     "name": "stderr",
     "output_type": "stream",
     "text": [
      "                                            Starting var:.. nums = [4, 3, 1, 4, 2]\n",
      "                                            17:27:02.858333 call         3 def findDuplicate(nums):\n",
      "                                            17:27:02.858477 line         5     slow = 0\n",
      "                                            New var:....... slow = 0\n",
      "                                            17:27:02.858625 line         6     fast = 1\n",
      "                                            New var:....... fast = 1\n",
      "                                            17:27:02.858861 line         7     while True:\n",
      "                                            17:27:02.858942 line         8         if fast >= len(nums):\n",
      "                                            17:27:02.859004 line        10         if slow == len(nums):\n",
      "                                            17:27:02.859078 line        12         if nums[slow] == nums[fast]:\n",
      "                                            17:27:02.859153 line        14         slow += 1\n",
      "                                            Modified var:.. slow = 1\n",
      "                                            17:27:02.859303 line        15         fast += 2\n",
      "                                            Modified var:.. fast = 3\n",
      "                                            17:27:02.859456 line         8         if fast >= len(nums):\n",
      "                                            17:27:02.859531 line        10         if slow == len(nums):\n",
      "                                            17:27:02.859604 line        12         if nums[slow] == nums[fast]:\n",
      "                                            17:27:02.859678 line        14         slow += 1\n",
      "                                            Modified var:.. slow = 2\n",
      "                                            17:27:02.859836 line        15         fast += 2\n",
      "                                            Modified var:.. fast = 5\n",
      "                                            17:27:02.859966 line         8         if fast >= len(nums):\n",
      "                                            17:27:02.860058 line         9             fast = fast - len(nums)\n",
      "                                            Modified var:.. fast = 0\n",
      "                                            17:27:02.860159 line        10         if slow == len(nums):\n",
      "                                            17:27:02.860255 line        12         if nums[slow] == nums[fast]:\n",
      "                                            17:27:02.860333 line        14         slow += 1\n",
      "                                            Modified var:.. slow = 3\n",
      "                                            17:27:02.860417 line        15         fast += 2\n",
      "                                            Modified var:.. fast = 2\n",
      "                                            17:27:02.860553 line         8         if fast >= len(nums):\n",
      "                                            17:27:02.860615 line        10         if slow == len(nums):\n",
      "                                            17:27:02.860676 line        12         if nums[slow] == nums[fast]:\n",
      "                                            17:27:02.860737 line        14         slow += 1\n",
      "                                            Modified var:.. slow = 4\n",
      "                                            17:27:02.860915 line        15         fast += 2\n",
      "                                            Modified var:.. fast = 4\n",
      "                                            17:27:02.861016 line         8         if fast >= len(nums):\n",
      "                                            17:27:02.861078 line        10         if slow == len(nums):\n",
      "                                            17:27:02.861632 line        12         if nums[slow] == nums[fast]:\n",
      "                                            17:27:02.861720 line        13             return nums[slow]\n",
      "                                            17:27:02.861891 return      13             return nums[slow]\n",
      "                                            Return value:.. 2\n"
     ]
    },
    {
     "data": {
      "text/plain": [
       "2"
      ]
     },
     "execution_count": 555,
     "metadata": {},
     "output_type": "execute_result"
    }
   ],
   "source": [
    "findDuplicate([4,3,1,4,2])"
   ]
  },
  {
   "cell_type": "code",
   "execution_count": null,
   "metadata": {},
   "outputs": [],
   "source": []
  }
 ],
 "metadata": {
  "kernelspec": {
   "display_name": "Python 3",
   "language": "python",
   "name": "python3"
  },
  "language_info": {
   "codemirror_mode": {
    "name": "ipython",
    "version": 3
   },
   "file_extension": ".py",
   "mimetype": "text/x-python",
   "name": "python",
   "nbconvert_exporter": "python",
   "pygments_lexer": "ipython3",
   "version": "3.6.6"
  }
 },
 "nbformat": 4,
 "nbformat_minor": 2
}
