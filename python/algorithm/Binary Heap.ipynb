{
 "cells": [
  {
   "cell_type": "markdown",
   "metadata": {},
   "source": [
    "# Binary Heaps\n",
    "A binary heap is a complete binary tree which satisfies the heap ordering property. The ordering can be one of two types:\n",
    "1. the min-heap property: the value of each node is greater than or equal to the value of its parent, with the minimum-value element at the root.\n",
    "2. the max-heap property: the value of each node is less than or equal to the value of its parent, with the maximum-value element at the root.\n",
    "\n",
    "Algorithm | Average | Worst case\n",
    "--|--|--\n",
    "Space\t|\tO(n) |\tO(n)\n",
    "Search\t|\tO(n) |\tO(n)\n",
    "Insert\t|\tO(1) |\tO(log n)\n",
    "Delete\t|\tO(log n) |\tO(log n)\n",
    "Peek\t|\tO(1) |\tO(1)"
   ]
  },
  {
   "cell_type": "code",
   "execution_count": 14,
   "metadata": {},
   "outputs": [],
   "source": [
    "class BinaryMinHeap(object):\n",
    "    def __init__(self):\n",
    "        self.heap_list = [0]\n",
    "        self.current_size = 0\n",
    "        \n",
    "    def percolate_up(self, i):\n",
    "        \"\"\"\n",
    "        Comparing the added element with its parent and moving \n",
    "        the added element up a level.\n",
    "        \"\"\"\n",
    "        parent_id = i // 2\n",
    "        while parent_id > 0:\n",
    "            if self.heap_list[i] < self.heap_list[parent_id]:\n",
    "                tmp = self.heap_list[i]\n",
    "                self.heap_list[i] = self.heap_list[parent_id]\n",
    "                self.heap_list[parent_id] = tmp\n",
    "            parent_id = parent_id // 2\n",
    "     \n",
    "    def insert(self, value):\n",
    "        \"\"\"\n",
    "        New element append to end of the heap, \n",
    "        throgh percolation up process move the element to\n",
    "        its collect position on the heap.\n",
    "        \"\"\"\n",
    "        self.heap_list.append(value)\n",
    "        self.current_size = self.current_size + 1\n",
    "        self.percolate_up(self.current_size)\n",
    "        \n",
    "    def min_child(self, index):\n",
    "        left_id = index * 2\n",
    "        right_id = index * 2 + 1\n",
    "        if right_id > self.current_size:\n",
    "            return left_id\n",
    "        else:\n",
    "            if self.heap_list[left_id] < self.heap_list[right_id]:\n",
    "                return left_id\n",
    "            else:\n",
    "                return right_id\n",
    "            \n",
    "    def percolate_down(self, i):\n",
    "        \"\"\"\n",
    "        Comparing the element with its children and moving \n",
    "        the added element down a level.\n",
    "        \"\"\"\n",
    "        while i * 2 + 1 <= self.current_size:\n",
    "            min_id = self.min_child(i)\n",
    "            if self.heap_list[i] > self.heap_list[min_id]:\n",
    "                tmp = self.heap_list[min_id]\n",
    "                self.heap_list[min_id] = self.heap_list[i]\n",
    "                self.heap_list[i] = tmp\n",
    "            i = min_id\n",
    "    \n",
    "    def del_min(self):\n",
    "        \"\"\"\n",
    "        Remove the root element and replace it with the last element\n",
    "        and then restore the heap property by percolation down.\n",
    "        \"\"\"\n",
    "        min_value = self.heap_list[1]\n",
    "        self.heap_list[1] = self.heap_list[self.current_size]\n",
    "        self.heap_list.pop()\n",
    "        self.current_size = self.current_size - 1\n",
    "        self.percolate_down(1)\n",
    "        return min_value\n",
    "    \n",
    "    def build_heap(self, alist):\n",
    "        parent_id = len(alist) // 2\n",
    "        self.current_size = len(alist)\n",
    "        self.heap_list = [0] + alist[:]\n",
    "        while parent_id > 0:\n",
    "            self.percolate_down(parent_id)\n",
    "            parent_id = parent_id - 1"
   ]
  },
  {
   "cell_type": "code",
   "execution_count": 15,
   "metadata": {},
   "outputs": [],
   "source": [
    "binary_heap = BinaryMinHeap()"
   ]
  },
  {
   "cell_type": "code",
   "execution_count": 16,
   "metadata": {},
   "outputs": [],
   "source": [
    "heap = binary_heap.build_heap([9, 6, 5, 2, 3])"
   ]
  },
  {
   "cell_type": "code",
   "execution_count": 11,
   "metadata": {},
   "outputs": [
    {
     "data": {
      "text/plain": [
       "[0, 2, 3, 5, 6, 9]"
      ]
     },
     "execution_count": 11,
     "metadata": {},
     "output_type": "execute_result"
    }
   ],
   "source": [
    "binary_heap.heap_list"
   ]
  },
  {
   "cell_type": "code",
   "execution_count": 17,
   "metadata": {},
   "outputs": [],
   "source": [
    "class BinaryHeap(object):\n",
    "    def __init__(self):\n",
    "        self.heap = [0]\n",
    "        self.currentSize = 0\n",
    "\n",
    "    def getParent(self, i):\n",
    "        return i // 2\n",
    "    \n",
    "    def getLeft(self, i):\n",
    "        return 2 * i\n",
    "    \n",
    "    def getRight(self, i):\n",
    "        return 2 * i + 1\n",
    "    \n",
    "    def percolateUp(self, i):\n",
    "        while self.getParent(i) > 0:\n",
    "            if self.heap[i] < self.heap[self.getParent(i)]:\n",
    "                self.heap[i], self.heap[self.getParent(i)] = self.heap[self.getParent(i)], self.heap[i]\n",
    "            i = self.getParent(i)\n",
    "            \n",
    "    def insert(self, i):\n",
    "        self.heap.append(i)\n",
    "        self.currentSize += 1\n",
    "        self.percolateUp(self.currentSize)\n",
    "    \n",
    "    def percolateDown(self, i):\n",
    "        while self.getLeft(i) <= self.currentSize:\n",
    "            mc = self.minChild(i)\n",
    "            if self.heap[i] > self.heap[mc]:\n",
    "                self.heap[i], self.heap[mc] = self.heap[mc], self.heap[i]\n",
    "            i = mc \n",
    "    \n",
    "    def minChild(self, i):\n",
    "        if self.getRight(i) > self.currentSize:\n",
    "            return self.getLeft(i)\n",
    "        else:\n",
    "            if self.heap[self.getLeft(i)] < self.heap[self.getRight(i)]:\n",
    "                return self.getLeft(i)\n",
    "            else:\n",
    "                return self.getRight(i)\n",
    "        \n",
    "    def delmin(self):\n",
    "        minval = self.heap[1]\n",
    "        self.heap[1] = self.heap[self.currentSize]\n",
    "        self.currentSize -= 1\n",
    "        self.heap.pop()\n",
    "        self.percolateDown(1)\n",
    "        return minval\n",
    "    \n",
    "    def buildHeap(self, array):\n",
    "        # Because the heap is a complete binary tree, any nodes past the halfway point\n",
    "        # will be leaves and therefore have no children.\n",
    "        i = len(array) // 2\n",
    "        self.heap = [0] + array\n",
    "        self.currentSize = len(array)\n",
    "        while i > 0:\n",
    "            self.percolateDown(i)\n",
    "            i -= 1"
   ]
  },
  {
   "cell_type": "markdown",
   "metadata": {},
   "source": [
    "## Sort a nearly sorted (or K sorted) array\n",
    "Given an array of n elements, where each element is at most k away from its target position, devise an algorithm that sorts in O(n log k) time. For example, let us consider k is 2, an element at index 7 in the sorted array, can be at indexes 5, 6, 7, 8, 9 in the given array.\n",
    "\n",
    "**Examples:**\n",
    "```bash\n",
    "Input : arr[] = {6, 5, 3, 2, 8, 10, 9}\n",
    "            k = 3 \n",
    "Output : arr[] = {2, 3, 5, 6, 8, 9, 10}\n",
    "\n",
    "Input : arr[] = {10, 9, 8, 7, 4, 70, 60, 50}\n",
    "         k = 4\n",
    "Output : arr[] = {4, 7, 8, 9, 10, 50, 60, 70}\n",
    "```"
   ]
  },
  {
   "cell_type": "code",
   "execution_count": null,
   "metadata": {},
   "outputs": [],
   "source": [
    "# Function to sort an array using \n",
    "# insertion sort \n",
    "def insertionSort(A, size): \n",
    "    i, key, j = 0, 0, 0\n",
    "    for i in range(size): \n",
    "        key = A[i]  \n",
    "        j = i-1\n",
    "\n",
    "        # Move elements of A[0..i-1], that are  \n",
    "        # greater than key, to one position  \n",
    "        # ahead of their current position.  \n",
    "        # This loop will run at most k times  \n",
    "        while j >= 0 and A[j] > key: \n",
    "            A[j + 1] = A[j]  \n",
    "            j = j - 1\n",
    "        A[j + 1] = key "
   ]
  },
  {
   "cell_type": "markdown",
   "metadata": {},
   "source": [
    "The inner loop will run at most k times. To move every element to its correct place, at most k elements need to be moved. So overall complexity will be O(nk)\n",
    "We can sort such arrays more efficiently with the help of Heap data structure. Following is the detailed process that uses Heap.\n",
    "\n",
    "1. Create a Min Heap of size k+1 with first k+1 elements. This will take O(k) time (See this GFact)\n",
    "2. One by one remove min element from heap, put it in result array, and add a new element to heap from remaining elements."
   ]
  },
  {
   "cell_type": "code",
   "execution_count": 18,
   "metadata": {},
   "outputs": [],
   "source": [
    "def kalmostSorted(array, k):\n",
    "    hp = BinaryHeap()\n",
    "    hp.buildHeap(array[:k+1])\n",
    "    result = []\n",
    "    i = k\n",
    "    while len(hp.heap) > 1:\n",
    "        print(hp.heap)\n",
    "        m = hp.delmin()\n",
    "        result.append(m)\n",
    "        if i == (len(array) - 1):\n",
    "            continue\n",
    "        hp.insert(array[i + 1])\n",
    "        i += 1\n",
    "    return result "
   ]
  },
  {
   "cell_type": "code",
   "execution_count": 19,
   "metadata": {},
   "outputs": [
    {
     "name": "stdout",
     "output_type": "stream",
     "text": [
      "[0, 1, 2, 3, 5]\n",
      "[0, 2, 5, 3, 8]\n",
      "[0, 3, 5, 8, 6]\n",
      "[0, 5, 6, 8]\n",
      "[0, 6, 8]\n",
      "[0, 8]\n"
     ]
    },
    {
     "data": {
      "text/plain": [
       "[1, 2, 3, 5, 6, 8]"
      ]
     },
     "execution_count": 19,
     "metadata": {},
     "output_type": "execute_result"
    }
   ],
   "source": [
    "kalmostSorted([3, 2, 1, 5, 8, 6], k = 3)"
   ]
  },
  {
   "cell_type": "code",
   "execution_count": null,
   "metadata": {},
   "outputs": [],
   "source": []
  }
 ],
 "metadata": {
  "kernelspec": {
   "display_name": "Python 3",
   "language": "python",
   "name": "python3"
  },
  "language_info": {
   "codemirror_mode": {
    "name": "ipython",
    "version": 3
   },
   "file_extension": ".py",
   "mimetype": "text/x-python",
   "name": "python",
   "nbconvert_exporter": "python",
   "pygments_lexer": "ipython3",
   "version": "3.6.6"
  }
 },
 "nbformat": 4,
 "nbformat_minor": 2
}
