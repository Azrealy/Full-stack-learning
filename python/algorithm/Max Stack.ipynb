{
 "cells": [
  {
   "cell_type": "markdown",
   "metadata": {},
   "source": [
    "#  Max Stack\n",
    "Design a max stack that supports push, pop, top, peekMax and popMax.\n",
    "\n",
    "push(x) -- Push element x onto stack.\n",
    "\n",
    "pop() -- Remove the element on top of the stack and return it.\n",
    "\n",
    "top() -- Get the element on the top.\n",
    "\n",
    "peekMax() -- Retrieve the maximum element in the stack.\n",
    "\n",
    "popMax() -- Retrieve the maximum element in the stack, and remove it. If you find more than one maximum elements, only remove the top-most one.\n",
    "\n",
    "**Example 1:**\n",
    "```\n",
    "MaxStack stack = new MaxStack();\n",
    "stack.push(5); \n",
    "stack.push(1);\n",
    "stack.push(5);\n",
    "stack.top(); -> 5\n",
    "stack.popMax(); -> 5\n",
    "stack.top(); -> 1\n",
    "stack.peekMax(); -> 5\n",
    "stack.pop(); -> 1\n",
    "stack.top(); -> 5\n",
    "```"
   ]
  },
  {
   "cell_type": "markdown",
   "metadata": {},
   "source": [
    "Approach #1: Two Stacks [Accepted]\n",
    "Intuition and Algorithm\n",
    "\n",
    "A regular stack already supports the first 3 operations, so we focus on the last two.\n",
    "\n",
    "For peekMax, we remember the largest value we've seen on the side. For example if we add [2, 1, 5, 3, 9], we'll remember [2, 2, 5, 5, 9]. This works seamlessly with pop operations, and also it's easy to compute: it's just the maximum of the element we are adding and the previous maximum.\n",
    "\n",
    "For popMax, we know what the current maximum (peekMax) is. We can pop until we find that maximum, then push the popped elements back on the stack.\n",
    "\n",
    "Our implementation in Python will showcase extending the list class."
   ]
  },
  {
   "cell_type": "code",
   "execution_count": 115,
   "metadata": {},
   "outputs": [],
   "source": [
    "class MaxStack(object):\n",
    "    def __init__(self):\n",
    "        self.stack = []\n",
    "        self.max = []\n",
    "    def push(self, x):\n",
    "        if not self.max:\n",
    "            self.max.append(x)\n",
    "        else:\n",
    "            if self.max[-1] > x:\n",
    "                self.max.append(self.max[-1])\n",
    "            else:\n",
    "                self.max.append(x)\n",
    "        self.stack.append(x)\n",
    "\n",
    "    def pop(self):\n",
    "        self.max.pop()\n",
    "        return self.stack.pop()\n",
    "\n",
    "    def top(self):\n",
    "        return self.stack[-1]\n",
    "\n",
    "    def peekMax(self):\n",
    "        return self.max[-1]\n",
    "\n",
    "    def popMax(self):\n",
    "        max_val = self.peekMax()\n",
    "        tmp = []\n",
    "        while max_val != self.top():\n",
    "            tmp.append(self.pop())\n",
    "        self.pop()\n",
    "        print(tmp)\n",
    "        while tmp:\n",
    "            self.push(tmp.pop())\n",
    "        return max_val"
   ]
  },
  {
   "cell_type": "code",
   "execution_count": 116,
   "metadata": {},
   "outputs": [],
   "source": [
    "m = MaxStack()"
   ]
  },
  {
   "cell_type": "code",
   "execution_count": 117,
   "metadata": {},
   "outputs": [
    {
     "data": {
      "text/plain": [
       "[4]"
      ]
     },
     "execution_count": 117,
     "metadata": {},
     "output_type": "execute_result"
    }
   ],
   "source": [
    "m.push(4)\n",
    "m.max"
   ]
  },
  {
   "cell_type": "code",
   "execution_count": 118,
   "metadata": {},
   "outputs": [
    {
     "data": {
      "text/plain": [
       "[4, 4]"
      ]
     },
     "execution_count": 118,
     "metadata": {},
     "output_type": "execute_result"
    }
   ],
   "source": [
    "m.push(1)\n",
    "m.max"
   ]
  },
  {
   "cell_type": "code",
   "execution_count": 119,
   "metadata": {},
   "outputs": [
    {
     "name": "stdout",
     "output_type": "stream",
     "text": [
      "[1]\n"
     ]
    },
    {
     "data": {
      "text/plain": [
       "4"
      ]
     },
     "execution_count": 119,
     "metadata": {},
     "output_type": "execute_result"
    }
   ],
   "source": [
    "m.popMax()"
   ]
  },
  {
   "cell_type": "code",
   "execution_count": 121,
   "metadata": {},
   "outputs": [
    {
     "data": {
      "text/plain": [
       "1"
      ]
     },
     "execution_count": 121,
     "metadata": {},
     "output_type": "execute_result"
    }
   ],
   "source": [
    "m.peekMax()"
   ]
  }
 ],
 "metadata": {
  "kernelspec": {
   "display_name": "Python 3",
   "language": "python",
   "name": "python3"
  },
  "language_info": {
   "codemirror_mode": {
    "name": "ipython",
    "version": 3
   },
   "file_extension": ".py",
   "mimetype": "text/x-python",
   "name": "python",
   "nbconvert_exporter": "python",
   "pygments_lexer": "ipython3",
   "version": "3.6.6"
  }
 },
 "nbformat": 4,
 "nbformat_minor": 2
}
