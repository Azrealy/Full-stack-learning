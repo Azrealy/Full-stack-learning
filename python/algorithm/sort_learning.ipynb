{
 "cells": [
  {
   "cell_type": "code",
   "execution_count": 12,
   "metadata": {},
   "outputs": [],
   "source": [
    "def bubble_sorted(collection):\n",
    "    length = len(collection)\n",
    "    for i in range(length - 1):\n",
    "        swapper = False\n",
    "        for j in range(length - i - 1):\n",
    "            if collection[j] > collection[j+1]:\n",
    "                swapper = True\n",
    "                # collection[j], collection[j+1] = collection[j+1], collection[j]\n",
    "                b = collection[j]\n",
    "                collection[j] = collection[j+1]\n",
    "                collection[j+1] = b\n",
    "        if not swapper:\n",
    "            break\n",
    "    return collection"
   ]
  },
  {
   "cell_type": "code",
   "execution_count": 13,
   "metadata": {},
   "outputs": [
    {
     "data": {
      "text/plain": [
       "[1, 2, 3, 4, 7]"
      ]
     },
     "execution_count": 13,
     "metadata": {},
     "output_type": "execute_result"
    }
   ],
   "source": [
    "bubble_sorted([1, 3, 2, 4, 7])"
   ]
  },
  {
   "cell_type": "markdown",
   "metadata": {},
   "source": [
    "Properties\n",
    "\n",
    "* Worst case performance\tO(n2)\n",
    "* Best case performance\tO(n)\n",
    "* Average case performance\tO(n2)"
   ]
  },
  {
   "cell_type": "code",
   "execution_count": 17,
   "metadata": {},
   "outputs": [],
   "source": [
    "def insert_sorted(collection):\n",
    "    for i in range(1, len(collection)):\n",
    "        while i > 0 and collection[i-1] > collection[i]:\n",
    "            collection[i-1], collection[i] = collection[i], collection[i-1]\n",
    "            i -= 1\n",
    "    return collection"
   ]
  },
  {
   "cell_type": "code",
   "execution_count": 16,
   "metadata": {},
   "outputs": [
    {
     "data": {
      "text/plain": [
       "[1, 2, 3, 4, 7]"
      ]
     },
     "execution_count": 16,
     "metadata": {},
     "output_type": "execute_result"
    }
   ],
   "source": [
    "insert_sorted([4, 3, 2, 1, 7])"
   ]
  },
  {
   "cell_type": "markdown",
   "metadata": {},
   "source": [
    "Properties\n",
    "\n",
    "* Worst case performance\tO(n2)\n",
    "* Best case performance\tO(n)\n",
    "* Average case performance\tO(n2)"
   ]
  },
  {
   "cell_type": "code",
   "execution_count": 18,
   "metadata": {},
   "outputs": [],
   "source": [
    "def merge_sort(collection):\n",
    "\n",
    "    length = len(collection)\n",
    "    if length > 1:\n",
    "        midpoint = length // 2\n",
    "        left_half = merge_sort(collection[:midpoint])\n",
    "        right_half = merge_sort(collection[midpoint:])\n",
    "        print(left_half)\n",
    "        print(right_half)\n",
    "        i = 0\n",
    "        j = 0\n",
    "        k = 0\n",
    "        left_length = len(left_half)\n",
    "        right_length = len(right_half)\n",
    "        while i < left_length and j < right_length:\n",
    "            if left_half[i] < right_half[j]:\n",
    "                collection[k] = left_half[i]\n",
    "                i += 1\n",
    "            else:\n",
    "                collection[k] = right_half[j]\n",
    "                j += 1\n",
    "            k += 1\n",
    "\n",
    "        while i < left_length:\n",
    "            collection[k] = left_half[i]\n",
    "            i += 1\n",
    "            k += 1\n",
    "\n",
    "        while j < right_length:\n",
    "            collection[k] = right_half[j]\n",
    "            j += 1\n",
    "            k += 1\n",
    "\n",
    "    return collection"
   ]
  },
  {
   "cell_type": "code",
   "execution_count": 19,
   "metadata": {},
   "outputs": [
    {
     "name": "stdout",
     "output_type": "stream",
     "text": [
      "[3]\n",
      "[2]\n",
      "[1]\n",
      "[5]\n",
      "[6]\n",
      "[1, 5]\n",
      "[2, 3]\n",
      "[1, 5, 6]\n"
     ]
    },
    {
     "data": {
      "text/plain": [
       "[1, 2, 3, 5, 6]"
      ]
     },
     "execution_count": 19,
     "metadata": {},
     "output_type": "execute_result"
    }
   ],
   "source": [
    "merge_sort([3,2,6,1,5])"
   ]
  },
  {
   "cell_type": "code",
   "execution_count": 1,
   "metadata": {},
   "outputs": [],
   "source": [
    "def merge(left, right):\n",
    "    left_idx, right_idx = 0, 0\n",
    "    merge_list = []\n",
    "    while left_idx < len(left) and right_idx < len(right):\n",
    "        if left[left_idx] < right[right_idx]:\n",
    "            merge_list.append(left[left_idx])\n",
    "            left_idx += 1\n",
    "        else:\n",
    "            merge_list.append(right[right_idx])\n",
    "            right_idx += 1\n",
    "    if left_idx == len(left):\n",
    "        merge_list.extend(right[right_idx:])\n",
    "    else:\n",
    "        merge_list.extend(left[left_idx:])\n",
    "    return merge_list"
   ]
  },
  {
   "cell_type": "code",
   "execution_count": 6,
   "metadata": {},
   "outputs": [
    {
     "data": {
      "text/plain": [
       "[1, 2, 3, 6, 9]"
      ]
     },
     "execution_count": 6,
     "metadata": {},
     "output_type": "execute_result"
    }
   ],
   "source": [
    "merge([1, 3], [2, 6, 9])"
   ]
  },
  {
   "cell_type": "code",
   "execution_count": 7,
   "metadata": {},
   "outputs": [],
   "source": [
    "def merge_sort(target_list):\n",
    "    if len(target_list) <= 1:\n",
    "        return target_list\n",
    "    middle_idx = len(target_list) // 2\n",
    "    left = merge_sort(target_list[:middle_idx])\n",
    "    right = merge_sort(target_list[middle_idx:])\n",
    "    return merge(left, right)"
   ]
  },
  {
   "cell_type": "code",
   "execution_count": 8,
   "metadata": {},
   "outputs": [
    {
     "data": {
      "text/plain": [
       "[2, 2, 3, 4, 5, 7, 10]"
      ]
     },
     "execution_count": 8,
     "metadata": {},
     "output_type": "execute_result"
    }
   ],
   "source": [
    "merge_sort([5, 3, 2, 10, 7, 2, 4])"
   ]
  },
  {
   "cell_type": "markdown",
   "metadata": {},
   "source": [
    "Properties\n",
    "\n",
    "* Worst case performance\tO(n log n)\n",
    "* Best case performance\tO(n log n)\n",
    "* Average case performance\tO(n log n)"
   ]
  },
  {
   "cell_type": "code",
   "execution_count": 14,
   "metadata": {},
   "outputs": [],
   "source": [
    "def selection_sort(target_list):\n",
    "    if len(target_list) <= 1:\n",
    "        return target_list\n",
    "    length = len(target_list)\n",
    "    for i in range(length-1):\n",
    "        smallest = i\n",
    "        for j in range(i, length):\n",
    "            if target_list[smallest] > target_list[j]:\n",
    "                smallest = j\n",
    "        target_list[smallest], target_list[i] = target_list[i], target_list[smallest]\n",
    "    return target_list"
   ]
  },
  {
   "cell_type": "code",
   "execution_count": 15,
   "metadata": {},
   "outputs": [
    {
     "data": {
      "text/plain": [
       "[1, 2, 2, 3, 4, 5, 7, 10, 20, 87]"
      ]
     },
     "execution_count": 15,
     "metadata": {},
     "output_type": "execute_result"
    }
   ],
   "source": [
    "selection_sort([1, 20, 87, 5, 3, 2, 10, 7, 2, 4])"
   ]
  },
  {
   "cell_type": "markdown",
   "metadata": {},
   "source": [
    "Properties\n",
    "\n",
    "* Worst case performance\tO(n2)\n",
    "* Best case performance\tO(n2)\n",
    "* Average case performance\tO(n2)"
   ]
  },
  {
   "cell_type": "code",
   "execution_count": 79,
   "metadata": {},
   "outputs": [],
   "source": [
    "def shell_sort(target_list):\n",
    "    gap = len(target_list) // 2\n",
    "    while gap > 0:\n",
    "        for i in range(gap):\n",
    "            shell_insert_sort(target_list, i, gap)\n",
    "        gap = gap // 2\n",
    "    return target_list"
   ]
  },
  {
   "cell_type": "code",
   "execution_count": 92,
   "metadata": {},
   "outputs": [],
   "source": [
    "def shell_insert_sort(target_list, start, gap):\n",
    "    for i in range(start+gap,len(target_list),gap):\n",
    "        position = i\n",
    "        while position>=gap and target_list[position-gap]>target_list[position]:\n",
    "            target_list[position-gap], target_list[position] = target_list[position], target_list[position-gap]\n",
    "            position -= gap"
   ]
  },
  {
   "cell_type": "code",
   "execution_count": 93,
   "metadata": {},
   "outputs": [
    {
     "data": {
      "text/plain": [
       "[17, 20, 26, 31, 44, 54, 55, 77, 93]"
      ]
     },
     "execution_count": 93,
     "metadata": {},
     "output_type": "execute_result"
    }
   ],
   "source": [
    "shell_sort([54,26,93,17,77,31,44,55,20])"
   ]
  },
  {
   "cell_type": "markdown",
   "metadata": {},
   "source": [
    "Properties\n",
    "* Worst case performance O(nlog2n)\n",
    "* Best case performance O(n log n)\n",
    "* Average case performance depends on gap sequence"
   ]
  },
  {
   "cell_type": "code",
   "execution_count": 23,
   "metadata": {},
   "outputs": [],
   "source": [
    "def partition(divided_list, start, end):\n",
    "    # takse the first element in the list as the pivot value\n",
    "    pivot_value = divided_list[start]\n",
    "    left_mark, right_mark = start + 1, end\n",
    "    stop = False\n",
    "    while not stop:\n",
    "        while left_mark <= right_mark and pivot_value > divided_list[left_mark]:\n",
    "            left_mark += 1\n",
    "        while left_mark <= right_mark and pivot_value < divided_list[right_mark]:\n",
    "            right_mark -= 1\n",
    "        if left_mark > right_mark:\n",
    "            stop = True\n",
    "        else:\n",
    "            divided_list[left_mark], divided_list[right_mark] = divided_list[right_mark], divided_list[left_mark]\n",
    "    divided_list[start], divided_list[right_mark] = divided_list[right_mark], divided_list[start]\n",
    "    return right_mark"
   ]
  },
  {
   "cell_type": "code",
   "execution_count": 26,
   "metadata": {},
   "outputs": [],
   "source": [
    "def quick_sort(target_list):\n",
    "    start = 0\n",
    "    end = len(target_list) - 1\n",
    "    quick_sort_helper(target_list, start, end)\n",
    "    return target_list\n",
    "def quick_sort_helper(target_list, start, end):\n",
    "    if start < end:\n",
    "        split_point = partition(target_list, start, end)\n",
    "        quick_sort_helper(target_list, start, split_point-1)\n",
    "        quick_sort_helper(target_list, split_point + 1, end)"
   ]
  },
  {
   "cell_type": "code",
   "execution_count": 27,
   "metadata": {},
   "outputs": [
    {
     "data": {
      "text/plain": [
       "[1, 2, 3, 4, 5, 6]"
      ]
     },
     "execution_count": 27,
     "metadata": {},
     "output_type": "execute_result"
    }
   ],
   "source": [
    "quick_sort([5,1,3, 6, 2, 4])"
   ]
  },
  {
   "cell_type": "markdown",
   "metadata": {},
   "source": [
    "Properties\n",
    "\n",
    "* Worst case performance\tO(n2)\n",
    "* Best case performance\tO(n log n) or O(n) with three-way partition\n",
    "* Average case performance\tO(n log n)"
   ]
  },
  {
   "cell_type": "code",
   "execution_count": null,
   "metadata": {},
   "outputs": [],
   "source": []
  }
 ],
 "metadata": {
  "kernelspec": {
   "display_name": "Python 3",
   "language": "python",
   "name": "python3"
  },
  "language_info": {
   "codemirror_mode": {
    "name": "ipython",
    "version": 3
   },
   "file_extension": ".py",
   "mimetype": "text/x-python",
   "name": "python",
   "nbconvert_exporter": "python",
   "pygments_lexer": "ipython3",
   "version": "3.6.5"
  }
 },
 "nbformat": 4,
 "nbformat_minor": 2
}
