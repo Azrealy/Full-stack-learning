{
 "cells": [
  {
   "cell_type": "code",
   "execution_count": 12,
   "metadata": {},
   "outputs": [],
   "source": [
    "def bubble_sorted(collection):\n",
    "    length = len(collection)\n",
    "    for i in range(length - 1):\n",
    "        swapper = False\n",
    "        for j in range(length - i - 1):\n",
    "            if collection[j] > collection[j+1]:\n",
    "                swapper = True\n",
    "                # collection[j], collection[j+1] = collection[j+1], collection[j]\n",
    "                b = collection[j]\n",
    "                collection[j] = collection[j+1]\n",
    "                collection[j+1] = b\n",
    "        if not swapper:\n",
    "            break\n",
    "    return collection"
   ]
  },
  {
   "cell_type": "code",
   "execution_count": 13,
   "metadata": {},
   "outputs": [
    {
     "data": {
      "text/plain": [
       "[1, 2, 3, 4, 7]"
      ]
     },
     "execution_count": 13,
     "metadata": {},
     "output_type": "execute_result"
    }
   ],
   "source": [
    "bubble_sorted([1, 3, 2, 4, 7])"
   ]
  },
  {
   "cell_type": "markdown",
   "metadata": {},
   "source": [
    "Properties\n",
    "\n",
    "* Worst case performance\tO(n2)\n",
    "* Best case performance\tO(n)\n",
    "* Average case performance\tO(n2)"
   ]
  },
  {
   "cell_type": "code",
   "execution_count": 17,
   "metadata": {},
   "outputs": [],
   "source": [
    "def insert_sorted(collection):\n",
    "    for i in range(1, len(collection)):\n",
    "        while i > 0 and collection[i-1] > collection[i]:\n",
    "            collection[i-1], collection[i] = collection[i], collection[i-1]\n",
    "            i -= 1\n",
    "    return collection"
   ]
  },
  {
   "cell_type": "code",
   "execution_count": 16,
   "metadata": {},
   "outputs": [
    {
     "data": {
      "text/plain": [
       "[1, 2, 3, 4, 7]"
      ]
     },
     "execution_count": 16,
     "metadata": {},
     "output_type": "execute_result"
    }
   ],
   "source": [
    "insert_sorted([4, 3, 2, 1, 7])"
   ]
  },
  {
   "cell_type": "markdown",
   "metadata": {},
   "source": [
    "Properties\n",
    "\n",
    "* Worst case performance\tO(n2)\n",
    "* Best case performance\tO(n)\n",
    "* Average case performance\tO(n2)"
   ]
  },
  {
   "cell_type": "code",
   "execution_count": 18,
   "metadata": {},
   "outputs": [],
   "source": [
    "def merge_sort(collection):\n",
    "\n",
    "    length = len(collection)\n",
    "    if length > 1:\n",
    "        midpoint = length // 2\n",
    "        left_half = merge_sort(collection[:midpoint])\n",
    "        right_half = merge_sort(collection[midpoint:])\n",
    "        print(left_half)\n",
    "        print(right_half)\n",
    "        i = 0\n",
    "        j = 0\n",
    "        k = 0\n",
    "        left_length = len(left_half)\n",
    "        right_length = len(right_half)\n",
    "        while i < left_length and j < right_length:\n",
    "            if left_half[i] < right_half[j]:\n",
    "                collection[k] = left_half[i]\n",
    "                i += 1\n",
    "            else:\n",
    "                collection[k] = right_half[j]\n",
    "                j += 1\n",
    "            k += 1\n",
    "\n",
    "        while i < left_length:\n",
    "            collection[k] = left_half[i]\n",
    "            i += 1\n",
    "            k += 1\n",
    "\n",
    "        while j < right_length:\n",
    "            collection[k] = right_half[j]\n",
    "            j += 1\n",
    "            k += 1\n",
    "\n",
    "    return collection"
   ]
  },
  {
   "cell_type": "code",
   "execution_count": 19,
   "metadata": {},
   "outputs": [
    {
     "name": "stdout",
     "output_type": "stream",
     "text": [
      "[3]\n",
      "[2]\n",
      "[1]\n",
      "[5]\n",
      "[6]\n",
      "[1, 5]\n",
      "[2, 3]\n",
      "[1, 5, 6]\n"
     ]
    },
    {
     "data": {
      "text/plain": [
       "[1, 2, 3, 5, 6]"
      ]
     },
     "execution_count": 19,
     "metadata": {},
     "output_type": "execute_result"
    }
   ],
   "source": [
    "merge_sort([3,2,6,1,5])"
   ]
  },
  {
   "cell_type": "code",
   "execution_count": 1,
   "metadata": {},
   "outputs": [],
   "source": [
    "def merge(left, right):\n",
    "    left_idx, right_idx = 0, 0\n",
    "    merge_list = []\n",
    "    while left_idx < len(left) and right_idx < len(right):\n",
    "        if left[left_idx] < right[right_idx]:\n",
    "            merge_list.append(left[left_idx])\n",
    "            left_idx += 1\n",
    "        else:\n",
    "            merge_list.append(right[right_idx])\n",
    "            right_idx += 1\n",
    "    if left_idx == len(left):\n",
    "        merge_list.extend(right[right_idx:])\n",
    "    else:\n",
    "        merge_list.extend(left[left_idx:])\n",
    "    return merge_list"
   ]
  },
  {
   "cell_type": "code",
   "execution_count": 6,
   "metadata": {},
   "outputs": [
    {
     "data": {
      "text/plain": [
       "[1, 2, 3, 6, 9]"
      ]
     },
     "execution_count": 6,
     "metadata": {},
     "output_type": "execute_result"
    }
   ],
   "source": [
    "merge([1, 3], [2, 6, 9])"
   ]
  },
  {
   "cell_type": "code",
   "execution_count": 7,
   "metadata": {},
   "outputs": [],
   "source": [
    "def merge_sort(target_list):\n",
    "    if len(target_list) <= 1:\n",
    "        return target_list\n",
    "    middle_idx = len(target_list) // 2\n",
    "    left = merge_sort(target_list[:middle_idx])\n",
    "    right = merge_sort(target_list[middle_idx:])\n",
    "    return merge(left, right)"
   ]
  },
  {
   "cell_type": "code",
   "execution_count": 8,
   "metadata": {},
   "outputs": [
    {
     "data": {
      "text/plain": [
       "[2, 2, 3, 4, 5, 7, 10]"
      ]
     },
     "execution_count": 8,
     "metadata": {},
     "output_type": "execute_result"
    }
   ],
   "source": [
    "merge_sort([5, 3, 2, 10, 7, 2, 4])"
   ]
  },
  {
   "cell_type": "markdown",
   "metadata": {},
   "source": [
    "Properties\n",
    "\n",
    "* Worst case performance\tO(n log n)\n",
    "* Best case performance\tO(n log n)\n",
    "* Average case performance\tO(n log n)"
   ]
  },
  {
   "cell_type": "code",
   "execution_count": 14,
   "metadata": {},
   "outputs": [],
   "source": [
    "def selection_sort(target_list):\n",
    "    if len(target_list) <= 1:\n",
    "        return target_list\n",
    "    length = len(target_list)\n",
    "    for i in range(length-1):\n",
    "        smallest = i\n",
    "        for j in range(i, length):\n",
    "            if target_list[smallest] > target_list[j]:\n",
    "                smallest = j\n",
    "        target_list[smallest], target_list[i] = target_list[i], target_list[smallest]\n",
    "    return target_list"
   ]
  },
  {
   "cell_type": "code",
   "execution_count": 15,
   "metadata": {},
   "outputs": [
    {
     "data": {
      "text/plain": [
       "[1, 2, 2, 3, 4, 5, 7, 10, 20, 87]"
      ]
     },
     "execution_count": 15,
     "metadata": {},
     "output_type": "execute_result"
    }
   ],
   "source": [
    "selection_sort([1, 20, 87, 5, 3, 2, 10, 7, 2, 4])"
   ]
  },
  {
   "cell_type": "markdown",
   "metadata": {},
   "source": [
    "Properties\n",
    "\n",
    "* Worst case performance\tO(n2)\n",
    "* Best case performance\tO(n2)\n",
    "* Average case performance\tO(n2)"
   ]
  },
  {
   "cell_type": "code",
   "execution_count": 79,
   "metadata": {},
   "outputs": [],
   "source": [
    "def shell_sort(target_list):\n",
    "    gap = len(target_list) // 2\n",
    "    while gap > 0:\n",
    "        for i in range(gap):\n",
    "            shell_insert_sort(target_list, i, gap)\n",
    "        gap = gap // 2\n",
    "    return target_list"
   ]
  },
  {
   "cell_type": "code",
   "execution_count": 92,
   "metadata": {},
   "outputs": [],
   "source": [
    "def shell_insert_sort(target_list, start, gap):\n",
    "    for i in range(start+gap,len(target_list),gap):\n",
    "        position = i\n",
    "        while position>=gap and target_list[position-gap]>target_list[position]:\n",
    "            target_list[position-gap], target_list[position] = target_list[position], target_list[position-gap]\n",
    "            position -= gap"
   ]
  },
  {
   "cell_type": "code",
   "execution_count": 93,
   "metadata": {},
   "outputs": [
    {
     "data": {
      "text/plain": [
       "[17, 20, 26, 31, 44, 54, 55, 77, 93]"
      ]
     },
     "execution_count": 93,
     "metadata": {},
     "output_type": "execute_result"
    }
   ],
   "source": [
    "shell_sort([54,26,93,17,77,31,44,55,20])"
   ]
  },
  {
   "cell_type": "markdown",
   "metadata": {},
   "source": [
    "Properties\n",
    "* Worst case performance O(nlog2n)\n",
    "* Best case performance O(n log n)\n",
    "* Average case performance depends on gap sequence"
   ]
  },
  {
   "cell_type": "code",
   "execution_count": 23,
   "metadata": {},
   "outputs": [],
   "source": [
    "def partition(divided_list, start, end):\n",
    "    # takse the first element in the list as the pivot value\n",
    "    pivot_value = divided_list[start]\n",
    "    left_mark, right_mark = start + 1, end\n",
    "    stop = False\n",
    "    while not stop:\n",
    "        while left_mark <= right_mark and pivot_value > divided_list[left_mark]:\n",
    "            left_mark += 1\n",
    "        while left_mark <= right_mark and pivot_value < divided_list[right_mark]:\n",
    "            right_mark -= 1\n",
    "        if left_mark > right_mark:\n",
    "            stop = True\n",
    "        else:\n",
    "            divided_list[left_mark], divided_list[right_mark] = divided_list[right_mark], divided_list[left_mark]\n",
    "    divided_list[start], divided_list[right_mark] = divided_list[right_mark], divided_list[start]\n",
    "    return right_mark"
   ]
  },
  {
   "cell_type": "code",
   "execution_count": 26,
   "metadata": {},
   "outputs": [],
   "source": [
    "def quick_sort(target_list):\n",
    "    start = 0\n",
    "    end = len(target_list) - 1\n",
    "    quick_sort_helper(target_list, start, end)\n",
    "    return target_list\n",
    "def quick_sort_helper(target_list, start, end):\n",
    "    if start < end:\n",
    "        split_point = partition(target_list, start, end)\n",
    "        quick_sort_helper(target_list, start, split_point-1)\n",
    "        quick_sort_helper(target_list, split_point + 1, end)"
   ]
  },
  {
   "cell_type": "code",
   "execution_count": 27,
   "metadata": {},
   "outputs": [
    {
     "data": {
      "text/plain": [
       "[1, 2, 3, 4, 5, 6]"
      ]
     },
     "execution_count": 27,
     "metadata": {},
     "output_type": "execute_result"
    }
   ],
   "source": [
    "quick_sort([5,1,3, 6, 2, 4])"
   ]
  },
  {
   "cell_type": "markdown",
   "metadata": {},
   "source": [
    "Properties\n",
    "\n",
    "* Worst case performance\tO(n2)\n",
    "* Best case performance\tO(n log n) or O(n) with three-way partition\n",
    "* Average case performance\tO(n log n)"
   ]
  },
  {
   "cell_type": "code",
   "execution_count": 1,
   "metadata": {},
   "outputs": [],
   "source": [
    "def find_rotate_id(array):\n",
    "    # As a rotated array, when we get the mid of the array,\n",
    "    # There will be just one side of the array is be sorted.\n",
    "    # For that, we need get ride of the the one situation that\n",
    "    # two side is sorted, which will be like rotate at 0.\n",
    "    if array[0] < array[-1]:\n",
    "        return 0\n",
    "    \n",
    "    left = 0\n",
    "    right = len(array) - 1\n",
    "    # The step we find the rotation point. what is find the smallest elements.\n",
    "    # 1. Caculate the mid index use left and right.\n",
    "    # 2. Confirm if the array[mid] > arrat[mid+1], if it does, mid + 1 will be the rotate id.\n",
    "    # 2.a if the array[left] > array[mid] the right side will be sorted, \n",
    "    # and rotated_id will on the left. Assign right = mid - 1.\n",
    "    # 2.b if the array[left] < array[mid] the left side will be sorted,\n",
    "    # and rotated_id will on the right. Assign left = mid + 1\n",
    "    # 3. search the side include the rotated_id and back to the step 1.\n",
    "    while left <= right:\n",
    "        mid = (right + left) // 2\n",
    "        if array[mid] > array[mid + 1]:\n",
    "            return mid + 1\n",
    "        else:\n",
    "            if array[left] > array[mid]:\n",
    "                right = mid - 1\n",
    "            else:\n",
    "                left = mid + 1"
   ]
  },
  {
   "cell_type": "code",
   "execution_count": 2,
   "metadata": {},
   "outputs": [
    {
     "data": {
      "text/plain": [
       "3"
      ]
     },
     "execution_count": 2,
     "metadata": {},
     "output_type": "execute_result"
    }
   ],
   "source": [
    "find_rotate_id([2,5,6,0,0,1,2])"
   ]
  },
  {
   "cell_type": "markdown",
   "metadata": {},
   "source": [
    "## Couting sort\n",
    "\n",
    "An algorithms for sorting a collection of objects accorfing to keys that are small integers; that is, it is an integer sorting algorithm. It operates by conuting the number of objects that have each distinct key val, and using arithmetic on those counts to determine the positions of each key value in the output sequence."
   ]
  },
  {
   "cell_type": "code",
   "execution_count": 38,
   "metadata": {},
   "outputs": [],
   "source": [
    "import pysnooper\n",
    "\n",
    "@pysnooper.snoop()\n",
    "def counting_sort(nums):\n",
    "    if not nums:\n",
    "        return nums\n",
    "    \n",
    "    length = len(nums)\n",
    "    max_val = max(nums)\n",
    "    min_val = min(nums)\n",
    "    \n",
    "    counting_array_len = max_val + 1 - min_val\n",
    "    counting_array = [0] * counting_array_len\n",
    "    # count how much a number appears in the collection\n",
    "    for n in nums:\n",
    "        counting_array[n-min_val] += 1\n",
    "    # sum each position with it's predecessors. now, counting_arr[i] tells\n",
    "    # us how many elements <= i has in the collection\n",
    "    for i in range(1, counting_array_len):\n",
    "        counting_array[i] += counting_array[i-1]\n",
    "    # create the output collection\n",
    "    ans = [0] * length\n",
    "    \n",
    "    # place the elements in the output, respecting the original order (stable\n",
    "    # sort) from end to begin, updating counting_arr\n",
    "    \n",
    "    # image, every countting_array[key] in the countting_array is means that before the `key`\n",
    "    # mapped value in the nums, have countting_array[key] - 1 number of num is\n",
    "    # smaller than the current value.\n",
    "    for m in reversed(range(0, length)):\n",
    "        ans[counting_array[nums[m] - min_val] -1] = nums[m]\n",
    "        counting_array[nums[m] - min_val] -= 1\n",
    "    return ans"
   ]
  },
  {
   "cell_type": "code",
   "execution_count": 39,
   "metadata": {},
   "outputs": [
    {
     "name": "stderr",
     "output_type": "stream",
     "text": [
      "Starting var:.. nums = [-1, 6, 2, 3]\n",
      "13:34:55.572837 call         4 def counting_sort(nums):\n",
      "13:34:55.572996 line         5     if not nums:\n",
      "13:34:55.573069 line         8     length = len(nums)\n",
      "New var:....... length = 4\n",
      "13:34:55.573279 line         9     max_val = max(nums)\n",
      "New var:....... max_val = 6\n",
      "13:34:55.573400 line        10     min_val = min(nums)\n",
      "New var:....... min_val = -1\n",
      "13:34:55.573509 line        12     counting_array_len = max_val + 1 - min_val\n",
      "New var:....... counting_array_len = 8\n",
      "13:34:55.573643 line        13     counting_array = [0] * counting_array_len\n",
      "New var:....... counting_array = [0, 0, 0, 0, 0, 0, 0, 0]\n",
      "13:34:55.573755 line        15     for n in nums:\n",
      "New var:....... n = -1\n",
      "13:34:55.573875 line        16         counting_array[n-min_val] += 1\n",
      "Modified var:.. counting_array = [1, 0, 0, 0, 0, 0, 0, 0]\n",
      "13:34:55.573993 line        15     for n in nums:\n",
      "Modified var:.. n = 6\n",
      "13:34:55.574124 line        16         counting_array[n-min_val] += 1\n",
      "Modified var:.. counting_array = [1, 0, 0, 0, 0, 0, 0, 1]\n",
      "13:34:55.574345 line        15     for n in nums:\n",
      "Modified var:.. n = 2\n",
      "13:34:55.574472 line        16         counting_array[n-min_val] += 1\n",
      "Modified var:.. counting_array = [1, 0, 0, 1, 0, 0, 0, 1]\n",
      "13:34:55.574586 line        15     for n in nums:\n",
      "Modified var:.. n = 3\n",
      "13:34:55.574697 line        16         counting_array[n-min_val] += 1\n",
      "Modified var:.. counting_array = [1, 0, 0, 1, 1, 0, 0, 1]\n",
      "13:34:55.574807 line        15     for n in nums:\n",
      "13:34:55.574895 line        19     for i in range(1, counting_array_len):\n",
      "New var:....... i = 1\n",
      "13:34:55.575010 line        20         counting_array[i] += counting_array[i-1]\n",
      "Modified var:.. counting_array = [1, 1, 0, 1, 1, 0, 0, 1]\n",
      "13:34:55.575124 line        19     for i in range(1, counting_array_len):\n",
      "Modified var:.. i = 2\n",
      "13:34:55.575269 line        20         counting_array[i] += counting_array[i-1]\n",
      "Modified var:.. counting_array = [1, 1, 1, 1, 1, 0, 0, 1]\n",
      "13:34:55.575387 line        19     for i in range(1, counting_array_len):\n",
      "Modified var:.. i = 3\n",
      "13:34:55.575502 line        20         counting_array[i] += counting_array[i-1]\n",
      "Modified var:.. counting_array = [1, 1, 1, 2, 1, 0, 0, 1]\n",
      "13:34:55.575643 line        19     for i in range(1, counting_array_len):\n",
      "Modified var:.. i = 4\n",
      "13:34:55.575794 line        20         counting_array[i] += counting_array[i-1]\n",
      "Modified var:.. counting_array = [1, 1, 1, 2, 3, 0, 0, 1]\n",
      "13:34:55.575924 line        19     for i in range(1, counting_array_len):\n",
      "Modified var:.. i = 5\n",
      "13:34:55.576040 line        20         counting_array[i] += counting_array[i-1]\n",
      "Modified var:.. counting_array = [1, 1, 1, 2, 3, 3, 0, 1]\n",
      "13:34:55.576155 line        19     for i in range(1, counting_array_len):\n",
      "Modified var:.. i = 6\n",
      "13:34:55.576307 line        20         counting_array[i] += counting_array[i-1]\n",
      "Modified var:.. counting_array = [1, 1, 1, 2, 3, 3, 3, 1]\n",
      "13:34:55.576423 line        19     for i in range(1, counting_array_len):\n",
      "Modified var:.. i = 7\n",
      "13:34:55.576537 line        20         counting_array[i] += counting_array[i-1]\n",
      "Modified var:.. counting_array = [1, 1, 1, 2, 3, 3, 3, 4]\n",
      "13:34:55.576651 line        19     for i in range(1, counting_array_len):\n",
      "13:34:55.576743 line        22     ans = [0] * length\n",
      "New var:....... ans = [0, 0, 0, 0]\n",
      "13:34:55.576863 line        30     for m in reversed(range(0, length)):\n",
      "New var:....... m = 3\n",
      "13:34:55.576988 line        31         ans[counting_array[nums[m] - min_val] -1] = nums[m]\n",
      "Modified var:.. ans = [0, 0, 3, 0]\n",
      "13:34:55.577110 line        32         counting_array[nums[m] - min_val] -= 1\n",
      "Modified var:.. counting_array = [1, 1, 1, 2, 2, 3, 3, 4]\n",
      "13:34:55.577286 line        30     for m in reversed(range(0, length)):\n",
      "Modified var:.. m = 2\n",
      "13:34:55.577415 line        31         ans[counting_array[nums[m] - min_val] -1] = nums[m]\n",
      "Modified var:.. ans = [0, 2, 3, 0]\n",
      "13:34:55.577558 line        32         counting_array[nums[m] - min_val] -= 1\n",
      "Modified var:.. counting_array = [1, 1, 1, 1, 2, 3, 3, 4]\n",
      "13:34:55.577683 line        30     for m in reversed(range(0, length)):\n",
      "Modified var:.. m = 1\n",
      "13:34:55.577803 line        31         ans[counting_array[nums[m] - min_val] -1] = nums[m]\n",
      "Modified var:.. ans = [0, 2, 3, 6]\n",
      "13:34:55.577925 line        32         counting_array[nums[m] - min_val] -= 1\n",
      "Modified var:.. counting_array = [1, 1, 1, 1, 2, 3, 3, 3]\n",
      "13:34:55.578050 line        30     for m in reversed(range(0, length)):\n",
      "Modified var:.. m = 0\n",
      "13:34:55.578171 line        31         ans[counting_array[nums[m] - min_val] -1] = nums[m]\n",
      "Modified var:.. ans = [-1, 2, 3, 6]\n",
      "13:34:55.578380 line        32         counting_array[nums[m] - min_val] -= 1\n",
      "Modified var:.. counting_array = [0, 1, 1, 1, 2, 3, 3, 3]\n",
      "13:34:55.578542 line        30     for m in reversed(range(0, length)):\n",
      "13:34:55.578642 line        33     return ans\n",
      "13:34:55.578739 return      33     return ans\n",
      "Return value:.. [-1, 2, 3, 6]\n"
     ]
    },
    {
     "data": {
      "text/plain": [
       "[-1, 2, 3, 6]"
      ]
     },
     "execution_count": 39,
     "metadata": {},
     "output_type": "execute_result"
    }
   ],
   "source": [
    "counting_sort([-1,6,2,3])"
   ]
  },
  {
   "cell_type": "markdown",
   "metadata": {},
   "source": [
    "## Qiuckselect\n",
    "\n",
    "Quickselect is a seleciton algorithm to finf the kth smallest element in an unordered list. Like quicksort, it is efficient in practice and has good average-case performance, but has poor worst-case performance. Quickselect uses the same overall approach as quicksort, choosing one element as a pivot and partitioning the data in two based on the pivot, accordingly as less than or greater than the pivot. However, instead of recursing into both sides, as in quicksort, quickselect only recurses into one side – the side with the element it is searching for. \n",
    "\n",
    "**Algorithm**\n",
    "```\n",
    " function partition(list, left, right, pivotIndex)\n",
    "     pivotValue := list[pivotIndex]\n",
    "     swap list[pivotIndex] and list[right]  // Move pivot to end\n",
    "     storeIndex := left\n",
    "     for i from left to right-1\n",
    "         if list[i] < pivotValue\n",
    "             swap list[storeIndex] and list[i]\n",
    "             increment storeIndex\n",
    "     swap list[right] and list[storeIndex]  // Move pivot to its final place\n",
    "     return storeIndex\n",
    "```"
   ]
  },
  {
   "cell_type": "code",
   "execution_count": 92,
   "metadata": {},
   "outputs": [],
   "source": [
    "def partition(nums, left, right, pivotIndex):\n",
    "    pivotValue = nums[pivotIndex]\n",
    "    \n",
    "    # move the pivot value to end\n",
    "    nums[pivotIndex], nums[right] = nums[right], nums[pivotIndex]\n",
    "    \n",
    "    storeIndex = left\n",
    "    # the last postion now has pivot value plaved.\n",
    "    for i in range(left, right):\n",
    "        # filter the nums[i] need store in the left side\n",
    "        if nums[i] < pivotValue:\n",
    "            nums[i], nums[storeIndex] = nums[storeIndex], nums[i]\n",
    "            storeIndex += 1\n",
    "    nums[storeIndex], nums[right] = nums[right], nums[storeIndex]\n",
    "    return storeIndex"
   ]
  },
  {
   "cell_type": "code",
   "execution_count": 93,
   "metadata": {},
   "outputs": [
    {
     "data": {
      "text/plain": [
       "1"
      ]
     },
     "execution_count": 93,
     "metadata": {},
     "output_type": "execute_result"
    }
   ],
   "source": [
    "partition([3, 2, 1, 2, 5, 3], 0, 3, 1)"
   ]
  },
  {
   "cell_type": "code",
   "execution_count": 107,
   "metadata": {},
   "outputs": [],
   "source": [
    "import random\n",
    "@pysnooper.snoop()\n",
    "def quickSelect(nums, left, right, k):\n",
    "    if left == right:\n",
    "        return nums[left]\n",
    "    pviotIndex = random.choice(range(left, right))\n",
    "    mid = partition(nums, left, right, pviotIndex)\n",
    "    if mid == k-1:\n",
    "        return nums[k-1]\n",
    "    elif mid < k-1:\n",
    "        return quickSelect(nums, mid+1, right, k-1)\n",
    "    else:\n",
    "        return quickSelect(nums, left, mid-1, k-1)"
   ]
  },
  {
   "cell_type": "code",
   "execution_count": 108,
   "metadata": {},
   "outputs": [
    {
     "name": "stderr",
     "output_type": "stream",
     "text": [
      "Starting var:.. nums = [3, 2, 1, 5, 3, 2]\n",
      "Starting var:.. left = 0\n",
      "Starting var:.. right = 5\n",
      "Starting var:.. k = 1\n",
      "14:37:19.125955 call         3 def quickSelect(nums, left, right, k):\n",
      "14:37:19.126104 line         4     if left == right:\n",
      "14:37:19.126204 line         6     pviotIndex = random.choice(range(left, right))\n",
      "New var:....... pviotIndex = 4\n",
      "14:37:19.126366 line         7     mid = partition(nums, left, right, pviotIndex)\n",
      "Modified var:.. nums = [2, 1, 2, 3, 3, 5]\n",
      "New var:....... mid = 3\n",
      "14:37:19.126523 line         8     if mid == k-1:\n",
      "14:37:19.126617 line        10     elif mid < k-1:\n",
      "14:37:19.126707 line        13         return quickSelect(nums, left, mid-1, k-1)\n",
      "    Starting var:.. nums = [2, 1, 2, 3, 3, 5]\n",
      "    Starting var:.. left = 0\n",
      "    Starting var:.. right = 2\n",
      "    Starting var:.. k = 0\n",
      "    14:37:19.126902 call         3 def quickSelect(nums, left, right, k):\n",
      "    14:37:19.127001 line         4     if left == right:\n",
      "    14:37:19.127082 line         6     pviotIndex = random.choice(range(left, right))\n",
      "    New var:....... pviotIndex = 0\n",
      "    14:37:19.127229 line         7     mid = partition(nums, left, right, pviotIndex)\n",
      "    Modified var:.. nums = [1, 2, 2, 3, 3, 5]\n",
      "    New var:....... mid = 1\n",
      "    14:37:19.127368 line         8     if mid == k-1:\n",
      "    14:37:19.127447 line        10     elif mid < k-1:\n",
      "    14:37:19.127525 line        13         return quickSelect(nums, left, mid-1, k-1)\n",
      "        Starting var:.. nums = [1, 2, 2, 3, 3, 5]\n",
      "        Starting var:.. left = 0\n",
      "        Starting var:.. right = 0\n",
      "        Starting var:.. k = -1\n",
      "        14:37:19.127769 call         3 def quickSelect(nums, left, right, k):\n",
      "        14:37:19.127859 line         4     if left == right:\n",
      "        14:37:19.127930 line         5         return nums[left]\n",
      "        14:37:19.127999 return       5         return nums[left]\n",
      "        Return value:.. 1\n",
      "    14:37:19.128181 return      13         return quickSelect(nums, left, mid-1, k-1)\n",
      "    Return value:.. 1\n",
      "Modified var:.. nums = [1, 2, 2, 3, 3, 5]\n",
      "14:37:19.128329 return      13         return quickSelect(nums, left, mid-1, k-1)\n",
      "Return value:.. 1\n"
     ]
    },
    {
     "data": {
      "text/plain": [
       "1"
      ]
     },
     "execution_count": 108,
     "metadata": {},
     "output_type": "execute_result"
    }
   ],
   "source": [
    "quickSelect([3, 2, 1, 5, 3, 2], 0, 5, 1)"
   ]
  },
  {
   "cell_type": "code",
   "execution_count": 119,
   "metadata": {},
   "outputs": [],
   "source": [
    "import random\n",
    "def kCloset(points, k):\n",
    "    # this problem can be think as find the \n",
    "    # k smallest elements in the nums.\n",
    "    # Use min heap.\n",
    "    dist = lambda i: points[i][0]**2 + points[i][1]**2\n",
    "    @pysnooper.snoop()\n",
    "    def partition(left, right, pivotIndex):\n",
    "        pivotValue = dist(pivotIndex)\n",
    "        points[pivotIndex], points[right] = points[right], points[pivotIndex]\n",
    "        storeIndex = left\n",
    "        for i in range(left, right):\n",
    "            if dist(i) < pivotValue:\n",
    "                points[i], points[storeIndex] = points[storeIndex], points[i]\n",
    "                storeIndex += 1\n",
    "        points[right], points[storeIndex] = points[storeIndex], points[right]\n",
    "        return storeIndex\n",
    "    @pysnooper.snoop()\n",
    "    def sorting(left, right, k):\n",
    "        if left == right:\n",
    "            return\n",
    "        pivotIndex = random.randint(left, right)\n",
    "        mid = partition(left, right, pivotIndex)\n",
    "        \n",
    "        if mid == k:\n",
    "            return\n",
    "        if mid < k:\n",
    "            sorting(mid+1, right, k)\n",
    "        else:\n",
    "            sorting(left, mid-1, k)\n",
    "    sorting(0, len(points)-1, k)\n",
    "    return points[:k]"
   ]
  },
  {
   "cell_type": "code",
   "execution_count": 120,
   "metadata": {},
   "outputs": [
    {
     "name": "stderr",
     "output_type": "stream",
     "text": [
      "Starting var:.. left = 0\n",
      "Starting var:.. right = 2\n",
      "Starting var:.. k = 2\n",
      "Starting var:.. partition = <function kCloset.<locals>.partition at 0x7f04880b9d08>\n",
      "Starting var:.. sorting = <function kCloset.<locals>.sorting at 0x7f04880d42f0>\n",
      "15:17:09.320277 call        19     def sorting(left, right, k):\n",
      "15:17:09.320429 line        20         if left == right:\n",
      "15:17:09.320508 line        22         pivotIndex = random.randint(left, right)\n",
      "New var:....... pivotIndex = 0\n",
      "15:17:09.320670 line        23         mid = partition(left, right, pivotIndex)\n",
      "    Starting var:.. left = 0\n",
      "    Starting var:.. right = 2\n",
      "    Starting var:.. pivotIndex = 0\n",
      "    Starting var:.. dist = <function kCloset.<locals>.<lambda> at 0x7f0480fa4268>\n",
      "    Starting var:.. points = [[3, 3], [5, -1], [-2, 4]]\n",
      "    15:17:09.320891 call         8     def partition(left, right, pivotIndex):\n",
      "    15:17:09.320979 line         9         pivotValue = dist(pivotIndex)\n",
      "    New var:....... pivotValue = 18\n",
      "    15:17:09.321112 line        10         points[pivotIndex], points[right] = points[right], points[pivotIndex]\n",
      "    Modified var:.. points = [[-2, 4], [5, -1], [3, 3]]\n",
      "    15:17:09.321259 line        11         storeIndex = left\n",
      "    New var:....... storeIndex = 0\n",
      "    15:17:09.321373 line        12         for i in range(left, right):\n",
      "    New var:....... i = 0\n",
      "    15:17:09.321490 line        13             if dist(i) < pivotValue:\n",
      "    15:17:09.321604 line        12         for i in range(left, right):\n",
      "    Modified var:.. i = 1\n",
      "    15:17:09.321720 line        13             if dist(i) < pivotValue:\n",
      "    15:17:09.321813 line        12         for i in range(left, right):\n",
      "    15:17:09.321903 line        16         points[right], points[storeIndex] = points[storeIndex], points[right]\n",
      "    Modified var:.. points = [[3, 3], [5, -1], [-2, 4]]\n",
      "    15:17:09.322041 line        17         return storeIndex\n",
      "    15:17:09.322132 return      17         return storeIndex\n",
      "    Return value:.. 0\n",
      "New var:....... mid = 0\n",
      "15:17:09.322315 line        25         if mid == k:\n",
      "15:17:09.322399 line        27         if mid < k:\n",
      "15:17:09.322481 line        28             sorting(mid+1, right, k)\n",
      "    Starting var:.. left = 1\n",
      "    Starting var:.. right = 2\n",
      "    Starting var:.. k = 2\n",
      "    Starting var:.. partition = <function kCloset.<locals>.partition at 0x7f04880b9d08>\n",
      "    Starting var:.. sorting = <function kCloset.<locals>.sorting at 0x7f04880d42f0>\n",
      "    15:17:09.322718 call        19     def sorting(left, right, k):\n",
      "    15:17:09.322803 line        20         if left == right:\n",
      "    15:17:09.322880 line        22         pivotIndex = random.randint(left, right)\n",
      "    New var:....... pivotIndex = 1\n",
      "    15:17:09.323009 line        23         mid = partition(left, right, pivotIndex)\n",
      "        Starting var:.. left = 1\n",
      "        Starting var:.. right = 2\n",
      "        Starting var:.. pivotIndex = 1\n",
      "        Starting var:.. dist = <function kCloset.<locals>.<lambda> at 0x7f0480fa4268>\n",
      "        Starting var:.. points = [[3, 3], [5, -1], [-2, 4]]\n",
      "        15:17:09.323256 call         8     def partition(left, right, pivotIndex):\n",
      "        15:17:09.323348 line         9         pivotValue = dist(pivotIndex)\n",
      "        New var:....... pivotValue = 26\n",
      "        15:17:09.323473 line        10         points[pivotIndex], points[right] = points[right], points[pivotIndex]\n",
      "        Modified var:.. points = [[3, 3], [-2, 4], [5, -1]]\n",
      "        15:17:09.323591 line        11         storeIndex = left\n",
      "        New var:....... storeIndex = 1\n",
      "        15:17:09.323704 line        12         for i in range(left, right):\n",
      "        New var:....... i = 1\n",
      "        15:17:09.323821 line        13             if dist(i) < pivotValue:\n",
      "        15:17:09.323915 line        14                 points[i], points[storeIndex] = points[storeIndex], points[i]\n",
      "        15:17:09.324008 line        15                 storeIndex += 1\n",
      "        Modified var:.. storeIndex = 2\n",
      "        15:17:09.324121 line        12         for i in range(left, right):\n",
      "        15:17:09.324272 line        16         points[right], points[storeIndex] = points[storeIndex], points[right]\n",
      "        15:17:09.324364 line        17         return storeIndex\n",
      "        15:17:09.324473 return      17         return storeIndex\n",
      "        Return value:.. 2\n",
      "    New var:....... mid = 2\n",
      "    15:17:09.324638 line        25         if mid == k:\n",
      "    15:17:09.324721 line        26             return\n",
      "    15:17:09.324803 return      26             return\n",
      "    Return value:.. None\n",
      "15:17:09.324924 return      28             sorting(mid+1, right, k)\n",
      "Return value:.. None\n"
     ]
    },
    {
     "data": {
      "text/plain": [
       "[[3, 3], [-2, 4]]"
      ]
     },
     "execution_count": 120,
     "metadata": {},
     "output_type": "execute_result"
    }
   ],
   "source": [
    "kCloset([[3,3],[5,-1],[-2,4]], 2)"
   ]
  },
  {
   "cell_type": "code",
   "execution_count": null,
   "metadata": {},
   "outputs": [],
   "source": []
  }
 ],
 "metadata": {
  "kernelspec": {
   "display_name": "Python 3",
   "language": "python",
   "name": "python3"
  },
  "language_info": {
   "codemirror_mode": {
    "name": "ipython",
    "version": 3
   },
   "file_extension": ".py",
   "mimetype": "text/x-python",
   "name": "python",
   "nbconvert_exporter": "python",
   "pygments_lexer": "ipython3",
   "version": "3.6.6"
  }
 },
 "nbformat": 4,
 "nbformat_minor": 2
}
