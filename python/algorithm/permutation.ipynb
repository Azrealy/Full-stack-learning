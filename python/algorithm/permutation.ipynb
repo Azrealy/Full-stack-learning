{
 "cells": [
  {
   "cell_type": "code",
   "execution_count": 11,
   "metadata": {},
   "outputs": [],
   "source": [
    "def permutation(nums, start=0):\n",
    "    if start == len(nums):\n",
    "        print(nums)\n",
    "        return None\n",
    "    for i in range(start, len(nums)):\n",
    "        nums[i], nums[start] = nums[start], nums[i]\n",
    "        permutation(nums, start+1)\n",
    "        nums[i], nums[start] = nums[start], nums[i]"
   ]
  },
  {
   "cell_type": "code",
   "execution_count": 13,
   "metadata": {},
   "outputs": [
    {
     "name": "stdout",
     "output_type": "stream",
     "text": [
      "[1, 2, 3]\n",
      "[1, 3, 2]\n",
      "[2, 1, 3]\n",
      "[2, 3, 1]\n",
      "[3, 2, 1]\n",
      "[3, 1, 2]\n"
     ]
    }
   ],
   "source": [
    "permutation([1,2,3])"
   ]
  },
  {
   "cell_type": "markdown",
   "metadata": {},
   "source": [
    "## Permutation Sequence\n",
    "\n",
    "The set [1,2,3,...,n] contains a total of n! unique permutations.\n",
    "\n",
    "By listing and labeling all of the permutations in order, we get the following sequence for n = 3:\n",
    "```\n",
    "\"123\"\n",
    "\"132\"\n",
    "\"213\"\n",
    "\"231\"\n",
    "\"312\"\n",
    "\"321\"\n",
    "```\n",
    "Given n and k, return the kth permutation sequence.\n",
    "\n",
    "Note:\n",
    "\n",
    "Given n will be between 1 and 9 inclusive.\n",
    "Given k will be between 1 and n! inclusive.\n",
    "Example 1:\n",
    "```\n",
    "Input: n = 3, k = 3\n",
    "Output: \"213\"\n",
    "```\n",
    "Example 2:\n",
    "```\n",
    "Input: n = 4, k = 9\n",
    "Output: \"2314\"\n",
    "```"
   ]
  },
  {
   "cell_type": "code",
   "execution_count": 74,
   "metadata": {},
   "outputs": [],
   "source": [
    "def getPermutation(n, k):\n",
    "    numbers = [i for i in range(1, n + 1)]\n",
    "    factorals = [1] * (n + 1)\n",
    "    for i in range(1, n+1):\n",
    "        factorals[i] = factorals[i-1] * i\n",
    "    k -= 1\n",
    "    ans = \"\"\n",
    "    for i in range(1, n+1):\n",
    "        index = k // factorals[n-i]\n",
    "        ans += str(numbers[index])\n",
    "        numbers.remove(numbers[index])\n",
    "        k -= index * factorals[n-i]\n",
    "    return ans"
   ]
  },
  {
   "cell_type": "code",
   "execution_count": 75,
   "metadata": {},
   "outputs": [
    {
     "name": "stdout",
     "output_type": "stream",
     "text": [
      "1 8 6\n",
      "1 2 2\n",
      "0 0 1\n",
      "0 0 1\n"
     ]
    },
    {
     "data": {
      "text/plain": [
       "'2314'"
      ]
     },
     "execution_count": 75,
     "metadata": {},
     "output_type": "execute_result"
    }
   ],
   "source": [
    "getPermutation(4, 9)"
   ]
  },
  {
   "cell_type": "code",
   "execution_count": null,
   "metadata": {},
   "outputs": [],
   "source": []
  }
 ],
 "metadata": {
  "kernelspec": {
   "display_name": "Python 3",
   "language": "python",
   "name": "python3"
  },
  "language_info": {
   "codemirror_mode": {
    "name": "ipython",
    "version": 3
   },
   "file_extension": ".py",
   "mimetype": "text/x-python",
   "name": "python",
   "nbconvert_exporter": "python",
   "pygments_lexer": "ipython3",
   "version": "3.6.6"
  }
 },
 "nbformat": 4,
 "nbformat_minor": 4
}
