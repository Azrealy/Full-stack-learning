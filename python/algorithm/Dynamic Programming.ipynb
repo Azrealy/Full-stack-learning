{
 "cells": [
  {
   "cell_type": "markdown",
   "metadata": {},
   "source": [
    "# Dynamic Programming.\n",
    "\n",
    "It refers to simplifying a complicated problem by breaking it down into simpler sub-problem in a recursive manner. While some decision problems cannot be taken apart this way, decistons that span several points in time do often break apart recursively.\n",
    "\n",
    "`Having optimal substructure`, a problem can be solved optimally by breaking it into sub-problems and then recursively finding the oprtimal solutions to the sub-problems.\n",
    "\n",
    "If sub-problems can be nested recursively inside larger problems, so that dynamic programming methods are applicable, then there is a realation between the value of the larget problem and the values of the sub-problems.\n",
    "\n",
    "**Dynamic programming helps us solve recursive problems with a highly-overlapping subproblem structure.** `Highly-overlapping` refers to the subproblems repeating again and again. In contrast, an alogrithm like mergesort recursively sorts `independent halves` of a list beforce combining the sorted halves. When the subproblems don't overlap, the algorithm is a divide-and-conquer alogrithm."
   ]
  },
  {
   "cell_type": "markdown",
   "metadata": {},
   "source": [
    "## Fibonacci numbers\n",
    "\n",
    "As a reminder, the Fibonacci numbers are a sequence starting with 1, 1 where eath element in the sequence is the sume of the two previous elements: 1, 1, 2, 3, 5, 8, 13,...."
   ]
  },
  {
   "cell_type": "code",
   "execution_count": 2,
   "metadata": {},
   "outputs": [],
   "source": [
    "def naive_fib(n):\n",
    "    if n <= 1: return 1\n",
    "    return naive_fib(n-1) + naive_fib(n-2)"
   ]
  },
  {
   "cell_type": "code",
   "execution_count": 3,
   "metadata": {},
   "outputs": [
    {
     "data": {
      "text/plain": [
       "89"
      ]
     },
     "execution_count": 3,
     "metadata": {},
     "output_type": "execute_result"
    }
   ],
   "source": [
    "naive_fib(10)"
   ]
  },
  {
   "cell_type": "code",
   "execution_count": 4,
   "metadata": {},
   "outputs": [
    {
     "data": {
      "text/plain": [
       "0.8891706301365048"
      ]
     },
     "execution_count": 4,
     "metadata": {},
     "output_type": "execute_result"
    }
   ],
   "source": [
    "import timeit\n",
    "timeit.timeit('naive_fib(20)', number=100, globals=globals())"
   ]
  },
  {
   "cell_type": "markdown",
   "metadata": {},
   "source": [
    "As we know, use the recursive way to calculate the Fibonacci numbers will occur overlapping calculation for certain subproblems. For example, when you want to know the value of `Fib(5)`, you need to calculate `Fib(4)` and `Fib(3)` first, but the `Fib(4)` will come from the value of `Fib(3)`. The fact is we need to produce the result of `Fib(3)` twice. The total runtime will be exponential in n as `O(2^n)`. As mentioned above, the recursive subproblem of produce Fibonacci number have an overlapping calculation, we can use the DP to improve our runtime.\n",
    "\n",
    "**Using memoization**"
   ]
  },
  {
   "cell_type": "code",
   "execution_count": 5,
   "metadata": {},
   "outputs": [],
   "source": [
    "def memo_fib(n, memo = {}):\n",
    "    if n <= 1:\n",
    "        # Store the fib(0) and fib(1) into memo.\n",
    "        memo[n] = 1\n",
    "    if n in memo:\n",
    "        # If fib(n) in the memo, do not reproduce the same fib number.\n",
    "        return memo[n]\n",
    "    fib_n = memo_fib(n - 1, memo) + memo_fib(n - 2, memo)\n",
    "    memo[n] = fib_n\n",
    "    return fib_n"
   ]
  },
  {
   "cell_type": "code",
   "execution_count": 6,
   "metadata": {},
   "outputs": [
    {
     "data": {
      "text/plain": [
       "89"
      ]
     },
     "execution_count": 6,
     "metadata": {},
     "output_type": "execute_result"
    }
   ],
   "source": [
    "memo_fib(10)"
   ]
  },
  {
   "cell_type": "code",
   "execution_count": 7,
   "metadata": {
    "scrolled": true
   },
   "outputs": [
    {
     "data": {
      "text/plain": [
       "0.00018539209850132465"
      ]
     },
     "execution_count": 7,
     "metadata": {},
     "output_type": "execute_result"
    }
   ],
   "source": [
    "timeit.timeit('memo_fib(100)', number=100, globals=globals())"
   ]
  },
  {
   "cell_type": "markdown",
   "metadata": {},
   "source": [
    "As the time showing above, we have significantly reduced our runtime bound from `O(2^n)` to `O(n)`. Otherwise, the space-time will be `O(n)` because we store the result of the previous value of the Fibonacci number.\n",
    "\n",
    "**Bottom-up approach**\n",
    "\n",
    "The formula of the Fibonacci number can be write as `Fib(n) = Fib(n-1) + Fib(n+2)`. If we consider that a `Fib(i)` is the subproblem of `Fib(n)`, where `i <= n`, we can only need the result of `Fib(i-1)` and `Fib(i-2)` to produce its result. That means we only need two variables to store our values, and we can throw away the value before the `Fib(i-2)` as its no longer help us to calculate the `Fib(i)`."
   ]
  },
  {
   "cell_type": "code",
   "execution_count": 8,
   "metadata": {},
   "outputs": [],
   "source": [
    "def bottom_up_fib(n):\n",
    "    if n <= 1:\n",
    "        return 1\n",
    "    fib1 = 1\n",
    "    fib2 = 1\n",
    "    for i in range(2, n+1):\n",
    "        # the old \"fib1\" will be throwd and assign the old \"fib2\" to it.\n",
    "        tmp = fib1\n",
    "        fib1 = fib2\n",
    "        fib2 = tmp + fib2\n",
    "    return fib2"
   ]
  },
  {
   "cell_type": "code",
   "execution_count": 9,
   "metadata": {},
   "outputs": [
    {
     "data": {
      "text/plain": [
       "89"
      ]
     },
     "execution_count": 9,
     "metadata": {},
     "output_type": "execute_result"
    }
   ],
   "source": [
    "bottom_up_fib(10)"
   ]
  },
  {
   "cell_type": "code",
   "execution_count": 10,
   "metadata": {},
   "outputs": [
    {
     "data": {
      "text/plain": [
       "0.0026252679526805878"
      ]
     },
     "execution_count": 10,
     "metadata": {},
     "output_type": "execute_result"
    }
   ],
   "source": [
    "timeit.timeit('bottom_up_fib(100)', number=100, globals=globals())"
   ]
  },
  {
   "cell_type": "markdown",
   "metadata": {},
   "source": [
    "# The House Robber Problem\n",
    "\n",
    "In the **House Robber Problem**, you are a robber who has found a block of house to rob. Each house i has a non-negative v(i) worth of value inside that you can steal. However, due to the security systems of the houses are connected, you'll get caught if you rob two adjacent houses. What's the maximum value you can steal from the block?\n",
    "\n",
    "**Example 1:**\n",
    "```py\n",
    "Input: [1,2,3,1]\n",
    "Output: 4\n",
    "Explanation: Rob house 1 (money = 1) and then rob house 3 (money = 3).\n",
    "             Total amount you can rob = 1 + 3 = 4.\n",
    "```\n",
    "**Example 2:**\n",
    "```py\n",
    "Input: [2,7,9,3,1]\n",
    "Output: 12\n",
    "Explanation: Rob house 1 (money = 2), rob house 3 (money = 9) and rob house 5 (money = 1).\n",
    "             Total amount you can rob = 2 + 9 + 1 = 12.\n",
    "```\n",
    "Let's use the same steps solve this problem like Fibonacci.\n",
    "\n",
    "1. The first step in solveing a dynamic programming problem is **identifying the subproblems**. Whenever we encounter a house i, we have two choices:\n",
    "  * Steal from the house i add the `v[i]` into your wealth, and then compare it with the value of stealing the house up to `i - 2`, because you can not steal the adjacent houses. The formula can be write like `rob(i) = rob(i-2) + v[i]`.\n",
    "  * Don't steal the house i, in which case you're free to maximum the stolen value up to house `i-1`. And you add nothing to you wealth. The formula can be write like `rob(i) = rob(i - 1)`.\n",
    "\n",
    "2. The second step, think about our base case. When the houses are empty, the stolen value will be 0, and is the house is only one, we will return its value, because the better choice is to steal it.\n",
    "\n",
    "3. The third step, Define a recurrence relation.\n",
    "\n",
    "Define `rob(i)` to be the result of our problem which is maximum value that can be stolen if only stealing from the houses 0 to i.\n",
    "\n",
    "**Then our relation formula will be like: `rob(i) = max(rob(i-1), rob(i-2) + v[i]) and (rob(0) = 0, rob(1) = v[1])`.** And the `v[i]` is the value of the house i."
   ]
  },
  {
   "cell_type": "code",
   "execution_count": 11,
   "metadata": {},
   "outputs": [],
   "source": [
    "def naive_rob(houses):\n",
    "    if not houses:\n",
    "        return 0\n",
    "    if len(houses) == 1:\n",
    "        return houses[0]\n",
    "    return max(naive_rob(houses[2:]) + houses[0], naive_rob(houses[1:]))"
   ]
  },
  {
   "cell_type": "code",
   "execution_count": 12,
   "metadata": {},
   "outputs": [
    {
     "data": {
      "text/plain": [
       "0.001957674976438284"
      ]
     },
     "execution_count": 12,
     "metadata": {},
     "output_type": "execute_result"
    }
   ],
   "source": [
    "timeit.timeit('naive_rob([2,7,9,3,1])', number=100, globals=globals())"
   ]
  },
  {
   "cell_type": "markdown",
   "metadata": {},
   "source": [
    "**Use the memorization**\n",
    "\n",
    "From the relation formula, we know that there will exist the overlapping calculation from `rob(i)`. As `rob(i)` need results of `rob(i-1)` and `rob(i-2)`, and `rob(i-1)`  also need result of `rob(i-2)`. So use the memorization skill to improve our solution will quickly come to our mind. "
   ]
  },
  {
   "cell_type": "code",
   "execution_count": 13,
   "metadata": {},
   "outputs": [],
   "source": [
    "def memo_rob(houses, memo={}):\n",
    "    if not houses:\n",
    "        return 0\n",
    "    if len(houses) == 1:\n",
    "        return houses[0]\n",
    "    if len(houses) in memo:\n",
    "        # If subproblem in the memo, do not calculate the same subproblem.\n",
    "        return memo[len(houses)]\n",
    "    rob_i = max(memo_rob(houses[2:], memo) + houses[0], memo_rob(houses[1:], memo))\n",
    "    memo[len(houses)] = rob_i\n",
    "    return rob_i"
   ]
  },
  {
   "cell_type": "code",
   "execution_count": 14,
   "metadata": {},
   "outputs": [
    {
     "data": {
      "text/plain": [
       "0.001558423973619938"
      ]
     },
     "execution_count": 14,
     "metadata": {},
     "output_type": "execute_result"
    }
   ],
   "source": [
    "timeit.timeit('memo_rob([2,7,9,3,1])', number=1000, globals=globals())"
   ]
  },
  {
   "cell_type": "markdown",
   "metadata": {},
   "source": [
    "**Use bottom-up approach**\n",
    "\n",
    "As the relation formual shows ue `rob(i) = max(rob(i-1), rob(i-2) + v[i]) and (rob(0) = 0, rob(1) = v[1])`, we can notice that, the intermidate produced value can be throwed as its no need to be used on the current calculation."
   ]
  },
  {
   "cell_type": "code",
   "execution_count": 15,
   "metadata": {},
   "outputs": [],
   "source": [
    "def bottom_up_rob(houses):\n",
    "    if not houses:\n",
    "        return 0\n",
    "    if len(houses) == 1:\n",
    "        return houses[0]\n",
    "    rob_0 = 0\n",
    "    rob_1 = houses[0]\n",
    "    for i in range(1, len(houses)):\n",
    "        tmp = rob_1\n",
    "        rob_1 = max(rob_0 + houses[i], rob_1)\n",
    "        rob_0 = tmp\n",
    "    return rob_1"
   ]
  },
  {
   "cell_type": "code",
   "execution_count": 16,
   "metadata": {},
   "outputs": [
    {
     "data": {
      "text/plain": [
       "0.006975776981562376"
      ]
     },
     "execution_count": 16,
     "metadata": {},
     "output_type": "execute_result"
    }
   ],
   "source": [
    "timeit.timeit('bottom_up_rob([2,7,9,3,1])', number=1000, globals=globals())"
   ]
  },
  {
   "cell_type": "markdown",
   "metadata": {},
   "source": [
    "Both of Fibonacci and Robber problem is `one-dimensinal` problems, in which we just need to iterate through a linear sequence of subproblems.\n",
    "# Coin Change\n",
    "\n",
    "You are given coins of different denominations and a total amount of money amount. Write a function to compute the fewest number of coins that you need to make up that amount. If that amount of money cannot be made up by any combination of the coins, return -1.\n",
    "\n",
    "**Example 1:**\n",
    "```py\n",
    "Input: coins = [1, 2, 5], amount = 11\n",
    "Output: 3 \n",
    "Explanation: 11 = 5 + 5 + 1\n",
    "```\n",
    "**Example 2:**\n",
    "```py\n",
    "Input: coins = [2], amount = 3\n",
    "Output: -1\n",
    "```\n",
    "\n",
    "1. First, define the subproblem, at any given point in the algorithm, we will consider a subset of the denominations `coins`, and the amount we want to add up to. Let's bring us two choice to make.\n",
    "  * We not to use the first coin on our coins set. And we use the same target amount to find the lowest number of coins to make the change. Our coins set will extract the first one out. The relation formula will be write as `change(coins, amount) = change(coins[1:], amount)`.\n",
    "  * Use the first coin and decreases the target amount correspond on the denomination of the first coin. And do not change our coins set, which give us a chance to use the same coin on the next recursion. If we choose this coin to decrease our amount we need to increase the count of change coin by one. The relation formula will be write as `change(coins, amount) = change(coins, amount - coins[0])`.\n",
    "  \n",
    "2. Second, figure out our base case where we need to stop our recursive. \n",
    "  * When the coins set is one, which means we can only use one coin to change our amount, so if the reminder of amount divide the denomination of coin is zero, the divide value is our count, otherwise, we will return MAX, there is no way to change the amount with this coin.\n",
    "  * When the amount is zero, there are no need to change our amount anymore, so our count return zero.\n",
    "  * As we don't know whether our coins set if sorted or not, we need filter the coins set by comparing the first coin denomination with our target amount or not. If it's greater than our target amount, we can eliminate it from our coins set.\n",
    "\n",
    "3. Third, the recursion relation formula of this problem can be write as `change(coins, amount) = min(change(coins[1:], amount), change(coins, amount - coins[0]))`."
   ]
  },
  {
   "cell_type": "code",
   "execution_count": 17,
   "metadata": {},
   "outputs": [],
   "source": [
    "def naive_make_change(coins, amount):\n",
    "    \n",
    "    if len(coins) == 1:\n",
    "        if amount % coins[0]:\n",
    "            return float('inf')\n",
    "        count = amount // coins[0]\n",
    "        return count\n",
    "    \n",
    "    if amount == 0:\n",
    "        return 0\n",
    "    \n",
    "    if amount < coins[0]:\n",
    "        return naive_make_change(coins[1:], amount)\n",
    "    \n",
    "    return min(naive_make_change(coins[1:], amount), naive_make_change(coins, amount-coins[0]) + 1)"
   ]
  },
  {
   "cell_type": "code",
   "execution_count": 18,
   "metadata": {},
   "outputs": [
    {
     "data": {
      "text/plain": [
       "3"
      ]
     },
     "execution_count": 18,
     "metadata": {},
     "output_type": "execute_result"
    }
   ],
   "source": [
    "naive_make_change([1, 2, 5], 11)"
   ]
  },
  {
   "cell_type": "code",
   "execution_count": 19,
   "metadata": {},
   "outputs": [
    {
     "data": {
      "text/plain": [
       "0.13363851001486182"
      ]
     },
     "execution_count": 19,
     "metadata": {},
     "output_type": "execute_result"
    }
   ],
   "source": [
    "timeit.timeit('naive_make_change([1, 2, 5], 11)', number=1000, globals=globals())"
   ]
  },
  {
   "cell_type": "markdown",
   "metadata": {},
   "source": [
    "**Use the memorization**\n",
    "\n",
    "We use the map to store our recursion result, as its `O(1)` runtime to search our previour calculate value. And we use the current state of our recursion function arguments as the key to store correspond counts."
   ]
  },
  {
   "cell_type": "code",
   "execution_count": 20,
   "metadata": {},
   "outputs": [],
   "source": [
    "def memo_make_change(coins, amount, memo={}):\n",
    "    \n",
    "    if len(coins) == 1:\n",
    "        if amount % coins[0]:\n",
    "            return float('inf')\n",
    "        count = amount // coins[0]\n",
    "        return count\n",
    "    \n",
    "    if amount == 0:\n",
    "        return 0\n",
    "    \n",
    "    if (coins[0], amount) in memo:\n",
    "        # If subproblem in the memo, do not calculate the same subproblem.\n",
    "        return memo[(coins[0], amount)]\n",
    "    \n",
    "    if amount < coins[0]:\n",
    "        return memo_make_change(coins[1:], amount, memo)\n",
    "    \n",
    "    change_n = min(memo_make_change(coins[1:], amount, memo), memo_make_change(coins, amount-coins[0], memo) + 1)\n",
    "    memo[(coins[0], amount)] = change_n\n",
    "    return change_n"
   ]
  },
  {
   "cell_type": "code",
   "execution_count": 21,
   "metadata": {},
   "outputs": [
    {
     "data": {
      "text/plain": [
       "3"
      ]
     },
     "execution_count": 21,
     "metadata": {},
     "output_type": "execute_result"
    }
   ],
   "source": [
    "memo_make_change([1, 2, 5], 11)"
   ]
  },
  {
   "cell_type": "code",
   "execution_count": 22,
   "metadata": {},
   "outputs": [
    {
     "data": {
      "text/plain": [
       "0.3491729542147368"
      ]
     },
     "execution_count": 22,
     "metadata": {},
     "output_type": "execute_result"
    }
   ],
   "source": [
    "timeit.timeit('memo_make_change([370,417,408,156,143,434,168,83,177,280,117], 9953)', number=1000, globals=globals())"
   ]
  },
  {
   "cell_type": "markdown",
   "metadata": {},
   "source": [
    "**Bottom up approah**\n",
    "\n",
    "`F(S)` - minimum number of coins needed to make change for amount S using coin denominations `coins[c0, c1, ... ,cn-1]`.\n",
    "Our recursion relation can be redefine like, `F(S) = min F(S - ci) + 1 for ci in range coins and S - ci >= 0`. Also our base case can be like `F(S) == 0, when S == 0`. We consider our problem from bottom, when our amount = 1, and our coins set is [1, 2, 3]. the result of `F(1) = F(1 - 1) + 1` will be `1`, and when amount is 2, we will have `F(2) = min (F(2-1), F(2-2))` will is 1.\n",
    "Ans we can fill out our two dimension table of as following."
   ]
  },
  {
   "cell_type": "markdown",
   "metadata": {},
   "source": [
    "|amount\\coins |1 |2 |3| F(i)|\n",
    "|------|:------|:--------|:--------|:---|\n",
    "|1|F(0)|0|0|1|\n",
    "|2|F(1)|F(0)|0|1|\n",
    "|3|F(2)|F(1)|F(0)|1|\n",
    "|4|F(3)|F(2)|F(1)|2|\n",
    "|5|F(4)|F(3)|F(2)|2|\n",
    "|6|F(5)|F(4)|F(3)|2|"
   ]
  },
  {
   "cell_type": "code",
   "execution_count": 23,
   "metadata": {},
   "outputs": [],
   "source": [
    "def bottom_up_make_change(coins, amount):\n",
    "    max_count = amount + 1\n",
    "    dp = [max_count for _ in range(amount+1)]\n",
    "    dp[0] = 0\n",
    "    for i in range(1, amount+1):\n",
    "        for j in range(len(coins)):\n",
    "            if coins[j] <= i:\n",
    "                dp[i] = min(dp[i], dp[i - coins[j]] + 1)\n",
    "    return dp[amount]"
   ]
  },
  {
   "cell_type": "code",
   "execution_count": 24,
   "metadata": {},
   "outputs": [
    {
     "data": {
      "text/plain": [
       "3"
      ]
     },
     "execution_count": 24,
     "metadata": {},
     "output_type": "execute_result"
    }
   ],
   "source": [
    "bottom_up_make_change([1, 2, 5], 11)"
   ]
  },
  {
   "cell_type": "code",
   "execution_count": 25,
   "metadata": {},
   "outputs": [
    {
     "data": {
      "text/plain": [
       "1.6425782199949026"
      ]
     },
     "execution_count": 25,
     "metadata": {},
     "output_type": "execute_result"
    }
   ],
   "source": [
    "timeit.timeit('bottom_up_make_change([370,417,408,156,143,434,168,83,177,280,117], 9953)', number=10, globals=globals())"
   ]
  },
  {
   "cell_type": "markdown",
   "metadata": {},
   "source": [
    "## Unique Paths\n",
    "\n",
    "A robot is located at the top-left corner of a m x n grid (marked 'Start' in the diagram below).\n",
    "\n",
    "The robot can only move either down or right at any point in time. The robot is trying to reach the bottom-right corner of the grid (marked 'Finish' in the diagram below).\n",
    "\n",
    "How many possible unique paths are there?\n",
    "\n",
    "\n",
    "![alt_text](robot_maze.png )\n",
    "\n",
    "Above is a 7 x 3 grid. How many possible unique paths are there?\n",
    "\n",
    "\n",
    "* Note: m and n will be at most 100.\n",
    "\n",
    "Example 1:\n",
    "```\n",
    "Input: m = 3, n = 2\n",
    "Output: 3\n",
    "```\n",
    "Explanation:\n",
    "From the top-left corner, there are a total of 3 ways to reach the bottom-right corner:\n",
    "1. Right -> Right -> Down\n",
    "2. Right -> Down -> Right\n",
    "3. Down -> Right -> Right\n",
    "\n",
    "\n",
    "Example 2:\n",
    "```\n",
    "Input: m = 7, n = 3\n",
    "Output: 28\n",
    "```"
   ]
  },
  {
   "cell_type": "markdown",
   "metadata": {},
   "source": [
    "Use recursion, the robot each step has two chioces, went down and went right. We can go deep let robit find the subproble of m-1, n or m, n-1."
   ]
  },
  {
   "cell_type": "code",
   "execution_count": 39,
   "metadata": {},
   "outputs": [],
   "source": [
    "import pysnooper\n",
    "def uniquePaths(m, n):\n",
    "    count = 0\n",
    "    def recursion(m, n):\n",
    "        nonlocal count\n",
    "        if m == 1 and n == 1:\n",
    "            count += 1\n",
    "            return\n",
    "        if m != 1:\n",
    "            recursion(m-1, n)\n",
    "        if n != 1:\n",
    "            recursion(m, n-1)\n",
    "    recursion(m, n)\n",
    "    return count"
   ]
  },
  {
   "cell_type": "code",
   "execution_count": 40,
   "metadata": {},
   "outputs": [
    {
     "data": {
      "text/plain": [
       "28"
      ]
     },
     "execution_count": 40,
     "metadata": {},
     "output_type": "execute_result"
    }
   ],
   "source": [
    "uniquePaths(7, 3)"
   ]
  },
  {
   "cell_type": "code",
   "execution_count": 44,
   "metadata": {},
   "outputs": [],
   "source": [
    "def uniquePathsQ(m, n):\n",
    "    queue = [(m, n)]\n",
    "    ans = 0\n",
    "    while queue:\n",
    "        node = queue.pop()\n",
    "        if node[0] == 1 and node[1] == 1:\n",
    "            ans += 1\n",
    "            continue\n",
    "        if node[0]:\n",
    "            queue.append((node[0]-1, node[1]))\n",
    "        if node[1]:\n",
    "            queue.append((node[0], node[1]-1))\n",
    "    return ans"
   ]
  },
  {
   "cell_type": "code",
   "execution_count": 64,
   "metadata": {},
   "outputs": [],
   "source": [
    "def uniquePathDy(m, n):\n",
    "    cache = [[1] * n for i in range(m)]\n",
    "    for i in range(m):\n",
    "        if i > 0:\n",
    "            for j in range(n):\n",
    "                if j > 0:\n",
    "                    cache[i][j] = cache[i-1][j] + cache[i][j-1]\n",
    "    return cache[-1][-1]"
   ]
  },
  {
   "cell_type": "code",
   "execution_count": 65,
   "metadata": {},
   "outputs": [
    {
     "data": {
      "text/plain": [
       "28"
      ]
     },
     "execution_count": 65,
     "metadata": {},
     "output_type": "execute_result"
    }
   ],
   "source": [
    "uniquePathDy(3, 7)"
   ]
  },
  {
   "cell_type": "code",
   "execution_count": 69,
   "metadata": {},
   "outputs": [],
   "source": [
    "def uniquePathDyOneRow(m, n):\n",
    "    cache = [1] * n\n",
    "    for i in range(m):\n",
    "        if i > 0:\n",
    "            for j in range(n):\n",
    "                if j > 0:\n",
    "                    cache[j] = cache[j-1] + cache[j]\n",
    "    return cache[-1]"
   ]
  },
  {
   "cell_type": "code",
   "execution_count": 72,
   "metadata": {},
   "outputs": [
    {
     "data": {
      "text/plain": [
       "3"
      ]
     },
     "execution_count": 72,
     "metadata": {},
     "output_type": "execute_result"
    }
   ],
   "source": [
    "uniquePathDyOneRow(2, 3)"
   ]
  },
  {
   "cell_type": "markdown",
   "metadata": {},
   "source": [
    "## Unique Paths II\n",
    "\n",
    "A robot is located at the top-left corner of a m x n grid (marked 'Start' in the diagram below).\n",
    "\n",
    "The robot can only move either down or right at any point in time. The robot is trying to reach the bottom-right corner of the grid (marked 'Finish' in the diagram below).\n",
    "\n",
    "Now consider if some obstacles are added to the grids. How many unique paths would there be?\n",
    "\n",
    "An obstacle and empty space is marked as 1 and 0 respectively in the grid.\n",
    "\n",
    "Note: m and n will be at most 100.\n",
    "\n",
    "Example 1:\n",
    "```\n",
    "Input:\n",
    "[\n",
    "  [0,0,0],\n",
    "  [0,1,0],\n",
    "  [0,0,0]\n",
    "]\n",
    "Output: 2\n",
    "```\n",
    "\n",
    "Explanation:\n",
    "There is one obstacle in the middle of the 3x3 grid above.\n",
    "There are two ways to reach the bottom-right corner:\n",
    "\n",
    "1. Right -> Right -> Down -> Down\n",
    "2. Down -> Down -> Right -> Right"
   ]
  },
  {
   "cell_type": "code",
   "execution_count": 96,
   "metadata": {},
   "outputs": [],
   "source": [
    "def uniquePathsWithObstacles(obstacleGrid):\n",
    "    path = [0] * len(obstacleGrid[0])\n",
    "    for i, v in enumerate(obstacleGrid):\n",
    "        if i == 0:\n",
    "            for m in range(len(v)):\n",
    "                if v[m] == 1:\n",
    "                    break\n",
    "                else:\n",
    "                    path[m] = 1\n",
    "        else:\n",
    "            for j, n in enumerate(v):\n",
    "                if j == 0:\n",
    "                    path[j] = 0 if n == 1 else path[j]\n",
    "                elif n == 1:\n",
    "                    path[j] = 0\n",
    "                else:\n",
    "                    path[j] = path[j] + path[j-1]\n",
    "    return path[-1]"
   ]
  },
  {
   "cell_type": "code",
   "execution_count": 97,
   "metadata": {},
   "outputs": [
    {
     "data": {
      "text/plain": [
       "3"
      ]
     },
     "execution_count": 97,
     "metadata": {},
     "output_type": "execute_result"
    }
   ],
   "source": [
    "uniquePathsWithObstacles([\n",
    "  [0,1,0],\n",
    "  [0,0,0],\n",
    "  [0,0,0]\n",
    "])"
   ]
  },
  {
   "cell_type": "markdown",
   "metadata": {},
   "source": [
    "Input: workers = [[0,0],[1,1],[2,0]], bikes = [[1,0],[2,2],[2,1]]\n",
    "Output: 6\n",
    "Explanation: \n",
    "We assign bike 0 to worker 0, bike 1 to worker 1. The Manhattan distance of both assignments is 3, so the output is 6."
   ]
  },
  {
   "cell_type": "code",
   "execution_count": 68,
   "metadata": {},
   "outputs": [],
   "source": [
    "import pysnooper\n",
    "@pysnooper.snoop()\n",
    "def assignBikes(workers, bikes):\n",
    "    result = float(\"inf\")\n",
    "    leave_bikes = len(bikes) - len(workers) \n",
    "    def backtrack(workers , bikes, ans=0):\n",
    "        nonlocal result\n",
    "        if not workers and len(bikes) == leave_bikes:\n",
    "            result = min(ans, result)\n",
    "        for i, w in enumerate(workers):\n",
    "            for j, b in enumerate(bikes):\n",
    "                ans += abs(w[0] - b[0]) + abs(w[1] - b[1])\n",
    "                backtrack(workers[i+1:], bikes[:j] + bikes[j+1:], ans)\n",
    "                ans -= abs(w[0] - b[0]) + abs(w[1] - b[1])\n",
    "    backtrack(workers, bikes)\n",
    "    return result"
   ]
  },
  {
   "cell_type": "code",
   "execution_count": 70,
   "metadata": {},
   "outputs": [
    {
     "name": "stderr",
     "output_type": "stream",
     "text": [
      "Starting var:.. workers = [[0, 0], [1, 0], [2, 0], [3, 0], [4, 0], [5, 0], [6, 0]]\n",
      "Starting var:.. bikes = [[0, 999], [1, 999], [2, 999], [3, 999], [4, 999], [5, 999], [6, 999], [7, 999], [8, 999], [9, 999]]\n",
      "10:45:30.080743 call         3 def assignBikes(workers, bikes):\n",
      "10:45:30.080894 line         4     result = float(\"inf\")\n",
      "New var:....... result = inf\n",
      "10:45:30.081018 line         5     leave_bikes = len(bikes) - len(workers) \n",
      "New var:....... leave_bikes = 3\n",
      "10:45:30.081129 line         6     def backtrack(workers , bikes, ans=0):\n",
      "New var:....... backtrack = <function assignBikes.<locals>.backtrack at 0x7f55fe67b0d0>\n",
      "10:45:30.081244 line        15     backtrack(workers, bikes)\n",
      "Modified var:.. result = 6993\n",
      "10:45:55.690099 line        16     return result\n",
      "10:45:55.690238 return      16     return result\n",
      "Return value:.. 6993\n"
     ]
    },
    {
     "data": {
      "text/plain": [
       "6993"
      ]
     },
     "execution_count": 70,
     "metadata": {},
     "output_type": "execute_result"
    }
   ],
   "source": [
    "assignBikes([[0,0],[1,0],[2,0],[3,0],[4,0],[5,0],[6,0]],\n",
    "[[0,999],[1,999],[2,999],[3,999],[4,999],[5,999],[6,999],[7,999],[8,999],[9,999]])"
   ]
  },
  {
   "cell_type": "code",
   "execution_count": 34,
   "metadata": {},
   "outputs": [],
   "source": [
    "import pysnooper\n",
    "@pysnooper.snoop()\n",
    "def assignBikes(workers, bikes):\n",
    "    store = {}\n",
    "    distance = lambda w, b: abs(w[0] - b[0]) + abs(w[1] - b[1])\n",
    "    def dfs(worker_no, bikes_array):\n",
    "        nonlocal bikes, distance, workers\n",
    "        min_dis = float('inf')\n",
    "        if worker_no == len(workers):\n",
    "            return 0\n",
    "        if (worker_no, tuple(bikes_array)) in store:\n",
    "            return store[(worker_no, tuple(bikes_array))]\n",
    "        for i, b in enumerate(bikes_array):\n",
    "            if b == 0:\n",
    "                bikes_array[i] = 1\n",
    "                min_dis = min(\n",
    "                    min_dis, distance(workers[worker_no], bikes[i]) + dfs(worker_no+1, bikes_array))\n",
    "                bikes_array[i] = 0\n",
    "        store[(worker_no, tuple(bikes_array))] = min_dis\n",
    "        return min_dis\n",
    "    return dfs(0, [0] * len(bikes))"
   ]
  },
  {
   "cell_type": "code",
   "execution_count": 36,
   "metadata": {},
   "outputs": [
    {
     "name": "stderr",
     "output_type": "stream",
     "text": [
      "Starting var:.. workers = [[0, 0], [1, 0], [2, 0], [3, 0], [4, 0], [5, 0], [6, 0]]\n",
      "Starting var:.. bikes = [[0, 999], [1, 999], [2, 999], [3, 999], [4, 999], [5, 999], [6, 999], [7, 999], [8, 999], [9, 999]]\n",
      "14:30:37.029766 call         3 def assignBikes(workers, bikes):\n",
      "14:30:37.029882 line         4     store = {}\n",
      "New var:....... store = {}\n",
      "14:30:37.029998 line         5     distance = lambda w, b: abs(w[0] - b[0]) + abs(w[1] - b[1])\n",
      "New var:....... distance = <function assignBikes.<locals>.<lambda> at 0x7f07fab632f0>\n",
      "14:30:37.030116 line         6     def dfs(worker_no, bikes_array):\n",
      "New var:....... dfs = <function assignBikes.<locals>.dfs at 0x7f07fab63e18>\n",
      "14:30:37.030265 line        21     return dfs(0, [0] * len(bikes))\n",
      "Modified var:.. store = {(6, (1, 1, 1, 1, 1, 1, 0, 0, 0, 0)): 999, (6, (... 5994, (0, (0, 0, 0, 0, 0, 0, 0, 0, 0, 0)): 6993}\n",
      "14:30:37.138521 return      21     return dfs(0, [0] * len(bikes))\n",
      "Return value:.. 6993\n"
     ]
    },
    {
     "data": {
      "text/plain": [
       "6993"
      ]
     },
     "execution_count": 36,
     "metadata": {},
     "output_type": "execute_result"
    }
   ],
   "source": [
    "assignBikes([[0,0],[1,0],[2,0],[3,0],[4,0],[5,0],[6,0]],\n",
    "[[0,999],[1,999],[2,999],[3,999],[4,999],[5,999],[6,999],[7,999],[8,999],[9,999]])"
   ]
  },
  {
   "cell_type": "code",
   "execution_count": 40,
   "metadata": {},
   "outputs": [
    {
     "name": "stdout",
     "output_type": "stream",
     "text": [
      "(10, 2)\n",
      "(10, 3)\n",
      "(10, 4)\n",
      "(2, 3)\n",
      "(2, 4)\n",
      "(3, 4)\n"
     ]
    }
   ],
   "source": [
    "nums = [10, 2, 3, 4]\n",
    "import itertools\n",
    "for i in itertools.combinations(nums, 2):\n",
    "    print(i)"
   ]
  },
  {
   "cell_type": "code",
   "execution_count": 99,
   "metadata": {},
   "outputs": [],
   "source": [
    "def numPairsDivisibleBy60(time):\n",
    "    store = [0] * 60\n",
    "    for i, t in enumerate(time):\n",
    "        store[t%60] += 1\n",
    "    ans = 0\n",
    "    for j in range(31):\n",
    "        if j == 0:\n",
    "            ans += store[j] * (store[j] - 1) // 2\n",
    "        elif j == 30:\n",
    "            ans += store[j] * (store[j] - 1) // 2\n",
    "        elif store[j] and store[60 - j]:\n",
    "            ans += store[j] * store[60 - j]\n",
    "    return ans"
   ]
  },
  {
   "cell_type": "code",
   "execution_count": 100,
   "metadata": {},
   "outputs": [
    {
     "name": "stdout",
     "output_type": "stream",
     "text": [
      "8 2 1\n"
     ]
    },
    {
     "data": {
      "text/plain": [
       "2"
      ]
     },
     "execution_count": 100,
     "metadata": {},
     "output_type": "execute_result"
    }
   ],
   "source": [
    "numPairsDivisibleBy60([174,188,377,437,54,498,455,239,183,347,59,199,52,488,147,82])"
   ]
  },
  {
   "cell_type": "code",
   "execution_count": 128,
   "metadata": {},
   "outputs": [
    {
     "name": "stdout",
     "output_type": "stream",
     "text": [
      "world\n",
      "woe\n"
     ]
    }
   ],
   "source": [
    "for i in range('world', 'woe'):\n",
    "    print(i)"
   ]
  },
  {
   "cell_type": "code",
   "execution_count": 140,
   "metadata": {},
   "outputs": [],
   "source": [
    "def isAlienSorted(words, order):\n",
    "    order = {o: i for i, o in enumerate(order)}\n",
    "    for i in range(len(words) - 1):\n",
    "        w1 = words[i]\n",
    "        w2 = words[i+1]\n",
    "        for v in range(min(len(w1), len(w2))):\n",
    "            if w1[v] != w2[v]:\n",
    "                if order[w1[v]] > order[w2[v]]:\n",
    "                    return False\n",
    "                break\n",
    "        else:\n",
    "            if len(w1) > len(w2):\n",
    "                return False\n",
    "    return True"
   ]
  },
  {
   "cell_type": "code",
   "execution_count": null,
   "metadata": {},
   "outputs": [],
   "source": []
  }
 ],
 "metadata": {
  "kernelspec": {
   "display_name": "Python 3",
   "language": "python",
   "name": "python3"
  },
  "language_info": {
   "codemirror_mode": {
    "name": "ipython",
    "version": 3
   },
   "file_extension": ".py",
   "mimetype": "text/x-python",
   "name": "python",
   "nbconvert_exporter": "python",
   "pygments_lexer": "ipython3",
   "version": "3.6.6"
  }
 },
 "nbformat": 4,
 "nbformat_minor": 4
}
