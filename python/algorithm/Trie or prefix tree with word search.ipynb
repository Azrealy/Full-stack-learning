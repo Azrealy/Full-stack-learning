{
 "cells": [
  {
   "cell_type": "markdown",
   "metadata": {},
   "source": [
    "# Implement Trie (Prefix Tree)\n",
    "\n",
    "Implement a trie with insert, search, and startsWith methods.\n",
    "\n",
    "**Example:**\n",
    "```\n",
    "Trie trie = new Trie();\n",
    "\n",
    "trie.insert(\"apple\");\n",
    "trie.search(\"apple\");   // returns true\n",
    "trie.search(\"app\");     // returns false\n",
    "trie.startsWith(\"app\"); // returns true\n",
    "trie.insert(\"app\");   \n",
    "trie.search(\"app\");     // returns true\n",
    "```\n",
    "**Note:**\n",
    "    You may assume that all inputs are consist of lowercase letters a-z.\n",
    "    All inputs are guaranteed to be non-empty strings."
   ]
  },
  {
   "cell_type": "code",
   "execution_count": 196,
   "metadata": {},
   "outputs": [],
   "source": [
    "class Node:\n",
    "    def __init__(self):\n",
    "        self.children = {}\n",
    "        self.value = None\n",
    "    def __repr__(self):\n",
    "        return str(self.children)\n",
    "    \n",
    "class Trie :\n",
    "\n",
    "    def __init__(self):\n",
    "        \"\"\"\n",
    "        Initialize your data structure here.\n",
    "        \"\"\"\n",
    "        self.node = Node()\n",
    "\n",
    "    def insert(self, word: str) -> None:\n",
    "        \"\"\"\n",
    "        Inserts a word into the trie.\n",
    "        \"\"\"\n",
    "        node = self.node\n",
    "        for char in word:\n",
    "            if char not in node.children:\n",
    "                node.children[char] = Node()\n",
    "            node = node.children[char]\n",
    "        node.value = word\n",
    "\n",
    "    def search(self, word: str) -> bool:\n",
    "        \"\"\"\n",
    "        Returns if the word is in the trie.\n",
    "        \"\"\"\n",
    "        node = self.node\n",
    "        for char in word:\n",
    "            if char in node.children:\n",
    "                node = node.children[char]\n",
    "            else:\n",
    "                return False\n",
    "        if not node.value:\n",
    "            return False\n",
    "        return True\n",
    "\n",
    "    def startsWith(self, prefix: str) -> bool:\n",
    "        \"\"\"\n",
    "        Returns if there is any word in the trie that starts with the given prefix.\n",
    "        \"\"\"\n",
    "        node = self.node\n",
    "        for char in prefix:\n",
    "            if char in node.children:\n",
    "                node = node.children[char]\n",
    "            else:\n",
    "                return False\n",
    "        return True"
   ]
  },
  {
   "cell_type": "code",
   "execution_count": 75,
   "metadata": {},
   "outputs": [],
   "source": [
    "trie = Trie()"
   ]
  },
  {
   "cell_type": "code",
   "execution_count": 76,
   "metadata": {},
   "outputs": [
    {
     "data": {
      "text/plain": [
       "False"
      ]
     },
     "execution_count": 76,
     "metadata": {},
     "output_type": "execute_result"
    }
   ],
   "source": [
    "trie.insert(\"app\")\n",
    "trie.insert(\"aapf\")\n",
    "trie.startsWith(\"apps\")"
   ]
  },
  {
   "cell_type": "code",
   "execution_count": 77,
   "metadata": {},
   "outputs": [
    {
     "data": {
      "text/plain": [
       "False"
      ]
     },
     "execution_count": 77,
     "metadata": {},
     "output_type": "execute_result"
    }
   ],
   "source": [
    "trie.search(\"apple\")"
   ]
  },
  {
   "cell_type": "code",
   "execution_count": 78,
   "metadata": {},
   "outputs": [
    {
     "data": {
      "text/plain": [
       "True"
      ]
     },
     "execution_count": 78,
     "metadata": {},
     "output_type": "execute_result"
    }
   ],
   "source": [
    "trie.search(\"app\")"
   ]
  },
  {
   "cell_type": "code",
   "execution_count": 79,
   "metadata": {},
   "outputs": [
    {
     "data": {
      "text/plain": [
       "False"
      ]
     },
     "execution_count": 79,
     "metadata": {},
     "output_type": "execute_result"
    }
   ],
   "source": [
    "trie.startsWith(\"apple\")"
   ]
  },
  {
   "cell_type": "code",
   "execution_count": 80,
   "metadata": {},
   "outputs": [],
   "source": [
    "trie.insert(\"app\")"
   ]
  },
  {
   "cell_type": "code",
   "execution_count": 81,
   "metadata": {},
   "outputs": [
    {
     "data": {
      "text/plain": [
       "True"
      ]
     },
     "execution_count": 81,
     "metadata": {},
     "output_type": "execute_result"
    }
   ],
   "source": [
    "trie.search(\"app\")"
   ]
  },
  {
   "cell_type": "markdown",
   "metadata": {},
   "source": [
    "# Add and Search Word - Data structure design\n",
    "\n",
    "Design a data structure that supports the following two operations:\n",
    "```\n",
    "void addWord(word)\n",
    "bool search(word)\n",
    "```\n",
    "search(word) can search a literal word or a regular expression string containing only letters a-z or `..` A `.` means it can represent any one letter.\n",
    "\n",
    "**Example:**\n",
    "```\n",
    "addWord(\"bad\")\n",
    "addWord(\"dad\")\n",
    "addWord(\"mad\")\n",
    "search(\"pad\") -> false\n",
    "search(\"bad\") -> true\n",
    "search(\".ad\") -> true\n",
    "search(\"b..\") -> true\n",
    "```\n",
    "Note:\n",
    "You may assume that all words are consist of lowercase letters a-z."
   ]
  },
  {
   "cell_type": "code",
   "execution_count": 190,
   "metadata": {},
   "outputs": [],
   "source": [
    "class WordDictionary:\n",
    "\n",
    "    def __init__(self):\n",
    "        \"\"\"\n",
    "        Initialize your data structure here.\n",
    "        \"\"\"\n",
    "        self.dictionary = [{}, None]\n",
    "\n",
    "    def addWord(self, word: str) -> None:\n",
    "        \"\"\"\n",
    "        Adds a word into the data structure.\n",
    "        \"\"\"\n",
    "        dic = self.dictionary\n",
    "        for char in word:\n",
    "            if char not in dic[0]:\n",
    "                dic[0][char] = [{}, None]\n",
    "            dic = dic[0][char]\n",
    "        dic[1] = word\n",
    "\n",
    "    def search(self, word: str) -> bool:\n",
    "        \"\"\"\n",
    "        Returns if the word is in the data structure. A word could contain the dot character '.' to represent any one letter.\n",
    "        \"\"\"\n",
    "        def recursion(word, dic):\n",
    "            if len(word) == 0:\n",
    "                return True if dic[1] else False\n",
    "            if word[0] == '.':\n",
    "                for i in dic[0]:\n",
    "                    if recursion(word[1:], dic[0][i]):\n",
    "                        return True\n",
    "                    else:\n",
    "                        continue\n",
    "            elif word[0] in dic[0]:\n",
    "                return recursion(word[1:], dic[0][word[0]])\n",
    "            return False\n",
    "        return recursion(word, self.dictionary)"
   ]
  },
  {
   "cell_type": "code",
   "execution_count": 191,
   "metadata": {},
   "outputs": [],
   "source": [
    "word = WordDictionary()"
   ]
  },
  {
   "cell_type": "code",
   "execution_count": 192,
   "metadata": {},
   "outputs": [],
   "source": [
    "word.addWord('badly')\n",
    "word.addWord('add')"
   ]
  },
  {
   "cell_type": "code",
   "execution_count": 193,
   "metadata": {},
   "outputs": [
    {
     "data": {
      "text/plain": [
       "True"
      ]
     },
     "execution_count": 193,
     "metadata": {},
     "output_type": "execute_result"
    }
   ],
   "source": [
    "word.search('.a.ly')"
   ]
  },
  {
   "cell_type": "markdown",
   "metadata": {},
   "source": [
    "# Word Search II\n",
    "\n",
    "Given a 2D board and a list of words from the dictionary, find all words in the board.\n",
    "\n",
    "Each word must be constructed from letters of sequentially adjacent cell, where \"adjacent\" cells are those horizontally or vertically neighboring. The same letter cell may not be used more than once in a word.\n",
    "\n",
    "\n",
    "**Example:**\n",
    "```\n",
    "Input: \n",
    "board = [\n",
    "  ['o','a','a','n'],\n",
    "  ['e','t','a','e'],\n",
    "  ['i','h','k','r'],\n",
    "  ['i','f','l','v']\n",
    "]\n",
    "words = [\"oath\",\"pea\",\"eat\",\"rain\"]\n",
    "\n",
    "Output: [\"eat\",\"oath\"]\n",
    "```"
   ]
  },
  {
   "cell_type": "code",
   "execution_count": 264,
   "metadata": {},
   "outputs": [],
   "source": [
    "def findWords(board, words):\n",
    "    ans = []\n",
    "    def dfs(node, board, i, j):\n",
    "        if node.value:\n",
    "            ans.append(node.value)\n",
    "            node.value = None\n",
    "            return\n",
    "        if i < 0 or j < 0 or i >= len(board) or j >= len(board[0]):\n",
    "            return\n",
    "        if board[i][j] not in node.children:\n",
    "            return\n",
    "        else:\n",
    "            tmp = board[i][j]\n",
    "            board[i][j] = \"@\"\n",
    "            node = node.children[tmp]\n",
    "            dfs(node, board, i+1, j)\n",
    "            dfs(node, board, i-1, j)\n",
    "            dfs(node, board, i, j+1)\n",
    "            dfs(node, board, i, j-1)\n",
    "            board[i][j] = tmp\n",
    "            \n",
    "    root = Trie()\n",
    "    for i in words:\n",
    "        root.insert(i)\n",
    "    node = root.node\n",
    "    for i in range(len(board)):\n",
    "        for j in range(len(board[0])):\n",
    "            dfs(node, board, i, j)\n",
    "    return ans"
   ]
  },
  {
   "cell_type": "code",
   "execution_count": 265,
   "metadata": {},
   "outputs": [
    {
     "data": {
      "text/plain": [
       "['oath', 'eat']"
      ]
     },
     "execution_count": 265,
     "metadata": {},
     "output_type": "execute_result"
    }
   ],
   "source": [
    "findWords([\n",
    "  ['o','a','a','n'],\n",
    "  ['e','t','a','e'],\n",
    "  ['i','h','k','r'],\n",
    "  ['i','f','l','v']\n",
    "],\n",
    "[\"oath\",\"pea\",\"eat\",\"rain\"])"
   ]
  },
  {
   "cell_type": "code",
   "execution_count": null,
   "metadata": {},
   "outputs": [],
   "source": []
  },
  {
   "cell_type": "code",
   "execution_count": null,
   "metadata": {},
   "outputs": [],
   "source": []
  }
 ],
 "metadata": {
  "kernelspec": {
   "display_name": "Python 3",
   "language": "python",
   "name": "python3"
  },
  "language_info": {
   "codemirror_mode": {
    "name": "ipython",
    "version": 3
   },
   "file_extension": ".py",
   "mimetype": "text/x-python",
   "name": "python",
   "nbconvert_exporter": "python",
   "pygments_lexer": "ipython3",
   "version": "3.6.6"
  }
 },
 "nbformat": 4,
 "nbformat_minor": 2
}
