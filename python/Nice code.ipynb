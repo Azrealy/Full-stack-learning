{
 "cells": [
  {
   "cell_type": "code",
   "execution_count": 18,
   "metadata": {},
   "outputs": [],
   "source": [
    "def permutation(nums, count=0):\n",
    "    if count == len(nums):\n",
    "        print(nums)\n",
    "    for j in range(count, len(nums)):\n",
    "        if j != count and nums[j] == nums[count]:\n",
    "            # Not need swap the nums if their values are qual\n",
    "            continue\n",
    "        else:\n",
    "            nums[j], nums[count] = nums[count], nums[j]\n",
    "            permutation(nums, count+1)\n",
    "            nums[j], nums[count] = nums[count], nums[j]"
   ]
  },
  {
   "cell_type": "code",
   "execution_count": 21,
   "metadata": {},
   "outputs": [
    {
     "name": "stdout",
     "output_type": "stream",
     "text": [
      "[1, 1, 3, 3]\n",
      "[1, 3, 1, 3]\n",
      "[1, 3, 3, 1]\n",
      "[1, 3, 3, 1]\n",
      "[1, 3, 1, 3]\n",
      "[3, 1, 1, 3]\n",
      "[3, 1, 3, 1]\n",
      "[3, 3, 1, 1]\n",
      "[3, 1, 3, 1]\n",
      "[3, 1, 1, 3]\n",
      "[3, 3, 1, 1]\n"
     ]
    }
   ],
   "source": [
    "permutation([1, 1, 3, 3])"
   ]
  },
  {
   "cell_type": "code",
   "execution_count": 71,
   "metadata": {},
   "outputs": [],
   "source": [
    "def quickSortPartisian(nums, left, right, pivot):\n",
    "    pv = nums[pivot]\n",
    "    nums[pivot], nums[right] = nums[right], nums[pivot]\n",
    "    storeIndex = left\n",
    "    for i in range(left, right):\n",
    "        if nums[i] < pv:\n",
    "            # filter the nums[i] small than pv to the left side.\n",
    "            nums[i], nums[storeIndex] = nums[storeIndex], nums[i]\n",
    "            storeIndex += 1\n",
    "    nums[storeIndex], nums[right] = nums[right], nums[storeIndex]\n",
    "    return storeIndex"
   ]
  },
  {
   "cell_type": "code",
   "execution_count": 72,
   "metadata": {},
   "outputs": [
    {
     "data": {
      "text/plain": [
       "3"
      ]
     },
     "execution_count": 72,
     "metadata": {},
     "output_type": "execute_result"
    }
   ],
   "source": [
    "quickSortPartisian([5,3,2,6,2,4], 0, 5, 5)"
   ]
  },
  {
   "cell_type": "code",
   "execution_count": 90,
   "metadata": {},
   "outputs": [],
   "source": [
    "def quickSort(nums, left, right):\n",
    "    if left < right:\n",
    "        parition = quickSortPartisian(nums, left, right, right)\n",
    "        quickSort(nums, left, parition-1)\n",
    "        quickSort(nums, parition+1, right)\n",
    "    return nums"
   ]
  },
  {
   "cell_type": "code",
   "execution_count": 91,
   "metadata": {},
   "outputs": [
    {
     "data": {
      "text/plain": [
       "[2, 2, 3, 5, 6, 10]"
      ]
     },
     "execution_count": 91,
     "metadata": {},
     "output_type": "execute_result"
    }
   ],
   "source": [
    "quickSort([5,3,2,6,2,10], 0, 5)"
   ]
  },
  {
   "cell_type": "code",
   "execution_count": 110,
   "metadata": {},
   "outputs": [],
   "source": [
    "def kEmptySlots(bulbs, K):\n",
    "    bis = []\n",
    "    for i, b in enumerate(bulbs):\n",
    "        bis_index = bisect.bisect(bis, b)\n",
    "        for ner in bis[bis_index-(bis_index>0):bis_index+1]:\n",
    "            if abs(ner - b) - 1 == K:\n",
    "                return i + 1\n",
    "        bis.insert(bis_index, b)\n",
    "    return -1"
   ]
  },
  {
   "cell_type": "code",
   "execution_count": 111,
   "metadata": {},
   "outputs": [
    {
     "data": {
      "text/plain": [
       "8"
      ]
     },
     "execution_count": 111,
     "metadata": {},
     "output_type": "execute_result"
    }
   ],
   "source": [
    "kEmptySlots([6,5,8,9,7,1,10,2,3,4], 2)"
   ]
  },
  {
   "cell_type": "code",
   "execution_count": 104,
   "metadata": {},
   "outputs": [],
   "source": [
    "import bisect"
   ]
  },
  {
   "cell_type": "code",
   "execution_count": 105,
   "metadata": {},
   "outputs": [
    {
     "name": "stdout",
     "output_type": "stream",
     "text": [
      "Help on module bisect:\n",
      "\n",
      "NAME\n",
      "    bisect - Bisection algorithms.\n",
      "\n",
      "FUNCTIONS\n",
      "    bisect(...)\n",
      "        Alias for bisect_right().\n",
      "    \n",
      "    bisect_left(...)\n",
      "        bisect_left(a, x[, lo[, hi]]) -> index\n",
      "        \n",
      "        Return the index where to insert item x in list a, assuming a is sorted.\n",
      "        \n",
      "        The return value i is such that all e in a[:i] have e < x, and all e in\n",
      "        a[i:] have e >= x.  So if x already appears in the list, i points just\n",
      "        before the leftmost x already there.\n",
      "        \n",
      "        Optional args lo (default 0) and hi (default len(a)) bound the\n",
      "        slice of a to be searched.\n",
      "    \n",
      "    bisect_right(...)\n",
      "        bisect_right(a, x[, lo[, hi]]) -> index\n",
      "        \n",
      "        Return the index where to insert item x in list a, assuming a is sorted.\n",
      "        \n",
      "        The return value i is such that all e in a[:i] have e <= x, and all e in\n",
      "        a[i:] have e > x.  So if x already appears in the list, i points just\n",
      "        beyond the rightmost x already there\n",
      "        \n",
      "        Optional args lo (default 0) and hi (default len(a)) bound the\n",
      "        slice of a to be searched.\n",
      "    \n",
      "    insort(...)\n",
      "        Alias for insort_right().\n",
      "    \n",
      "    insort_left(...)\n",
      "        insort_left(a, x[, lo[, hi]])\n",
      "        \n",
      "        Insert item x in list a, and keep it sorted assuming a is sorted.\n",
      "        \n",
      "        If x is already in a, insert it to the left of the leftmost x.\n",
      "        \n",
      "        Optional args lo (default 0) and hi (default len(a)) bound the\n",
      "        slice of a to be searched.\n",
      "    \n",
      "    insort_right(...)\n",
      "        insort_right(a, x[, lo[, hi]])\n",
      "        \n",
      "        Insert item x in list a, and keep it sorted assuming a is sorted.\n",
      "        \n",
      "        If x is already in a, insert it to the right of the rightmost x.\n",
      "        \n",
      "        Optional args lo (default 0) and hi (default len(a)) bound the\n",
      "        slice of a to be searched.\n",
      "\n",
      "FILE\n",
      "    /home/aapfuser/.virtualenvs/jupyterlab/lib64/python3.6/bisect.py\n",
      "\n",
      "\n"
     ]
    }
   ],
   "source": [
    "help(bisect)"
   ]
  },
  {
   "cell_type": "code",
   "execution_count": 106,
   "metadata": {},
   "outputs": [
    {
     "name": "stdout",
     "output_type": "stream",
     "text": [
      "0 []\n",
      "0 [3]\n",
      "1 [1, 3]\n"
     ]
    }
   ],
   "source": [
    "start = []\n",
    "array = [3,1,2]\n",
    "import bisect\n",
    "for a in array:\n",
    "    m = bisect.bisect(start, a)\n",
    "    print(m, start)\n",
    "    start.insert(m, a)"
   ]
  },
  {
   "cell_type": "code",
   "execution_count": 114,
   "metadata": {},
   "outputs": [],
   "source": [
    "def findContestMatch(n):\n",
    "    store = [str(i) for i in range(1, n + 1)]\n",
    "    while n > 1:\n",
    "        for j in range(n // 2):\n",
    "            store[j] = \"({}, {})\".format(store[j], store.pop())\n",
    "        n //= 2\n",
    "    return store[0]"
   ]
  },
  {
   "cell_type": "code",
   "execution_count": 115,
   "metadata": {},
   "outputs": [
    {
     "data": {
      "text/plain": [
       "'(((1, 8), (4, 5)), ((2, 7), (3, 6)))'"
      ]
     },
     "execution_count": 115,
     "metadata": {},
     "output_type": "execute_result"
    }
   ],
   "source": [
    "findContestMatch(8)"
   ]
  },
  {
   "cell_type": "code",
   "execution_count": 150,
   "metadata": {},
   "outputs": [],
   "source": [
    "def deckRevealedIncreasing(deck):\n",
    "    deck = sorted(deck)\n",
    "    ans = [deck[-1]]\n",
    "    for i in range(len(deck)-2, -1, -1):\n",
    "        tmp = ans[-1]\n",
    "        ans = [deck[i]] + [tmp] + ans[:len(deck)-i-2]\n",
    "    return ans"
   ]
  },
  {
   "cell_type": "code",
   "execution_count": 153,
   "metadata": {},
   "outputs": [
    {
     "name": "stdout",
     "output_type": "stream",
     "text": [
      "[17]\n"
     ]
    },
    {
     "data": {
      "text/plain": [
       "[12, 17]"
      ]
     },
     "execution_count": 153,
     "metadata": {},
     "output_type": "execute_result"
    }
   ],
   "source": [
    "deckRevealedIncreasing([17,12])"
   ]
  },
  {
   "cell_type": "code",
   "execution_count": 157,
   "metadata": {},
   "outputs": [],
   "source": [
    "def gcd(a, b):\n",
    "    if b == 0:\n",
    "        return a\n",
    "    else:\n",
    "        return gcd(b, a%b)"
   ]
  },
  {
   "cell_type": "code",
   "execution_count": 169,
   "metadata": {},
   "outputs": [
    {
     "data": {
      "text/plain": [
       "11"
      ]
     },
     "execution_count": 169,
     "metadata": {},
     "output_type": "execute_result"
    }
   ],
   "source": [
    "gcd(110, 121)"
   ]
  },
  {
   "cell_type": "code",
   "execution_count": 208,
   "metadata": {},
   "outputs": [],
   "source": [
    "def smallestFactorization(a):\n",
    "    if a < 2:\n",
    "        return a\n",
    "    res, mul = 0, 1\n",
    "    for i in range(9, 1, -1):\n",
    "        while a % i == 0:\n",
    "            a /= i\n",
    "            res = mul * i + res\n",
    "            mul *= 10\n",
    "    if a < 2 and res < 1000000000:\n",
    "        return res\n",
    "    else:\n",
    "        return 0"
   ]
  },
  {
   "cell_type": "code",
   "execution_count": 209,
   "metadata": {},
   "outputs": [
    {
     "data": {
      "text/plain": [
       "0"
      ]
     },
     "execution_count": 209,
     "metadata": {},
     "output_type": "execute_result"
    }
   ],
   "source": [
    "smallestFactorization(18000000)"
   ]
  },
  {
   "cell_type": "code",
   "execution_count": 212,
   "metadata": {},
   "outputs": [],
   "source": [
    "def parition(nums, left, right, pivot):\n",
    "    pv = nums[pivot]\n",
    "    # move pivot number to the right\n",
    "    nums[right], nums[pivot] = nums[pivot], nums[right]\n",
    "    storeId = left\n",
    "    for j in range(left, right):\n",
    "        if nums[j] < pv:\n",
    "            nums[j], nums[storeId] = nums[storeId], nums[j]\n",
    "            storeId += 1\n",
    "    nums[right], nums[storeId] = nums[storeId], nums[right]\n",
    "    return nums, storeId"
   ]
  },
  {
   "cell_type": "code",
   "execution_count": 213,
   "metadata": {},
   "outputs": [
    {
     "data": {
      "text/plain": [
       "([1, 2, 3, 4, 5], 2)"
      ]
     },
     "execution_count": 213,
     "metadata": {},
     "output_type": "execute_result"
    }
   ],
   "source": [
    "parition([5,4,1,2,3],0,4,4)"
   ]
  },
  {
   "cell_type": "code",
   "execution_count": 217,
   "metadata": {},
   "outputs": [],
   "source": [
    "def permutation(nums, count=0):\n",
    "    if count == len(nums):\n",
    "        print(nums)\n",
    "    for j in range(count, len(nums)):\n",
    "        if count != j and nums[j] == nums[count]:\n",
    "            continue\n",
    "        nums[j], nums[count] = nums[count], nums[j]\n",
    "        permutation(nums, count+1)\n",
    "        nums[j], nums[count] = nums[count], nums[j]\n",
    "    return nums"
   ]
  },
  {
   "cell_type": "code",
   "execution_count": 218,
   "metadata": {},
   "outputs": [
    {
     "name": "stdout",
     "output_type": "stream",
     "text": [
      "[1, 1, 3]\n",
      "[1, 3, 1]\n",
      "[3, 1, 1]\n"
     ]
    },
    {
     "data": {
      "text/plain": [
       "[1, 1, 3]"
      ]
     },
     "execution_count": 218,
     "metadata": {},
     "output_type": "execute_result"
    }
   ],
   "source": [
    "permutation([1,1,3])"
   ]
  },
  {
   "cell_type": "code",
   "execution_count": 247,
   "metadata": {},
   "outputs": [],
   "source": [
    "def findAndReplacePattern(words, pattern):\n",
    "    def mapping(word):\n",
    "        store = {}\n",
    "        count = 0\n",
    "        ans = \"\"\n",
    "        for w in word:\n",
    "            if w in store:\n",
    "                ans += store[w]\n",
    "            else:\n",
    "                count += 1\n",
    "                ans += str(count)\n",
    "                store[w] = str(count)\n",
    "        return ans\n",
    "    return [word for word in words if mapping(pattern) == mapping(word)]"
   ]
  },
  {
   "cell_type": "code",
   "execution_count": 248,
   "metadata": {},
   "outputs": [
    {
     "data": {
      "text/plain": [
       "['mee', 'aqq']"
      ]
     },
     "execution_count": 248,
     "metadata": {},
     "output_type": "execute_result"
    }
   ],
   "source": [
    "findAndReplacePattern([\"abc\",\"deq\",\"mee\",\"aqq\",\"dkd\",\"ccc\"], \"abb\")"
   ]
  },
  {
   "cell_type": "code",
   "execution_count": 25,
   "metadata": {},
   "outputs": [],
   "source": [
    "def findStrobogrammatic(n, even=True):\n",
    "    if n == 1:\n",
    "        if even:\n",
    "            return ['']\n",
    "        else:\n",
    "            return [\"8\", \"1\",]\n",
    "    nums = {\"9\": \"6\", \"6\": \"9\", \"1\": \"1\", \"8\": \"8\"}\n",
    "    ans = []\n",
    "    if n % 2 != 0:\n",
    "        even = False\n",
    "    for i in nums:\n",
    "        for t in findStrobogrammatic(n//2, even):\n",
    "            ans.append(i+t+nums[i])\n",
    "    return ans"
   ]
  },
  {
   "cell_type": "code",
   "execution_count": 28,
   "metadata": {},
   "outputs": [
    {
     "data": {
      "text/plain": [
       "['99866',\n",
       " '99166',\n",
       " '96896',\n",
       " '96196',\n",
       " '91816',\n",
       " '91116',\n",
       " '98886',\n",
       " '98186',\n",
       " '69869',\n",
       " '69169',\n",
       " '66899',\n",
       " '66199',\n",
       " '61819',\n",
       " '61119',\n",
       " '68889',\n",
       " '68189',\n",
       " '19861',\n",
       " '19161',\n",
       " '16891',\n",
       " '16191',\n",
       " '11811',\n",
       " '11111',\n",
       " '18881',\n",
       " '18181',\n",
       " '89868',\n",
       " '89168',\n",
       " '86898',\n",
       " '86198',\n",
       " '81818',\n",
       " '81118',\n",
       " '88888',\n",
       " '88188']"
      ]
     },
     "execution_count": 28,
     "metadata": {},
     "output_type": "execute_result"
    }
   ],
   "source": [
    "findStrobogrammatic(5)"
   ]
  },
  {
   "cell_type": "code",
   "execution_count": null,
   "metadata": {},
   "outputs": [],
   "source": []
  },
  {
   "cell_type": "code",
   "execution_count": null,
   "metadata": {},
   "outputs": [],
   "source": []
  }
 ],
 "metadata": {
  "kernelspec": {
   "display_name": "Python 3",
   "language": "python",
   "name": "python3"
  },
  "language_info": {
   "codemirror_mode": {
    "name": "ipython",
    "version": 3
   },
   "file_extension": ".py",
   "mimetype": "text/x-python",
   "name": "python",
   "nbconvert_exporter": "python",
   "pygments_lexer": "ipython3",
   "version": "3.6.6"
  }
 },
 "nbformat": 4,
 "nbformat_minor": 4
}
