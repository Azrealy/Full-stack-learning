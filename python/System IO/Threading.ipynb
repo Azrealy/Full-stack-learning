{
 "cells": [
  {
   "cell_type": "code",
   "execution_count": 1,
   "metadata": {},
   "outputs": [
    {
     "data": {
      "text/plain": [
       "5"
      ]
     },
     "execution_count": 1,
     "metadata": {},
     "output_type": "execute_result"
    }
   ],
   "source": [
    "import threading\n",
    "threading.active_count()"
   ]
  },
  {
   "cell_type": "code",
   "execution_count": 16,
   "metadata": {},
   "outputs": [
    {
     "data": {
      "text/plain": [
       "[<_MainThread(MainThread, started 139658824619840)>,\n",
       " <Thread(Thread-2, started daemon 139658491819776)>,\n",
       " <Heartbeat(Thread-3, started daemon 139658483427072)>,\n",
       " <HistorySavingThread(IPythonHistorySavingThread, started 139658458248960)>,\n",
       " <ParentPollerUnix(Thread-1, started daemon 139658109384448)>]"
      ]
     },
     "execution_count": 16,
     "metadata": {},
     "output_type": "execute_result"
    }
   ],
   "source": [
    "# Return a list of all Thread objects currently alive.\n",
    "threading.enumerate()"
   ]
  },
  {
   "cell_type": "code",
   "execution_count": 3,
   "metadata": {},
   "outputs": [
    {
     "data": {
      "text/plain": [
       "<_MainThread(MainThread, started 139658824619840)>"
      ]
     },
     "execution_count": 3,
     "metadata": {},
     "output_type": "execute_result"
    }
   ],
   "source": [
    "# Return the current use thread\n",
    "threading.current_thread()"
   ]
  },
  {
   "cell_type": "code",
   "execution_count": 4,
   "metadata": {},
   "outputs": [
    {
     "data": {
      "text/plain": [
       "139658824619840"
      ]
     },
     "execution_count": 4,
     "metadata": {},
     "output_type": "execute_result"
    }
   ],
   "source": [
    "threading.get_ident()"
   ]
  },
  {
   "cell_type": "code",
   "execution_count": 5,
   "metadata": {},
   "outputs": [],
   "source": [
    "mydate = threading.local()"
   ]
  },
  {
   "cell_type": "code",
   "execution_count": 6,
   "metadata": {},
   "outputs": [],
   "source": [
    "mydate.x = 1"
   ]
  },
  {
   "cell_type": "code",
   "execution_count": 19,
   "metadata": {},
   "outputs": [],
   "source": [
    "import logging\n",
    "import time\n",
    "def thread_function(name):\n",
    "    logging.info(\"Thread %s: starting\", name)\n",
    "    time.sleep(2)\n",
    "    # Thread finished after the Main section of your code did.\n",
    "    logging.info(\"Thread %s: ending\", name)\n",
    "def main():\n",
    "    format = \"%(asctime)s: %(message)s\"\n",
    "    logging.basicConfig(format=format, level=logging.INFO, datefmt=\"%H:%M:%S\")\n",
    "    logging.info(\"Main : before creating thread\")\n",
    "    # the arguments pass to the threafing target function shoulde be tuple.\n",
    "    x = threading.Thread(target=thread_function, args=(\"thread 1 name\", ), daemon=True)\n",
    "    logging.info(\"Main : before running thread\")\n",
    "    x.start()\n",
    "    logging.info(\"Main : wait for the thread to finish\")\n",
    "    logging.info(\"Main : all done\")"
   ]
  },
  {
   "cell_type": "code",
   "execution_count": 20,
   "metadata": {},
   "outputs": [
    {
     "name": "stderr",
     "output_type": "stream",
     "text": [
      "17:45:59: Main : before creating thread\n",
      "17:45:59: Main : before running thread\n",
      "17:45:59: Thread thread 1 name: starting\n",
      "17:45:59: Main : wait for the thread to finish\n",
      "17:45:59: Main : all done\n",
      "17:46:01: Thread thread 1 name: ending\n"
     ]
    }
   ],
   "source": [
    "main()"
   ]
  },
  {
   "cell_type": "markdown",
   "metadata": {},
   "source": [
    "It is strongly recommended that you use ThreadPoolExecutor as a context manager when you can so that you never forget to .join() the threads.\n",
    "\n",
    "\n",
    "> Note: Using a ThreadPoolExecutor can cause some confusing errors.\n",
    " For example, if you call a function that takes no parameters, but you pass it parameters in .map(), the thread will throw an exception.\n",
    " Unfortunately, ThreadPoolExecutor will hide that exception, and (in the case above) the program terminates with no output. This can be quite confusing to debug at first.\n"
   ]
  },
  {
   "cell_type": "code",
   "execution_count": 21,
   "metadata": {},
   "outputs": [
    {
     "name": "stderr",
     "output_type": "stream",
     "text": [
      "18:30:40: Thread 0: starting\n",
      "18:30:40: Thread 1: starting\n",
      "18:30:40: Thread 2: starting\n",
      "18:30:42: Thread 0: ending\n",
      "18:30:42: Thread 1: ending\n",
      "18:30:42: Thread 2: ending\n"
     ]
    }
   ],
   "source": [
    "import concurrent.futures\n",
    "\n",
    "# [rest of code]\n",
    "\n",
    "if __name__ == \"__main__\":\n",
    "    format = \"%(asctime)s: %(message)s\"\n",
    "    logging.basicConfig(format=format, level=logging.INFO,\n",
    "                        datefmt=\"%H:%M:%S\")\n",
    "\n",
    "    with concurrent.futures.ThreadPoolExecutor(max_workers=3) as executor:\n",
    "        executor.map(thread_function, range(3))"
   ]
  },
  {
   "cell_type": "markdown",
   "metadata": {},
   "source": [
    "Once you've seen what a race condition is and looked at one happening you'll move on to some of the primitives provided by the standard library to prevent race conditions from happening.\n",
    "\n",
    "Race connditions can occur when two or more threads access a shared piece of dara or resource."
   ]
  },
  {
   "cell_type": "code",
   "execution_count": 43,
   "metadata": {},
   "outputs": [],
   "source": [
    "import threading\n",
    "class FakeDarabase:\n",
    "    def __init__(self):\n",
    "        self.value = 0\n",
    "        self._lock  = threading.Lock()\n",
    "    def update(self, name):\n",
    "        logging.info(\"Thread %s: starting update\", name)\n",
    "        with self._lock:\n",
    "        #self._lock .acquire()\n",
    "            print(\"Thread %s: has a lock\", name)\n",
    "            local_copy = self.value\n",
    "            local_copy += 1\n",
    "            # Between this thread sleelping time, the other thread will execute.\n",
    "            # and that local_copy will still be 1.\n",
    "            time.sleep(name)\n",
    "            self.value = local_copy\n",
    "            print(\"Thread %s: release this lock.\", name)\n",
    "        #self._lock .release()\n",
    "        logging.info(\"Thread %s: finishing update\", name)"
   ]
  },
  {
   "cell_type": "code",
   "execution_count": 44,
   "metadata": {},
   "outputs": [
    {
     "name": "stderr",
     "output_type": "stream",
     "text": [
      "09:59:57: Thread 1: starting update\n",
      "09:59:57: Thread 2: starting update\n"
     ]
    },
    {
     "name": "stdout",
     "output_type": "stream",
     "text": [
      "0\n",
      "Thread %s: has a lock 1\n"
     ]
    },
    {
     "name": "stderr",
     "output_type": "stream",
     "text": [
      "09:59:58: Thread 1: finishing update\n"
     ]
    },
    {
     "name": "stdout",
     "output_type": "stream",
     "text": [
      "Thread %s: release this lock. 1\n",
      "Thread %s: has a lock 2\n"
     ]
    },
    {
     "name": "stderr",
     "output_type": "stream",
     "text": [
      "10:00:00: Thread 2: finishing update\n"
     ]
    },
    {
     "name": "stdout",
     "output_type": "stream",
     "text": [
      "Thread %s: release this lock. 2\n",
      "2\n"
     ]
    }
   ],
   "source": [
    "from concurrent.futures import ThreadPoolExecutor\n",
    "\n",
    "database = FakeDarabase()\n",
    "print(database.value)\n",
    "with ThreadPoolExecutor(max_workers=2) as executor:\n",
    "    for i in range(1, 3):\n",
    "        executor.submit(database.update, i)\n",
    "print(database.value)"
   ]
  },
  {
   "cell_type": "code",
   "execution_count": 33,
   "metadata": {},
   "outputs": [
    {
     "name": "stdout",
     "output_type": "stream",
     "text": [
      "  3           0 LOAD_FAST                0 (x)\n",
      "              2 LOAD_CONST               1 (2)\n",
      "              4 BINARY_MULTIPLY\n",
      "              6 LOAD_CONST               2 (1)\n",
      "              8 BINARY_ADD\n",
      "             10 STORE_FAST               1 (y)\n",
      "\n",
      "  4          12 LOAD_FAST                1 (y)\n",
      "             14 RETURN_VALUE\n"
     ]
    }
   ],
   "source": [
    "import dis\n",
    "# dis is a standard library to show the smaller steps\n",
    "# that the processor does to implement your function.\n",
    "def inc(x):\n",
    "    y = x * 2 + 1\n",
    "    return y\n",
    "dis.dis(inc)"
   ]
  },
  {
   "cell_type": "markdown",
   "metadata": {},
   "source": [
    "# Producer-Consumer Threading\n",
    "Used to look at threading or process synchronization issues."
   ]
  },
  {
   "cell_type": "code",
   "execution_count": 63,
   "metadata": {},
   "outputs": [],
   "source": [
    "import random\n",
    "SENTINEL = object()\n",
    "\n",
    "def producer(pipline):\n",
    "    for index in range(10):\n",
    "        # Pretenf we're get 10 message from the network.\n",
    "        message = random.randint(1, 101)\n",
    "        logging.info(\"Producer got message: %s\", message)\n",
    "        pipline.set_message(message, \"Producer\")\n",
    "    # uses a sentinel value to signal the consumer to stop after it has\n",
    "    # sent ten values\n",
    "    pipline.set_message(SENTINEL, \"Producer\")"
   ]
  },
  {
   "cell_type": "code",
   "execution_count": 64,
   "metadata": {},
   "outputs": [],
   "source": [
    "def consumer(pipline):\n",
    "    message = 0\n",
    "    while message is not SENTINEL:\n",
    "        message = pipline.get_message(\"Consumer\")\n",
    "        if message is not SENTINEL:\n",
    "            logging.info(\"Consumer storing message: %s\", message)"
   ]
  },
  {
   "cell_type": "code",
   "execution_count": 65,
   "metadata": {},
   "outputs": [],
   "source": [
    "class Pipeline:\n",
    "    def __init__(self):\n",
    "        self.message = 0\n",
    "        self.producer_lock = threading.Lock()\n",
    "        self.consumer_lock = threading.Lock()\n",
    "        self.consumer_lock.acquire()\n",
    "    \n",
    "    def get_message(self, name):\n",
    "        logging.info(\"%s: about to acquire getlock\", name)\n",
    "        self.consumer_lock.acquire()\n",
    "        logging.info(\"%s: have getlock\", name)\n",
    "        message = self.message\n",
    "        logging.info(\"%s: about to release setlock\", name)\n",
    "        self.producer_lock.release()\n",
    "        logging.info(\"%s: setlock released\", name)\n",
    "        return message\n",
    "    \n",
    "    def set_message(self, message, name):\n",
    "        logging.info(\"%s: about to acquire setlock\", name)\n",
    "        self.producer_lock.acquire()\n",
    "        logging.info(\"%s: have setlock\", name)\n",
    "        self.message = message\n",
    "        logging.info(\"%s: about to release getlock\", name)\n",
    "        self.consumer_lock.release()\n",
    "        logging.info(\"%s: getlock released\", name)"
   ]
  },
  {
   "cell_type": "code",
   "execution_count": 67,
   "metadata": {},
   "outputs": [
    {
     "name": "stderr",
     "output_type": "stream",
     "text": [
      "10:48:26: Consumer: about to acquire getlock\n",
      "10:48:26: Producer got message: 60\n",
      "10:48:26: Producer: about to acquire setlock\n",
      "10:48:26: Producer: have setlock\n",
      "10:48:26: Producer: about to release getlock\n",
      "10:48:26: Producer: getlock released\n",
      "10:48:26: Consumer: have getlock\n",
      "10:48:26: Producer got message: 97\n",
      "10:48:26: Consumer: about to release setlock\n",
      "10:48:26: Producer: about to acquire setlock\n",
      "10:48:26: Consumer: setlock released\n",
      "10:48:26: Producer: have setlock\n",
      "10:48:26: Consumer storing message: 60\n",
      "10:48:26: Producer: about to release getlock\n",
      "10:48:26: Consumer: about to acquire getlock\n",
      "10:48:26: Producer: getlock released\n",
      "10:48:26: Consumer: have getlock\n",
      "10:48:26: Producer got message: 93\n",
      "10:48:26: Consumer: about to release setlock\n",
      "10:48:26: Producer: about to acquire setlock\n",
      "10:48:26: Consumer: setlock released\n",
      "10:48:26: Producer: have setlock\n",
      "10:48:26: Consumer storing message: 97\n",
      "10:48:26: Producer: about to release getlock\n",
      "10:48:26: Consumer: about to acquire getlock\n",
      "10:48:26: Consumer: have getlock\n",
      "10:48:26: Producer: getlock released\n",
      "10:48:26: Consumer: about to release setlock\n",
      "10:48:26: Producer got message: 53\n",
      "10:48:26: Consumer: setlock released\n",
      "10:48:26: Producer: about to acquire setlock\n",
      "10:48:26: Consumer storing message: 93\n",
      "10:48:26: Producer: have setlock\n",
      "10:48:26: Consumer: about to acquire getlock\n",
      "10:48:26: Producer: about to release getlock\n",
      "10:48:26: Producer: getlock released\n",
      "10:48:26: Producer got message: 68\n",
      "10:48:26: Producer: about to acquire setlock\n",
      "10:48:26: Consumer: have getlock\n",
      "10:48:26: Consumer: about to release setlock\n",
      "10:48:26: Consumer: setlock released\n",
      "10:48:26: Consumer storing message: 53\n",
      "10:48:26: Producer: have setlock\n",
      "10:48:26: Consumer: about to acquire getlock\n",
      "10:48:26: Producer: about to release getlock\n",
      "10:48:26: Producer: getlock released\n",
      "10:48:26: Consumer: have getlock\n",
      "10:48:26: Producer got message: 80\n",
      "10:48:26: Consumer: about to release setlock\n",
      "10:48:26: Producer: about to acquire setlock\n",
      "10:48:26: Consumer: setlock released\n",
      "10:48:26: Producer: have setlock\n",
      "10:48:26: Consumer storing message: 68\n",
      "10:48:26: Producer: about to release getlock\n",
      "10:48:26: Consumer: about to acquire getlock\n",
      "10:48:26: Producer: getlock released\n",
      "10:48:26: Consumer: have getlock\n",
      "10:48:26: Producer got message: 51\n",
      "10:48:26: Consumer: about to release setlock\n",
      "10:48:26: Consumer: setlock released\n",
      "10:48:26: Producer: about to acquire setlock\n",
      "10:48:26: Consumer storing message: 80\n",
      "10:48:26: Producer: have setlock\n",
      "10:48:26: Consumer: about to acquire getlock\n",
      "10:48:26: Producer: about to release getlock\n",
      "10:48:26: Producer: getlock released\n",
      "10:48:26: Consumer: have getlock\n",
      "10:48:26: Producer got message: 26\n",
      "10:48:26: Consumer: about to release setlock\n",
      "10:48:26: Consumer: setlock released\n",
      "10:48:26: Producer: about to acquire setlock\n",
      "10:48:26: Consumer storing message: 51\n",
      "10:48:26: Producer: have setlock\n",
      "10:48:26: Consumer: about to acquire getlock\n",
      "10:48:26: Producer: about to release getlock\n",
      "10:48:26: Producer: getlock released\n",
      "10:48:26: Consumer: have getlock\n",
      "10:48:26: Producer got message: 18\n",
      "10:48:26: Consumer: about to release setlock\n",
      "10:48:26: Producer: about to acquire setlock\n",
      "10:48:26: Consumer: setlock released\n",
      "10:48:26: Producer: have setlock\n",
      "10:48:26: Consumer storing message: 26\n",
      "10:48:26: Producer: about to release getlock\n",
      "10:48:26: Consumer: about to acquire getlock\n",
      "10:48:26: Producer: getlock released\n",
      "10:48:26: Consumer: have getlock\n",
      "10:48:26: Producer got message: 7\n",
      "10:48:26: Consumer: about to release setlock\n",
      "10:48:26: Producer: about to acquire setlock\n",
      "10:48:26: Consumer: setlock released\n",
      "10:48:26: Producer: have setlock\n",
      "10:48:26: Consumer storing message: 18\n",
      "10:48:26: Producer: about to release getlock\n",
      "10:48:26: Consumer: about to acquire getlock\n",
      "10:48:26: Producer: getlock released\n",
      "10:48:26: Consumer: have getlock\n",
      "10:48:26: Consumer: about to release setlock\n",
      "10:48:26: Producer: about to acquire setlock\n",
      "10:48:26: Consumer: setlock released\n",
      "10:48:26: Producer: have setlock\n",
      "10:48:26: Consumer storing message: 7\n",
      "10:48:26: Producer: about to release getlock\n",
      "10:48:26: Consumer: about to acquire getlock\n",
      "10:48:26: Producer: getlock released\n",
      "10:48:26: Consumer: have getlock\n",
      "10:48:26: Consumer: about to release setlock\n",
      "10:48:26: Consumer: setlock released\n"
     ]
    }
   ],
   "source": [
    "pipline = Pipeline()\n",
    "with ThreadPoolExecutor(max_workers=2) as executor:\n",
    "    executor.submit(consumer, pipline)\n",
    "    executor.submit(producer, pipline)"
   ]
  },
  {
   "cell_type": "code",
   "execution_count": 62,
   "metadata": {},
   "outputs": [
    {
     "data": {
      "text/plain": [
       "2"
      ]
     },
     "execution_count": 62,
     "metadata": {},
     "output_type": "execute_result"
    }
   ],
   "source": [
    "1 + 1"
   ]
  },
  {
   "cell_type": "markdown",
   "metadata": {},
   "source": [
    "The `threading.Event` object allows one thread to signal an `event` while many other threads can be waiting for that `event` to happen."
   ]
  },
  {
   "cell_type": "code",
   "execution_count": 68,
   "metadata": {},
   "outputs": [],
   "source": [
    "def producer(pipline, event):\n",
    "    while not event.is_set():\n",
    "        message = random.randint(1, 101)\n",
    "        logging.info(\"Producer got message: %s\", message)\n",
    "        pipeline.set_message(message, \"Producer\")\n",
    "\n",
    "    logging.info(\"Producer received EXIT event. Exiting\")"
   ]
  },
  {
   "cell_type": "code",
   "execution_count": 69,
   "metadata": {},
   "outputs": [],
   "source": [
    "def consumer(pipeline, event):\n",
    "    \"\"\"Pretend we're saving a number in the database.\"\"\"\n",
    "    while not event.is_set() or not pipeline.empty():\n",
    "        message = pipeline.get_message(\"Consumer\")\n",
    "        logging.info(\n",
    "            \"Consumer storing message: %s  (queue size=%s)\",\n",
    "            message,\n",
    "            pipeline.qsize(),\n",
    "        )\n",
    "\n",
    "    logging.info(\"Consumer received EXIT event. Exiting\")"
   ]
  },
  {
   "cell_type": "code",
   "execution_count": 70,
   "metadata": {},
   "outputs": [],
   "source": [
    "import queue\n",
    "\n",
    "class Pipeline(queue.Queue):\n",
    "    def __init__(self):\n",
    "        super().__init__(maxsize=10)\n",
    "\n",
    "    def get_message(self, name):\n",
    "        logging.debug(\"%s:about to get from queue\", name)\n",
    "        value = self.get()\n",
    "        logging.debug(\"%s:got %d from queue\", name, value)\n",
    "        return value\n",
    "\n",
    "    def set_message(self, value, name):\n",
    "        logging.debug(\"%s:about to add %d to queue\", name, value)\n",
    "        self.put(value)\n",
    "        logging.debug(\"%s:added %d to queue\", name, value)"
   ]
  },
  {
   "cell_type": "code",
   "execution_count": 72,
   "metadata": {},
   "outputs": [
    {
     "name": "stderr",
     "output_type": "stream",
     "text": [
      "11:09:27: Producer got message: 67\n",
      "11:09:27: Producer got message: 62\n",
      "11:09:27: Consumer storing message: 67  (queue size=0)\n",
      "11:09:27: Producer got message: 54\n",
      "11:09:27: Producer got message: 40\n",
      "11:09:27: Producer got message: 40\n",
      "11:09:27: Producer got message: 84\n",
      "11:09:27: Producer got message: 100\n",
      "11:09:27: Producer got message: 37\n",
      "11:09:27: Producer got message: 58\n",
      "11:09:27: Producer got message: 16\n",
      "11:09:27: Producer got message: 36\n",
      "11:09:27: Consumer storing message: 62  (queue size=0)\n",
      "11:09:27: Producer got message: 58\n",
      "11:09:27: Consumer storing message: 54  (queue size=8)\n",
      "11:09:27: Producer got message: 8\n",
      "11:09:27: Consumer storing message: 40  (queue size=8)\n",
      "11:09:27: Producer got message: 13\n",
      "11:09:27: Consumer storing message: 40  (queue size=8)\n",
      "11:09:27: Producer got message: 65\n",
      "11:09:27: Consumer storing message: 84  (queue size=8)\n",
      "11:09:27: Producer got message: 75\n",
      "11:09:27: Consumer storing message: 100  (queue size=8)\n",
      "11:09:27: Producer got message: 58\n",
      "11:09:27: Consumer storing message: 37  (queue size=8)\n",
      "11:09:27: Producer got message: 80\n",
      "11:09:27: Consumer storing message: 58  (queue size=8)\n",
      "11:09:27: Consumer storing message: 16  (queue size=8)\n",
      "11:09:27: Producer got message: 93\n",
      "11:09:27: Consumer storing message: 36  (queue size=7)\n",
      "11:09:27: Producer got message: 55\n",
      "11:09:27: Consumer storing message: 58  (queue size=7)\n",
      "11:09:27: Producer got message: 21\n",
      "11:09:27: Consumer storing message: 8  (queue size=7)\n",
      "11:09:27: Producer got message: 38\n",
      "11:09:27: Consumer storing message: 13  (queue size=7)\n",
      "11:09:27: Consumer storing message: 65  (queue size=7)\n",
      "11:09:27: Consumer storing message: 75  (queue size=6)\n",
      "11:09:27: Consumer storing message: 58  (queue size=5)\n",
      "11:09:27: Consumer storing message: 80  (queue size=4)\n",
      "11:09:27: Consumer storing message: 93  (queue size=3)\n",
      "11:09:27: Consumer storing message: 55  (queue size=2)\n",
      "11:09:27: Consumer storing message: 21  (queue size=1)\n",
      "11:09:27: Consumer storing message: 38  (queue size=0)\n",
      "11:09:27: Producer got message: 78\n",
      "11:09:27: Producer got message: 78\n",
      "11:09:27: Producer got message: 82\n",
      "11:09:27: Producer got message: 2\n",
      "11:09:27: Producer got message: 78\n",
      "11:09:27: Consumer storing message: 78  (queue size=0)\n",
      "11:09:27: Producer got message: 21\n",
      "11:09:27: Consumer storing message: 78  (queue size=3)\n",
      "11:09:27: Producer got message: 1\n",
      "11:09:27: Consumer storing message: 82  (queue size=3)\n",
      "11:09:27: Producer got message: 40\n",
      "11:09:27: Consumer storing message: 2  (queue size=3)\n",
      "11:09:27: Producer got message: 78\n",
      "11:09:27: Consumer storing message: 78  (queue size=3)\n",
      "11:09:27: Producer got message: 59\n",
      "11:09:27: Consumer storing message: 21  (queue size=3)\n",
      "11:09:27: Producer got message: 64\n",
      "11:09:27: Consumer storing message: 1  (queue size=3)\n",
      "11:09:27: Producer got message: 11\n",
      "11:09:27: Consumer storing message: 40  (queue size=3)\n",
      "11:09:27: Producer got message: 85\n",
      "11:09:27: Consumer storing message: 78  (queue size=3)\n",
      "11:09:27: Producer got message: 15\n",
      "11:09:27: Consumer storing message: 59  (queue size=3)\n",
      "11:09:27: Producer got message: 10\n",
      "11:09:27: Producer got message: 92\n",
      "11:09:27: Producer got message: 52\n",
      "11:09:27: Consumer storing message: 64  (queue size=3)\n",
      "11:09:27: Main: about to set event\n",
      "11:09:27: Producer got message: 52\n",
      "11:09:27: Consumer storing message: 11  (queue size=5)\n",
      "11:09:27: Producer received EXIT event. Exiting\n",
      "11:09:27: Consumer storing message: 85  (queue size=5)\n",
      "11:09:27: Consumer storing message: 15  (queue size=4)\n",
      "11:09:27: Consumer storing message: 10  (queue size=3)\n",
      "11:09:27: Consumer storing message: 92  (queue size=2)\n",
      "11:09:27: Consumer storing message: 52  (queue size=1)\n",
      "11:09:27: Consumer storing message: 52  (queue size=0)\n",
      "11:09:27: Consumer received EXIT event. Exiting\n"
     ]
    }
   ],
   "source": [
    "format = \"%(asctime)s: %(message)s\"\n",
    "logging.basicConfig(format=format, level=logging.DEBUG,\n",
    "                    datefmt=\"%H:%M:%S\")\n",
    "# logging.getLogger().setLevel(logging.DEBUG)\n",
    "\n",
    "pipeline = Pipeline()\n",
    "event = threading.Event()\n",
    "with concurrent.futures.ThreadPoolExecutor(max_workers=2) as executor:\n",
    "    executor.submit(producer, pipeline, event)\n",
    "    executor.submit(consumer, pipeline, event)\n",
    "\n",
    "    time.sleep(0.1)\n",
    "    logging.info(\"Main: about to set event\")\n",
    "    event.set()"
   ]
  },
  {
   "cell_type": "code",
   "execution_count": 102,
   "metadata": {},
   "outputs": [],
   "source": [
    "class Foo:\n",
    "    def __init__(self):\n",
    "        self._condition = threading.Condition()\n",
    "        self.first_called = False\n",
    "        self.second_called = False\n",
    "    \n",
    "    def first(self, printFrist):\n",
    "        with self._condition:\n",
    "            printFrist()\n",
    "            self.first_called = True\n",
    "            self._condition.notify_all()\n",
    "    \n",
    "    def second(self, printSecond):\n",
    "        with self._condition:\n",
    "            while not self.first_called:\n",
    "                self._condition.wait()\n",
    "            printSecond()\n",
    "            self.second_called = True\n",
    "            self._condition.notify_all()\n",
    "            \n",
    "    \n",
    "    def third(self, printThird):\n",
    "        with self._condition:\n",
    "            while not self.second_called:\n",
    "                self._condition.wait()\n",
    "            printThird()"
   ]
  },
  {
   "cell_type": "code",
   "execution_count": 103,
   "metadata": {},
   "outputs": [
    {
     "name": "stdout",
     "output_type": "stream",
     "text": [
      "first\n",
      "second\n",
      "third\n"
     ]
    }
   ],
   "source": [
    "foo = Foo()\n",
    "printFirst = lambda: print('first')\n",
    "printSecond = lambda: print('second')\n",
    "printThird = lambda: print('third')\n",
    "t1 = threading.Thread(target=foo.first, args=(printFirst,))\n",
    "t2 = threading.Thread(target=foo.second, args=(printSecond,))\n",
    "t3 = threading.Thread(target=foo.third, args=(printThird,))\n",
    "t3.start()\n",
    "t2.start()\n",
    "t1.start()\n",
    "t3.join()\n",
    "t2.join()\n",
    "t1.join()"
   ]
  },
  {
   "cell_type": "code",
   "execution_count": 116,
   "metadata": {},
   "outputs": [],
   "source": [
    "from threading import Event\n",
    "class FooBar:\n",
    "    def __init__(self, n):\n",
    "        self.n = n\n",
    "        self.event = (Event(), Event())\n",
    "        self.event[1].set()\n",
    "        \n",
    "    def foo(self, printFoo: 'Callable[[], None]') -> None:\n",
    "        \n",
    "        for i in range(self.n):\n",
    "            self.event[1].wait()\n",
    "            # printFoo() outputs \"foo\". Do not change or remove this line.\n",
    "            printFoo()\n",
    "            self.event[0].set()\n",
    "            self.event[1].clear()\n",
    "\n",
    "\n",
    "    def bar(self, printBar: 'Callable[[], None]') -> None:\n",
    "        \n",
    "        for i in range(self.n):\n",
    "            self.event[0].wait()\n",
    "            # printBar() outputs \"bar\". Do not change or remove this line.\n",
    "            printBar()\n",
    "            self.event[1].set()\n",
    "            self.event[0].clear()"
   ]
  },
  {
   "cell_type": "code",
   "execution_count": 117,
   "metadata": {},
   "outputs": [
    {
     "name": "stdout",
     "output_type": "stream",
     "text": [
      "foo\n",
      "bar\n",
      "foo\n",
      "bar\n",
      "foo\n",
      "bar\n",
      "foo\n",
      "bar\n",
      "foo\n",
      "bar\n",
      "foo\n",
      "bar\n",
      "foo\n",
      "bar\n",
      "foo\n",
      "bar\n",
      "foo\n",
      "bar\n",
      "foo\n",
      "bar\n"
     ]
    }
   ],
   "source": [
    "foobar = FooBar(10)\n",
    "printFoo = lambda: print('foo')\n",
    "printBar = lambda: print('bar')\n",
    "t1 = threading.Thread(target=foobar.foo, args=(printFoo,))\n",
    "t2 = threading.Thread(target=foobar.bar, args=(printBar,))\n",
    "t2.start()\n",
    "t1.start()\n",
    "t2.join()\n",
    "t1.join()"
   ]
  },
  {
   "cell_type": "markdown",
   "metadata": {},
   "source": [
    "# Print Zero Even Odd\n",
    "\n",
    "Suppose you are given the following code:\n",
    "```\n",
    "class ZeroEvenOdd {\n",
    "  public ZeroEvenOdd(int n) { ... }      // constructor\n",
    "  public void zero(printNumber) { ... }  // only output 0's\n",
    "  public void even(printNumber) { ... }  // only output even numbers\n",
    "  public void odd(printNumber) { ... }   // only output odd numbers\n",
    "}\n",
    "```\n",
    "The same instance of ZeroEvenOdd will be passed to three different threads:\n",
    "\n",
    "Thread A will call zero() which should only output 0's.\n",
    "Thread B will call even() which should only ouput even numbers.\n",
    "Thread C will call odd() which should only output odd numbers.\n",
    "Each of the thread is given a printNumber method to output an integer. Modify the given program to output the series 010203040506... where the length of the series must be 2n.\n",
    "\n",
    "**Example 1:**\n",
    "```\n",
    "Input: n = 2\n",
    "Output: \"0102\"\n",
    "Explanation: There are three threads being fired asynchronously. One of them calls zero(), the other calls even(), and the last one calls odd(). \"0102\" is the correct output.\n",
    "```\n",
    "**Example 2:**\n",
    "```\n",
    "Input: n = 5\n",
    "Output: \"0102030405\"\n",
    "```"
   ]
  },
  {
   "cell_type": "code",
   "execution_count": 118,
   "metadata": {},
   "outputs": [],
   "source": [
    "class ZeroEvenOdd:\n",
    "    def __init__(self, n):\n",
    "        self._condition = threading.Condition()\n",
    "        self.n = n\n",
    "        self.order = 0\n",
    "        \n",
    "    def zero(self, printNumber: 'Callable[[int], None]') -> None:\n",
    "        for i in range(self.n):\n",
    "            with self._condition:\n",
    "                self._condition.wait_for(lambda: self.order == 0)\n",
    "                printNumber(0)\n",
    "                self.order = 1 if i % 2 == 0 else 2\n",
    "                self._condition.notify_all()\n",
    "        \n",
    "    def even(self, printNumber: 'Callable[[int], None]') -> None:\n",
    "        for i in range(2, self.n+1, 2):\n",
    "            with self._condition:\n",
    "                self._condition.wait_for(lambda: self.order == 2)\n",
    "                printNumber(i)\n",
    "                self.order = 0\n",
    "                self._condition.notify_all()\n",
    "        \n",
    "    def odd(self, printNumber: 'Callable[[int], None]') -> None:\n",
    "        for i in range(1, self.n+1, 2):\n",
    "            with self._condition:\n",
    "                self._condition.wait_for(lambda: self.order == 1)\n",
    "                printNumber(i)\n",
    "                self.order = 0\n",
    "                self._condition.notify_all()"
   ]
  },
  {
   "cell_type": "code",
   "execution_count": 126,
   "metadata": {},
   "outputs": [
    {
     "name": "stdout",
     "output_type": "stream",
     "text": [
      "0\n",
      "1\n",
      "0\n",
      "2\n",
      "0\n",
      "3\n",
      "0\n",
      "4\n",
      "0\n",
      "5\n",
      "0\n",
      "6\n",
      "0\n",
      "7\n",
      "0\n",
      "8\n",
      "0\n",
      "9\n",
      "0\n",
      "10\n"
     ]
    }
   ],
   "source": [
    "zeo = ZeroEvenOdd(10)\n",
    "import sys\n",
    "printNumber = lambda x: print(x)\n",
    "with ThreadPoolExecutor(max_workers=3) as ex:\n",
    "    ex.submit(zeo.zero, printNumber)\n",
    "    ex.submit(zeo.even, printNumber)\n",
    "    ex.submit(zeo.odd, printNumber)"
   ]
  },
  {
   "cell_type": "code",
   "execution_count": 124,
   "metadata": {},
   "outputs": [
    {
     "name": "stdout",
     "output_type": "stream",
     "text": [
      "wwwwdw"
     ]
    }
   ],
   "source": [
    "sys.stdout.write('ww')\n",
    "sys.stdout.write('wwdw')"
   ]
  },
  {
   "cell_type": "code",
   "execution_count": null,
   "metadata": {},
   "outputs": [],
   "source": []
  }
 ],
 "metadata": {
  "kernelspec": {
   "display_name": "Python 3",
   "language": "python",
   "name": "python3"
  },
  "language_info": {
   "codemirror_mode": {
    "name": "ipython",
    "version": 3
   },
   "file_extension": ".py",
   "mimetype": "text/x-python",
   "name": "python",
   "nbconvert_exporter": "python",
   "pygments_lexer": "ipython3",
   "version": "3.6.6"
  }
 },
 "nbformat": 4,
 "nbformat_minor": 2
}
