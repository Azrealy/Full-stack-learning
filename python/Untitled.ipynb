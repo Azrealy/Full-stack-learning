{
 "cells": [
  {
   "cell_type": "code",
   "execution_count": 78,
   "metadata": {},
   "outputs": [],
   "source": [
    "import socket, time, types, select\n",
    "from collections import namedtuple\n",
    "from heapq import heappush, heappop\n",
    "ScheduleEvent = namedtuple('ScheduleEvent', ['event_time', 'task'])\n",
    "Session = namedtuple('Session', ['address', 'file'])"
   ]
  },
  {
   "cell_type": "code",
   "execution_count": 79,
   "metadata": {},
   "outputs": [
    {
     "name": "stderr",
     "output_type": "stream",
     "text": [
      "Exception ignored in: <coroutine object nbcaser at 0x7f555e42b2b0>\n",
      "Traceback (most recent call last):\n",
      "  File \"<ipython-input-59-1413b6cabf9d>\", line 26, in nbcaser\n",
      "KeyError: <socket.socket fd=59, family=AddressFamily.AF_INET, type=SocketKind.SOCK_STREAM, proto=0, laddr=('127.0.0.1', 9600), raddr=('127.0.0.1', 38650)>\n"
     ]
    }
   ],
   "source": [
    "events = []\n",
    "sessions = {}\n",
    "callback = {}\n",
    "generators = {}"
   ]
  },
  {
   "cell_type": "code",
   "execution_count": 80,
   "metadata": {},
   "outputs": [],
   "source": [
    "def reactor(host=\"localhost\", port=9600):\n",
    "    \"Main event loop that triggers the appropriate business logic callbacks\"\n",
    "    s = socket.socket()\n",
    "    s.bind((host, port))\n",
    "    s.listen(5)\n",
    "    s.setblocking(0) # Mack async, Never wait on a client socket.\n",
    "    sessions[s] = None\n",
    "    print(sessions)\n",
    "    print('Server up, running, and waiting for call on %s %s'%(host, port))\n",
    "    try:\n",
    "        while True:\n",
    "            ready_to_read, _, _ = select.select(sessions, [], [], 0.1)\n",
    "            for c in ready_to_read:\n",
    "                print(c)\n",
    "                if c is s:\n",
    "                    c, a = c.accept()\n",
    "                    print(c, a)\n",
    "                    connect(c, a)\n",
    "                    continue\n",
    "                line = sessions[c].file.readline()\n",
    "                if line:\n",
    "                    callback[c](c, line.rstrip())\n",
    "                else:\n",
    "                    disconnect(c)\n",
    "            # Run events scheduled at the appropriate event time\n",
    "            while events and events[0].event_time <= time.monotonic():\n",
    "                event = heappop(events)\n",
    "                event.task()\n",
    "    finally:\n",
    "        s.close() "
   ]
  },
  {
   "cell_type": "code",
   "execution_count": 81,
   "metadata": {},
   "outputs": [],
   "source": [
    "def connect(c, a):\n",
    "    'Reactor logic for new connections'\n",
    "    sessions[c] = Session(a, c.makefile())\n",
    "    on_connect(c)     "
   ]
  },
  {
   "cell_type": "code",
   "execution_count": 82,
   "metadata": {},
   "outputs": [],
   "source": [
    "def disconnect(c):\n",
    "    'Reactor logic to end sessions'\n",
    "    on_disconnect(c)                         # call into user's business logic\n",
    "    sessions[c].file.close()\n",
    "    c.close()\n",
    "    del sessions[c]\n",
    "    del callback[c]"
   ]
  },
  {
   "cell_type": "code",
   "execution_count": 83,
   "metadata": {},
   "outputs": [],
   "source": [
    "def add_task(event_time, task):\n",
    "    'Helper function to schedule one-time tasks at specific time'\n",
    "    heappush(events, ScheduleEvent(event_time, task))"
   ]
  },
  {
   "cell_type": "code",
   "execution_count": 84,
   "metadata": {},
   "outputs": [],
   "source": [
    "def call_later(delay, task):\n",
    "    'Helper function to schedule one-time tasks after a given delay'\n",
    "    add_task(time.time() + delay, task)"
   ]
  },
  {
   "cell_type": "code",
   "execution_count": 85,
   "metadata": {},
   "outputs": [],
   "source": [
    "def call_periodic(delay, interval, task):\n",
    "    'Helper function to schedule recurring tasks'\n",
    "    def inner():\n",
    "        task()\n",
    "        call_later(interval, inner)\n",
    "    call_later(delay, inner)"
   ]
  },
  {
   "cell_type": "code",
   "execution_count": 86,
   "metadata": {},
   "outputs": [],
   "source": [
    "def on_connect(c):\n",
    "        g = nbcaser(c)          # 'g' is a coroutine\n",
    "        generators[c] = g       # generators -> awaitables\n",
    "        callback[c] = g.send(None)  # we do this to advance `nbcaser` coroutine\n",
    "                                    # to yield through the 'readline' coroutine\n",
    "                                    # which will sleep on its 'yield' expression"
   ]
  },
  {
   "cell_type": "code",
   "execution_count": 87,
   "metadata": {},
   "outputs": [],
   "source": [
    "def on_disconnect(c):\n",
    "        g = generators.pop(c)\n",
    "        g.close()"
   ]
  },
  {
   "cell_type": "code",
   "execution_count": 88,
   "metadata": {},
   "outputs": [],
   "source": [
    "@types.coroutine\n",
    "def readline(c):\n",
    "    'A non-blocking readline to use with two-way generators'\n",
    "    def inner(c, line):\n",
    "        g = generators[c]\n",
    "        try:\n",
    "            callback[c] = g.send(line)  # `g.send(line)` will resume the `yield inner` point\n",
    "        except StopIteration:\n",
    "            disconnect(c)\n",
    "    line = yield inner\n",
    "    return line\n"
   ]
  },
  {
   "cell_type": "code",
   "execution_count": 89,
   "metadata": {},
   "outputs": [],
   "source": [
    "def sleep(c, delay):\n",
    "    'A non-blocking sleep to use with two-way generators'\n",
    "    def inner():\n",
    "        g = generators[c]\n",
    "        callback[c] = next(g)\n",
    "    call_later(delay, inner)\n",
    "    return lambda *args: callback[c]"
   ]
  },
  {
   "cell_type": "code",
   "execution_count": 90,
   "metadata": {},
   "outputs": [],
   "source": [
    "def announcement():\n",
    "    print('The event loop is still running at:', time.ctime())\n",
    "\n",
    "call_periodic(delay=1, interval=15, task=announcement)"
   ]
  },
  {
   "cell_type": "code",
   "execution_count": 91,
   "metadata": {},
   "outputs": [],
   "source": [
    "async def nbcaser(c):\n",
    "    upper, title = 'upper', 'title'\n",
    "    mode = upper\n",
    "    print(\"Received connection from\", sessions[c].address)\n",
    "    try:\n",
    "        c.sendall(b'<welcome: starting in upper case mode>\\n')\n",
    "        while 1:\n",
    "            line = await readline(c)\n",
    "            if line == 'quit':\n",
    "                c.sendall(b'quit\\r\\n')\n",
    "                return\n",
    "            if mode is upper and line == 'title':\n",
    "                c.sendall(b'<switching to title case mode>\\r\\n')\n",
    "                mode = title\n",
    "                continue\n",
    "            if mode is title and line == 'upper':\n",
    "                line = c.sendall(b'<switching to upper case mode>\\r\\n')\n",
    "                mode = upper\n",
    "                continue\n",
    "            print(sessions[c].address, '-->', line)\n",
    "            if mode is upper:\n",
    "                c.sendall(b'Upper-cased: %a\\r\\n' % line.upper())\n",
    "            else:\n",
    "                c.sendall(b'Title-cased: %a\\r\\n' % line.title())\n",
    "    finally:\n",
    "        print(sessions[c].address, 'quit')"
   ]
  },
  {
   "cell_type": "code",
   "execution_count": 94,
   "metadata": {},
   "outputs": [
    {
     "name": "stdout",
     "output_type": "stream",
     "text": [
      "{<socket.socket [closed] fd=-1, family=AddressFamily.AF_INET, type=2049, proto=0>: None, <socket.socket fd=63, family=AddressFamily.AF_INET, type=SocketKind.SOCK_STREAM, proto=0, laddr=('127.0.0.1', 9612)>: Session(address=('127.0.0.1', 33038), file=<_io.TextIOWrapper name=63 mode='r' encoding='UTF-8'>), <socket.socket [closed] fd=-1, family=AddressFamily.AF_INET, type=2049, proto=0>: None, <socket.socket fd=62, family=AddressFamily.AF_INET, type=2049, proto=0, laddr=('127.0.0.1', 9613)>: None}\n",
      "Server up, running, and waiting for call on localhost 9613\n"
     ]
    },
    {
     "ename": "ValueError",
     "evalue": "file descriptor cannot be a negative integer (-1)",
     "output_type": "error",
     "traceback": [
      "\u001b[0;31m---------------------------------------------------------------------------\u001b[0m",
      "\u001b[0;31mValueError\u001b[0m                                Traceback (most recent call last)",
      "\u001b[0;32m<ipython-input-94-915e5630c8d6>\u001b[0m in \u001b[0;36m<module>\u001b[0;34m\u001b[0m\n\u001b[0;32m----> 1\u001b[0;31m \u001b[0mreactor\u001b[0m\u001b[0;34m(\u001b[0m\u001b[0;34m'localhost'\u001b[0m\u001b[0;34m,\u001b[0m \u001b[0;36m9613\u001b[0m\u001b[0;34m)\u001b[0m\u001b[0;34m\u001b[0m\u001b[0m\n\u001b[0m",
      "\u001b[0;32m<ipython-input-80-c5e3b93b0137>\u001b[0m in \u001b[0;36mreactor\u001b[0;34m(host, port)\u001b[0m\n\u001b[1;32m     10\u001b[0m     \u001b[0;32mtry\u001b[0m\u001b[0;34m:\u001b[0m\u001b[0;34m\u001b[0m\u001b[0m\n\u001b[1;32m     11\u001b[0m         \u001b[0;32mwhile\u001b[0m \u001b[0;32mTrue\u001b[0m\u001b[0;34m:\u001b[0m\u001b[0;34m\u001b[0m\u001b[0m\n\u001b[0;32m---> 12\u001b[0;31m             \u001b[0mready_to_read\u001b[0m\u001b[0;34m,\u001b[0m \u001b[0m_\u001b[0m\u001b[0;34m,\u001b[0m \u001b[0m_\u001b[0m \u001b[0;34m=\u001b[0m \u001b[0mselect\u001b[0m\u001b[0;34m.\u001b[0m\u001b[0mselect\u001b[0m\u001b[0;34m(\u001b[0m\u001b[0msessions\u001b[0m\u001b[0;34m,\u001b[0m \u001b[0;34m[\u001b[0m\u001b[0;34m]\u001b[0m\u001b[0;34m,\u001b[0m \u001b[0;34m[\u001b[0m\u001b[0;34m]\u001b[0m\u001b[0;34m,\u001b[0m \u001b[0;36m0.1\u001b[0m\u001b[0;34m)\u001b[0m\u001b[0;34m\u001b[0m\u001b[0m\n\u001b[0m\u001b[1;32m     13\u001b[0m             \u001b[0;32mfor\u001b[0m \u001b[0mc\u001b[0m \u001b[0;32min\u001b[0m \u001b[0mready_to_read\u001b[0m\u001b[0;34m:\u001b[0m\u001b[0;34m\u001b[0m\u001b[0m\n\u001b[1;32m     14\u001b[0m                 \u001b[0mprint\u001b[0m\u001b[0;34m(\u001b[0m\u001b[0mc\u001b[0m\u001b[0;34m)\u001b[0m\u001b[0;34m\u001b[0m\u001b[0m\n",
      "\u001b[0;31mValueError\u001b[0m: file descriptor cannot be a negative integer (-1)"
     ]
    }
   ],
   "source": [
    "reactor('localhost', 9613)"
   ]
  },
  {
   "cell_type": "code",
   "execution_count": 118,
   "metadata": {},
   "outputs": [],
   "source": [
    "def numTrees(n):\n",
    "    G = [0] * (n + 1)\n",
    "    G[0], G[1] = 1, 1\n",
    "    for m in range(2,n+1):\n",
    "        G[m] = sum([G[i-1]*G[m-i] for i in range(1, m+1)])\n",
    "    return G[-1]"
   ]
  },
  {
   "cell_type": "code",
   "execution_count": 120,
   "metadata": {},
   "outputs": [
    {
     "data": {
      "text/plain": [
       "132"
      ]
     },
     "execution_count": 120,
     "metadata": {},
     "output_type": "execute_result"
    }
   ],
   "source": [
    "numTrees(6)"
   ]
  },
  {
   "cell_type": "code",
   "execution_count": 121,
   "metadata": {},
   "outputs": [
    {
     "ename": "SyntaxError",
     "evalue": "unexpected EOF while parsing (<ipython-input-121-1165e286cffd>, line 2)",
     "output_type": "error",
     "traceback": [
      "\u001b[0;36m  File \u001b[0;32m\"<ipython-input-121-1165e286cffd>\"\u001b[0;36m, line \u001b[0;32m2\u001b[0m\n\u001b[0;31m    \u001b[0m\n\u001b[0m    ^\u001b[0m\n\u001b[0;31mSyntaxError\u001b[0m\u001b[0;31m:\u001b[0m unexpected EOF while parsing\n"
     ]
    }
   ],
   "source": [
    "def add(a, b):\n",
    "    "
   ]
  },
  {
   "cell_type": "code",
   "execution_count": 142,
   "metadata": {},
   "outputs": [
    {
     "data": {
      "text/plain": [
       "2"
      ]
     },
     "execution_count": 142,
     "metadata": {},
     "output_type": "execute_result"
    }
   ],
   "source": [
    "(1 & 5) << 1"
   ]
  },
  {
   "cell_type": "code",
   "execution_count": 144,
   "metadata": {},
   "outputs": [
    {
     "data": {
      "text/plain": [
       "4"
      ]
     },
     "execution_count": 144,
     "metadata": {},
     "output_type": "execute_result"
    }
   ],
   "source": [
    "1 ^ 5"
   ]
  },
  {
   "cell_type": "code",
   "execution_count": 145,
   "metadata": {},
   "outputs": [
    {
     "ename": "SyntaxError",
     "evalue": "invalid token (<ipython-input-145-fcd4849d5331>, line 1)",
     "output_type": "error",
     "traceback": [
      "\u001b[0;36m  File \u001b[0;32m\"<ipython-input-145-fcd4849d5331>\"\u001b[0;36m, line \u001b[0;32m1\u001b[0m\n\u001b[0;31m    01 101\u001b[0m\n\u001b[0m     ^\u001b[0m\n\u001b[0;31mSyntaxError\u001b[0m\u001b[0;31m:\u001b[0m invalid token\n"
     ]
    }
   ],
   "source": [
    "01 101  \n"
   ]
  },
  {
   "cell_type": "code",
   "execution_count": 166,
   "metadata": {},
   "outputs": [
    {
     "data": {
      "text/plain": [
       "1"
      ]
     },
     "execution_count": 166,
     "metadata": {},
     "output_type": "execute_result"
    }
   ],
   "source": [
    "(3 & 5)"
   ]
  },
  {
   "cell_type": "code",
   "execution_count": 155,
   "metadata": {},
   "outputs": [],
   "source": [
    "def count_one(n):\n",
    "    count = 0\n",
    "    while n:\n",
    "        n = n&(n-1)\n",
    "        count += 1\n",
    "    return count"
   ]
  },
  {
   "cell_type": "code",
   "execution_count": 164,
   "metadata": {},
   "outputs": [
    {
     "data": {
      "text/plain": [
       "1"
      ]
     },
     "execution_count": 164,
     "metadata": {},
     "output_type": "execute_result"
    }
   ],
   "source": [
    "count_one(4)"
   ]
  },
  {
   "cell_type": "markdown",
   "metadata": {},
   "source": [
    "The set S originally contains numbers from 1 to n. But unfortunately, due to the data error, one of the numbers in the set got duplicated to another number in the set, which results in repetition of one number and loss of another number.\n",
    "\n",
    "Given an array nums representing the data status of this set after the error. Your task is to firstly find the number occurs twice and then find the number that is missing. Return them in the form of an array.\n",
    "\n",
    "Example 1:\n",
    "Input: nums = [1,2,2,4]\n",
    "Output: [2,3]\n",
    "Note:\n",
    "The given array size will in the range [2, 10000].\n",
    "The given array's numbers won't have any order."
   ]
  },
  {
   "cell_type": "code",
   "execution_count": null,
   "metadata": {},
   "outputs": [],
   "source": []
  }
 ],
 "metadata": {
  "kernelspec": {
   "display_name": "Python 3",
   "language": "python",
   "name": "python3"
  },
  "language_info": {
   "codemirror_mode": {
    "name": "ipython",
    "version": 3
   },
   "file_extension": ".py",
   "mimetype": "text/x-python",
   "name": "python",
   "nbconvert_exporter": "python",
   "pygments_lexer": "ipython3",
   "version": "3.6.6"
  }
 },
 "nbformat": 4,
 "nbformat_minor": 2
}
