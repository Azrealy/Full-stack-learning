{
 "cells": [
  {
   "cell_type": "markdown",
   "metadata": {},
   "source": [
    "## Remove Duplicates from Sorted List II\n",
    "\n",
    "Given a sorted linked list, delete all nodes that have duplicate numbers, leaving only distinct numbers from the original list.\n",
    "\n",
    "Example 1:\n",
    "```\n",
    "Input: 1->2->3->3->4->4->5\n",
    "Output: 1->2->5\n",
    "```\n",
    "Example 2:\n",
    "```\n",
    "Input: 1->1->1->2->3\n",
    "Output: 2->3\n",
    "```"
   ]
  },
  {
   "cell_type": "code",
   "execution_count": 6,
   "metadata": {},
   "outputs": [],
   "source": [
    "def listToLink(nums):\n",
    "    head = ListNode(None)\n",
    "    cur = head\n",
    "    for i in nums:\n",
    "        node = ListNode(i)\n",
    "        cur.next = node\n",
    "        cur = cur.next\n",
    "    return head.next"
   ]
  },
  {
   "cell_type": "code",
   "execution_count": 13,
   "metadata": {},
   "outputs": [],
   "source": [
    "node = listToLink([1,1,2,2,3,3,4])"
   ]
  },
  {
   "cell_type": "code",
   "execution_count": 14,
   "metadata": {},
   "outputs": [],
   "source": [
    "class ListNode:\n",
    "    def __init__(self, x):\n",
    "        self.val = x\n",
    "        self.next = None"
   ]
  },
  {
   "cell_type": "code",
   "execution_count": 15,
   "metadata": {},
   "outputs": [],
   "source": [
    "def deleteDuplicates(head):\n",
    "    dummy = ListNode(0)\n",
    "    dummy.next = head\n",
    "    pre = dummy\n",
    "    current = dummy.next\n",
    "    while current and current.next:\n",
    "        if current.val == current.next.val:\n",
    "            tmp = current\n",
    "            while tmp.next and tmp.val == tmp.next.val:\n",
    "                tmp = tmp.next\n",
    "            pre.next = tmp.next\n",
    "            current =tmp.next\n",
    "        else:\n",
    "            pre = current\n",
    "            current = current.next\n",
    "    return dummy.next"
   ]
  },
  {
   "cell_type": "code",
   "execution_count": 19,
   "metadata": {},
   "outputs": [],
   "source": [
    "node = deleteDuplicates(node)"
   ]
  },
  {
   "cell_type": "markdown",
   "metadata": {},
   "source": [
    "## Partition List\n",
    "\n",
    "Given a linked list and a value x, partition it such that all nodes less than x come before nodes greater than or equal to x.\n",
    "\n",
    "You should preserve the original relative order of the nodes in each of the two partitions.\n",
    "\n",
    "Example:\n",
    "```\n",
    "Input: head = 1->4->3->2->5->2, x = 3\n",
    "```"
   ]
  },
  {
   "cell_type": "code",
   "execution_count": 138,
   "metadata": {},
   "outputs": [],
   "source": [
    "node = listToLink([1,4,3,2,5,2])"
   ]
  },
  {
   "cell_type": "code",
   "execution_count": 139,
   "metadata": {},
   "outputs": [],
   "source": [
    "def partition(head, x):\n",
    "    dummy = ListNode(0)\n",
    "    dummy.next = head\n",
    "    pre, cur = dummy, dummy.next\n",
    "    store = ListNode(0)\n",
    "    head2 = store\n",
    "    while cur:\n",
    "        if cur.val >= x:\n",
    "            tmp = cur\n",
    "            head2.next = tmp\n",
    "            while tmp.next and tmp.next.val >= x:\n",
    "                tmp = tmp.next\n",
    "            pre.next = tmp.next\n",
    "            head2 = tmp\n",
    "            cur = tmp.next\n",
    "            head2.next = None\n",
    "        else:\n",
    "            pre = cur\n",
    "            cur = cur.next\n",
    "    printNode(store)\n",
    "    pre.next = store.next\n",
    "    return dummy.next"
   ]
  },
  {
   "cell_type": "code",
   "execution_count": 140,
   "metadata": {},
   "outputs": [
    {
     "name": "stdout",
     "output_type": "stream",
     "text": [
      "0\n",
      "4\n",
      "3\n",
      "5\n",
      "[0, 4, 3, 5]\n"
     ]
    }
   ],
   "source": [
    "ans = partition(node, 3)"
   ]
  },
  {
   "cell_type": "code",
   "execution_count": 141,
   "metadata": {},
   "outputs": [],
   "source": [
    "def printNode(node):\n",
    "    cur = node\n",
    "    ans = []\n",
    "    while cur:\n",
    "        ans.append(cur.val)\n",
    "        print(cur.val)\n",
    "        cur = cur.next\n",
    "    print(ans)"
   ]
  },
  {
   "cell_type": "code",
   "execution_count": 142,
   "metadata": {},
   "outputs": [
    {
     "name": "stdout",
     "output_type": "stream",
     "text": [
      "1\n",
      "2\n",
      "2\n",
      "4\n",
      "3\n",
      "5\n",
      "[1, 2, 2, 4, 3, 5]\n"
     ]
    }
   ],
   "source": [
    "printNode(ans)"
   ]
  },
  {
   "cell_type": "code",
   "execution_count": null,
   "metadata": {},
   "outputs": [],
   "source": []
  },
  {
   "cell_type": "code",
   "execution_count": null,
   "metadata": {},
   "outputs": [],
   "source": []
  }
 ],
 "metadata": {
  "kernelspec": {
   "display_name": "Python 3",
   "language": "python",
   "name": "python3"
  },
  "language_info": {
   "codemirror_mode": {
    "name": "ipython",
    "version": 3
   },
   "file_extension": ".py",
   "mimetype": "text/x-python",
   "name": "python",
   "nbconvert_exporter": "python",
   "pygments_lexer": "ipython3",
   "version": "3.6.6"
  }
 },
 "nbformat": 4,
 "nbformat_minor": 4
}
